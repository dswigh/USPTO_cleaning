{
 "cells": [
  {
   "cell_type": "markdown",
   "metadata": {},
   "source": [
    "# Fixing solvents csv"
   ]
  },
  {
   "cell_type": "code",
   "execution_count": 1,
   "metadata": {},
   "outputs": [],
   "source": [
    "import pandas as pd"
   ]
  },
  {
   "cell_type": "code",
   "execution_count": 2,
   "metadata": {},
   "outputs": [],
   "source": [
    "solvents_df = pd.read_csv('orderly/data/solvents.csv')"
   ]
  },
  {
   "cell_type": "code",
   "execution_count": 3,
   "metadata": {},
   "outputs": [
    {
     "data": {
      "text/html": [
       "<div>\n",
       "<style scoped>\n",
       "    .dataframe tbody tr th:only-of-type {\n",
       "        vertical-align: middle;\n",
       "    }\n",
       "\n",
       "    .dataframe tbody tr th {\n",
       "        vertical-align: top;\n",
       "    }\n",
       "\n",
       "    .dataframe thead th {\n",
       "        text-align: right;\n",
       "    }\n",
       "</style>\n",
       "<table border=\"1\" class=\"dataframe\">\n",
       "  <thead>\n",
       "    <tr style=\"text-align: right;\">\n",
       "      <th></th>\n",
       "      <th>solvent_name_1</th>\n",
       "      <th>solvent_name_2</th>\n",
       "      <th>solvent_name_3</th>\n",
       "      <th>cas_number</th>\n",
       "      <th>chemical_formula</th>\n",
       "      <th>smiles</th>\n",
       "      <th>source</th>\n",
       "    </tr>\n",
       "  </thead>\n",
       "  <tbody>\n",
       "    <tr>\n",
       "      <th>0</th>\n",
       "      <td>(1Z,5Z)-cycloocta-1,5-diene</td>\n",
       "      <td>1,5-cyclooctadiene</td>\n",
       "      <td>NaN</td>\n",
       "      <td>111-78-4</td>\n",
       "      <td>C8H12</td>\n",
       "      <td>C\\1C\\C=C/CC\\C=C1</td>\n",
       "      <td>https://doi.org/10.1039/C9SC01844A</td>\n",
       "    </tr>\n",
       "    <tr>\n",
       "      <th>1</th>\n",
       "      <td>(2E,4E)-2,4-hexadiene</td>\n",
       "      <td>trans,trans-2,4-hexadiene</td>\n",
       "      <td>NaN</td>\n",
       "      <td>5194-51-4</td>\n",
       "      <td>C6H10</td>\n",
       "      <td>C/C=C/C=C/C</td>\n",
       "      <td>https://doi.org/10.1039/C9SC01844A</td>\n",
       "    </tr>\n",
       "    <tr>\n",
       "      <th>2</th>\n",
       "      <td>(dichloromethyl)benzene</td>\n",
       "      <td>(dichloromethyl)-benzene</td>\n",
       "      <td>NaN</td>\n",
       "      <td>98-87-3</td>\n",
       "      <td>C7H6Cl2</td>\n",
       "      <td>ClC(Cl)c1ccccc1</td>\n",
       "      <td>https://doi.org/10.1039/C9SC01844A</td>\n",
       "    </tr>\n",
       "    <tr>\n",
       "      <th>3</th>\n",
       "      <td>(E)-1,3-pentadiene</td>\n",
       "      <td>1-trans-3-pentadiene</td>\n",
       "      <td>NaN</td>\n",
       "      <td>2004-70-8</td>\n",
       "      <td>C5H8</td>\n",
       "      <td>C/C=C/C=C</td>\n",
       "      <td>https://doi.org/10.1039/C9SC01844A</td>\n",
       "    </tr>\n",
       "    <tr>\n",
       "      <th>4</th>\n",
       "      <td>(E)-2-butenenitrile</td>\n",
       "      <td>(e)-2-butenenitrile</td>\n",
       "      <td>NaN</td>\n",
       "      <td>627-26-9</td>\n",
       "      <td>C4H5N</td>\n",
       "      <td>C/C=C/C#N</td>\n",
       "      <td>https://doi.org/10.1039/C9SC01844A</td>\n",
       "    </tr>\n",
       "    <tr>\n",
       "      <th>...</th>\n",
       "      <td>...</td>\n",
       "      <td>...</td>\n",
       "      <td>...</td>\n",
       "      <td>...</td>\n",
       "      <td>...</td>\n",
       "      <td>...</td>\n",
       "      <td>...</td>\n",
       "    </tr>\n",
       "    <tr>\n",
       "      <th>745</th>\n",
       "      <td>t-Butyl acetate</td>\n",
       "      <td>NaN</td>\n",
       "      <td>NaN</td>\n",
       "      <td>540-88-5</td>\n",
       "      <td>C6H12O2</td>\n",
       "      <td>O=C(OC(C)(C)C)C</td>\n",
       "      <td>MOLECULES FROM https://github.com/sustainable-...</td>\n",
       "    </tr>\n",
       "    <tr>\n",
       "      <th>746</th>\n",
       "      <td>Tert-amyl ethyl ether</td>\n",
       "      <td>TAME</td>\n",
       "      <td>NaN</td>\n",
       "      <td>994-05-8</td>\n",
       "      <td>C7H16O</td>\n",
       "      <td>O(C(C)(C)CC)C</td>\n",
       "      <td>MOLECULES FROM https://github.com/sustainable-...</td>\n",
       "    </tr>\n",
       "    <tr>\n",
       "      <th>747</th>\n",
       "      <td>Tetrahydro furfuryl alcohol</td>\n",
       "      <td>THFA</td>\n",
       "      <td>NaN</td>\n",
       "      <td>97-99-4</td>\n",
       "      <td>C5H10O2</td>\n",
       "      <td>C1CC(OC1)CO</td>\n",
       "      <td>MOLECULES FROM https://github.com/sustainable-...</td>\n",
       "    </tr>\n",
       "    <tr>\n",
       "      <th>748</th>\n",
       "      <td>Tetramethyl tetrahydrofurane</td>\n",
       "      <td>TMTHF</td>\n",
       "      <td>NaN</td>\n",
       "      <td>15045-43-9</td>\n",
       "      <td>C8H16O</td>\n",
       "      <td>CC1(CCC(O1)(C)C)C</td>\n",
       "      <td>MOLECULES FROM https://github.com/sustainable-...</td>\n",
       "    </tr>\n",
       "    <tr>\n",
       "      <th>749</th>\n",
       "      <td>Xylenes</td>\n",
       "      <td>NaN</td>\n",
       "      <td>NaN</td>\n",
       "      <td>1330-20-7</td>\n",
       "      <td>C8H10</td>\n",
       "      <td>Cc1c(C)cccc1</td>\n",
       "      <td>MOLECULES FROM https://github.com/sustainable-...</td>\n",
       "    </tr>\n",
       "  </tbody>\n",
       "</table>\n",
       "<p>750 rows × 7 columns</p>\n",
       "</div>"
      ],
      "text/plain": [
       "                   solvent_name_1             solvent_name_2 solvent_name_3  \\\n",
       "0     (1Z,5Z)-cycloocta-1,5-diene         1,5-cyclooctadiene            NaN   \n",
       "1           (2E,4E)-2,4-hexadiene  trans,trans-2,4-hexadiene            NaN   \n",
       "2         (dichloromethyl)benzene   (dichloromethyl)-benzene            NaN   \n",
       "3              (E)-1,3-pentadiene       1-trans-3-pentadiene            NaN   \n",
       "4             (E)-2-butenenitrile        (e)-2-butenenitrile            NaN   \n",
       "..                            ...                        ...            ...   \n",
       "745               t-Butyl acetate                        NaN            NaN   \n",
       "746         Tert-amyl ethyl ether                       TAME            NaN   \n",
       "747   Tetrahydro furfuryl alcohol                       THFA            NaN   \n",
       "748  Tetramethyl tetrahydrofurane                      TMTHF            NaN   \n",
       "749                       Xylenes                        NaN            NaN   \n",
       "\n",
       "     cas_number chemical_formula             smiles  \\\n",
       "0      111-78-4            C8H12   C\\1C\\C=C/CC\\C=C1   \n",
       "1     5194-51-4            C6H10        C/C=C/C=C/C   \n",
       "2       98-87-3          C7H6Cl2    ClC(Cl)c1ccccc1   \n",
       "3     2004-70-8             C5H8          C/C=C/C=C   \n",
       "4      627-26-9            C4H5N          C/C=C/C#N   \n",
       "..          ...              ...                ...   \n",
       "745    540-88-5          C6H12O2    O=C(OC(C)(C)C)C   \n",
       "746    994-05-8           C7H16O      O(C(C)(C)CC)C   \n",
       "747     97-99-4          C5H10O2        C1CC(OC1)CO   \n",
       "748  15045-43-9           C8H16O  CC1(CCC(O1)(C)C)C   \n",
       "749   1330-20-7            C8H10       Cc1c(C)cccc1   \n",
       "\n",
       "                                                source  \n",
       "0                   https://doi.org/10.1039/C9SC01844A  \n",
       "1                   https://doi.org/10.1039/C9SC01844A  \n",
       "2                   https://doi.org/10.1039/C9SC01844A  \n",
       "3                   https://doi.org/10.1039/C9SC01844A  \n",
       "4                   https://doi.org/10.1039/C9SC01844A  \n",
       "..                                                 ...  \n",
       "745  MOLECULES FROM https://github.com/sustainable-...  \n",
       "746  MOLECULES FROM https://github.com/sustainable-...  \n",
       "747  MOLECULES FROM https://github.com/sustainable-...  \n",
       "748  MOLECULES FROM https://github.com/sustainable-...  \n",
       "749  MOLECULES FROM https://github.com/sustainable-...  \n",
       "\n",
       "[750 rows x 7 columns]"
      ]
     },
     "execution_count": 3,
     "metadata": {},
     "output_type": "execute_result"
    }
   ],
   "source": [
    "solvents_df"
   ]
  },
  {
   "attachments": {},
   "cell_type": "markdown",
   "metadata": {},
   "source": [
    "# Check for duplicates in the three name columns"
   ]
  },
  {
   "cell_type": "code",
   "execution_count": 4,
   "metadata": {},
   "outputs": [
    {
     "name": "stdout",
     "output_type": "stream",
     "text": [
      "Empty DataFrame\n",
      "Columns: [solvent_name_1, solvent_name_2, solvent_name_3]\n",
      "Index: []\n"
     ]
    }
   ],
   "source": [
    "# we want to look for duplicates in the 'solvent_name' columns\n",
    "solvent_names = solvents_df[['solvent_name_1', 'solvent_name_2', 'solvent_name_3']]\n",
    "# check for duplicates\n",
    "duplicates = solvent_names.duplicated()\n",
    "\n",
    "# print duplicate rows\n",
    "print(solvent_names[duplicates])"
   ]
  },
  {
   "cell_type": "code",
   "execution_count": 5,
   "metadata": {},
   "outputs": [],
   "source": [
    "solvent_names_list = solvent_names.values.flatten().tolist()\n",
    "solvent_names_list = [x for x in solvent_names_list if not pd.isna(x)]"
   ]
  },
  {
   "cell_type": "code",
   "execution_count": 6,
   "metadata": {},
   "outputs": [
    {
     "name": "stdout",
     "output_type": "stream",
     "text": [
      "1091\n"
     ]
    }
   ],
   "source": [
    "print(len(solvent_names_list))"
   ]
  },
  {
   "cell_type": "code",
   "execution_count": 7,
   "metadata": {},
   "outputs": [
    {
     "name": "stdout",
     "output_type": "stream",
     "text": [
      "1091\n"
     ]
    }
   ],
   "source": [
    "print(len(set(solvent_names_list)))"
   ]
  },
  {
   "cell_type": "code",
   "execution_count": 8,
   "metadata": {},
   "outputs": [],
   "source": [
    "# manually remove duplicates to ensure we don't lose any data\n",
    "# create dictionary to count occurrences\n",
    "count_dict = {}\n",
    "for item in solvent_names_list:\n",
    "    count_dict[item] = count_dict.get(item, 0) + 1\n",
    "\n",
    "# extract elements with count of 2 or more\n",
    "duplicates = [item for item, count in count_dict.items() if count >= 2]"
   ]
  },
  {
   "cell_type": "code",
   "execution_count": 9,
   "metadata": {},
   "outputs": [
    {
     "data": {
      "text/plain": [
       "0"
      ]
     },
     "execution_count": 9,
     "metadata": {},
     "output_type": "execute_result"
    }
   ],
   "source": [
    "len(duplicates)"
   ]
  },
  {
   "cell_type": "code",
   "execution_count": 10,
   "metadata": {},
   "outputs": [
    {
     "data": {
      "text/plain": [
       "[]"
      ]
     },
     "execution_count": 10,
     "metadata": {},
     "output_type": "execute_result"
    }
   ],
   "source": [
    "duplicates"
   ]
  },
  {
   "cell_type": "code",
   "execution_count": null,
   "metadata": {},
   "outputs": [],
   "source": []
  },
  {
   "cell_type": "code",
   "execution_count": null,
   "metadata": {},
   "outputs": [],
   "source": []
  },
  {
   "cell_type": "code",
   "execution_count": null,
   "metadata": {},
   "outputs": [],
   "source": []
  },
  {
   "cell_type": "code",
   "execution_count": null,
   "metadata": {},
   "outputs": [],
   "source": []
  }
 ],
 "metadata": {
  "kernelspec": {
   "display_name": "chemistry",
   "language": "python",
   "name": "python3"
  },
  "language_info": {
   "codemirror_mode": {
    "name": "ipython",
    "version": 3
   },
   "file_extension": ".py",
   "mimetype": "text/x-python",
   "name": "python",
   "nbconvert_exporter": "python",
   "pygments_lexer": "ipython3",
   "version": "3.10.8"
  },
  "orig_nbformat": 4
 },
 "nbformat": 4,
 "nbformat_minor": 2
}

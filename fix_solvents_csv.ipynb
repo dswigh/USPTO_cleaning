{
 "cells": [
  {
   "cell_type": "markdown",
   "metadata": {},
   "source": [
    "# Fixing solvents csv"
   ]
  },
  {
   "cell_type": "code",
   "execution_count": 17,
   "metadata": {},
   "outputs": [],
   "source": [
    "import pandas as pd"
   ]
  },
  {
   "cell_type": "code",
   "execution_count": 18,
   "metadata": {},
   "outputs": [],
   "source": [
    "solvents_csv = pd.read_csv('orderly/data/solvents.csv')"
   ]
  },
  {
   "cell_type": "code",
   "execution_count": 19,
   "metadata": {},
   "outputs": [
    {
     "data": {
      "text/html": [
       "<div>\n",
       "<style scoped>\n",
       "    .dataframe tbody tr th:only-of-type {\n",
       "        vertical-align: middle;\n",
       "    }\n",
       "\n",
       "    .dataframe tbody tr th {\n",
       "        vertical-align: top;\n",
       "    }\n",
       "\n",
       "    .dataframe thead th {\n",
       "        text-align: right;\n",
       "    }\n",
       "</style>\n",
       "<table border=\"1\" class=\"dataframe\">\n",
       "  <thead>\n",
       "    <tr style=\"text-align: right;\">\n",
       "      <th></th>\n",
       "      <th>solvent_name_1</th>\n",
       "      <th>solvent_name_2</th>\n",
       "      <th>solvent_name_3</th>\n",
       "      <th>cas_number</th>\n",
       "      <th>chemical_formula</th>\n",
       "      <th>smiles</th>\n",
       "      <th>source</th>\n",
       "    </tr>\n",
       "  </thead>\n",
       "  <tbody>\n",
       "    <tr>\n",
       "      <th>0</th>\n",
       "      <td>(trichloromethyl)benzene</td>\n",
       "      <td>(trichloromethyl)-benzene</td>\n",
       "      <td>NaN</td>\n",
       "      <td>98-07-7</td>\n",
       "      <td>C7H5Cl3</td>\n",
       "      <td>ClC(Cl)(Cl)c1ccccc1</td>\n",
       "      <td>https://doi.org/10.1039/C9SC01844A</td>\n",
       "    </tr>\n",
       "    <tr>\n",
       "      <th>1</th>\n",
       "      <td>(1Z,5Z)-cycloocta-1,5-diene</td>\n",
       "      <td>1,5-cyclooctadiene</td>\n",
       "      <td>NaN</td>\n",
       "      <td>111-78-4</td>\n",
       "      <td>C8H12</td>\n",
       "      <td>C\\1C\\C=C/CC\\C=C1</td>\n",
       "      <td>https://doi.org/10.1039/C9SC01844A</td>\n",
       "    </tr>\n",
       "    <tr>\n",
       "      <th>2</th>\n",
       "      <td>(2E,4E)-2,4-hexadiene</td>\n",
       "      <td>trans,trans-2,4-hexadiene</td>\n",
       "      <td>NaN</td>\n",
       "      <td>5194-51-4</td>\n",
       "      <td>C6H10</td>\n",
       "      <td>C/C=C/C=C/C</td>\n",
       "      <td>https://doi.org/10.1039/C9SC01844A</td>\n",
       "    </tr>\n",
       "    <tr>\n",
       "      <th>3</th>\n",
       "      <td>(dichloromethyl)benzene</td>\n",
       "      <td>(dichloromethyl)-benzene</td>\n",
       "      <td>NaN</td>\n",
       "      <td>98-87-3</td>\n",
       "      <td>C7H6Cl2</td>\n",
       "      <td>ClC(Cl)c1ccccc1</td>\n",
       "      <td>https://doi.org/10.1039/C9SC01844A</td>\n",
       "    </tr>\n",
       "    <tr>\n",
       "      <th>4</th>\n",
       "      <td>(E)-1,3-pentadiene</td>\n",
       "      <td>1-trans-3-pentadiene</td>\n",
       "      <td>NaN</td>\n",
       "      <td>2004-70-8</td>\n",
       "      <td>C5H8</td>\n",
       "      <td>C/C=C/C=C</td>\n",
       "      <td>https://doi.org/10.1039/C9SC01844A</td>\n",
       "    </tr>\n",
       "    <tr>\n",
       "      <th>...</th>\n",
       "      <td>...</td>\n",
       "      <td>...</td>\n",
       "      <td>...</td>\n",
       "      <td>...</td>\n",
       "      <td>...</td>\n",
       "      <td>...</td>\n",
       "      <td>...</td>\n",
       "    </tr>\n",
       "    <tr>\n",
       "      <th>750</th>\n",
       "      <td>2,2,4-Trimethyl-1,3-pentanediol 1-isobutyrate</td>\n",
       "      <td>NaN</td>\n",
       "      <td>NaN</td>\n",
       "      <td>NaN</td>\n",
       "      <td>NaN</td>\n",
       "      <td>NaN</td>\n",
       "      <td>https://www.acs.org/greenchemistry/research-in...</td>\n",
       "    </tr>\n",
       "    <tr>\n",
       "      <th>751</th>\n",
       "      <td>n-Pentyl Propionate</td>\n",
       "      <td>NaN</td>\n",
       "      <td>NaN</td>\n",
       "      <td>NaN</td>\n",
       "      <td>NaN</td>\n",
       "      <td>NaN</td>\n",
       "      <td>https://www.acs.org/greenchemistry/research-in...</td>\n",
       "    </tr>\n",
       "    <tr>\n",
       "      <th>752</th>\n",
       "      <td>Butoxytriglycol</td>\n",
       "      <td>3,6,9-Trioxatridecan-1-ol</td>\n",
       "      <td>NaN</td>\n",
       "      <td>NaN</td>\n",
       "      <td>NaN</td>\n",
       "      <td>NaN</td>\n",
       "      <td>https://www.acs.org/greenchemistry/research-in...</td>\n",
       "    </tr>\n",
       "    <tr>\n",
       "      <th>753</th>\n",
       "      <td>Dipropylene Glycol Dimethyl Ether</td>\n",
       "      <td>NaN</td>\n",
       "      <td>NaN</td>\n",
       "      <td>NaN</td>\n",
       "      <td>NaN</td>\n",
       "      <td>NaN</td>\n",
       "      <td>https://www.acs.org/greenchemistry/research-in...</td>\n",
       "    </tr>\n",
       "    <tr>\n",
       "      <th>754</th>\n",
       "      <td>Triacetin</td>\n",
       "      <td>1,2,3-triacetoxypropane</td>\n",
       "      <td>NaN</td>\n",
       "      <td>NaN</td>\n",
       "      <td>NaN</td>\n",
       "      <td>NaN</td>\n",
       "      <td>https://www.acs.org/greenchemistry/research-in...</td>\n",
       "    </tr>\n",
       "  </tbody>\n",
       "</table>\n",
       "<p>755 rows × 7 columns</p>\n",
       "</div>"
      ],
      "text/plain": [
       "                                    solvent_name_1             solvent_name_2  \\\n",
       "0                         (trichloromethyl)benzene  (trichloromethyl)-benzene   \n",
       "1                      (1Z,5Z)-cycloocta-1,5-diene         1,5-cyclooctadiene   \n",
       "2                            (2E,4E)-2,4-hexadiene  trans,trans-2,4-hexadiene   \n",
       "3                          (dichloromethyl)benzene   (dichloromethyl)-benzene   \n",
       "4                               (E)-1,3-pentadiene       1-trans-3-pentadiene   \n",
       "..                                             ...                        ...   \n",
       "750  2,2,4-Trimethyl-1,3-pentanediol 1-isobutyrate                        NaN   \n",
       "751                            n-Pentyl Propionate                        NaN   \n",
       "752                                Butoxytriglycol  3,6,9-Trioxatridecan-1-ol   \n",
       "753              Dipropylene Glycol Dimethyl Ether                        NaN   \n",
       "754                                     Triacetin     1,2,3-triacetoxypropane   \n",
       "\n",
       "    solvent_name_3 cas_number chemical_formula               smiles  \\\n",
       "0              NaN    98-07-7          C7H5Cl3  ClC(Cl)(Cl)c1ccccc1   \n",
       "1              NaN   111-78-4            C8H12     C\\1C\\C=C/CC\\C=C1   \n",
       "2              NaN  5194-51-4            C6H10          C/C=C/C=C/C   \n",
       "3              NaN    98-87-3          C7H6Cl2      ClC(Cl)c1ccccc1   \n",
       "4              NaN  2004-70-8             C5H8            C/C=C/C=C   \n",
       "..             ...        ...              ...                  ...   \n",
       "750            NaN        NaN              NaN                  NaN   \n",
       "751            NaN        NaN              NaN                  NaN   \n",
       "752            NaN        NaN              NaN                  NaN   \n",
       "753            NaN        NaN              NaN                  NaN   \n",
       "754            NaN        NaN              NaN                  NaN   \n",
       "\n",
       "                                                source  \n",
       "0                   https://doi.org/10.1039/C9SC01844A  \n",
       "1                   https://doi.org/10.1039/C9SC01844A  \n",
       "2                   https://doi.org/10.1039/C9SC01844A  \n",
       "3                   https://doi.org/10.1039/C9SC01844A  \n",
       "4                   https://doi.org/10.1039/C9SC01844A  \n",
       "..                                                 ...  \n",
       "750  https://www.acs.org/greenchemistry/research-in...  \n",
       "751  https://www.acs.org/greenchemistry/research-in...  \n",
       "752  https://www.acs.org/greenchemistry/research-in...  \n",
       "753  https://www.acs.org/greenchemistry/research-in...  \n",
       "754  https://www.acs.org/greenchemistry/research-in...  \n",
       "\n",
       "[755 rows x 7 columns]"
      ]
     },
     "execution_count": 19,
     "metadata": {},
     "output_type": "execute_result"
    }
   ],
   "source": [
    "solvents_csv"
   ]
  },
  {
   "attachments": {},
   "cell_type": "markdown",
   "metadata": {},
   "source": [
    "# Check for duplicates in the three name columns"
   ]
  },
  {
   "cell_type": "code",
   "execution_count": 20,
   "metadata": {},
   "outputs": [
    {
     "name": "stdout",
     "output_type": "stream",
     "text": [
      "Empty DataFrame\n",
      "Columns: [solvent_name_1, solvent_name_2, solvent_name_3]\n",
      "Index: []\n"
     ]
    }
   ],
   "source": [
    "# we want to look for duplicates in the 'solvent_name' columns\n",
    "solvent_names = solvents_csv[['solvent_name_1', 'solvent_name_2', 'solvent_name_3']]\n",
    "# check for duplicates\n",
    "duplicates = solvent_names.duplicated()\n",
    "\n",
    "# print duplicate rows\n",
    "print(solvent_names[duplicates])"
   ]
  },
  {
   "cell_type": "code",
   "execution_count": 32,
   "metadata": {},
   "outputs": [],
   "source": [
    "solvent_names_list = solvent_names.values.flatten().tolist()\n",
    "solvent_names_list = [x for x in solvent_names_list if not pd.isna(x)]"
   ]
  },
  {
   "cell_type": "code",
   "execution_count": 34,
   "metadata": {},
   "outputs": [
    {
     "name": "stdout",
     "output_type": "stream",
     "text": [
      "1316\n"
     ]
    }
   ],
   "source": [
    "print(len(solvent_names_list))"
   ]
  },
  {
   "cell_type": "code",
   "execution_count": 35,
   "metadata": {},
   "outputs": [
    {
     "name": "stdout",
     "output_type": "stream",
     "text": [
      "1094\n"
     ]
    }
   ],
   "source": [
    "print(len(set(solvent_names_list)))"
   ]
  },
  {
   "cell_type": "code",
   "execution_count": null,
   "metadata": {},
   "outputs": [],
   "source": []
  },
  {
   "cell_type": "code",
   "execution_count": null,
   "metadata": {},
   "outputs": [],
   "source": []
  },
  {
   "cell_type": "code",
   "execution_count": null,
   "metadata": {},
   "outputs": [],
   "source": []
  },
  {
   "cell_type": "code",
   "execution_count": null,
   "metadata": {},
   "outputs": [],
   "source": []
  }
 ],
 "metadata": {
  "kernelspec": {
   "display_name": "chemistry",
   "language": "python",
   "name": "python3"
  },
  "language_info": {
   "codemirror_mode": {
    "name": "ipython",
    "version": 3
   },
   "file_extension": ".py",
   "mimetype": "text/x-python",
   "name": "python",
   "nbconvert_exporter": "python",
   "pygments_lexer": "ipython3",
   "version": "3.10.8"
  },
  "orig_nbformat": 4
 },
 "nbformat": 4,
 "nbformat_minor": 2
}

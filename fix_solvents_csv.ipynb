{
 "cells": [
  {
   "cell_type": "markdown",
   "metadata": {},
   "source": [
    "# Fixing solvents csv"
   ]
  },
  {
   "cell_type": "code",
   "execution_count": 1,
   "metadata": {},
   "outputs": [],
   "source": [
    "import pandas as pd"
   ]
  },
  {
   "cell_type": "code",
   "execution_count": 2,
   "metadata": {},
   "outputs": [],
   "source": [
    "solvents_df = pd.read_csv('orderly/data/solvents.csv')\n",
    "df1 = pd.read_csv('orderly/data/subset_1.csv')\n",
    "df2 = pd.read_csv('orderly/data/subset_2.csv')"
   ]
  },
  {
   "cell_type": "code",
   "execution_count": null,
   "metadata": {},
   "outputs": [],
   "source": [
    "# create set of strings in df1\n",
    "strings_to_remove = set(df1[['solvent_name_1', 'solvent_name_2', 'solvent_name_3']].values)\n",
    "\n",
    "# remove rows containing strings from df1\n",
    "df2 = df2[~df2['C'].str.contains('|'.join(strings_to_remove))]"
   ]
  },
  {
   "attachments": {},
   "cell_type": "markdown",
   "metadata": {},
   "source": [
    "# Check for duplicates in the three name columns"
   ]
  },
  {
   "cell_type": "code",
   "execution_count": 4,
   "metadata": {},
   "outputs": [
    {
     "name": "stdout",
     "output_type": "stream",
     "text": [
      "Empty DataFrame\n",
      "Columns: [solvent_name_1, solvent_name_2, solvent_name_3]\n",
      "Index: []\n"
     ]
    }
   ],
   "source": [
    "# we want to look for duplicates in the 'solvent_name' columns\n",
    "solvent_names = solvents_df[['solvent_name_1', 'solvent_name_2', 'solvent_name_3']]\n",
    "# check for duplicates\n",
    "duplicates = solvent_names.duplicated()\n",
    "\n",
    "# print duplicate rows\n",
    "print(solvent_names[duplicates])"
   ]
  },
  {
   "cell_type": "code",
   "execution_count": null,
   "metadata": {},
   "outputs": [],
   "source": []
  },
  {
   "cell_type": "code",
   "execution_count": 5,
   "metadata": {},
   "outputs": [],
   "source": [
    "solvent_names_list = solvent_names.values.flatten().tolist()\n",
    "solvent_names_list = [x for x in solvent_names_list if not pd.isna(x)]"
   ]
  },
  {
   "cell_type": "code",
   "execution_count": 6,
   "metadata": {},
   "outputs": [
    {
     "name": "stdout",
     "output_type": "stream",
     "text": [
      "1028\n"
     ]
    }
   ],
   "source": [
    "print(len(solvent_names_list))"
   ]
  },
  {
   "cell_type": "code",
   "execution_count": 7,
   "metadata": {},
   "outputs": [
    {
     "name": "stdout",
     "output_type": "stream",
     "text": [
      "946\n"
     ]
    }
   ],
   "source": [
    "print(len(set(solvent_names_list)))"
   ]
  },
  {
   "cell_type": "code",
   "execution_count": 8,
   "metadata": {},
   "outputs": [],
   "source": [
    "# manually remove duplicates to ensure we don't lose any data\n",
    "# create dictionary to count occurrences\n",
    "count_dict = {}\n",
    "for item in solvent_names_list:\n",
    "    count_dict[item] = count_dict.get(item, 0) + 1\n",
    "\n",
    "# extract elements with count of 2 or more\n",
    "duplicates = [item for item, count in count_dict.items() if count >= 2]"
   ]
  },
  {
   "cell_type": "code",
   "execution_count": 9,
   "metadata": {},
   "outputs": [
    {
     "data": {
      "text/plain": [
       "78"
      ]
     },
     "execution_count": 9,
     "metadata": {},
     "output_type": "execute_result"
    }
   ],
   "source": [
    "len(duplicates)"
   ]
  },
  {
   "cell_type": "code",
   "execution_count": 11,
   "metadata": {},
   "outputs": [
    {
     "data": {
      "text/plain": [
       "['(e)-2-butenenitrile',\n",
       " '1,2-dimethoxyethane',\n",
       " 'glycerol',\n",
       " 'indane',\n",
       " '1,3,5-trimethylbenzene',\n",
       " 'butanone',\n",
       " '2-ethoxyethanol',\n",
       " '2-methoxyethanol',\n",
       " '2-amino-2-methylpropane',\n",
       " 'tert-butanol',\n",
       " '2-methylpentane',\n",
       " '2-methyl-1-propanamine',\n",
       " '2-methyltetrahydrofuran',\n",
       " 'acetone',\n",
       " '2,4-dimethyl-3-pentanone',\n",
       " 'acetylacetone',\n",
       " '2,6-dimethyl-4-heptanone',\n",
       " '2,6-dimethylpyridine',\n",
       " '3-methyl-2-butanone',\n",
       " '3,3-dimethyl-2-butanone',\n",
       " '4-methyl-2-pentanone',\n",
       " 'acetic acid',\n",
       " 'acetic anhydride',\n",
       " 'benzyl alcohol',\n",
       " 'diglyme',\n",
       " 'butyronitrile',\n",
       " '1-butylamine',\n",
       " 'carbon disulfide',\n",
       " 'isopropylbenzene',\n",
       " 'cyclohexylamine',\n",
       " 'decane',\n",
       " 'dibutyl ether',\n",
       " 'di-n-butylether',\n",
       " 'dichloromethane',\n",
       " 'diethyl carbonate',\n",
       " 'diethyl ether',\n",
       " 'diethylene glycol',\n",
       " 'dimethyl carbonate',\n",
       " 'dimethylsulfoxide',\n",
       " 'diphenyl ether',\n",
       " 'di-n-propylether',\n",
       " 'ethoxybenzene',\n",
       " 'ethyl 3-oxobutanoate',\n",
       " 'ethyl acetate',\n",
       " 'ethyl formate',\n",
       " 'formic acid',\n",
       " 'furan',\n",
       " 'n-heptane',\n",
       " '1-heptanol',\n",
       " '1-hexanol',\n",
       " 'hexyl acetate',\n",
       " 'anisole',\n",
       " 'methyl acetate',\n",
       " 'methyl benzoate',\n",
       " 'methyl formate',\n",
       " 'n-methylacetamide',\n",
       " 'n-methylaniline',\n",
       " 'n-methylformamide',\n",
       " 'n-methylpiperidine',\n",
       " 'n,n-dimethylacetamide',\n",
       " 'n,n-dimethylaniline',\n",
       " 'n,n-dimethylcyclohexylamine',\n",
       " 'n,n-dimethylformamide',\n",
       " 'n-nonane',\n",
       " '1-nonanol',\n",
       " 'n-pentylamine',\n",
       " 'propanoic acid',\n",
       " 'propyl formate',\n",
       " 'n-propylamine',\n",
       " 'quinoline',\n",
       " 'sulfolane',\n",
       " 'tetrachloromethane',\n",
       " 'tetralin',\n",
       " 'thiophene',\n",
       " 'triacetin',\n",
       " 'tributylamine',\n",
       " 'gamma-valerolactone',\n",
       " 'tame']"
      ]
     },
     "execution_count": 11,
     "metadata": {},
     "output_type": "execute_result"
    }
   ],
   "source": [
    "duplicates"
   ]
  },
  {
   "cell_type": "code",
   "execution_count": null,
   "metadata": {},
   "outputs": [],
   "source": []
  },
  {
   "cell_type": "code",
   "execution_count": 10,
   "metadata": {},
   "outputs": [],
   "source": [
    "# check for any trailing or leading spaces\n",
    "for s in solvent_names_list:\n",
    "    if s != s.strip():\n",
    "        print(s)"
   ]
  },
  {
   "cell_type": "code",
   "execution_count": 13,
   "metadata": {},
   "outputs": [],
   "source": [
    "# # make lower\n",
    "# # make specified columns lower case\n",
    "# solvents_df[['solvent_name_1', 'solvent_name_2', 'solvent_name_3']] = solvents_df[['solvent_name_1', 'solvent_name_2', 'solvent_name_3']].applymap(lambda x: x.lower() if type(x) == str else x)\n",
    "\n",
    "# # save to csv\n",
    "# solvents_df.to_csv('orderly/data/solvents.csv', index=False)"
   ]
  },
  {
   "cell_type": "code",
   "execution_count": null,
   "metadata": {},
   "outputs": [],
   "source": []
  },
  {
   "cell_type": "code",
   "execution_count": null,
   "metadata": {},
   "outputs": [],
   "source": []
  },
  {
   "cell_type": "code",
   "execution_count": null,
   "metadata": {},
   "outputs": [],
   "source": []
  }
 ],
 "metadata": {
  "kernelspec": {
   "display_name": "chemistry",
   "language": "python",
   "name": "python3"
  },
  "language_info": {
   "codemirror_mode": {
    "name": "ipython",
    "version": 3
   },
   "file_extension": ".py",
   "mimetype": "text/x-python",
   "name": "python",
   "nbconvert_exporter": "python",
   "pygments_lexer": "ipython3",
   "version": "3.10.8"
  },
  "orig_nbformat": 4
 },
 "nbformat": 4,
 "nbformat_minor": 2
}

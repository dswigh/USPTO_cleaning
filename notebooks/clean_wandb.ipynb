{
 "cells": [
  {
   "cell_type": "code",
   "execution_count": 5,
   "metadata": {},
   "outputs": [],
   "source": [
    "import wandb\n",
    "from tqdm import tqdm\n",
    "from datetime import datetime"
   ]
  },
  {
   "cell_type": "code",
   "execution_count": 6,
   "metadata": {},
   "outputs": [],
   "source": [
    "api = wandb.Api()\n",
    "wandb_entity=\"ceb-sre\"\n",
    "wandb_project=\"orderly\"\n",
    "runs = api.runs(\n",
    "    f\"{wandb_entity}/{wandb_project}\",\n",
    ")"
   ]
  },
  {
   "cell_type": "code",
   "execution_count": 32,
   "metadata": {},
   "outputs": [
    {
     "name": "stderr",
     "output_type": "stream",
     "text": [
      "100%|██████████| 7/7 [00:21<00:00,  3.06s/it]\n"
     ]
    }
   ],
   "source": [
    "for run in tqdm(runs):\n",
    "    artifacts = run.logged_artifacts()\n",
    "    for artifact in artifacts:\n",
    "        if artifact.type == \"model\":\n",
    "            artifact.delete(delete_aliases=True)"
   ]
  },
  {
   "cell_type": "code",
   "execution_count": 28,
   "metadata": {},
   "outputs": [
    {
     "name": "stderr",
     "output_type": "stream",
     "text": [
      "100%|██████████| 3476/3476 [00:52<00:00, 65.98it/s]\n"
     ]
    }
   ],
   "source": [
    "start_date = datetime(2023, 4, 1)\n",
    "date_format = \"%Y-%m-%dT%H:%M:%S\"\n",
    "for run in tqdm(runs):\n",
    "    date_str = runs[0].createdAt\n",
    "    date_obj = datetime.strptime(date_str, date_format)\n",
    "    artifacts = run.logged_artifacts()\n",
    "    if date_obj < start_date:\n",
    "        for artifact in artifacts:\n",
    "            if artifact.type == \"model\":\n",
    "                artifact.delete(delete_aliases=True)"
   ]
  },
  {
   "cell_type": "code",
   "execution_count": null,
   "metadata": {},
   "outputs": [],
   "source": []
  }
 ],
 "metadata": {
  "kernelspec": {
   "display_name": "Python 3",
   "language": "python",
   "name": "python3"
  },
  "language_info": {
   "codemirror_mode": {
    "name": "ipython",
    "version": 3
   },
   "file_extension": ".py",
   "mimetype": "text/x-python",
   "name": "python",
   "nbconvert_exporter": "python",
   "pygments_lexer": "ipython3",
   "version": "3.10.11"
  },
  "orig_nbformat": 4
 },
 "nbformat": 4,
 "nbformat_minor": 2
}

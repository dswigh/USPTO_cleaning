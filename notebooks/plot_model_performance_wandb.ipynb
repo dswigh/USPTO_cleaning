{
 "cells": [
  {
   "cell_type": "code",
   "execution_count": null,
   "metadata": {},
   "outputs": [],
   "source": [
    "%load_ext autoreload\n",
    "%autoreload 2"
   ]
  },
  {
   "cell_type": "code",
   "execution_count": 7,
   "metadata": {},
   "outputs": [],
   "source": [
    "from condition_prediction.run import ConditionPrediction\n",
    "import wandb\n",
    "from tqdm import tqdm\n",
    "from datetime import datetime\n",
    "import matplotlib.pyplot as plt\n",
    "import numpy as np\n",
    "import pathlib\n",
    "from tqdm import tqdm\n",
    "import gc"
   ]
  },
  {
   "cell_type": "code",
   "execution_count": 4,
   "metadata": {},
   "outputs": [],
   "source": [
    "api = wandb.Api()\n",
    "wandb_entity=\"ceb-sre\"\n",
    "wandb_project=\"orderly\""
   ]
  },
  {
   "cell_type": "code",
   "execution_count": 13,
   "metadata": {},
   "outputs": [
    {
     "name": "stdout",
     "output_type": "stream",
     "text": [
      "Prefetch buffer size: -1\n",
      "Prefetch buffer size: -1\n",
      "Prefetch buffer size: -1\n"
     ]
    },
    {
     "data": {
      "text/html": [
       "Tracking run with wandb version 0.15.4"
      ],
      "text/plain": [
       "<IPython.core.display.HTML object>"
      ]
     },
     "metadata": {},
     "output_type": "display_data"
    },
    {
     "data": {
      "text/html": [
       "Run data is saved locally in <code>/home/zeus/content/wandb/run-20230607_021600-zbx7fqj5</code>"
      ],
      "text/plain": [
       "<IPython.core.display.HTML object>"
      ]
     },
     "metadata": {},
     "output_type": "display_data"
    },
    {
     "data": {
      "text/html": [
       "Resuming run <strong><a href='https://wandb.ai/ceb-sre/orderly/runs/zbx7fqj5' target=\"_blank\">fast-sound-304</a></strong> to <a href='https://wandb.ai/ceb-sre/orderly' target=\"_blank\">Weights & Biases</a> (<a href='https://wandb.me/run' target=\"_blank\">docs</a>)<br/>"
      ],
      "text/plain": [
       "<IPython.core.display.HTML object>"
      ]
     },
     "metadata": {},
     "output_type": "display_data"
    },
    {
     "data": {
      "text/html": [
       " View project at <a href='https://wandb.ai/ceb-sre/orderly' target=\"_blank\">https://wandb.ai/ceb-sre/orderly</a>"
      ],
      "text/plain": [
       "<IPython.core.display.HTML object>"
      ]
     },
     "metadata": {},
     "output_type": "display_data"
    },
    {
     "data": {
      "text/html": [
       " View run at <a href='https://wandb.ai/ceb-sre/orderly/runs/zbx7fqj5' target=\"_blank\">https://wandb.ai/ceb-sre/orderly/runs/zbx7fqj5</a>"
      ],
      "text/plain": [
       "<IPython.core.display.HTML object>"
      ]
     },
     "metadata": {},
     "output_type": "display_data"
    },
    {
     "name": "stderr",
     "output_type": "stream",
     "text": [
      "\u001b[34m\u001b[1mwandb\u001b[0m: Downloading large artifact run_zbx7fqj5_model:v1, 67.03MB. 1 files... \n",
      "\u001b[34m\u001b[1mwandb\u001b[0m:   1 of 1 files downloaded.  \n",
      "Done. 0:0:1.0\n",
      "\u001b[34m\u001b[1mwandb\u001b[0m: Downloading large artifact run_zbx7fqj5_model:v0, 67.03MB. 1 files... \n",
      "\u001b[34m\u001b[1mwandb\u001b[0m:   1 of 1 files downloaded.  \n",
      "Done. 0:0:1.2\n"
     ]
    },
    {
     "name": "stdout",
     "output_type": "stream",
     "text": [
      "139/139 [==============================] - 2s 10ms/step\n"
     ]
    },
    {
     "name": "stderr",
     "output_type": "stream",
     "text": [
      "2023-06-07 02:16:06.394389: I tensorflow/core/grappler/optimizers/data/replicate_on_split.cc:32] Running replicate on split optimization\n"
     ]
    },
    {
     "name": "stdout",
     "output_type": "stream",
     "text": [
      "139/139 [==============================] - 1s 10ms/step\n"
     ]
    },
    {
     "name": "stderr",
     "output_type": "stream",
     "text": [
      "2023-06-07 02:17:33.114064: I tensorflow/core/grappler/optimizers/data/replicate_on_split.cc:32] Running replicate on split optimization\n"
     ]
    },
    {
     "name": "stdout",
     "output_type": "stream",
     "text": [
      "73/73 [==============================] - 2s 16ms/step - loss: 14.3971 - mol1_loss: 2.5769 - mol2_loss: 2.3048 - mol3_loss: 3.0256 - mol4_loss: 4.0312 - mol5_loss: 2.4585 - mol1_acc: 0.2945 - mol1_top3: 0.5576 - mol1_top5: 0.6933 - mol2_acc: 0.5355 - mol2_top3: 0.6867 - mol2_top5: 0.7460 - mol3_acc: 0.2804 - mol3_top3: 0.5287 - mol3_top5: 0.6506 - mol4_acc: 0.3250 - mol4_top3: 0.4592 - mol4_top5: 0.5393 - mol5_acc: 0.7476 - mol5_top3: 0.8141 - mol5_top5: 0.8418\n",
      "73/73 [==============================] - 1s 10ms/step\n"
     ]
    },
    {
     "name": "stderr",
     "output_type": "stream",
     "text": [
      "2023-06-07 02:19:00.864700: I tensorflow/core/grappler/optimizers/data/replicate_on_split.cc:32] Running replicate on split optimization\n"
     ]
    },
    {
     "name": "stdout",
     "output_type": "stream",
     "text": [
      "73/73 [==============================] - 1s 11ms/step\n"
     ]
    },
    {
     "name": "stderr",
     "output_type": "stream",
     "text": [
      "2023-06-07 02:19:40.395855: I tensorflow/core/grappler/optimizers/data/replicate_on_split.cc:32] Running replicate on split optimization\n"
     ]
    },
    {
     "data": {
      "text/html": [
       "Waiting for W&B process to finish... <strong style=\"color:green\">(success).</strong>"
      ],
      "text/plain": [
       "<IPython.core.display.HTML object>"
      ]
     },
     "metadata": {},
     "output_type": "display_data"
    },
    {
     "data": {
      "text/html": [
       "<style>\n",
       "    table.wandb td:nth-child(1) { padding: 0 10px; text-align: left ; width: auto;} td:nth-child(2) {text-align: left ; width: 100%}\n",
       "    .wandb-row { display: flex; flex-direction: row; flex-wrap: wrap; justify-content: flex-start; width: 100% }\n",
       "    .wandb-col { display: flex; flex-direction: column; flex-basis: 100%; flex: 1; padding: 10px; }\n",
       "    </style>\n",
       "<div class=\"wandb-row\"><div class=\"wandb-col\"><h3>Run summary:</h3><br/><table class=\"wandb\"><tr><td>epoch/epoch</td><td>99</td></tr><tr><td>epoch/learning_rate</td><td>0.01</td></tr><tr><td>epoch/loss</td><td>1.09914</td></tr><tr><td>epoch/mol1_acc</td><td>0.91118</td></tr><tr><td>epoch/mol1_loss</td><td>0.2798</td></tr><tr><td>epoch/mol1_top3</td><td>0.98683</td></tr><tr><td>epoch/mol1_top5</td><td>0.99557</td></tr><tr><td>epoch/mol2_acc</td><td>0.93469</td></tr><tr><td>epoch/mol2_loss</td><td>0.20221</td></tr><tr><td>epoch/mol2_top3</td><td>0.99249</td></tr><tr><td>epoch/mol2_top5</td><td>0.99727</td></tr><tr><td>epoch/mol3_acc</td><td>0.9036</td></tr><tr><td>epoch/mol3_loss</td><td>0.31104</td></tr><tr><td>epoch/mol3_top3</td><td>0.985</td></tr><tr><td>epoch/mol3_top5</td><td>0.99469</td></tr><tr><td>epoch/mol4_acc</td><td>0.93643</td></tr><tr><td>epoch/mol4_loss</td><td>0.20053</td></tr><tr><td>epoch/mol4_top3</td><td>0.99228</td></tr><tr><td>epoch/mol4_top5</td><td>0.9974</td></tr><tr><td>epoch/mol5_acc</td><td>0.96917</td></tr><tr><td>epoch/mol5_loss</td><td>0.10558</td></tr><tr><td>epoch/mol5_top3</td><td>0.99613</td></tr><tr><td>epoch/mol5_top5</td><td>0.9987</td></tr><tr><td>epoch/time_per_step</td><td>0.04884</td></tr><tr><td>epoch/training_throughput</td><td>10482.20503</td></tr><tr><td>epoch/val_loss</td><td>22.84926</td></tr><tr><td>epoch/val_mol1_acc</td><td>0.26352</td></tr><tr><td>epoch/val_mol1_loss</td><td>6.14518</td></tr><tr><td>epoch/val_mol1_top3</td><td>0.48875</td></tr><tr><td>epoch/val_mol1_top5</td><td>0.61298</td></tr><tr><td>epoch/val_mol2_acc</td><td>0.46446</td></tr><tr><td>epoch/val_mol2_loss</td><td>4.19288</td></tr><tr><td>epoch/val_mol2_top3</td><td>0.70539</td></tr><tr><td>epoch/val_mol2_top5</td><td>0.79343</td></tr><tr><td>epoch/val_mol3_acc</td><td>0.27778</td></tr><tr><td>epoch/val_mol3_loss</td><td>6.79353</td></tr><tr><td>epoch/val_mol3_top3</td><td>0.4941</td></tr><tr><td>epoch/val_mol3_top5</td><td>0.5984</td></tr><tr><td>epoch/val_mol4_acc</td><td>0.54362</td></tr><tr><td>epoch/val_mol4_loss</td><td>4.00107</td></tr><tr><td>epoch/val_mol4_top3</td><td>0.74025</td></tr><tr><td>epoch/val_mol4_top5</td><td>0.80768</td></tr><tr><td>epoch/val_mol5_acc</td><td>0.81986</td></tr><tr><td>epoch/val_mol5_loss</td><td>1.71659</td></tr><tr><td>epoch/val_mol5_top3</td><td>0.92357</td></tr><tr><td>epoch/val_mol5_top5</td><td>0.94678</td></tr><tr><td>frequency_informed_agent_accuracy</td><td>0.08395</td></tr><tr><td>frequency_informed_agent_accuracy_top_1</td><td>0.08395</td></tr><tr><td>frequency_informed_agent_accuracy_top_3</td><td>0.18618</td></tr><tr><td>frequency_informed_overall_accuracy</td><td>0.01638</td></tr><tr><td>frequency_informed_overall_accuracy_top_1</td><td>0.01638</td></tr><tr><td>frequency_informed_overall_accuracy_top_3</td><td>0.03929</td></tr><tr><td>frequency_informed_solvent_accuracy</td><td>0.08808</td></tr><tr><td>frequency_informed_solvent_accuracy_top_1</td><td>0.08808</td></tr><tr><td>frequency_informed_solvent_accuracy_top_3</td><td>0.22639</td></tr><tr><td>loss</td><td>14.38841</td></tr><tr><td>mol1_acc</td><td>0.29105</td></tr><tr><td>mol1_loss</td><td>2.57782</td></tr><tr><td>mol1_top3</td><td>0.55775</td></tr><tr><td>mol1_top5</td><td>0.69565</td></tr><tr><td>mol2_acc</td><td>0.53309</td></tr><tr><td>mol2_loss</td><td>2.30201</td></tr><tr><td>mol2_top3</td><td>0.68826</td></tr><tr><td>mol2_top5</td><td>0.74633</td></tr><tr><td>mol3_acc</td><td>0.28063</td></tr><tr><td>mol3_loss</td><td>3.02522</td></tr><tr><td>mol3_top3</td><td>0.52925</td></tr><tr><td>mol3_top5</td><td>0.65029</td></tr><tr><td>mol4_acc</td><td>0.3285</td></tr><tr><td>mol4_loss</td><td>4.02904</td></tr><tr><td>mol4_top3</td><td>0.45636</td></tr><tr><td>mol4_top5</td><td>0.53967</td></tr><tr><td>mol5_acc</td><td>0.74852</td></tr><tr><td>mol5_loss</td><td>2.45431</td></tr><tr><td>mol5_top3</td><td>0.81477</td></tr><tr><td>mol5_top5</td><td>0.84318</td></tr><tr><td>trust_labelling</td><td>False</td></tr></table><br/></div></div>"
      ],
      "text/plain": [
       "<IPython.core.display.HTML object>"
      ]
     },
     "metadata": {},
     "output_type": "display_data"
    },
    {
     "data": {
      "text/html": [
       " View run <strong style=\"color:#cdcd00\">fast-sound-304</strong> at: <a href='https://wandb.ai/ceb-sre/orderly/runs/zbx7fqj5' target=\"_blank\">https://wandb.ai/ceb-sre/orderly/runs/zbx7fqj5</a><br/>Synced 3 W&B file(s), 0 media file(s), 2 artifact file(s) and 1 other file(s)"
      ],
      "text/plain": [
       "<IPython.core.display.HTML object>"
      ]
     },
     "metadata": {},
     "output_type": "display_data"
    },
    {
     "data": {
      "text/html": [
       "Find logs at: <code>./wandb/run-20230607_021600-zbx7fqj5/logs</code>"
      ],
      "text/plain": [
       "<IPython.core.display.HTML object>"
      ]
     },
     "metadata": {},
     "output_type": "display_data"
    }
   ],
   "source": [
    "BASE_PATH = pathlib.Path(\"/project/studios/orderly-preprocessing/ORDerly/\")\n",
    "DATASETS_PATH = BASE_PATH / \"data/orderly/datasets/\"\n",
    "MODEL_PATH = pathlib.Path(\"ORDerly/models/\")\n",
    "dataset = \"no_trust_with_map\"\n",
    "filters = {\n",
    "    # \"state\": \"crashed\",\n",
    "    \"config.output_folder_path\": {\n",
    "        \"$in\": [\n",
    "            f\"models/{dataset}\",\n",
    "            str(MODEL_PATH / dataset),\n",
    "            f\"/Users/Kobi/Documents/Research/phd_code/ORDerly/models/{dataset}\",\n",
    "        ],\n",
    "    },\n",
    "    \"config.random_seed\": 12345,\n",
    "    \"config.train_fraction\": 0.2,\n",
    "    \"config.dataset_version\": \"v4\",\n",
    "    \"config.train_mode\": 0,  # Teacher forcing\n",
    "}\n",
    "# filters = {\n",
    "#     \"id\": {\"$in\": [\"zl4inibc\", \"mdwxixa4\", \"zbx7fqj5\"]}\n",
    "# }\n",
    "runs = api.runs(f\"{wandb_entity}/{wandb_project}\", filters=filters)\n",
    "# if not len(runs) == 5: # For 5 training fractions\n",
    "#     raise ValueError(f\"Not 5 runs for {dataset} (found {len(runs)}, seed {random_seed})\")\n",
    "\n",
    "for run in runs:\n",
    "    config = dict(run.config)\n",
    "    train_data_path = pathlib.Path(\n",
    "        f\"{DATASETS_PATH}/orderly_{dataset}_train.parquet\"\n",
    "    )\n",
    "    test_data_path = pathlib.Path(\n",
    "        f\"{DATASETS_PATH}/orderly_{dataset}_test.parquet\"\n",
    "    )\n",
    "    fp_directory = train_data_path.parent / \"fingerprints\"\n",
    "    train_fp_path = fp_directory / (train_data_path.stem + \".npy\")\n",
    "    test_fp_path = fp_directory / (test_data_path.stem + \".npy\")\n",
    "    output_folder_path = MODEL_PATH / dataset\n",
    "    output_folder_path.mkdir(parents=True, exist_ok=True)\n",
    "    tags = dataset.split(\"_\")\n",
    "    tags = [f\"{tags[0]}_{tags[1]}\", f\"{tags[2]}_{tags[3]}\"]\n",
    "    config.update(\n",
    "        {\n",
    "            \"train_data_path\": train_data_path,\n",
    "            \"test_data_path\": test_data_path,\n",
    "            \"train_fp_path\": train_fp_path,\n",
    "            \"test_fp_path\": test_fp_path,\n",
    "            \"output_folder_path\": output_folder_path,\n",
    "            \"skip_training\": True,\n",
    "            \"resume\": True,\n",
    "            \"resume_from_best\": True,\n",
    "            \"generate_fingerprints\": False,\n",
    "            \"wandb_run_id\": run.id,\n",
    "            \"wandb_tags\": tags,\n",
    "        }\n",
    "    )\n",
    "    del config[\"n_val\"]\n",
    "    del config[\"n_test\"]\n",
    "    del config[\"n_train\"]\n",
    "    del config[\"dataset_version\"]\n",
    "    instance = ConditionPrediction(**config)\n",
    "    instance.run_model_arguments()\n",
    "    wandb.finish()\n",
    "    gc.collect()"
   ]
  },
  {
   "cell_type": "code",
   "execution_count": 12,
   "metadata": {},
   "outputs": [
    {
     "data": {
      "text/plain": [
       "0"
      ]
     },
     "execution_count": 12,
     "metadata": {},
     "output_type": "execute_result"
    }
   ],
   "source": [
    "len(runs)"
   ]
  },
  {
   "attachments": {},
   "cell_type": "markdown",
   "metadata": {},
   "source": [
    "## Generate Table "
   ]
  },
  {
   "cell_type": "code",
   "execution_count": 25,
   "metadata": {},
   "outputs": [
    {
     "name": "stdout",
     "output_type": "stream",
     "text": [
      "Solvents & 34 // 52 // \\textcolor{lessgreen}{28\\%}  & 34 // 53 // \\textcolor{lessgreen}{30\\%}  & 24 // 45 // \\textcolor{lessgreen}{28\\%}  & 23 // 42 // \\textcolor{lessgreen}{26\\%} \\\\ \n",
      "Agents & 43 // 65 // \\textcolor{lessgreen}{39\\%}  & 43 // 67 // \\textcolor{lessgreen}{43\\%}  & 21 // 42 // \\textcolor{lessgreen}{27\\%}  & 19 // 39 // \\textcolor{lessgreen}{25\\%} \\\\ \n",
      "Solvents \\& Agents & 18 // 39 // \\textcolor{lessgreen}{26\\%}  & 19 // 41 // \\textcolor{lessgreen}{27\\%}  & 5 // 24 // \\textcolor{lessgreen}{21\\%}  & 4 // 21 // \\textcolor{lessgreen}{18\\%} \\\\\n"
     ]
    }
   ],
   "source": [
    "DATASETS = [\"with_trust_with_map\",\"with_trust_no_map\", \"no_trust_no_map\", \"no_trust_with_map\"]\n",
    "lines = [\"Solvents\", \"Agents\", \"Solvents \\& Agents\"]\n",
    "top_n = 3\n",
    "for dataset in DATASETS:\n",
    "    filters = {\n",
    "        \"state\": \"finished\",\n",
    "        \"config.output_folder_path\": f\"models/{dataset}\",\n",
    "        \"config.random_seed\": 54321,\n",
    "        \"config.train_fraction\": 1.0,\n",
    "        \"config.train_mode\": 0, # Teacher forcing\n",
    "    }\n",
    "    runs = api.runs(\n",
    "        f\"{wandb_entity}/{wandb_project}\",\n",
    "        filters=filters\n",
    "    )\n",
    "    assert len(runs) == 1\n",
    "    run = runs[0]\n",
    "\n",
    "    # Get model solvent, agent and overall accuracy\n",
    "    test_best = run.summary[\"test_best\"]\n",
    "    solvent_accuracy = test_best[f\"solvent_accuracy_top{top_n}\"]\n",
    "    agent_accuracy = test_best[f\"three_agents_accuracy_top{top_n}\"]\n",
    "    overall_accuracy = test_best[f\"overall_accuracy_top{top_n}\"]\n",
    "\n",
    "    # Get frequency informed solvent, agent and overall accuracy\n",
    "    fi_solvent_accuracy = run.summary[f\"frequency_informed_solvent_accuracy_top_{top_n}\"]\n",
    "    fi_agent_accuracy = run.summary[f\"frequency_informed_agent_accuracy_top_{top_n}\"]\n",
    "    fi_overall_accuracy = run.summary[f\"frequency_informed_overall_accuracy_top_{top_n}\"]\n",
    "\n",
    "    # Improvement\n",
    "    solvent_improvement = (solvent_accuracy-fi_solvent_accuracy)/(1-fi_solvent_accuracy)\n",
    "    solvent_improvement_color = \"lessgreen\" if solvent_improvement>0 else \"red\"\n",
    "    agent_improvement = (agent_accuracy-fi_agent_accuracy)/(1-fi_agent_accuracy)\n",
    "    agent_improvement_color = \"lessgreen\" if agent_improvement>0 else \"red\"\n",
    "    overall_improvement = (overall_accuracy-fi_overall_accuracy)/(1-fi_overall_accuracy)\n",
    "    overall_improvement_color = \"lessgreen\" if overall_improvement>0 else \"red\"\n",
    "\n",
    "    # Create table lines\n",
    "    lines[0] += f\" & {fi_solvent_accuracy*100:.0f} // {solvent_accuracy*100:.0f} // \\\\textcolor{{{solvent_improvement_color}}}{{{solvent_improvement*100:.0f}\\%}} \"\n",
    "    lines[1] += f\" & {fi_agent_accuracy*100:.0f} // {agent_accuracy*100:.0f} // \\\\textcolor{{{agent_improvement_color}}}{{{agent_improvement*100:.0f}\\%}} \"\n",
    "    lines[2] += f\" & {fi_overall_accuracy*100:.0f} // {overall_accuracy*100:.0f} // \\\\textcolor{{{overall_improvement_color}}}{{{overall_improvement*100:.0f}\\%}} \"\n",
    "print(\"\\\\\\\\ \\n\".join(lines) + \"\\\\\\\\\")"
   ]
  },
  {
   "cell_type": "code",
   "execution_count": 45,
   "metadata": {},
   "outputs": [
    {
     "data": {
      "image/png": "[encoded data removed]",
      "text/plain": [
       "<Figure size 640x480 with 1 Axes>"
      ]
     },
     "metadata": {},
     "output_type": "display_data"
    }
   ],
   "source": [
    "DATASETS = [\"with_trust_with_map\",\"with_trust_no_map\", \"no_trust_no_map\", \"no_trust_with_map\"]\n",
    "LABELS = {\n",
    "    \"with_trust_with_map\": r\"Labelling, rare $\\rightarrow$ other\",\n",
    "    \"with_trust_no_map\": r\"Labelling, rare $\\rightarrow$ delete rxn\",\n",
    "    \"no_trust_no_map\": r\"Reaction string, rare $\\rightarrow$ other\",\n",
    "    \"no_trust_with_map\": r\"Reaction string, rare $\\rightarrow$ delete rxn\",\n",
    "}\n",
    "TRAIN_FRACS =  [0.2, 0.4, 0.6, 0.8, 1.0]\n",
    "fig, ax = plt.subplots(1)\n",
    "markers = [\"o\", \"d\", \"s\", \"^\"]\n",
    "top_n = 3\n",
    "for i, dataset in enumerate(DATASETS):\n",
    "    overall_accuracies = []\n",
    "    for train_fraction in TRAIN_FRACS:\n",
    "        filters = {\n",
    "            \"state\": \"finished\",\n",
    "            \"config.output_folder_path\": f\"models/{dataset}\",\n",
    "            # \"config.random_seed\": {\"$in\": [12345, 54321, 98765]},\n",
    "            \"config.random_seed\": 54321,\n",
    "            \"config.train_fraction\": train_fraction,\n",
    "            \"config.train_mode\": 0, # Teacher forcing\n",
    "        }\n",
    "        runs = api.runs(\n",
    "            f\"{wandb_entity}/{wandb_project}\",\n",
    "            filters=filters\n",
    "        )\n",
    "        assert len(runs) == 1\n",
    "        run = runs[0]\n",
    "\n",
    "        # Get overall accuracy\n",
    "        acc_local = []\n",
    "        for run in runs:\n",
    "            overall_accuracy = run.summary[f\"test_best\"][f\"overall_accuracy_top{top_n}\"]\n",
    "            fi_overall_accuracy = run.summary[f\"frequency_informed_overall_accuracy_top_{top_n}\"]\n",
    "            overall_improvement = (overall_accuracy-fi_overall_accuracy)/(1-fi_overall_accuracy)\n",
    "            acc_local.append(overall_improvement)\n",
    "        overall_accuracies.append(np.mean(overall_improvement)*100)\n",
    "    \n",
    "    # Add line to plot\n",
    "    label = LABELS[dataset]\n",
    "    ax.plot(\n",
    "        TRAIN_FRACS, \n",
    "        overall_accuracies, \n",
    "        label=label, \n",
    "        linewidth=3.5, \n",
    "        marker=markers[i], \n",
    "        markersize=10,\n",
    "    )\n",
    "\n",
    "# Formatting\n",
    "axis_fontsize = 16\n",
    "heading_fontsize = 18\n",
    "ax.legend(loc=\"upper left\", fontsize=axis_fontsize)\n",
    "ax.set_xlabel(\"Training set fraction\", fontsize=heading_fontsize)\n",
    "ax.set_ylabel(\"Overall Improvement\",  fontsize=heading_fontsize)\n",
    "ax.set_xticks(TRAIN_FRACS)\n",
    "ax.set_xticklabels(TRAIN_FRACS, fontsize=axis_fontsize)\n",
    "# ylabels = np.arange(0.1, 0.35, 0.05)\n",
    "# ax.set_yticks(ylabels)\n",
    "# ax.set_yticklabels([f\"{ylabel:0.2f}\" for ylabel in ylabels], fontsize=axis_fontsize)\n",
    "fig.tight_layout()\n",
    "fig.savefig(\"scaling_behavior.png\", dpi=300)"
   ]
  },
  {
   "cell_type": "code",
   "execution_count": 40,
   "metadata": {},
   "outputs": [
    {
     "data": {
      "text/plain": [
       "2"
      ]
     },
     "execution_count": 40,
     "metadata": {},
     "output_type": "execute_result"
    }
   ],
   "source": [
    "len(runs)"
   ]
  },
  {
   "cell_type": "code",
   "execution_count": 41,
   "metadata": {},
   "outputs": [
    {
     "data": {
      "text/plain": [
       "1.0"
      ]
     },
     "execution_count": 41,
     "metadata": {},
     "output_type": "execute_result"
    }
   ],
   "source": [
    "train_fraction"
   ]
  },
  {
   "cell_type": "code",
   "execution_count": 42,
   "metadata": {},
   "outputs": [
    {
     "data": {
      "text/plain": [
       "'with_trust_no_map'"
      ]
     },
     "execution_count": 42,
     "metadata": {},
     "output_type": "execute_result"
    }
   ],
   "source": [
    "dataset"
   ]
  },
  {
   "cell_type": "code",
   "execution_count": null,
   "metadata": {},
   "outputs": [],
   "source": []
  }
 ],
 "metadata": {
  "kernelspec": {
   "display_name": "Python 3",
   "language": "python",
   "name": "python3"
  },
  "language_info": {
   "codemirror_mode": {
    "name": "ipython",
    "version": 3
   },
   "file_extension": ".py",
   "mimetype": "text/x-python",
   "name": "python",
   "nbconvert_exporter": "python",
   "pygments_lexer": "ipython3",
   "version": "3.10.11"
  }
 },
 "nbformat": 4,
 "nbformat_minor": 4
}

{
 "cells": [
  {
   "cell_type": "code",
   "execution_count": 2,
   "metadata": {},
   "outputs": [],
   "source": [
    "%load_ext autoreload\n",
    "%autoreload 2"
   ]
  },
  {
   "cell_type": "code",
   "execution_count": 4,
   "metadata": {},
   "outputs": [],
   "source": [
    "from condition_prediction.run import ConditionPrediction\n",
    "import wandb\n",
    "from tqdm import tqdm\n",
    "from datetime import datetime\n",
    "import matplotlib.pyplot as plt\n",
    "import numpy as np\n",
    "import pandas as pd\n",
    "from pathlib import Path\n",
    "from tqdm import tqdm\n",
    "import gc"
   ]
  },
  {
   "cell_type": "code",
   "execution_count": 4,
   "metadata": {},
   "outputs": [],
   "source": [
    "api = wandb.Api()\n",
    "wandb_entity=\"ceb-sre\"\n",
    "wandb_project=\"orderly\""
   ]
  },
  {
   "attachments": {},
   "cell_type": "markdown",
   "metadata": {},
   "source": [
    "## Generate Table for dataset v6"
   ]
  },
  {
   "cell_type": "code",
   "execution_count": 5,
   "metadata": {},
   "outputs": [
    {
     "name": "stdout",
     "output_type": "stream",
     "text": [
      "Solvents & 57 // 70 // \\textcolor{lessgreen}{31\\%}  & 58 // 71 // \\textcolor{lessgreen}{31\\%}  & 36 // 51 // \\textcolor{lessgreen}{24\\%}  & 35 // 50 // \\textcolor{lessgreen}{23\\%}  & 57 // 70 // \\textcolor{lessgreen}{30\\%} \\\\ \n",
      "Agents & 91 // 94 // \\textcolor{lessgreen}{26\\%}  & 92 // 94 // \\textcolor{lessgreen}{23\\%}  & 46 // 56 // \\textcolor{lessgreen}{20\\%}  & 49 // 59 // \\textcolor{lessgreen}{18\\%}  & 91 // 93 // \\textcolor{lessgreen}{22\\%} \\\\ \n",
      "Solvents \\& Agents & 52 // 67 // \\textcolor{lessgreen}{32\\%}  & 52 // 68 // \\textcolor{lessgreen}{33\\%}  & 20 // 35 // \\textcolor{lessgreen}{19\\%}  & 20 // 36 // \\textcolor{lessgreen}{19\\%}  & 51 // 66 // \\textcolor{lessgreen}{32\\%} \\\\\n"
     ]
    }
   ],
   "source": [
    "DATASETS = [\"with_trust_with_map\",\"with_trust_no_map\",\"no_trust_with_map\", \"no_trust_no_map\", \"with_trust_no_min_freq\"]\n",
    "lines = [\"Solvents\", \"Agents\", \"Solvents \\& Agents\"]\n",
    "top_n = 3\n",
    "for dataset in DATASETS:\n",
    "    filters = {\n",
    "        \"state\": \"finished\",\n",
    "        \"config.output_folder_path\": f\"models/{dataset}\",\n",
    "        \"config.random_seed\": 12345,\n",
    "        \"config.train_fraction\": 1.0,\n",
    "        \"config.train_mode\": 0, # Teacher forcing\n",
    "        \"config.dataset_version\": \"v6\"\n",
    "    }\n",
    "    runs = api.runs(\n",
    "        f\"{wandb_entity}/{wandb_project}\",\n",
    "        filters=filters\n",
    "    )\n",
    "    run = runs[0]\n",
    "    if len(runs)>0:\n",
    "        for r in runs:\n",
    "            if run.config[\"dataset_version\"] == \"v5\":\n",
    "                run = r\n",
    "                break\n",
    "\n",
    "    # Get model solvent, agent and overall accuracy\n",
    "    test_best = run.summary[\"test_best\"]\n",
    "    solvent_accuracy = test_best[f\"solvent_accuracy_top{top_n}\"]\n",
    "    agent_accuracy = test_best[f\"three_agents_accuracy_top{top_n}\"]\n",
    "    overall_accuracy = test_best[f\"overall_accuracy_top{top_n}\"]\n",
    "\n",
    "    # Get frequency informed solvent, agent and overall accuracy\n",
    "    fi_solvent_accuracy = run.summary[f\"frequency_informed_solvent_accuracy_top_{top_n}\"]\n",
    "    fi_agent_accuracy = run.summary[f\"frequency_informed_agent_accuracy_top_{top_n}\"]\n",
    "    fi_overall_accuracy = run.summary[f\"frequency_informed_overall_accuracy_top_{top_n}\"]\n",
    "\n",
    "    # Improvement\n",
    "    solvent_improvement = (solvent_accuracy-fi_solvent_accuracy)/(1-fi_solvent_accuracy)\n",
    "    solvent_improvement_color = \"lessgreen\" if solvent_improvement>0 else \"red\"\n",
    "    agent_improvement = (agent_accuracy-fi_agent_accuracy)/(1-fi_agent_accuracy)\n",
    "    agent_improvement_color = \"lessgreen\" if agent_improvement>0 else \"red\"\n",
    "    overall_improvement = (overall_accuracy-fi_overall_accuracy)/(1-fi_overall_accuracy)\n",
    "    overall_improvement_color = \"lessgreen\" if overall_improvement>0 else \"red\"\n",
    "\n",
    "    # Create table lines\n",
    "    lines[0] += f\" & {fi_solvent_accuracy*100:.0f} // {solvent_accuracy*100:.0f} // \\\\textcolor{{{solvent_improvement_color}}}{{{solvent_improvement*100:.0f}\\%}} \"\n",
    "    lines[1] += f\" & {fi_agent_accuracy*100:.0f} // {agent_accuracy*100:.0f} // \\\\textcolor{{{agent_improvement_color}}}{{{agent_improvement*100:.0f}\\%}} \"\n",
    "    lines[2] += f\" & {fi_overall_accuracy*100:.0f} // {overall_accuracy*100:.0f} // \\\\textcolor{{{overall_improvement_color}}}{{{overall_improvement*100:.0f}\\%}} \"\n",
    "print(\"\\\\\\\\ \\n\".join(lines) + \"\\\\\\\\\")"
   ]
  },
  {
   "attachments": {},
   "cell_type": "markdown",
   "metadata": {},
   "source": [
    "## Check intersection"
   ]
  },
  {
   "cell_type": "code",
   "execution_count": 57,
   "metadata": {},
   "outputs": [],
   "source": [
    "# Get data\n",
    "data_path = Path(\"/teamspace/studios/orderly-preprocessing/ORDerly/data/orderly/datasets_v6/\")\n",
    "no_trust_df = pd.read_parquet(data_path / \"orderly_no_trust_no_map_test.parquet\").reset_index(drop=True)\n",
    "with_trust_df = pd.read_parquet(data_path / \"orderly_with_trust_no_map_test.parquet\").reset_index(drop=True)\n",
    "\n",
    "# Get predictions\n",
    "model_path = Path(\"/teamspace/studios/this_studio/ORDerly/models\")\n",
    "no_trust_predictions = pd.read_parquet(model_path / \"no_trust_no_map/test_predictions.parquet\")\n",
    "no_trust_predictions = no_trust_predictions.rename(columns=lambda s: f\"{s}_predict\")\n",
    "no_trust_df = pd.concat([no_trust_df, no_trust_predictions], axis=1)\n",
    "with_trust_predictions = pd.read_parquet(model_path / \"with_trust_no_map/test_predictions.parquet\")\n",
    "with_trust_predictions = with_trust_predictions.rename(columns=lambda s: f\"{s}_predict\")\n",
    "with_trust_df = pd.concat([with_trust_df, with_trust_predictions], axis=1)"
   ]
  },
  {
   "cell_type": "code",
   "execution_count": 62,
   "metadata": {},
   "outputs": [
    {
     "name": "stdout",
     "output_type": "stream",
     "text": [
      "Molecules in both datasets: 1905\n"
     ]
    }
   ],
   "source": [
    "# Find intersection\n",
    "idx_no_trust_original = no_trust_df[\"original_index\"]\n",
    "idx_with_trust_original = with_trust_df[\"original_index\"]\n",
    "common_idx_original = np.intersect1d(idx_1, idx_2)\n",
    "print(f\"Molecules in both datasets: {len(common_idx)}\")\n",
    "no_trust_selected = no_trust_df[no_trust_df[\"original_index\"].isin(common_idx_original)]\n",
    "with_trust_selected = with_trust_df[with_trust_df[\"original_index\"].isin(common_idx_original)]\n",
    "\n",
    "# Save\n",
    "no_trust_selected.to_csv(model_path / \"no_trust_no_map/no_trust_no_map_test_predictions_common.csv\")\n",
    "with_trust_selected.to_csv(model_path / \"with_trust_no_map/with_trust_no_map_test_predictions_common.csv\")"
   ]
  }
 ],
 "metadata": {
  "kernelspec": {
   "display_name": "Python 3",
   "language": "python",
   "name": "python3"
  },
  "language_info": {
   "codemirror_mode": {
    "name": "ipython",
    "version": 3
   },
   "file_extension": ".py",
   "mimetype": "text/x-python",
   "name": "python",
   "nbconvert_exporter": "python",
   "pygments_lexer": "ipython3",
   "version": "3.10.10"
  }
 },
 "nbformat": 4,
 "nbformat_minor": 4
}

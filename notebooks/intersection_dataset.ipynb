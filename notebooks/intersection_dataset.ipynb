{
 "cells": [
  {
   "attachments": {},
   "cell_type": "markdown",
   "metadata": {},
   "source": [
    "# Find reactions in (rare-> other) test set that don't appear in (rare-> delete rxn) train set"
   ]
  },
  {
   "cell_type": "code",
   "execution_count": 1,
   "metadata": {},
   "outputs": [],
   "source": [
    "import pandas as pd"
   ]
  },
  {
   "cell_type": "code",
   "execution_count": 2,
   "metadata": {},
   "outputs": [],
   "source": [
    "test_df_path = \"/Users/dsw46/Library/CloudStorage/OneDrive-UniversityofCambridge/Datasets/orderly_v5/orderly_no_trust_no_map_test.parquet\"\n",
    "train_df_path = \"/Users/dsw46/Library/CloudStorage/OneDrive-UniversityofCambridge/Datasets/orderly_v5/orderly_no_trust_with_map_train.parquet\"\n",
    "test_df = pd.read_parquet(test_df_path)\n",
    "train_df = pd.read_parquet(train_df_path)"
   ]
  },
  {
   "cell_type": "code",
   "execution_count": 3,
   "metadata": {},
   "outputs": [
    {
     "name": "stdout",
     "output_type": "stream",
     "text": [
      "30422\n",
      "33930\n"
     ]
    }
   ],
   "source": [
    "\n",
    "# Extract the values from the \"rxn_str\" column in train_df\n",
    "train_rxn_str_values = train_df[\"rxn_str\"].values\n",
    "\n",
    "# Filter test_df based on values present in train_rxn_str_values\n",
    "intersection_indices = test_df[test_df[\"rxn_str\"].isin(train_rxn_str_values)].index\n",
    "\n",
    "# Print the filtered rows\n",
    "print(len(intersection_indices))\n",
    "print(len(test_df))\n"
   ]
  },
  {
   "cell_type": "code",
   "execution_count": 4,
   "metadata": {},
   "outputs": [
    {
     "data": {
      "text/plain": [
       "3508"
      ]
     },
     "execution_count": 4,
     "metadata": {},
     "output_type": "execute_result"
    }
   ],
   "source": [
    "test_df = test_df.drop(intersection_indices)\n",
    "len(test_df)"
   ]
  },
  {
   "cell_type": "code",
   "execution_count": 5,
   "metadata": {},
   "outputs": [],
   "source": [
    "#save the new test_df as parquet\n",
    "test_df.to_parquet(\"/Users/dsw46/Library/CloudStorage/OneDrive-UniversityofCambridge/Datasets/intersection_test_set.parquet\")"
   ]
  },
  {
   "cell_type": "code",
   "execution_count": null,
   "metadata": {},
   "outputs": [],
   "source": []
  }
 ],
 "metadata": {
  "kernelspec": {
   "display_name": "chemistry",
   "language": "python",
   "name": "python3"
  },
  "language_info": {
   "codemirror_mode": {
    "name": "ipython",
    "version": 3
   },
   "file_extension": ".py",
   "mimetype": "text/x-python",
   "name": "python",
   "nbconvert_exporter": "python",
   "pygments_lexer": "ipython3",
   "version": "3.10.8"
  },
  "orig_nbformat": 4
 },
 "nbformat": 4,
 "nbformat_minor": 2
}

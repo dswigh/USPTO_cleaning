{
 "cells": [
  {
   "attachments": {},
   "cell_type": "markdown",
   "metadata": {},
   "source": [
    "# Final USPTO No trust\n"
   ]
  },
  {
   "cell_type": "code",
   "execution_count": 3,
   "metadata": {},
   "outputs": [],
   "source": [
    "import pandas as pd\n",
    "filepath = '/Users/dsw46/Projects_local/ORDerly/data/orderly/uspto_no_trust/orderly_ord.parquet'\n",
    "uspto_no_trust = pd.read_parquet(filepath)"
   ]
  },
  {
   "cell_type": "code",
   "execution_count": 6,
   "metadata": {},
   "outputs": [
    {
     "data": {
      "text/plain": [
       "agent_000                                                           [Fe]\n",
       "agent_001                                                          [Na+]\n",
       "agent_002                                                          [OH-]\n",
       "date_of_experiment                                                   NaT\n",
       "extracted_from_file         ord_dataset-a0eff6fe4b4143f284f0fc5ac503acad\n",
       "grant_date                                           1976-01-01 00:01:00\n",
       "is_mapped                                                           True\n",
       "procedure_details      3-chloro-5-nitro-isoquinoline (20.9 g., 0.1170...\n",
       "product_000                                          Nc1cccc2cnc(Cl)cc12\n",
       "product_001                                                         <NA>\n",
       "product_002                                                         <NA>\n",
       "product_003                                                         <NA>\n",
       "product_004                                                         <NA>\n",
       "reactant_000                              O=[N+]([O-])c1cccc2cnc(Cl)cc12\n",
       "reactant_001                                                        <NA>\n",
       "reactant_002                                                        <NA>\n",
       "reactant_003                                                        <NA>\n",
       "reactant_004                                                        <NA>\n",
       "rxn_str                [Cl:1][C:2]1[N:3]=[CH:4][C:5]2[C:10]([CH:11]=1...\n",
       "rxn_time                                                             2.0\n",
       "solvent_000                                                      CC(=O)O\n",
       "solvent_001                                                            O\n",
       "temperature                                                         60.0\n",
       "yield_000                                                            NaN\n",
       "yield_001                                                            NaN\n",
       "yield_002                                                            NaN\n",
       "yield_003                                                            NaN\n",
       "yield_004                                                            NaN\n",
       "Name: 3, dtype: object"
      ]
     },
     "execution_count": 6,
     "metadata": {},
     "output_type": "execute_result"
    }
   ],
   "source": [
    "uspto_no_trust.iloc[3]"
   ]
  },
  {
   "cell_type": "code",
   "execution_count": null,
   "metadata": {},
   "outputs": [],
   "source": [
    "# Read in ORD file from ORD hash file name"
   ]
  },
  {
   "cell_type": "code",
   "execution_count": 70,
   "metadata": {},
   "outputs": [],
   "source": [
    "import ord_schema\n",
    "from ord_schema import message_helpers, validations\n",
    "from ord_schema.proto import dataset_pb2\n",
    "import os\n",
    "import fnmatch\n",
    "\n",
    "def open_ord(ord_hash):\n",
    "    folder_path = '/Users/dsw46/Projects_local/ORDerly/data/ord'\n",
    "    # look for files within that folder path or deeper for a file that contains the ord_hash\n",
    "    for root, dirs, files in os.walk(folder_path):\n",
    "        for file in files:\n",
    "            if fnmatch.fnmatch(file, f'*{ord_hash}*'):\n",
    "                filepath = os.path.join(root, file)\n",
    "                data = message_helpers.load_message(filepath, dataset_pb2.Dataset)\n",
    "                return data\n",
    "    raise FileNotFoundError(f\"No file found containing {ord_hash} in the name.\")\n",
    "\n",
    "\n",
    "from rdkit import Chem\n",
    "\n",
    "def canon_smiles(smiles):\n",
    "    mol = Chem.MolFromSmiles(smiles)\n",
    "    # Remove the atom mapping\n",
    "    for atom in mol.GetAtoms():\n",
    "        atom.SetAtomMapNum(0)\n",
    "    return Chem.MolToSmiles(mol)"
   ]
  },
  {
   "cell_type": "code",
   "execution_count": 48,
   "metadata": {},
   "outputs": [],
   "source": [
    "import pandas as pd\n"
   ]
  },
  {
   "cell_type": "code",
   "execution_count": 53,
   "metadata": {},
   "outputs": [
    {
     "data": {
      "text/html": [
       "<div>\n",
       "<style scoped>\n",
       "    .dataframe tbody tr th:only-of-type {\n",
       "        vertical-align: middle;\n",
       "    }\n",
       "\n",
       "    .dataframe tbody tr th {\n",
       "        vertical-align: top;\n",
       "    }\n",
       "\n",
       "    .dataframe thead th {\n",
       "        text-align: right;\n",
       "    }\n",
       "</style>\n",
       "<table border=\"1\" class=\"dataframe\">\n",
       "  <thead>\n",
       "    <tr style=\"text-align: right;\">\n",
       "      <th></th>\n",
       "      <th>reactant_0</th>\n",
       "      <th>reactant_1</th>\n",
       "    </tr>\n",
       "  </thead>\n",
       "  <tbody>\n",
       "    <tr>\n",
       "      <th>0</th>\n",
       "      <td>NaN</td>\n",
       "      <td>O=C=O</td>\n",
       "    </tr>\n",
       "    <tr>\n",
       "      <th>1</th>\n",
       "      <td>CC(=O)O</td>\n",
       "      <td>NaN</td>\n",
       "    </tr>\n",
       "    <tr>\n",
       "      <th>2</th>\n",
       "      <td>II</td>\n",
       "      <td>Cl</td>\n",
       "    </tr>\n",
       "  </tbody>\n",
       "</table>\n",
       "</div>"
      ],
      "text/plain": [
       "  reactant_0 reactant_1\n",
       "0        NaN      O=C=O\n",
       "1    CC(=O)O        NaN\n",
       "2         II         Cl"
      ]
     },
     "execution_count": 53,
     "metadata": {},
     "output_type": "execute_result"
    }
   ],
   "source": [
    "not_mapped_rxn_df = {\n",
    "    'reactant_0': ['CCO', 'CC(=O)O', \"II\"],\n",
    "    'reactant_1': ['O=C=O', 'CCO', \"Cl\"],\n",
    "}\n",
    "molecules_to_remove = ['CCO', 'C1=CC=CC=C1', \"II \"]\n",
    "\n",
    "not_mapped_rxn_df = pd.DataFrame(not_mapped_rxn_df)\n",
    "\n",
    "not_mapped_rxn_df = not_mapped_rxn_df[~not_mapped_rxn_df[['reactant_0', 'reactant_1']].isin(molecules_to_remove)]\n",
    "not_mapped_rxn_df"
   ]
  },
  {
   "cell_type": "code",
   "execution_count": 62,
   "metadata": {},
   "outputs": [],
   "source": [
    "data = open_ord('ord_dataset-85c00026681b46f89ef8634d2b8618c3')"
   ]
  },
  {
   "cell_type": "code",
   "execution_count": 64,
   "metadata": {},
   "outputs": [
    {
     "name": "stdout",
     "output_type": "stream",
     "text": [
      "3948\n"
     ]
    }
   ],
   "source": [
    "for i in range(len(data.reactions)):\n",
    "    if data.reactions[i].identifiers[0].value[:215] == '[Co:1].[S:2]([OH:6])([OH:5])(=[O:4])=[O:3].[CH:7](=[NH:13])[CH2:8][CH2:9][CH2:10][CH2:11][CH3:12].[S:14]([O-:18])([O-:17])(=[O:16])=[O:15].[NH4+].[NH4+].[Co+3]>>[S:2]([O-:6])([O-:5])(=[O:4])=[O:3].[CH:7](=[NH:13])[C':\n",
    "        print(i)\n",
    "        break\n"
   ]
  },
  {
   "cell_type": "code",
   "execution_count": 63,
   "metadata": {},
   "outputs": [
    {
     "data": {
      "text/plain": [
       "215"
      ]
     },
     "execution_count": 63,
     "metadata": {},
     "output_type": "execute_result"
    }
   ],
   "source": [
    "[Co:1].[S:2]([OH:6])([OH:5])(=[O:4])=[O:3].[CH:7](=[NH:13])[CH2:8][CH2:9][CH2:10][CH2:11][CH3:12].[S:14]([O-:18])([O-:17])(=[O:16])=[O:15].[NH4+].[NH4+].[Co+3]>>[S:2]([O-:6])([O-:5])(=[O:4])=[O:3].[CH:7](=[NH:13])[CH2:8][CH2:9][CH2:10][CH2:11][CH3:12].[Co+3:1].[S:14]([O-:18])([O-:17])(=[O:16])=[O:15].[S:2]([O-:6])([O-:5])(=[O:4])=[O:3].[Co+3:1]"
   ]
  },
  {
   "cell_type": "code",
   "execution_count": 76,
   "metadata": {},
   "outputs": [
    {
     "data": {
      "text/plain": [
       "'[Co+3]'"
      ]
     },
     "execution_count": 76,
     "metadata": {},
     "output_type": "execute_result"
    }
   ],
   "source": [
    "canon_smiles('[Co+3]')"
   ]
  },
  {
   "cell_type": "code",
   "execution_count": 78,
   "metadata": {},
   "outputs": [
    {
     "data": {
      "text/plain": [
       "True"
      ]
     },
     "execution_count": 78,
     "metadata": {},
     "output_type": "execute_result"
    }
   ],
   "source": [
    "yields = [None, None, None]\n",
    "all(element is None for element in yields)"
   ]
  },
  {
   "cell_type": "code",
   "execution_count": 3,
   "metadata": {},
   "outputs": [
    {
     "data": {
      "text/plain": [
       "(['b', 'a', 'c'], [2, 1, None])"
      ]
     },
     "execution_count": 3,
     "metadata": {},
     "output_type": "execute_result"
    }
   ],
   "source": [
    "mol_id_list = ['a', 'b', 'c']\n",
    "list_to_keep_order = [1,2, None]\n",
    "non_smiles_names_set = {'a', 'c'}\n",
    "unresolvable_names_alt_list = []\n",
    "resolvable_names_alt_list = []\n",
    "resolvable_names = []\n",
    "unresolvable_names = []\n",
    "\n",
    "for p, y in zip(mol_id_list, list_to_keep_order):\n",
    "    if p in non_smiles_names_set:\n",
    "        unresolvable_names.append(p)\n",
    "        unresolvable_names_alt_list.append(y)\n",
    "    else:\n",
    "        resolvable_names.append(p)\n",
    "        resolvable_names_alt_list.append(y)\n",
    "        \n",
    "result = (resolvable_names + unresolvable_names,\n",
    "                    resolvable_names_alt_list + unresolvable_names_alt_list)\n",
    "result"
   ]
  },
  {
   "cell_type": "code",
   "execution_count": 2,
   "metadata": {},
   "outputs": [
    {
     "ename": "TypeError",
     "evalue": "'NoneType' object is not iterable",
     "output_type": "error",
     "traceback": [
      "\u001b[0;31m---------------------------------------------------------------------------\u001b[0m",
      "\u001b[0;31mTypeError\u001b[0m                                 Traceback (most recent call last)",
      "Cell \u001b[0;32mIn[2], line 2\u001b[0m\n\u001b[1;32m      1\u001b[0m yields \u001b[39m=\u001b[39m \u001b[39mNone\u001b[39;00m\n\u001b[0;32m----> 2\u001b[0m \u001b[39mall\u001b[39m(element \u001b[39mis\u001b[39;00m \u001b[39mNone\u001b[39;00m \u001b[39mfor\u001b[39;00m element \u001b[39min\u001b[39;00m yields)\n",
      "\u001b[0;31mTypeError\u001b[0m: 'NoneType' object is not iterable"
     ]
    }
   ],
   "source": [
    "yields = None\n",
    "all(element is None for element in yields)"
   ]
  },
  {
   "cell_type": "code",
   "execution_count": 105,
   "metadata": {},
   "outputs": [
    {
     "name": "stdout",
     "output_type": "stream",
     "text": [
      "a\n",
      "b\n",
      "c\n"
     ]
    }
   ],
   "source": [
    "for p,y in zip(mol_id_list,list_to_keep_order):\n",
    "    print(p)"
   ]
  },
  {
   "cell_type": "code",
   "execution_count": null,
   "metadata": {},
   "outputs": [],
   "source": []
  },
  {
   "cell_type": "code",
   "execution_count": null,
   "metadata": {},
   "outputs": [],
   "source": []
  },
  {
   "cell_type": "code",
   "execution_count": null,
   "metadata": {},
   "outputs": [],
   "source": []
  },
  {
   "cell_type": "code",
   "execution_count": null,
   "metadata": {},
   "outputs": [],
   "source": []
  },
  {
   "cell_type": "code",
   "execution_count": 83,
   "metadata": {},
   "outputs": [
    {
     "data": {
      "text/plain": [
       "[None, None]"
      ]
     },
     "execution_count": 83,
     "metadata": {},
     "output_type": "execute_result"
    }
   ],
   "source": [
    "2*[None]"
   ]
  },
  {
   "cell_type": "code",
   "execution_count": 93,
   "metadata": {},
   "outputs": [
    {
     "name": "stdout",
     "output_type": "stream",
     "text": [
      "('a',)\n",
      "(5,)\n"
     ]
    }
   ],
   "source": [
    "mole_id_list = [None, 'a']\n",
    "list_to_keep_order = [None, 5]\n",
    "mole_id_list_without_none, _list_to_keep_order = list(  # type: ignore\n",
    "                    zip(\n",
    "                        *[\n",
    "                            (x, j)\n",
    "                            for x, j in zip(mole_id_list, list_to_keep_order)\n",
    "                            if (x not in [\"\", None]) and (not pd.isna(x))\n",
    "                        ]\n",
    "                    )\n",
    "                )\n",
    "print(mole_id_list_without_none)\n",
    "print(_list_to_keep_order)"
   ]
  },
  {
   "cell_type": "code",
   "execution_count": 94,
   "metadata": {},
   "outputs": [
    {
     "data": {
      "text/plain": [
       "tuple"
      ]
     },
     "execution_count": 94,
     "metadata": {},
     "output_type": "execute_result"
    }
   ],
   "source": [
    "type(mole_id_list_without_none)"
   ]
  },
  {
   "cell_type": "code",
   "execution_count": null,
   "metadata": {},
   "outputs": [],
   "source": []
  },
  {
   "cell_type": "code",
   "execution_count": null,
   "metadata": {},
   "outputs": [],
   "source": []
  },
  {
   "cell_type": "code",
   "execution_count": null,
   "metadata": {},
   "outputs": [],
   "source": []
  },
  {
   "cell_type": "code",
   "execution_count": null,
   "metadata": {},
   "outputs": [],
   "source": []
  },
  {
   "cell_type": "code",
   "execution_count": null,
   "metadata": {},
   "outputs": [],
   "source": []
  },
  {
   "cell_type": "code",
   "execution_count": null,
   "metadata": {},
   "outputs": [],
   "source": [
    "[Co:1].[S:2]([OH:6])([OH:5])(=[O:4])=[O:3].[CH:7](=[NH:13])[CH2:8][CH2:9][CH2:10][CH2:11][CH3:12].[S:14]([O-:18])([O-:17])(=[O:16])=[O:15].[NH4+].[NH4+].[Co+3]>>[S:2]([O-:6])([O-:5])(=[O:4])=[O:3].[CH:7](=[NH:13])[CH2:8][CH2:9][CH2:10][CH2:11][CH3:12].[Co+3:1].[S:14]([O-:18])([O-:17])(=[O:16])=[O:15].[S:2]([O-:6])([O-:5])(=[O:4])=[O:3].[Co+3:1]"
   ]
  },
  {
   "cell_type": "code",
   "execution_count": 4,
   "metadata": {},
   "outputs": [],
   "source": [
    "mole_id_list = ['c1ccccc1', \"CC\", \"CO\", \"pear\", \"apple\", \"O\"]\n",
    "non_smiles_names_list_additions = [\"pear\", \"apple\", \"h\", \"c\", \"d\"]\n"
   ]
  },
  {
   "cell_type": "code",
   "execution_count": 5,
   "metadata": {},
   "outputs": [
    {
     "name": "stdout",
     "output_type": "stream",
     "text": [
      "728 ns ± 4.4 ns per loop (mean ± std. dev. of 7 runs, 1,000,000 loops each)\n"
     ]
    }
   ],
   "source": [
    "%%timeit\n",
    "mole_id_set = set(mole_id_list)\n",
    "non_smiles_names_set = set(non_smiles_names_list_additions)\n",
    "\n",
    "unresolvable_names = list(mole_id_set.intersection(non_smiles_names_set))\n",
    "resolvable_names = list(mole_id_set.difference(non_smiles_names_set))"
   ]
  },
  {
   "cell_type": "code",
   "execution_count": 6,
   "metadata": {},
   "outputs": [
    {
     "name": "stdout",
     "output_type": "stream",
     "text": [
      "959 ns ± 10.7 ns per loop (mean ± std. dev. of 7 runs, 1,000,000 loops each)\n"
     ]
    }
   ],
   "source": [
    "%%timeit\n",
    "unresolvable_names = [x for x in mole_id_list if x in non_smiles_names_list_additions]\n",
    "resolvable_names = [x for x in mole_id_list if x not in non_smiles_names_list_additions]"
   ]
  },
  {
   "cell_type": "code",
   "execution_count": 57,
   "metadata": {},
   "outputs": [
    {
     "name": "stdout",
     "output_type": "stream",
     "text": [
      "II\n"
     ]
    }
   ],
   "source": [
    "\n"
   ]
  },
  {
   "cell_type": "code",
   "execution_count": null,
   "metadata": {},
   "outputs": [],
   "source": [
    "AssertionError: The intersection between reactants and products is not None. \n",
    "reactants=['O=S(=O)(O)O', '[Co]'] and \n",
    "products=['O=S(=O)([O-])[O-]', 'O=S(=O)([O-])[O-]', 'O=S(=O)([O-])[O-]', 'CCCCCC=N', '[Co+3]', '[Co+3]', '[Co]'] and \n",
    "rxn_str='[Co:1].[S:2]([OH:6])([OH:5])(=[O:4])=[O:3].[CH:7](=[NH:13])[CH2:8][CH2:9][CH2:10][CH2:11][CH3:12].[S:14]([O-:18])([O-:17])(=[O:16])=[O:15].[NH4+].[NH4+].[Co+3]>>[S:2]([O-:6])([O-:5])(=[O:4])=[O:3].[CH:7](=[NH:13])[CH2:8][CH2:9][CH2:10][CH2:11][CH3:12].[Co+3:1].[S:14]([O-:18])([O-:17])(=[O:16])=[O:15].[S:2]([O-:6])([O-:5])(=[O:4])=[O:3].[Co+3:1]' and \n",
    "solvent=[] and \n",
    "catalysts=[] and \n",
    "reagents=[] and \n",
    "agents=['[Co+3]', 'CCCCCC=N', 'O=S(=O)([O-])[O-]', '[NH4+]']. tmp_str=\"self.filename='uspto-grants-2001_07' self.ord_file_path=PosixPath('data/ord/85/ord_dataset-85c00026681b46f89ef8634d2b8618c3.pb.gz')\"\n",
    "\n"
   ]
  },
  {
   "cell_type": "code",
   "execution_count": 67,
   "metadata": {},
   "outputs": [
    {
     "data": {
      "text/plain": [
       "True"
      ]
     },
     "execution_count": 67,
     "metadata": {},
     "output_type": "execute_result"
    }
   ],
   "source": [
    "[None, None] is not None"
   ]
  },
  {
   "cell_type": "code",
   "execution_count": null,
   "metadata": {},
   "outputs": [],
   "source": [
    "'O=S(=O)([O-])[O-]', \n",
    "'O=S(=O)([O-])[O-]', \n",
    "'O=S(=O)([O-])[O-]'"
   ]
  },
  {
   "cell_type": "code",
   "execution_count": null,
   "metadata": {},
   "outputs": [],
   "source": [
    "reactants = ['O=S(=O)(O)O', '[Co]'] \n",
    "products=['O=S(=O)([O-])[O-]', 'O=S(=O)([O-])[O-]', 'O=S(=O)([O-])[O-]', 'CCCCCC=N', '[Co+3]', '[Co+3]', '[Co]']"
   ]
  },
  {
   "cell_type": "code",
   "execution_count": 7,
   "metadata": {},
   "outputs": [
    {
     "name": "stdout",
     "output_type": "stream",
     "text": [
      "532 ns ± 2.73 ns per loop (mean ± std. dev. of 7 runs, 1,000,000 loops each)\n"
     ]
    }
   ],
   "source": [
    "%%timeit\n",
    "unresolvable_names = []\n",
    "resolvable_names = []\n",
    "\n",
    "non_smiles_names_set = set(non_smiles_names_list_additions)\n",
    "\n",
    "for x in mole_id_list:\n",
    "    if x in non_smiles_names_set:\n",
    "        unresolvable_names.append(x)\n",
    "    else:\n",
    "        resolvable_names.append(x)\n"
   ]
  },
  {
   "cell_type": "code",
   "execution_count": 9,
   "metadata": {},
   "outputs": [],
   "source": [
    "def move_unresolvable_names_to_end_of_list(\n",
    "    mole_id_list, non_smiles_names_set):\n",
    "    \"\"\"\n",
    "    rxn_non_smiles_names_set: Unresolvable names that might be replaced with None in the cleaning script\n",
    "    \"\"\"\n",
    "    resolvable_names = []\n",
    "    unresolvable_names = []\n",
    "\n",
    "    for x in mole_id_list:\n",
    "        if x in non_smiles_names_set:\n",
    "            unresolvable_names.append(x)\n",
    "        else:\n",
    "            resolvable_names.append(x)\n",
    "\n",
    "    return resolvable_names + unresolvable_names\n",
    "\n"
   ]
  },
  {
   "cell_type": "code",
   "execution_count": 10,
   "metadata": {},
   "outputs": [],
   "source": [
    "mole_id_list = ['c1ccccc1', \"CC\", \"CO\", \"pear\", \"apple\", \"O\"]\n",
    "non_smiles_names_list_additions = [\"pear\", \"apple\", \"h\", \"c\", \"d\"]\n",
    "\n",
    "rxn_non_smiles_names_set = set(non_smiles_names_list_additions)\n",
    "reactants = move_unresolvable_names_to_end_of_list(\n",
    "    mole_id_list, rxn_non_smiles_names_set\n",
    "        )"
   ]
  },
  {
   "cell_type": "code",
   "execution_count": 11,
   "metadata": {},
   "outputs": [
    {
     "data": {
      "text/plain": [
       "['c1ccccc1', 'CC', 'CO', 'O', 'pear', 'apple']"
      ]
     },
     "execution_count": 11,
     "metadata": {},
     "output_type": "execute_result"
    }
   ],
   "source": [
    "reactants"
   ]
  },
  {
   "cell_type": "code",
   "execution_count": null,
   "metadata": {},
   "outputs": [],
   "source": [
    "[CH2:1]([C:4]1[C:13]2[O:12][C:11]([C:14]3[NH:18][N:17]=[N:16][N:15]=3)=[CH:10][C:9](=[O:19])[C:8]=2[C:7]([O:20][CH2:21][CH2:22][CH:23]([CH3:25])[CH3:24])=[CH:6][CH:5]=1)[CH:2]=[CH2:3].[CH2:26]([NH2:28])[CH3:27]>O>[OH2:12].[CH2:14]([NH2:15])[CH3:11].[CH2:1]([C:4]1[C:13]2[O:12][C:11]([C:14]3[NH:15][N:16]=[N:17][N:18]=3)=[CH:10][C:9](=[O:19])[C:8]=2[C:7]([O:20][CH2:21][CH2:22][CH:23]([CH3:25])[CH3:24])=[CH:6][CH:5]=1)[CH:2]=[CH2:3].[OH2:12].[OH2:12].[CH2:1]([C:4]1[C:13]2[O:12][C:11]([C:14]3[NH:15][N:16]=[N:17][N:18]=3)=[CH:10][C:9](=[O:19])[C:8]=2[C:7]([O:20][CH2:21][CH2:22][CH:23]([CH3:25])[CH3:24])=[CH:6][CH:5]=1)[CH:2]=[CH2:3].[CH2:26]([NH2:28])[CH3:27]"
   ]
  },
  {
   "attachments": {},
   "cell_type": "markdown",
   "metadata": {},
   "source": [
    "# read paraquet"
   ]
  },
  {
   "cell_type": "code",
   "execution_count": 10,
   "metadata": {},
   "outputs": [],
   "source": [
    "import pandas as pd\n",
    "path = '/Users/dsw46/Projects_local/ORDerly/data/orderly/uspto_trust/orderly_ord.parquet'\n",
    "df = pd.read_parquet(path)"
   ]
  },
  {
   "cell_type": "code",
   "execution_count": 6,
   "metadata": {},
   "outputs": [
    {
     "data": {
      "text/plain": [
       "'S(Cl)([Cl:3])=O.[OH:5][CH:6]1[CH2:10][NH:9][C@H:8]([C:11]([OH:13])=[O:12])[CH2:7]1.[CH2:14](O)[CH3:15]>>[ClH:3].[CH2:14]([O:12][C:11](=[O:13])[C@@H:8]1[CH2:7][CH:6]([OH:5])[CH2:10][NH:9]1)[CH3:15]'"
      ]
     },
     "execution_count": 6,
     "metadata": {},
     "output_type": "execute_result"
    }
   ],
   "source": [
    "df.iloc[2]['rxn_str']"
   ]
  },
  {
   "cell_type": "code",
   "execution_count": null,
   "metadata": {},
   "outputs": [],
   "source": [
    "S(Cl)([Cl:3])=O.[OH:5][CH:6]1[CH2:10][NH:9][C@H:8]([C:11]([OH:13])=[O:12])[CH2:7]1.[CH2:14](O)[CH3:15]>>[ClH:3].[CH2:14]([O:12][C:11](=[O:13])[C@@H:8]1[CH2:7][CH:6]([OH:5])[CH2:10][NH:9]1)[CH3:15]"
   ]
  },
  {
   "cell_type": "code",
   "execution_count": null,
   "metadata": {},
   "outputs": [],
   "source": []
  },
  {
   "cell_type": "code",
   "execution_count": 13,
   "metadata": {},
   "outputs": [],
   "source": [
    "from rdkit import Chem\n",
    "mol = Chem.MolFromSmiles('Br')\n",
    "\n",
    "# Generate canonical SMILES string\n",
    "canonical_smiles = Chem.MolToSmiles(mol)"
   ]
  },
  {
   "cell_type": "code",
   "execution_count": 14,
   "metadata": {},
   "outputs": [
    {
     "data": {
      "text/plain": [
       "'Br'"
      ]
     },
     "execution_count": 14,
     "metadata": {},
     "output_type": "execute_result"
    }
   ],
   "source": [
    "canonical_smiles"
   ]
  },
  {
   "cell_type": "code",
   "execution_count": 9,
   "metadata": {},
   "outputs": [
    {
     "data": {
      "text/plain": [
       "catalyst_000                                                       None\n",
       "date_of_experiment                                                  NaT\n",
       "grant_date                                          2005-01-01 00:10:00\n",
       "procedure_details     Acetic acid (6 mL) and a 30% hydrobromic acid-...\n",
       "product_000           CC(=O)O[C@@H]1[C@@H](OC(C)=O)[C@H](OC(C)=O)CO[...\n",
       "product_001                                                        None\n",
       "product_002                                                        None\n",
       "product_003                                                        None\n",
       "product_004                                                        None\n",
       "reactant_000                                                      empty\n",
       "reactant_001                                                    CC(=O)O\n",
       "reactant_002                                                    CC(=O)O\n",
       "reactant_003          CC(=O)O[C@@H]1OC[C@@H](OC(C)=O)[C@H](OC(C)=O)[...\n",
       "reactant_004                                                       None\n",
       "rxn_str               C(O)(=O)C.[BrH:5].C(O)(=O)C.C(O[C@@H:14]1[O:31...\n",
       "rxn_time                                                            NaN\n",
       "solvent_000                                                   ClC(Cl)Cl\n",
       "solvent_001                                                        None\n",
       "temperature                                                        25.0\n",
       "yield_000                                                           NaN\n",
       "yield_001                                                           NaN\n",
       "yield_002                                                           NaN\n",
       "yield_003                                                           NaN\n",
       "yield_004                                                           NaN\n",
       "Name: 1184590, dtype: object"
      ]
     },
     "execution_count": 9,
     "metadata": {},
     "output_type": "execute_result"
    }
   ],
   "source": [
    "df.iloc[-1]"
   ]
  },
  {
   "cell_type": "code",
   "execution_count": 11,
   "metadata": {},
   "outputs": [
    {
     "data": {
      "text/plain": [
       "date_of_experiment                                                  NaT\n",
       "grant_date                                          2005-01-01 00:10:00\n",
       "procedure_details     Acetic acid (6 mL) and a 30% hydrobromic acid-...\n",
       "product_000           CC(=O)O[C@@H]1[C@@H](OC(C)=O)[C@H](OC(C)=O)CO[...\n",
       "product_001                                                        None\n",
       "product_002                                                        None\n",
       "product_003                                                        None\n",
       "product_004                                                        None\n",
       "reactant_000                                                         Br\n",
       "reactant_001                                                    CC(=O)O\n",
       "reactant_002                                                    CC(=O)O\n",
       "reactant_003          CC(=O)O[C@@H]1OC[C@@H](OC(C)=O)[C@H](OC(C)=O)[...\n",
       "reactant_004                                                       None\n",
       "rxn_str               C(O)(=O)C.[BrH:5].C(O)(=O)C.C(O[C@@H:14]1[O:31...\n",
       "rxn_time                                                            NaN\n",
       "solvent_000                                                   ClC(Cl)Cl\n",
       "solvent_001                                                        None\n",
       "temperature                                                        25.0\n",
       "yield_000                                                           NaN\n",
       "yield_001                                                           NaN\n",
       "yield_002                                                           NaN\n",
       "yield_003                                                           NaN\n",
       "yield_004                                                           NaN\n",
       "Name: 1078145, dtype: object"
      ]
     },
     "execution_count": 11,
     "metadata": {},
     "output_type": "execute_result"
    }
   ],
   "source": [
    "df.iloc[-1]"
   ]
  },
  {
   "cell_type": "code",
   "execution_count": null,
   "metadata": {},
   "outputs": [],
   "source": [
    "poetry run python -m orderly.clean --output_path=\"data/orderly/uspto_trust/orderly_ord.parquet\" --ord_extraction_path=\"data/orderly/uspto_trust/extracted_ords\" --molecules_to_remove_path=\"data/orderly/uspto_trust/all_molecule_names.csv\" --num_agent=0 --set_unresolved_names_to_none_if_mapped_rxn_str_exists_else_del_rxn=False"
   ]
  },
  {
   "attachments": {},
   "cell_type": "markdown",
   "metadata": {},
   "source": [
    "# Inspect ORD file"
   ]
  },
  {
   "cell_type": "code",
   "execution_count": null,
   "metadata": {},
   "outputs": [],
   "source": [
    "pb = \"data/ord//02/ord_dataset-02ee2261663048188cf6d85d2cc96e3f.pb.gz\"\n",
    "data = message_helpers.load_message(pb, dataset_pb2.Dataset)"
   ]
  },
  {
   "attachments": {},
   "cell_type": "markdown",
   "metadata": {},
   "source": [
    "# Check scramble"
   ]
  },
  {
   "cell_type": "code",
   "execution_count": 4,
   "metadata": {},
   "outputs": [],
   "source": [
    "import pandas as pd"
   ]
  },
  {
   "cell_type": "code",
   "execution_count": 5,
   "metadata": {},
   "outputs": [],
   "source": [
    "true = pd.read_parquet('/Users/dsw46/Library/CloudStorage/OneDrive-UniversityofCambridge/Cambridge/Projects/ORDerly/2-research/check_scramble/orderly_no_trust_no_map_with_scramble.parquet')\n",
    "false = pd.read_parquet('/Users/dsw46/Library/CloudStorage/OneDrive-UniversityofCambridge/Cambridge/Projects/ORDerly/2-research/check_scramble/orderly_no_trust_no_map_no_scramble.parquet')"
   ]
  },
  {
   "cell_type": "code",
   "execution_count": 21,
   "metadata": {},
   "outputs": [
    {
     "data": {
      "text/plain": [
       "date_of_experiment                                                   NaT\n",
       "extracted_from_file         ord_dataset-a0eff6fe4b4143f284f0fc5ac503acad\n",
       "grant_date                                           1976-01-01 00:01:00\n",
       "is_mapped                                                           True\n",
       "procedure_details      A mixture of 9 g of 1-(3-methoxyphenyl)-6-azab...\n",
       "product_000                                    Oc1cccc(C23CCCC(C2)NC3)c1\n",
       "reactant_000                                  COc1cccc(C23CCCC(C2)NC3)c1\n",
       "reactant_001                                                        <NA>\n",
       "rxn_str                C(O)(=O)C(O)=O.C[O:8][C:9]1[CH:10]=[C:11]([C:1...\n",
       "rxn_time                                                             NaN\n",
       "temperature                                                          NaN\n",
       "yield_000                                                            NaN\n",
       "agent_000                                                             Br\n",
       "agent_001                                                   O=C(O)C(=O)O\n",
       "agent_002                                                           <NA>\n",
       "solvent_000                                                         <NA>\n",
       "solvent_001                                                         <NA>\n",
       "Name: 482, dtype: object"
      ]
     },
     "execution_count": 21,
     "metadata": {},
     "output_type": "execute_result"
    }
   ],
   "source": [
    "true.iloc[482]"
   ]
  },
  {
   "cell_type": "code",
   "execution_count": 20,
   "metadata": {},
   "outputs": [
    {
     "data": {
      "text/plain": [
       "agent_000                                                             Br\n",
       "agent_001                                                   O=C(O)C(=O)O\n",
       "agent_002                                                           <NA>\n",
       "date_of_experiment                                                   NaT\n",
       "extracted_from_file         ord_dataset-a0eff6fe4b4143f284f0fc5ac503acad\n",
       "grant_date                                           1976-01-01 00:01:00\n",
       "is_mapped                                                           True\n",
       "procedure_details      A mixture of 9 g of 1-(3-methoxyphenyl)-6-azab...\n",
       "product_000                                    Oc1cccc(C23CCCC(C2)NC3)c1\n",
       "reactant_000                                  COc1cccc(C23CCCC(C2)NC3)c1\n",
       "reactant_001                                                        <NA>\n",
       "rxn_str                C(O)(=O)C(O)=O.C[O:8][C:9]1[CH:10]=[C:11]([C:1...\n",
       "rxn_time                                                             NaN\n",
       "solvent_000                                                         <NA>\n",
       "solvent_001                                                         <NA>\n",
       "temperature                                                          NaN\n",
       "yield_000                                                            NaN\n",
       "Name: 482, dtype: object"
      ]
     },
     "execution_count": 20,
     "metadata": {},
     "output_type": "execute_result"
    }
   ],
   "source": [
    "false.iloc[482]"
   ]
  },
  {
   "cell_type": "code",
   "execution_count": null,
   "metadata": {},
   "outputs": [],
   "source": []
  }
 ],
 "metadata": {
  "kernelspec": {
   "display_name": "chemistry",
   "language": "python",
   "name": "python3"
  },
  "language_info": {
   "codemirror_mode": {
    "name": "ipython",
    "version": 3
   },
   "file_extension": ".py",
   "mimetype": "text/x-python",
   "name": "python",
   "nbconvert_exporter": "python",
   "pygments_lexer": "ipython3",
   "version": "3.10.8"
  },
  "orig_nbformat": 4
 },
 "nbformat": 4,
 "nbformat_minor": 2
}

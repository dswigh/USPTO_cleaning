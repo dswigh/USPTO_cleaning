{
 "cells": [
  {
   "attachments": {},
   "cell_type": "markdown",
   "metadata": {},
   "source": [
    "# Final USPTO No trust\n"
   ]
  },
  {
   "cell_type": "code",
   "execution_count": 5,
   "metadata": {},
   "outputs": [],
   "source": [
    "import pandas as pd\n",
    "filepath = '/Users/dsw46/Projects_local/tiny_orderly/ORDerly/data/orderly/uspto_with_trust/extracted_ords/uspto-grants-1981_03.parquet'\n",
    "uspto_with_trust = pd.read_parquet(filepath)"
   ]
  },
  {
   "cell_type": "code",
   "execution_count": 15,
   "metadata": {},
   "outputs": [
    {
     "data": {
      "text/html": [
       "<div>\n",
       "<style scoped>\n",
       "    .dataframe tbody tr th:only-of-type {\n",
       "        vertical-align: middle;\n",
       "    }\n",
       "\n",
       "    .dataframe tbody tr th {\n",
       "        vertical-align: top;\n",
       "    }\n",
       "\n",
       "    .dataframe thead th {\n",
       "        text-align: right;\n",
       "    }\n",
       "</style>\n",
       "<table border=\"1\" class=\"dataframe\">\n",
       "  <thead>\n",
       "    <tr style=\"text-align: right;\">\n",
       "      <th></th>\n",
       "      <th>catalyst_000</th>\n",
       "      <th>catalyst_001</th>\n",
       "      <th>catalyst_002</th>\n",
       "      <th>catalyst_003</th>\n",
       "      <th>catalyst_004</th>\n",
       "      <th>catalyst_005</th>\n",
       "      <th>catalyst_006</th>\n",
       "      <th>date_of_experiment</th>\n",
       "      <th>extracted_from_file</th>\n",
       "      <th>grant_date</th>\n",
       "      <th>is_mapped</th>\n",
       "      <th>procedure_details</th>\n",
       "      <th>product_000</th>\n",
       "      <th>product_001</th>\n",
       "      <th>product_002</th>\n",
       "      <th>product_003</th>\n",
       "      <th>product_004</th>\n",
       "      <th>product_005</th>\n",
       "      <th>product_006</th>\n",
       "      <th>product_007</th>\n",
       "      <th>product_008</th>\n",
       "      <th>product_009</th>\n",
       "      <th>reactant_000</th>\n",
       "      <th>reactant_001</th>\n",
       "      <th>reactant_002</th>\n",
       "      <th>reactant_003</th>\n",
       "      <th>reactant_004</th>\n",
       "      <th>reactant_005</th>\n",
       "      <th>reactant_006</th>\n",
       "      <th>reactant_007</th>\n",
       "      <th>reactant_008</th>\n",
       "      <th>reactant_009</th>\n",
       "      <th>reactant_010</th>\n",
       "      <th>reactant_011</th>\n",
       "      <th>reactant_012</th>\n",
       "      <th>reactant_013</th>\n",
       "      <th>reactant_014</th>\n",
       "      <th>reactant_015</th>\n",
       "      <th>reactant_016</th>\n",
       "      <th>reactant_017</th>\n",
       "      <th>reactant_018</th>\n",
       "      <th>reactant_019</th>\n",
       "      <th>reactant_020</th>\n",
       "      <th>reactant_021</th>\n",
       "      <th>reactant_022</th>\n",
       "      <th>reactant_023</th>\n",
       "      <th>reactant_024</th>\n",
       "      <th>reactant_025</th>\n",
       "      <th>reactant_026</th>\n",
       "      <th>reactant_027</th>\n",
       "      <th>reactant_028</th>\n",
       "      <th>reactant_029</th>\n",
       "      <th>reactant_030</th>\n",
       "      <th>reactant_031</th>\n",
       "      <th>reactant_032</th>\n",
       "      <th>reactant_033</th>\n",
       "      <th>reactant_034</th>\n",
       "      <th>reactant_035</th>\n",
       "      <th>reactant_036</th>\n",
       "      <th>reactant_037</th>\n",
       "      <th>reactant_038</th>\n",
       "      <th>reactant_039</th>\n",
       "      <th>reactant_040</th>\n",
       "      <th>reactant_041</th>\n",
       "      <th>reactant_042</th>\n",
       "      <th>reactant_043</th>\n",
       "      <th>reactant_044</th>\n",
       "      <th>reactant_045</th>\n",
       "      <th>reactant_046</th>\n",
       "      <th>reactant_047</th>\n",
       "      <th>reactant_048</th>\n",
       "      <th>reactant_049</th>\n",
       "      <th>reactant_050</th>\n",
       "      <th>reactant_051</th>\n",
       "      <th>reactant_052</th>\n",
       "      <th>reactant_053</th>\n",
       "      <th>reactant_054</th>\n",
       "      <th>reactant_055</th>\n",
       "      <th>rxn_str</th>\n",
       "      <th>rxn_time</th>\n",
       "      <th>solvent_000</th>\n",
       "      <th>solvent_001</th>\n",
       "      <th>solvent_002</th>\n",
       "      <th>solvent_003</th>\n",
       "      <th>solvent_004</th>\n",
       "      <th>solvent_005</th>\n",
       "      <th>solvent_006</th>\n",
       "      <th>solvent_007</th>\n",
       "      <th>solvent_008</th>\n",
       "      <th>solvent_009</th>\n",
       "      <th>temperature</th>\n",
       "      <th>yield_000</th>\n",
       "      <th>yield_001</th>\n",
       "      <th>yield_002</th>\n",
       "      <th>yield_003</th>\n",
       "      <th>yield_004</th>\n",
       "      <th>yield_005</th>\n",
       "      <th>yield_006</th>\n",
       "      <th>yield_007</th>\n",
       "      <th>yield_008</th>\n",
       "      <th>yield_009</th>\n",
       "    </tr>\n",
       "  </thead>\n",
       "  <tbody>\n",
       "    <tr>\n",
       "      <th>0</th>\n",
       "      <td>&lt;missing&gt;</td>\n",
       "      <td>&lt;missing&gt;</td>\n",
       "      <td>&lt;missing&gt;</td>\n",
       "      <td>&lt;missing&gt;</td>\n",
       "      <td>&lt;missing&gt;</td>\n",
       "      <td>&lt;missing&gt;</td>\n",
       "      <td>&lt;missing&gt;</td>\n",
       "      <td>NaT</td>\n",
       "      <td>ord_dataset-0c37e633e9814a6e886187796cacf216</td>\n",
       "      <td>1981-01-01 00:03:00</td>\n",
       "      <td>True</td>\n",
       "      <td>A solution of 6-ethylenedioxy-5α-cholestan-3β-...</td>\n",
       "      <td>CC(C)CCC[C@@H](C)[C@H]1CC[C@H]2[C@@H]3CC4(OCCO...</td>\n",
       "      <td>eluant</td>\n",
       "      <td>&lt;missing&gt;</td>\n",
       "      <td>&lt;missing&gt;</td>\n",
       "      <td>&lt;missing&gt;</td>\n",
       "      <td>&lt;missing&gt;</td>\n",
       "      <td>&lt;missing&gt;</td>\n",
       "      <td>&lt;missing&gt;</td>\n",
       "      <td>&lt;missing&gt;</td>\n",
       "      <td>&lt;missing&gt;</td>\n",
       "      <td>CC(C)CCC[C@@H](C)[C@H]1CC[C@H]2[C@@H]3CC4OCCO[...</td>\n",
       "      <td>CCOC(C)=O</td>\n",
       "      <td>O=[Cr](=O)=O</td>\n",
       "      <td>O</td>\n",
       "      <td>&lt;missing&gt;</td>\n",
       "      <td>&lt;missing&gt;</td>\n",
       "      <td>&lt;missing&gt;</td>\n",
       "      <td>&lt;missing&gt;</td>\n",
       "      <td>&lt;missing&gt;</td>\n",
       "      <td>&lt;missing&gt;</td>\n",
       "      <td>&lt;missing&gt;</td>\n",
       "      <td>&lt;missing&gt;</td>\n",
       "      <td>&lt;missing&gt;</td>\n",
       "      <td>&lt;missing&gt;</td>\n",
       "      <td>&lt;missing&gt;</td>\n",
       "      <td>&lt;missing&gt;</td>\n",
       "      <td>&lt;missing&gt;</td>\n",
       "      <td>&lt;missing&gt;</td>\n",
       "      <td>&lt;missing&gt;</td>\n",
       "      <td>&lt;missing&gt;</td>\n",
       "      <td>&lt;missing&gt;</td>\n",
       "      <td>&lt;missing&gt;</td>\n",
       "      <td>&lt;missing&gt;</td>\n",
       "      <td>&lt;missing&gt;</td>\n",
       "      <td>&lt;missing&gt;</td>\n",
       "      <td>&lt;missing&gt;</td>\n",
       "      <td>&lt;missing&gt;</td>\n",
       "      <td>&lt;missing&gt;</td>\n",
       "      <td>&lt;missing&gt;</td>\n",
       "      <td>&lt;missing&gt;</td>\n",
       "      <td>&lt;missing&gt;</td>\n",
       "      <td>&lt;missing&gt;</td>\n",
       "      <td>&lt;missing&gt;</td>\n",
       "      <td>&lt;missing&gt;</td>\n",
       "      <td>&lt;missing&gt;</td>\n",
       "      <td>&lt;missing&gt;</td>\n",
       "      <td>&lt;missing&gt;</td>\n",
       "      <td>&lt;missing&gt;</td>\n",
       "      <td>&lt;missing&gt;</td>\n",
       "      <td>&lt;missing&gt;</td>\n",
       "      <td>&lt;missing&gt;</td>\n",
       "      <td>&lt;missing&gt;</td>\n",
       "      <td>&lt;missing&gt;</td>\n",
       "      <td>&lt;missing&gt;</td>\n",
       "      <td>&lt;missing&gt;</td>\n",
       "      <td>&lt;missing&gt;</td>\n",
       "      <td>&lt;missing&gt;</td>\n",
       "      <td>&lt;missing&gt;</td>\n",
       "      <td>&lt;missing&gt;</td>\n",
       "      <td>&lt;missing&gt;</td>\n",
       "      <td>&lt;missing&gt;</td>\n",
       "      <td>&lt;missing&gt;</td>\n",
       "      <td>&lt;missing&gt;</td>\n",
       "      <td>&lt;missing&gt;</td>\n",
       "      <td>&lt;missing&gt;</td>\n",
       "      <td>&lt;missing&gt;</td>\n",
       "      <td>[CH2:1]1[CH2:29][O:28][C@@:27]23[C@:22]([CH3:3...</td>\n",
       "      <td>10.00</td>\n",
       "      <td>c1ccncc1</td>\n",
       "      <td>c1ccncc1</td>\n",
       "      <td>&lt;missing&gt;</td>\n",
       "      <td>&lt;missing&gt;</td>\n",
       "      <td>&lt;missing&gt;</td>\n",
       "      <td>&lt;missing&gt;</td>\n",
       "      <td>&lt;missing&gt;</td>\n",
       "      <td>&lt;missing&gt;</td>\n",
       "      <td>&lt;missing&gt;</td>\n",
       "      <td>&lt;missing&gt;</td>\n",
       "      <td>0.0</td>\n",
       "      <td>98.0</td>\n",
       "      <td>NaN</td>\n",
       "      <td>NaN</td>\n",
       "      <td>NaN</td>\n",
       "      <td>NaN</td>\n",
       "      <td>NaN</td>\n",
       "      <td>NaN</td>\n",
       "      <td>NaN</td>\n",
       "      <td>NaN</td>\n",
       "      <td>NaN</td>\n",
       "    </tr>\n",
       "    <tr>\n",
       "      <th>1</th>\n",
       "      <td>&lt;missing&gt;</td>\n",
       "      <td>&lt;missing&gt;</td>\n",
       "      <td>&lt;missing&gt;</td>\n",
       "      <td>&lt;missing&gt;</td>\n",
       "      <td>&lt;missing&gt;</td>\n",
       "      <td>&lt;missing&gt;</td>\n",
       "      <td>&lt;missing&gt;</td>\n",
       "      <td>NaT</td>\n",
       "      <td>ord_dataset-0c37e633e9814a6e886187796cacf216</td>\n",
       "      <td>1981-01-01 00:03:00</td>\n",
       "      <td>True</td>\n",
       "      <td>A solution of 600 mg of 1α-hydroxycholesterol ...</td>\n",
       "      <td>CC(=O)O[C@H]1C[C@H](O)CC2=CC[C@H]3[C@@H]4CC[C@...</td>\n",
       "      <td>&lt;missing&gt;</td>\n",
       "      <td>&lt;missing&gt;</td>\n",
       "      <td>&lt;missing&gt;</td>\n",
       "      <td>&lt;missing&gt;</td>\n",
       "      <td>&lt;missing&gt;</td>\n",
       "      <td>&lt;missing&gt;</td>\n",
       "      <td>&lt;missing&gt;</td>\n",
       "      <td>&lt;missing&gt;</td>\n",
       "      <td>&lt;missing&gt;</td>\n",
       "      <td>CC(=O)O</td>\n",
       "      <td>CC(=O)O</td>\n",
       "      <td>CC(=O)O</td>\n",
       "      <td>CC(C)CCC[C@@H](C)[C@H]1CC[C@H]2[C@@H]3CC=C4C[C...</td>\n",
       "      <td>O</td>\n",
       "      <td>[K+]</td>\n",
       "      <td>[OH-]</td>\n",
       "      <td>&lt;missing&gt;</td>\n",
       "      <td>&lt;missing&gt;</td>\n",
       "      <td>&lt;missing&gt;</td>\n",
       "      <td>&lt;missing&gt;</td>\n",
       "      <td>&lt;missing&gt;</td>\n",
       "      <td>&lt;missing&gt;</td>\n",
       "      <td>&lt;missing&gt;</td>\n",
       "      <td>&lt;missing&gt;</td>\n",
       "      <td>&lt;missing&gt;</td>\n",
       "      <td>&lt;missing&gt;</td>\n",
       "      <td>&lt;missing&gt;</td>\n",
       "      <td>&lt;missing&gt;</td>\n",
       "      <td>&lt;missing&gt;</td>\n",
       "      <td>&lt;missing&gt;</td>\n",
       "      <td>&lt;missing&gt;</td>\n",
       "      <td>&lt;missing&gt;</td>\n",
       "      <td>&lt;missing&gt;</td>\n",
       "      <td>&lt;missing&gt;</td>\n",
       "      <td>&lt;missing&gt;</td>\n",
       "      <td>&lt;missing&gt;</td>\n",
       "      <td>&lt;missing&gt;</td>\n",
       "      <td>&lt;missing&gt;</td>\n",
       "      <td>&lt;missing&gt;</td>\n",
       "      <td>&lt;missing&gt;</td>\n",
       "      <td>&lt;missing&gt;</td>\n",
       "      <td>&lt;missing&gt;</td>\n",
       "      <td>&lt;missing&gt;</td>\n",
       "      <td>&lt;missing&gt;</td>\n",
       "      <td>&lt;missing&gt;</td>\n",
       "      <td>&lt;missing&gt;</td>\n",
       "      <td>&lt;missing&gt;</td>\n",
       "      <td>&lt;missing&gt;</td>\n",
       "      <td>&lt;missing&gt;</td>\n",
       "      <td>&lt;missing&gt;</td>\n",
       "      <td>&lt;missing&gt;</td>\n",
       "      <td>&lt;missing&gt;</td>\n",
       "      <td>&lt;missing&gt;</td>\n",
       "      <td>&lt;missing&gt;</td>\n",
       "      <td>&lt;missing&gt;</td>\n",
       "      <td>&lt;missing&gt;</td>\n",
       "      <td>&lt;missing&gt;</td>\n",
       "      <td>&lt;missing&gt;</td>\n",
       "      <td>&lt;missing&gt;</td>\n",
       "      <td>&lt;missing&gt;</td>\n",
       "      <td>&lt;missing&gt;</td>\n",
       "      <td>&lt;missing&gt;</td>\n",
       "      <td>&lt;missing&gt;</td>\n",
       "      <td>&lt;missing&gt;</td>\n",
       "      <td>&lt;missing&gt;</td>\n",
       "      <td>[C:1]([OH:4])(=[O:3])[CH3:2].C(O)(=O)C.O[C@@H:...</td>\n",
       "      <td>NaN</td>\n",
       "      <td>CCOCC</td>\n",
       "      <td>CO</td>\n",
       "      <td>&lt;missing&gt;</td>\n",
       "      <td>&lt;missing&gt;</td>\n",
       "      <td>&lt;missing&gt;</td>\n",
       "      <td>&lt;missing&gt;</td>\n",
       "      <td>&lt;missing&gt;</td>\n",
       "      <td>&lt;missing&gt;</td>\n",
       "      <td>&lt;missing&gt;</td>\n",
       "      <td>&lt;missing&gt;</td>\n",
       "      <td>NaN</td>\n",
       "      <td>107.8</td>\n",
       "      <td>NaN</td>\n",
       "      <td>NaN</td>\n",
       "      <td>NaN</td>\n",
       "      <td>NaN</td>\n",
       "      <td>NaN</td>\n",
       "      <td>NaN</td>\n",
       "      <td>NaN</td>\n",
       "      <td>NaN</td>\n",
       "      <td>NaN</td>\n",
       "    </tr>\n",
       "    <tr>\n",
       "      <th>2</th>\n",
       "      <td>&lt;missing&gt;</td>\n",
       "      <td>&lt;missing&gt;</td>\n",
       "      <td>&lt;missing&gt;</td>\n",
       "      <td>&lt;missing&gt;</td>\n",
       "      <td>&lt;missing&gt;</td>\n",
       "      <td>&lt;missing&gt;</td>\n",
       "      <td>&lt;missing&gt;</td>\n",
       "      <td>NaT</td>\n",
       "      <td>ord_dataset-0c37e633e9814a6e886187796cacf216</td>\n",
       "      <td>1981-01-01 00:03:00</td>\n",
       "      <td>True</td>\n",
       "      <td>A solution of 0.900 mg of the tosylate 18 in 5...</td>\n",
       "      <td>CC(C)CCC[C@@H](C)[C@H]1CC[C@H]2[C@@H]3CC=C4CCC...</td>\n",
       "      <td>&lt;missing&gt;</td>\n",
       "      <td>&lt;missing&gt;</td>\n",
       "      <td>&lt;missing&gt;</td>\n",
       "      <td>&lt;missing&gt;</td>\n",
       "      <td>&lt;missing&gt;</td>\n",
       "      <td>&lt;missing&gt;</td>\n",
       "      <td>&lt;missing&gt;</td>\n",
       "      <td>&lt;missing&gt;</td>\n",
       "      <td>&lt;missing&gt;</td>\n",
       "      <td>CC(=O)O[C@H]1C[C@H](OS(=O)(=O)c2ccc(C)cc2)CC2=...</td>\n",
       "      <td>O</td>\n",
       "      <td>[Na+]</td>\n",
       "      <td>[OH-]</td>\n",
       "      <td>&lt;missing&gt;</td>\n",
       "      <td>&lt;missing&gt;</td>\n",
       "      <td>&lt;missing&gt;</td>\n",
       "      <td>&lt;missing&gt;</td>\n",
       "      <td>&lt;missing&gt;</td>\n",
       "      <td>&lt;missing&gt;</td>\n",
       "      <td>&lt;missing&gt;</td>\n",
       "      <td>&lt;missing&gt;</td>\n",
       "      <td>&lt;missing&gt;</td>\n",
       "      <td>&lt;missing&gt;</td>\n",
       "      <td>&lt;missing&gt;</td>\n",
       "      <td>&lt;missing&gt;</td>\n",
       "      <td>&lt;missing&gt;</td>\n",
       "      <td>&lt;missing&gt;</td>\n",
       "      <td>&lt;missing&gt;</td>\n",
       "      <td>&lt;missing&gt;</td>\n",
       "      <td>&lt;missing&gt;</td>\n",
       "      <td>&lt;missing&gt;</td>\n",
       "      <td>&lt;missing&gt;</td>\n",
       "      <td>&lt;missing&gt;</td>\n",
       "      <td>&lt;missing&gt;</td>\n",
       "      <td>&lt;missing&gt;</td>\n",
       "      <td>&lt;missing&gt;</td>\n",
       "      <td>&lt;missing&gt;</td>\n",
       "      <td>&lt;missing&gt;</td>\n",
       "      <td>&lt;missing&gt;</td>\n",
       "      <td>&lt;missing&gt;</td>\n",
       "      <td>&lt;missing&gt;</td>\n",
       "      <td>&lt;missing&gt;</td>\n",
       "      <td>&lt;missing&gt;</td>\n",
       "      <td>&lt;missing&gt;</td>\n",
       "      <td>&lt;missing&gt;</td>\n",
       "      <td>&lt;missing&gt;</td>\n",
       "      <td>&lt;missing&gt;</td>\n",
       "      <td>&lt;missing&gt;</td>\n",
       "      <td>&lt;missing&gt;</td>\n",
       "      <td>&lt;missing&gt;</td>\n",
       "      <td>&lt;missing&gt;</td>\n",
       "      <td>&lt;missing&gt;</td>\n",
       "      <td>&lt;missing&gt;</td>\n",
       "      <td>&lt;missing&gt;</td>\n",
       "      <td>&lt;missing&gt;</td>\n",
       "      <td>&lt;missing&gt;</td>\n",
       "      <td>&lt;missing&gt;</td>\n",
       "      <td>&lt;missing&gt;</td>\n",
       "      <td>&lt;missing&gt;</td>\n",
       "      <td>&lt;missing&gt;</td>\n",
       "      <td>&lt;missing&gt;</td>\n",
       "      <td>&lt;missing&gt;</td>\n",
       "      <td>&lt;missing&gt;</td>\n",
       "      <td>&lt;missing&gt;</td>\n",
       "      <td>&lt;missing&gt;</td>\n",
       "      <td>S(O[C@H:12]1[CH2:36][C@H:35]([O:37]C(=O)C)[C@@...</td>\n",
       "      <td>NaN</td>\n",
       "      <td>c1ccccc1</td>\n",
       "      <td>&lt;missing&gt;</td>\n",
       "      <td>&lt;missing&gt;</td>\n",
       "      <td>&lt;missing&gt;</td>\n",
       "      <td>&lt;missing&gt;</td>\n",
       "      <td>&lt;missing&gt;</td>\n",
       "      <td>&lt;missing&gt;</td>\n",
       "      <td>&lt;missing&gt;</td>\n",
       "      <td>&lt;missing&gt;</td>\n",
       "      <td>&lt;missing&gt;</td>\n",
       "      <td>NaN</td>\n",
       "      <td>NaN</td>\n",
       "      <td>NaN</td>\n",
       "      <td>NaN</td>\n",
       "      <td>NaN</td>\n",
       "      <td>NaN</td>\n",
       "      <td>NaN</td>\n",
       "      <td>NaN</td>\n",
       "      <td>NaN</td>\n",
       "      <td>NaN</td>\n",
       "      <td>NaN</td>\n",
       "    </tr>\n",
       "    <tr>\n",
       "      <th>3</th>\n",
       "      <td>&lt;missing&gt;</td>\n",
       "      <td>&lt;missing&gt;</td>\n",
       "      <td>&lt;missing&gt;</td>\n",
       "      <td>&lt;missing&gt;</td>\n",
       "      <td>&lt;missing&gt;</td>\n",
       "      <td>&lt;missing&gt;</td>\n",
       "      <td>&lt;missing&gt;</td>\n",
       "      <td>NaT</td>\n",
       "      <td>ord_dataset-0c37e633e9814a6e886187796cacf216</td>\n",
       "      <td>1981-01-01 00:03:00</td>\n",
       "      <td>True</td>\n",
       "      <td>10 parts n-octylsuccinic anhydride and 12 part...</td>\n",
       "      <td>CCCCCCCCC(CC1=NC(CO)(CO)CO1)C1=NC(CO)(CO)CO1</td>\n",
       "      <td>&lt;missing&gt;</td>\n",
       "      <td>&lt;missing&gt;</td>\n",
       "      <td>&lt;missing&gt;</td>\n",
       "      <td>&lt;missing&gt;</td>\n",
       "      <td>&lt;missing&gt;</td>\n",
       "      <td>&lt;missing&gt;</td>\n",
       "      <td>&lt;missing&gt;</td>\n",
       "      <td>&lt;missing&gt;</td>\n",
       "      <td>&lt;missing&gt;</td>\n",
       "      <td>CCCCCCCCC1CC(=O)OC1=O</td>\n",
       "      <td>N#N</td>\n",
       "      <td>NC(CO)(CO)CO</td>\n",
       "      <td>&lt;missing&gt;</td>\n",
       "      <td>&lt;missing&gt;</td>\n",
       "      <td>&lt;missing&gt;</td>\n",
       "      <td>&lt;missing&gt;</td>\n",
       "      <td>&lt;missing&gt;</td>\n",
       "      <td>&lt;missing&gt;</td>\n",
       "      <td>&lt;missing&gt;</td>\n",
       "      <td>&lt;missing&gt;</td>\n",
       "      <td>&lt;missing&gt;</td>\n",
       "      <td>&lt;missing&gt;</td>\n",
       "      <td>&lt;missing&gt;</td>\n",
       "      <td>&lt;missing&gt;</td>\n",
       "      <td>&lt;missing&gt;</td>\n",
       "      <td>&lt;missing&gt;</td>\n",
       "      <td>&lt;missing&gt;</td>\n",
       "      <td>&lt;missing&gt;</td>\n",
       "      <td>&lt;missing&gt;</td>\n",
       "      <td>&lt;missing&gt;</td>\n",
       "      <td>&lt;missing&gt;</td>\n",
       "      <td>&lt;missing&gt;</td>\n",
       "      <td>&lt;missing&gt;</td>\n",
       "      <td>&lt;missing&gt;</td>\n",
       "      <td>&lt;missing&gt;</td>\n",
       "      <td>&lt;missing&gt;</td>\n",
       "      <td>&lt;missing&gt;</td>\n",
       "      <td>&lt;missing&gt;</td>\n",
       "      <td>&lt;missing&gt;</td>\n",
       "      <td>&lt;missing&gt;</td>\n",
       "      <td>&lt;missing&gt;</td>\n",
       "      <td>&lt;missing&gt;</td>\n",
       "      <td>&lt;missing&gt;</td>\n",
       "      <td>&lt;missing&gt;</td>\n",
       "      <td>&lt;missing&gt;</td>\n",
       "      <td>&lt;missing&gt;</td>\n",
       "      <td>&lt;missing&gt;</td>\n",
       "      <td>&lt;missing&gt;</td>\n",
       "      <td>&lt;missing&gt;</td>\n",
       "      <td>&lt;missing&gt;</td>\n",
       "      <td>&lt;missing&gt;</td>\n",
       "      <td>&lt;missing&gt;</td>\n",
       "      <td>&lt;missing&gt;</td>\n",
       "      <td>&lt;missing&gt;</td>\n",
       "      <td>&lt;missing&gt;</td>\n",
       "      <td>&lt;missing&gt;</td>\n",
       "      <td>&lt;missing&gt;</td>\n",
       "      <td>&lt;missing&gt;</td>\n",
       "      <td>&lt;missing&gt;</td>\n",
       "      <td>&lt;missing&gt;</td>\n",
       "      <td>&lt;missing&gt;</td>\n",
       "      <td>&lt;missing&gt;</td>\n",
       "      <td>&lt;missing&gt;</td>\n",
       "      <td>&lt;missing&gt;</td>\n",
       "      <td>&lt;missing&gt;</td>\n",
       "      <td>[CH2:1]([CH:9]1[CH2:14][C:13](=[O:15])[O:12][C...</td>\n",
       "      <td>NaN</td>\n",
       "      <td>&lt;missing&gt;</td>\n",
       "      <td>&lt;missing&gt;</td>\n",
       "      <td>&lt;missing&gt;</td>\n",
       "      <td>&lt;missing&gt;</td>\n",
       "      <td>&lt;missing&gt;</td>\n",
       "      <td>&lt;missing&gt;</td>\n",
       "      <td>&lt;missing&gt;</td>\n",
       "      <td>&lt;missing&gt;</td>\n",
       "      <td>&lt;missing&gt;</td>\n",
       "      <td>&lt;missing&gt;</td>\n",
       "      <td>NaN</td>\n",
       "      <td>100.0</td>\n",
       "      <td>NaN</td>\n",
       "      <td>NaN</td>\n",
       "      <td>NaN</td>\n",
       "      <td>NaN</td>\n",
       "      <td>NaN</td>\n",
       "      <td>NaN</td>\n",
       "      <td>NaN</td>\n",
       "      <td>NaN</td>\n",
       "      <td>NaN</td>\n",
       "    </tr>\n",
       "    <tr>\n",
       "      <th>4</th>\n",
       "      <td>&lt;missing&gt;</td>\n",
       "      <td>&lt;missing&gt;</td>\n",
       "      <td>&lt;missing&gt;</td>\n",
       "      <td>&lt;missing&gt;</td>\n",
       "      <td>&lt;missing&gt;</td>\n",
       "      <td>&lt;missing&gt;</td>\n",
       "      <td>&lt;missing&gt;</td>\n",
       "      <td>NaT</td>\n",
       "      <td>ord_dataset-0c37e633e9814a6e886187796cacf216</td>\n",
       "      <td>1981-01-01 00:03:00</td>\n",
       "      <td>True</td>\n",
       "      <td>2,3-epoxypropyl 3-(phenylthio)propionate was p...</td>\n",
       "      <td>O=C(CCSc1ccccc1)OCC1CO1</td>\n",
       "      <td>viscous liquid</td>\n",
       "      <td>&lt;missing&gt;</td>\n",
       "      <td>&lt;missing&gt;</td>\n",
       "      <td>&lt;missing&gt;</td>\n",
       "      <td>&lt;missing&gt;</td>\n",
       "      <td>&lt;missing&gt;</td>\n",
       "      <td>&lt;missing&gt;</td>\n",
       "      <td>&lt;missing&gt;</td>\n",
       "      <td>&lt;missing&gt;</td>\n",
       "      <td>C=CC(=O)OCC1CO1</td>\n",
       "      <td>CCC(S)S</td>\n",
       "      <td>Cl</td>\n",
       "      <td>Sc1ccccc1</td>\n",
       "      <td>[K+]</td>\n",
       "      <td>[K+]</td>\n",
       "      <td>[OH-]</td>\n",
       "      <td>[OH-]</td>\n",
       "      <td>&lt;missing&gt;</td>\n",
       "      <td>&lt;missing&gt;</td>\n",
       "      <td>&lt;missing&gt;</td>\n",
       "      <td>&lt;missing&gt;</td>\n",
       "      <td>&lt;missing&gt;</td>\n",
       "      <td>&lt;missing&gt;</td>\n",
       "      <td>&lt;missing&gt;</td>\n",
       "      <td>&lt;missing&gt;</td>\n",
       "      <td>&lt;missing&gt;</td>\n",
       "      <td>&lt;missing&gt;</td>\n",
       "      <td>&lt;missing&gt;</td>\n",
       "      <td>&lt;missing&gt;</td>\n",
       "      <td>&lt;missing&gt;</td>\n",
       "      <td>&lt;missing&gt;</td>\n",
       "      <td>&lt;missing&gt;</td>\n",
       "      <td>&lt;missing&gt;</td>\n",
       "      <td>&lt;missing&gt;</td>\n",
       "      <td>&lt;missing&gt;</td>\n",
       "      <td>&lt;missing&gt;</td>\n",
       "      <td>&lt;missing&gt;</td>\n",
       "      <td>&lt;missing&gt;</td>\n",
       "      <td>&lt;missing&gt;</td>\n",
       "      <td>&lt;missing&gt;</td>\n",
       "      <td>&lt;missing&gt;</td>\n",
       "      <td>&lt;missing&gt;</td>\n",
       "      <td>&lt;missing&gt;</td>\n",
       "      <td>&lt;missing&gt;</td>\n",
       "      <td>&lt;missing&gt;</td>\n",
       "      <td>&lt;missing&gt;</td>\n",
       "      <td>&lt;missing&gt;</td>\n",
       "      <td>&lt;missing&gt;</td>\n",
       "      <td>&lt;missing&gt;</td>\n",
       "      <td>&lt;missing&gt;</td>\n",
       "      <td>&lt;missing&gt;</td>\n",
       "      <td>&lt;missing&gt;</td>\n",
       "      <td>&lt;missing&gt;</td>\n",
       "      <td>&lt;missing&gt;</td>\n",
       "      <td>&lt;missing&gt;</td>\n",
       "      <td>&lt;missing&gt;</td>\n",
       "      <td>&lt;missing&gt;</td>\n",
       "      <td>&lt;missing&gt;</td>\n",
       "      <td>&lt;missing&gt;</td>\n",
       "      <td>&lt;missing&gt;</td>\n",
       "      <td>&lt;missing&gt;</td>\n",
       "      <td>&lt;missing&gt;</td>\n",
       "      <td>&lt;missing&gt;</td>\n",
       "      <td>&lt;missing&gt;</td>\n",
       "      <td>&lt;missing&gt;</td>\n",
       "      <td>[C:1]1([SH:7])[CH:6]=[CH:5][CH:4]=[CH:3][CH:2]...</td>\n",
       "      <td>0.08</td>\n",
       "      <td>CC(C)O</td>\n",
       "      <td>O</td>\n",
       "      <td>&lt;missing&gt;</td>\n",
       "      <td>&lt;missing&gt;</td>\n",
       "      <td>&lt;missing&gt;</td>\n",
       "      <td>&lt;missing&gt;</td>\n",
       "      <td>&lt;missing&gt;</td>\n",
       "      <td>&lt;missing&gt;</td>\n",
       "      <td>&lt;missing&gt;</td>\n",
       "      <td>&lt;missing&gt;</td>\n",
       "      <td>25.0</td>\n",
       "      <td>NaN</td>\n",
       "      <td>91.1</td>\n",
       "      <td>NaN</td>\n",
       "      <td>NaN</td>\n",
       "      <td>NaN</td>\n",
       "      <td>NaN</td>\n",
       "      <td>NaN</td>\n",
       "      <td>NaN</td>\n",
       "      <td>NaN</td>\n",
       "      <td>NaN</td>\n",
       "    </tr>\n",
       "  </tbody>\n",
       "</table>\n",
       "</div>"
      ],
      "text/plain": [
       "  catalyst_000 catalyst_001 catalyst_002 catalyst_003 catalyst_004   \n",
       "0    <missing>    <missing>    <missing>    <missing>    <missing>  \\\n",
       "1    <missing>    <missing>    <missing>    <missing>    <missing>   \n",
       "2    <missing>    <missing>    <missing>    <missing>    <missing>   \n",
       "3    <missing>    <missing>    <missing>    <missing>    <missing>   \n",
       "4    <missing>    <missing>    <missing>    <missing>    <missing>   \n",
       "\n",
       "  catalyst_005 catalyst_006 date_of_experiment   \n",
       "0    <missing>    <missing>                NaT  \\\n",
       "1    <missing>    <missing>                NaT   \n",
       "2    <missing>    <missing>                NaT   \n",
       "3    <missing>    <missing>                NaT   \n",
       "4    <missing>    <missing>                NaT   \n",
       "\n",
       "                            extracted_from_file          grant_date   \n",
       "0  ord_dataset-0c37e633e9814a6e886187796cacf216 1981-01-01 00:03:00  \\\n",
       "1  ord_dataset-0c37e633e9814a6e886187796cacf216 1981-01-01 00:03:00   \n",
       "2  ord_dataset-0c37e633e9814a6e886187796cacf216 1981-01-01 00:03:00   \n",
       "3  ord_dataset-0c37e633e9814a6e886187796cacf216 1981-01-01 00:03:00   \n",
       "4  ord_dataset-0c37e633e9814a6e886187796cacf216 1981-01-01 00:03:00   \n",
       "\n",
       "   is_mapped                                  procedure_details   \n",
       "0       True  A solution of 6-ethylenedioxy-5α-cholestan-3β-...  \\\n",
       "1       True  A solution of 600 mg of 1α-hydroxycholesterol ...   \n",
       "2       True  A solution of 0.900 mg of the tosylate 18 in 5...   \n",
       "3       True  10 parts n-octylsuccinic anhydride and 12 part...   \n",
       "4       True  2,3-epoxypropyl 3-(phenylthio)propionate was p...   \n",
       "\n",
       "                                         product_000     product_001   \n",
       "0  CC(C)CCC[C@@H](C)[C@H]1CC[C@H]2[C@@H]3CC4(OCCO...          eluant  \\\n",
       "1  CC(=O)O[C@H]1C[C@H](O)CC2=CC[C@H]3[C@@H]4CC[C@...       <missing>   \n",
       "2  CC(C)CCC[C@@H](C)[C@H]1CC[C@H]2[C@@H]3CC=C4CCC...       <missing>   \n",
       "3       CCCCCCCCC(CC1=NC(CO)(CO)CO1)C1=NC(CO)(CO)CO1       <missing>   \n",
       "4                            O=C(CCSc1ccccc1)OCC1CO1  viscous liquid   \n",
       "\n",
       "  product_002 product_003 product_004 product_005 product_006 product_007   \n",
       "0   <missing>   <missing>   <missing>   <missing>   <missing>   <missing>  \\\n",
       "1   <missing>   <missing>   <missing>   <missing>   <missing>   <missing>   \n",
       "2   <missing>   <missing>   <missing>   <missing>   <missing>   <missing>   \n",
       "3   <missing>   <missing>   <missing>   <missing>   <missing>   <missing>   \n",
       "4   <missing>   <missing>   <missing>   <missing>   <missing>   <missing>   \n",
       "\n",
       "  product_008 product_009                                       reactant_000   \n",
       "0   <missing>   <missing>  CC(C)CCC[C@@H](C)[C@H]1CC[C@H]2[C@@H]3CC4OCCO[...  \\\n",
       "1   <missing>   <missing>                                            CC(=O)O   \n",
       "2   <missing>   <missing>  CC(=O)O[C@H]1C[C@H](OS(=O)(=O)c2ccc(C)cc2)CC2=...   \n",
       "3   <missing>   <missing>                              CCCCCCCCC1CC(=O)OC1=O   \n",
       "4   <missing>   <missing>                                    C=CC(=O)OCC1CO1   \n",
       "\n",
       "  reactant_001  reactant_002   \n",
       "0    CCOC(C)=O  O=[Cr](=O)=O  \\\n",
       "1      CC(=O)O       CC(=O)O   \n",
       "2            O         [Na+]   \n",
       "3          N#N  NC(CO)(CO)CO   \n",
       "4      CCC(S)S            Cl   \n",
       "\n",
       "                                        reactant_003 reactant_004   \n",
       "0                                                  O    <missing>  \\\n",
       "1  CC(C)CCC[C@@H](C)[C@H]1CC[C@H]2[C@@H]3CC=C4C[C...            O   \n",
       "2                                              [OH-]    <missing>   \n",
       "3                                          <missing>    <missing>   \n",
       "4                                          Sc1ccccc1         [K+]   \n",
       "\n",
       "  reactant_005 reactant_006 reactant_007 reactant_008 reactant_009   \n",
       "0    <missing>    <missing>    <missing>    <missing>    <missing>  \\\n",
       "1         [K+]        [OH-]    <missing>    <missing>    <missing>   \n",
       "2    <missing>    <missing>    <missing>    <missing>    <missing>   \n",
       "3    <missing>    <missing>    <missing>    <missing>    <missing>   \n",
       "4         [K+]        [OH-]        [OH-]    <missing>    <missing>   \n",
       "\n",
       "  reactant_010 reactant_011 reactant_012 reactant_013 reactant_014   \n",
       "0    <missing>    <missing>    <missing>    <missing>    <missing>  \\\n",
       "1    <missing>    <missing>    <missing>    <missing>    <missing>   \n",
       "2    <missing>    <missing>    <missing>    <missing>    <missing>   \n",
       "3    <missing>    <missing>    <missing>    <missing>    <missing>   \n",
       "4    <missing>    <missing>    <missing>    <missing>    <missing>   \n",
       "\n",
       "  reactant_015 reactant_016 reactant_017 reactant_018 reactant_019   \n",
       "0    <missing>    <missing>    <missing>    <missing>    <missing>  \\\n",
       "1    <missing>    <missing>    <missing>    <missing>    <missing>   \n",
       "2    <missing>    <missing>    <missing>    <missing>    <missing>   \n",
       "3    <missing>    <missing>    <missing>    <missing>    <missing>   \n",
       "4    <missing>    <missing>    <missing>    <missing>    <missing>   \n",
       "\n",
       "  reactant_020 reactant_021 reactant_022 reactant_023 reactant_024   \n",
       "0    <missing>    <missing>    <missing>    <missing>    <missing>  \\\n",
       "1    <missing>    <missing>    <missing>    <missing>    <missing>   \n",
       "2    <missing>    <missing>    <missing>    <missing>    <missing>   \n",
       "3    <missing>    <missing>    <missing>    <missing>    <missing>   \n",
       "4    <missing>    <missing>    <missing>    <missing>    <missing>   \n",
       "\n",
       "  reactant_025 reactant_026 reactant_027 reactant_028 reactant_029   \n",
       "0    <missing>    <missing>    <missing>    <missing>    <missing>  \\\n",
       "1    <missing>    <missing>    <missing>    <missing>    <missing>   \n",
       "2    <missing>    <missing>    <missing>    <missing>    <missing>   \n",
       "3    <missing>    <missing>    <missing>    <missing>    <missing>   \n",
       "4    <missing>    <missing>    <missing>    <missing>    <missing>   \n",
       "\n",
       "  reactant_030 reactant_031 reactant_032 reactant_033 reactant_034   \n",
       "0    <missing>    <missing>    <missing>    <missing>    <missing>  \\\n",
       "1    <missing>    <missing>    <missing>    <missing>    <missing>   \n",
       "2    <missing>    <missing>    <missing>    <missing>    <missing>   \n",
       "3    <missing>    <missing>    <missing>    <missing>    <missing>   \n",
       "4    <missing>    <missing>    <missing>    <missing>    <missing>   \n",
       "\n",
       "  reactant_035 reactant_036 reactant_037 reactant_038 reactant_039   \n",
       "0    <missing>    <missing>    <missing>    <missing>    <missing>  \\\n",
       "1    <missing>    <missing>    <missing>    <missing>    <missing>   \n",
       "2    <missing>    <missing>    <missing>    <missing>    <missing>   \n",
       "3    <missing>    <missing>    <missing>    <missing>    <missing>   \n",
       "4    <missing>    <missing>    <missing>    <missing>    <missing>   \n",
       "\n",
       "  reactant_040 reactant_041 reactant_042 reactant_043 reactant_044   \n",
       "0    <missing>    <missing>    <missing>    <missing>    <missing>  \\\n",
       "1    <missing>    <missing>    <missing>    <missing>    <missing>   \n",
       "2    <missing>    <missing>    <missing>    <missing>    <missing>   \n",
       "3    <missing>    <missing>    <missing>    <missing>    <missing>   \n",
       "4    <missing>    <missing>    <missing>    <missing>    <missing>   \n",
       "\n",
       "  reactant_045 reactant_046 reactant_047 reactant_048 reactant_049   \n",
       "0    <missing>    <missing>    <missing>    <missing>    <missing>  \\\n",
       "1    <missing>    <missing>    <missing>    <missing>    <missing>   \n",
       "2    <missing>    <missing>    <missing>    <missing>    <missing>   \n",
       "3    <missing>    <missing>    <missing>    <missing>    <missing>   \n",
       "4    <missing>    <missing>    <missing>    <missing>    <missing>   \n",
       "\n",
       "  reactant_050 reactant_051 reactant_052 reactant_053 reactant_054   \n",
       "0    <missing>    <missing>    <missing>    <missing>    <missing>  \\\n",
       "1    <missing>    <missing>    <missing>    <missing>    <missing>   \n",
       "2    <missing>    <missing>    <missing>    <missing>    <missing>   \n",
       "3    <missing>    <missing>    <missing>    <missing>    <missing>   \n",
       "4    <missing>    <missing>    <missing>    <missing>    <missing>   \n",
       "\n",
       "  reactant_055                                            rxn_str  rxn_time   \n",
       "0    <missing>  [CH2:1]1[CH2:29][O:28][C@@:27]23[C@:22]([CH3:3...     10.00  \\\n",
       "1    <missing>  [C:1]([OH:4])(=[O:3])[CH3:2].C(O)(=O)C.O[C@@H:...       NaN   \n",
       "2    <missing>  S(O[C@H:12]1[CH2:36][C@H:35]([O:37]C(=O)C)[C@@...       NaN   \n",
       "3    <missing>  [CH2:1]([CH:9]1[CH2:14][C:13](=[O:15])[O:12][C...       NaN   \n",
       "4    <missing>  [C:1]1([SH:7])[CH:6]=[CH:5][CH:4]=[CH:3][CH:2]...      0.08   \n",
       "\n",
       "  solvent_000 solvent_001 solvent_002 solvent_003 solvent_004 solvent_005   \n",
       "0    c1ccncc1    c1ccncc1   <missing>   <missing>   <missing>   <missing>  \\\n",
       "1       CCOCC          CO   <missing>   <missing>   <missing>   <missing>   \n",
       "2    c1ccccc1   <missing>   <missing>   <missing>   <missing>   <missing>   \n",
       "3   <missing>   <missing>   <missing>   <missing>   <missing>   <missing>   \n",
       "4      CC(C)O           O   <missing>   <missing>   <missing>   <missing>   \n",
       "\n",
       "  solvent_006 solvent_007 solvent_008 solvent_009  temperature  yield_000   \n",
       "0   <missing>   <missing>   <missing>   <missing>          0.0       98.0  \\\n",
       "1   <missing>   <missing>   <missing>   <missing>          NaN      107.8   \n",
       "2   <missing>   <missing>   <missing>   <missing>          NaN        NaN   \n",
       "3   <missing>   <missing>   <missing>   <missing>          NaN      100.0   \n",
       "4   <missing>   <missing>   <missing>   <missing>         25.0        NaN   \n",
       "\n",
       "   yield_001  yield_002  yield_003  yield_004  yield_005  yield_006   \n",
       "0        NaN        NaN        NaN        NaN        NaN        NaN  \\\n",
       "1        NaN        NaN        NaN        NaN        NaN        NaN   \n",
       "2        NaN        NaN        NaN        NaN        NaN        NaN   \n",
       "3        NaN        NaN        NaN        NaN        NaN        NaN   \n",
       "4       91.1        NaN        NaN        NaN        NaN        NaN   \n",
       "\n",
       "   yield_007  yield_008  yield_009  \n",
       "0        NaN        NaN        NaN  \n",
       "1        NaN        NaN        NaN  \n",
       "2        NaN        NaN        NaN  \n",
       "3        NaN        NaN        NaN  \n",
       "4        NaN        NaN        NaN  "
      ]
     },
     "execution_count": 15,
     "metadata": {},
     "output_type": "execute_result"
    }
   ],
   "source": [
    "# show all columns\n",
    "pd.set_option('display.max_columns', None)\n",
    "uspto_with_trust.head()\n"
   ]
  },
  {
   "attachments": {},
   "cell_type": "markdown",
   "metadata": {},
   "source": [
    "# Cleaned data"
   ]
  },
  {
   "cell_type": "code",
   "execution_count": 1,
   "metadata": {},
   "outputs": [],
   "source": [
    "import pandas as pd\n",
    "filepath = '/Users/dsw46/Projects_local/test_orderly_model/ORDerly/data/orderly/datasets/orderly_no_trust_with_map_train.parquet'\n",
    "df = pd.read_parquet(filepath)"
   ]
  },
  {
   "cell_type": "code",
   "execution_count": 6,
   "metadata": {},
   "outputs": [
    {
     "data": {
      "text/plain": [
       "agent_000                                                             Cl\n",
       "agent_001                                                           None\n",
       "agent_002                                                           None\n",
       "date_of_experiment                                                   NaT\n",
       "extracted_from_file         ord_dataset-0b32b90cc77b4a3db47ad263e0bbc1a8\n",
       "grant_date                                           2016-01-01 00:09:00\n",
       "is_mapped                                                           True\n",
       "procedure_details      The solution of ethyl 2-morpholinoacetate (1 g...\n",
       "product_000                                              O=C(O)CN1CCOCC1\n",
       "reactant_000                                           CCOC(=O)CN1CCOCC1\n",
       "reactant_001                                                        None\n",
       "rxn_str                [O:1]1[CH2:6][CH2:5][N:4]([CH2:7][C:8]([O:10]C...\n",
       "rxn_time                                                             NaN\n",
       "solvent_000                                                         None\n",
       "solvent_001                                                         None\n",
       "temperature                                                          NaN\n",
       "yield_000                                                           96.3\n",
       "Name: 11221, dtype: object"
      ]
     },
     "execution_count": 6,
     "metadata": {},
     "output_type": "execute_result"
    }
   ],
   "source": [
    "df.loc[11221]#['rxn_str']"
   ]
  },
  {
   "cell_type": "code",
   "execution_count": null,
   "metadata": {},
   "outputs": [],
   "source": []
  },
  {
   "cell_type": "code",
   "execution_count": null,
   "metadata": {},
   "outputs": [],
   "source": []
  },
  {
   "cell_type": "code",
   "execution_count": null,
   "metadata": {},
   "outputs": [],
   "source": [
    "# Read in ORD file from ORD hash file name"
   ]
  },
  {
   "cell_type": "code",
   "execution_count": 70,
   "metadata": {},
   "outputs": [],
   "source": [
    "import ord_schema\n",
    "from ord_schema import message_helpers, validations\n",
    "from ord_schema.proto import dataset_pb2\n",
    "import os\n",
    "import fnmatch\n",
    "\n",
    "def open_ord(ord_hash):\n",
    "    folder_path = '/Users/dsw46/Projects_local/ORDerly/data/ord'\n",
    "    # look for files within that folder path or deeper for a file that contains the ord_hash\n",
    "    for root, dirs, files in os.walk(folder_path):\n",
    "        for file in files:\n",
    "            if fnmatch.fnmatch(file, f'*{ord_hash}*'):\n",
    "                filepath = os.path.join(root, file)\n",
    "                data = message_helpers.load_message(filepath, dataset_pb2.Dataset)\n",
    "                return data\n",
    "    raise FileNotFoundError(f\"No file found containing {ord_hash} in the name.\")\n",
    "\n",
    "\n",
    "from rdkit import Chem\n",
    "\n",
    "def canon_smiles(smiles):\n",
    "    mol = Chem.MolFromSmiles(smiles)\n",
    "    # Remove the atom mapping\n",
    "    for atom in mol.GetAtoms():\n",
    "        atom.SetAtomMapNum(0)\n",
    "    return Chem.MolToSmiles(mol)"
   ]
  },
  {
   "cell_type": "code",
   "execution_count": 48,
   "metadata": {},
   "outputs": [],
   "source": [
    "import pandas as pd\n"
   ]
  },
  {
   "cell_type": "code",
   "execution_count": 53,
   "metadata": {},
   "outputs": [
    {
     "data": {
      "text/html": [
       "<div>\n",
       "<style scoped>\n",
       "    .dataframe tbody tr th:only-of-type {\n",
       "        vertical-align: middle;\n",
       "    }\n",
       "\n",
       "    .dataframe tbody tr th {\n",
       "        vertical-align: top;\n",
       "    }\n",
       "\n",
       "    .dataframe thead th {\n",
       "        text-align: right;\n",
       "    }\n",
       "</style>\n",
       "<table border=\"1\" class=\"dataframe\">\n",
       "  <thead>\n",
       "    <tr style=\"text-align: right;\">\n",
       "      <th></th>\n",
       "      <th>reactant_0</th>\n",
       "      <th>reactant_1</th>\n",
       "    </tr>\n",
       "  </thead>\n",
       "  <tbody>\n",
       "    <tr>\n",
       "      <th>0</th>\n",
       "      <td>NaN</td>\n",
       "      <td>O=C=O</td>\n",
       "    </tr>\n",
       "    <tr>\n",
       "      <th>1</th>\n",
       "      <td>CC(=O)O</td>\n",
       "      <td>NaN</td>\n",
       "    </tr>\n",
       "    <tr>\n",
       "      <th>2</th>\n",
       "      <td>II</td>\n",
       "      <td>Cl</td>\n",
       "    </tr>\n",
       "  </tbody>\n",
       "</table>\n",
       "</div>"
      ],
      "text/plain": [
       "  reactant_0 reactant_1\n",
       "0        NaN      O=C=O\n",
       "1    CC(=O)O        NaN\n",
       "2         II         Cl"
      ]
     },
     "execution_count": 53,
     "metadata": {},
     "output_type": "execute_result"
    }
   ],
   "source": [
    "not_mapped_rxn_df = {\n",
    "    'reactant_0': ['CCO', 'CC(=O)O', \"II\"],\n",
    "    'reactant_1': ['O=C=O', 'CCO', \"Cl\"],\n",
    "}\n",
    "molecules_to_remove = ['CCO', 'C1=CC=CC=C1', \"II \"]\n",
    "\n",
    "not_mapped_rxn_df = pd.DataFrame(not_mapped_rxn_df)\n",
    "\n",
    "not_mapped_rxn_df = not_mapped_rxn_df[~not_mapped_rxn_df[['reactant_0', 'reactant_1']].isin(molecules_to_remove)]\n",
    "not_mapped_rxn_df"
   ]
  },
  {
   "cell_type": "code",
   "execution_count": 62,
   "metadata": {},
   "outputs": [],
   "source": [
    "data = open_ord('ord_dataset-85c00026681b46f89ef8634d2b8618c3')"
   ]
  },
  {
   "cell_type": "code",
   "execution_count": 64,
   "metadata": {},
   "outputs": [
    {
     "name": "stdout",
     "output_type": "stream",
     "text": [
      "3948\n"
     ]
    }
   ],
   "source": [
    "for i in range(len(data.reactions)):\n",
    "    if data.reactions[i].identifiers[0].value[:215] == '[Co:1].[S:2]([OH:6])([OH:5])(=[O:4])=[O:3].[CH:7](=[NH:13])[CH2:8][CH2:9][CH2:10][CH2:11][CH3:12].[S:14]([O-:18])([O-:17])(=[O:16])=[O:15].[NH4+].[NH4+].[Co+3]>>[S:2]([O-:6])([O-:5])(=[O:4])=[O:3].[CH:7](=[NH:13])[C':\n",
    "        print(i)\n",
    "        break\n"
   ]
  },
  {
   "cell_type": "code",
   "execution_count": 63,
   "metadata": {},
   "outputs": [
    {
     "data": {
      "text/plain": [
       "215"
      ]
     },
     "execution_count": 63,
     "metadata": {},
     "output_type": "execute_result"
    }
   ],
   "source": [
    "[Co:1].[S:2]([OH:6])([OH:5])(=[O:4])=[O:3].[CH:7](=[NH:13])[CH2:8][CH2:9][CH2:10][CH2:11][CH3:12].[S:14]([O-:18])([O-:17])(=[O:16])=[O:15].[NH4+].[NH4+].[Co+3]>>[S:2]([O-:6])([O-:5])(=[O:4])=[O:3].[CH:7](=[NH:13])[CH2:8][CH2:9][CH2:10][CH2:11][CH3:12].[Co+3:1].[S:14]([O-:18])([O-:17])(=[O:16])=[O:15].[S:2]([O-:6])([O-:5])(=[O:4])=[O:3].[Co+3:1]"
   ]
  },
  {
   "cell_type": "code",
   "execution_count": 76,
   "metadata": {},
   "outputs": [
    {
     "data": {
      "text/plain": [
       "'[Co+3]'"
      ]
     },
     "execution_count": 76,
     "metadata": {},
     "output_type": "execute_result"
    }
   ],
   "source": [
    "canon_smiles('[Co+3]')"
   ]
  },
  {
   "cell_type": "code",
   "execution_count": 78,
   "metadata": {},
   "outputs": [
    {
     "data": {
      "text/plain": [
       "True"
      ]
     },
     "execution_count": 78,
     "metadata": {},
     "output_type": "execute_result"
    }
   ],
   "source": [
    "yields = [None, None, None]\n",
    "all(element is None for element in yields)"
   ]
  },
  {
   "cell_type": "code",
   "execution_count": 3,
   "metadata": {},
   "outputs": [
    {
     "data": {
      "text/plain": [
       "(['b', 'a', 'c'], [2, 1, None])"
      ]
     },
     "execution_count": 3,
     "metadata": {},
     "output_type": "execute_result"
    }
   ],
   "source": [
    "mol_id_list = ['a', 'b', 'c']\n",
    "list_to_keep_order = [1,2, None]\n",
    "non_smiles_names_set = {'a', 'c'}\n",
    "unresolvable_names_alt_list = []\n",
    "resolvable_names_alt_list = []\n",
    "resolvable_names = []\n",
    "unresolvable_names = []\n",
    "\n",
    "for p, y in zip(mol_id_list, list_to_keep_order):\n",
    "    if p in non_smiles_names_set:\n",
    "        unresolvable_names.append(p)\n",
    "        unresolvable_names_alt_list.append(y)\n",
    "    else:\n",
    "        resolvable_names.append(p)\n",
    "        resolvable_names_alt_list.append(y)\n",
    "        \n",
    "result = (resolvable_names + unresolvable_names,\n",
    "                    resolvable_names_alt_list + unresolvable_names_alt_list)\n",
    "result"
   ]
  },
  {
   "cell_type": "code",
   "execution_count": 2,
   "metadata": {},
   "outputs": [
    {
     "ename": "TypeError",
     "evalue": "'NoneType' object is not iterable",
     "output_type": "error",
     "traceback": [
      "\u001b[0;31m---------------------------------------------------------------------------\u001b[0m",
      "\u001b[0;31mTypeError\u001b[0m                                 Traceback (most recent call last)",
      "Cell \u001b[0;32mIn[2], line 2\u001b[0m\n\u001b[1;32m      1\u001b[0m yields \u001b[39m=\u001b[39m \u001b[39mNone\u001b[39;00m\n\u001b[0;32m----> 2\u001b[0m \u001b[39mall\u001b[39m(element \u001b[39mis\u001b[39;00m \u001b[39mNone\u001b[39;00m \u001b[39mfor\u001b[39;00m element \u001b[39min\u001b[39;00m yields)\n",
      "\u001b[0;31mTypeError\u001b[0m: 'NoneType' object is not iterable"
     ]
    }
   ],
   "source": [
    "yields = None\n",
    "all(element is None for element in yields)"
   ]
  },
  {
   "cell_type": "code",
   "execution_count": 105,
   "metadata": {},
   "outputs": [
    {
     "name": "stdout",
     "output_type": "stream",
     "text": [
      "a\n",
      "b\n",
      "c\n"
     ]
    }
   ],
   "source": [
    "for p,y in zip(mol_id_list,list_to_keep_order):\n",
    "    print(p)"
   ]
  },
  {
   "cell_type": "code",
   "execution_count": null,
   "metadata": {},
   "outputs": [],
   "source": []
  },
  {
   "cell_type": "code",
   "execution_count": null,
   "metadata": {},
   "outputs": [],
   "source": []
  },
  {
   "cell_type": "code",
   "execution_count": null,
   "metadata": {},
   "outputs": [],
   "source": []
  },
  {
   "cell_type": "code",
   "execution_count": null,
   "metadata": {},
   "outputs": [],
   "source": []
  },
  {
   "cell_type": "code",
   "execution_count": 83,
   "metadata": {},
   "outputs": [
    {
     "data": {
      "text/plain": [
       "[None, None]"
      ]
     },
     "execution_count": 83,
     "metadata": {},
     "output_type": "execute_result"
    }
   ],
   "source": [
    "2*[None]"
   ]
  },
  {
   "cell_type": "code",
   "execution_count": 93,
   "metadata": {},
   "outputs": [
    {
     "name": "stdout",
     "output_type": "stream",
     "text": [
      "('a',)\n",
      "(5,)\n"
     ]
    }
   ],
   "source": [
    "mole_id_list = [None, 'a']\n",
    "list_to_keep_order = [None, 5]\n",
    "mole_id_list_without_none, _list_to_keep_order = list(  # type: ignore\n",
    "                    zip(\n",
    "                        *[\n",
    "                            (x, j)\n",
    "                            for x, j in zip(mole_id_list, list_to_keep_order)\n",
    "                            if (x not in [\"\", None]) and (not pd.isna(x))\n",
    "                        ]\n",
    "                    )\n",
    "                )\n",
    "print(mole_id_list_without_none)\n",
    "print(_list_to_keep_order)"
   ]
  },
  {
   "cell_type": "code",
   "execution_count": 94,
   "metadata": {},
   "outputs": [
    {
     "data": {
      "text/plain": [
       "tuple"
      ]
     },
     "execution_count": 94,
     "metadata": {},
     "output_type": "execute_result"
    }
   ],
   "source": [
    "type(mole_id_list_without_none)"
   ]
  },
  {
   "cell_type": "code",
   "execution_count": null,
   "metadata": {},
   "outputs": [],
   "source": []
  },
  {
   "cell_type": "code",
   "execution_count": null,
   "metadata": {},
   "outputs": [],
   "source": []
  },
  {
   "cell_type": "code",
   "execution_count": null,
   "metadata": {},
   "outputs": [],
   "source": []
  },
  {
   "cell_type": "code",
   "execution_count": null,
   "metadata": {},
   "outputs": [],
   "source": []
  },
  {
   "cell_type": "code",
   "execution_count": null,
   "metadata": {},
   "outputs": [],
   "source": []
  },
  {
   "cell_type": "code",
   "execution_count": null,
   "metadata": {},
   "outputs": [],
   "source": [
    "[Co:1].[S:2]([OH:6])([OH:5])(=[O:4])=[O:3].[CH:7](=[NH:13])[CH2:8][CH2:9][CH2:10][CH2:11][CH3:12].[S:14]([O-:18])([O-:17])(=[O:16])=[O:15].[NH4+].[NH4+].[Co+3]>>[S:2]([O-:6])([O-:5])(=[O:4])=[O:3].[CH:7](=[NH:13])[CH2:8][CH2:9][CH2:10][CH2:11][CH3:12].[Co+3:1].[S:14]([O-:18])([O-:17])(=[O:16])=[O:15].[S:2]([O-:6])([O-:5])(=[O:4])=[O:3].[Co+3:1]"
   ]
  },
  {
   "cell_type": "code",
   "execution_count": 4,
   "metadata": {},
   "outputs": [],
   "source": [
    "mole_id_list = ['c1ccccc1', \"CC\", \"CO\", \"pear\", \"apple\", \"O\"]\n",
    "non_smiles_names_list_additions = [\"pear\", \"apple\", \"h\", \"c\", \"d\"]\n"
   ]
  },
  {
   "cell_type": "code",
   "execution_count": 5,
   "metadata": {},
   "outputs": [
    {
     "name": "stdout",
     "output_type": "stream",
     "text": [
      "728 ns ± 4.4 ns per loop (mean ± std. dev. of 7 runs, 1,000,000 loops each)\n"
     ]
    }
   ],
   "source": [
    "%%timeit\n",
    "mole_id_set = set(mole_id_list)\n",
    "non_smiles_names_set = set(non_smiles_names_list_additions)\n",
    "\n",
    "unresolvable_names = list(mole_id_set.intersection(non_smiles_names_set))\n",
    "resolvable_names = list(mole_id_set.difference(non_smiles_names_set))"
   ]
  },
  {
   "cell_type": "code",
   "execution_count": 6,
   "metadata": {},
   "outputs": [
    {
     "name": "stdout",
     "output_type": "stream",
     "text": [
      "959 ns ± 10.7 ns per loop (mean ± std. dev. of 7 runs, 1,000,000 loops each)\n"
     ]
    }
   ],
   "source": [
    "%%timeit\n",
    "unresolvable_names = [x for x in mole_id_list if x in non_smiles_names_list_additions]\n",
    "resolvable_names = [x for x in mole_id_list if x not in non_smiles_names_list_additions]"
   ]
  },
  {
   "cell_type": "code",
   "execution_count": 57,
   "metadata": {},
   "outputs": [
    {
     "name": "stdout",
     "output_type": "stream",
     "text": [
      "II\n"
     ]
    }
   ],
   "source": [
    "\n"
   ]
  },
  {
   "cell_type": "code",
   "execution_count": null,
   "metadata": {},
   "outputs": [],
   "source": [
    "AssertionError: The intersection between reactants and products is not None. \n",
    "reactants=['O=S(=O)(O)O', '[Co]'] and \n",
    "products=['O=S(=O)([O-])[O-]', 'O=S(=O)([O-])[O-]', 'O=S(=O)([O-])[O-]', 'CCCCCC=N', '[Co+3]', '[Co+3]', '[Co]'] and \n",
    "rxn_str='[Co:1].[S:2]([OH:6])([OH:5])(=[O:4])=[O:3].[CH:7](=[NH:13])[CH2:8][CH2:9][CH2:10][CH2:11][CH3:12].[S:14]([O-:18])([O-:17])(=[O:16])=[O:15].[NH4+].[NH4+].[Co+3]>>[S:2]([O-:6])([O-:5])(=[O:4])=[O:3].[CH:7](=[NH:13])[CH2:8][CH2:9][CH2:10][CH2:11][CH3:12].[Co+3:1].[S:14]([O-:18])([O-:17])(=[O:16])=[O:15].[S:2]([O-:6])([O-:5])(=[O:4])=[O:3].[Co+3:1]' and \n",
    "solvent=[] and \n",
    "catalysts=[] and \n",
    "reagents=[] and \n",
    "agents=['[Co+3]', 'CCCCCC=N', 'O=S(=O)([O-])[O-]', '[NH4+]']. tmp_str=\"self.filename='uspto-grants-2001_07' self.ord_file_path=PosixPath('data/ord/85/ord_dataset-85c00026681b46f89ef8634d2b8618c3.pb.gz')\"\n",
    "\n"
   ]
  },
  {
   "cell_type": "code",
   "execution_count": 67,
   "metadata": {},
   "outputs": [
    {
     "data": {
      "text/plain": [
       "True"
      ]
     },
     "execution_count": 67,
     "metadata": {},
     "output_type": "execute_result"
    }
   ],
   "source": [
    "[None, None] is not None"
   ]
  },
  {
   "cell_type": "code",
   "execution_count": null,
   "metadata": {},
   "outputs": [],
   "source": [
    "'O=S(=O)([O-])[O-]', \n",
    "'O=S(=O)([O-])[O-]', \n",
    "'O=S(=O)([O-])[O-]'"
   ]
  },
  {
   "cell_type": "code",
   "execution_count": null,
   "metadata": {},
   "outputs": [],
   "source": [
    "reactants = ['O=S(=O)(O)O', '[Co]'] \n",
    "products=['O=S(=O)([O-])[O-]', 'O=S(=O)([O-])[O-]', 'O=S(=O)([O-])[O-]', 'CCCCCC=N', '[Co+3]', '[Co+3]', '[Co]']"
   ]
  },
  {
   "cell_type": "code",
   "execution_count": 7,
   "metadata": {},
   "outputs": [
    {
     "name": "stdout",
     "output_type": "stream",
     "text": [
      "532 ns ± 2.73 ns per loop (mean ± std. dev. of 7 runs, 1,000,000 loops each)\n"
     ]
    }
   ],
   "source": [
    "%%timeit\n",
    "unresolvable_names = []\n",
    "resolvable_names = []\n",
    "\n",
    "non_smiles_names_set = set(non_smiles_names_list_additions)\n",
    "\n",
    "for x in mole_id_list:\n",
    "    if x in non_smiles_names_set:\n",
    "        unresolvable_names.append(x)\n",
    "    else:\n",
    "        resolvable_names.append(x)\n"
   ]
  },
  {
   "cell_type": "code",
   "execution_count": 9,
   "metadata": {},
   "outputs": [],
   "source": [
    "def move_unresolvable_names_to_end_of_list(\n",
    "    mole_id_list, non_smiles_names_set):\n",
    "    \"\"\"\n",
    "    rxn_non_smiles_names_set: Unresolvable names that might be replaced with None in the cleaning script\n",
    "    \"\"\"\n",
    "    resolvable_names = []\n",
    "    unresolvable_names = []\n",
    "\n",
    "    for x in mole_id_list:\n",
    "        if x in non_smiles_names_set:\n",
    "            unresolvable_names.append(x)\n",
    "        else:\n",
    "            resolvable_names.append(x)\n",
    "\n",
    "    return resolvable_names + unresolvable_names\n",
    "\n"
   ]
  },
  {
   "cell_type": "code",
   "execution_count": 10,
   "metadata": {},
   "outputs": [],
   "source": [
    "mole_id_list = ['c1ccccc1', \"CC\", \"CO\", \"pear\", \"apple\", \"O\"]\n",
    "non_smiles_names_list_additions = [\"pear\", \"apple\", \"h\", \"c\", \"d\"]\n",
    "\n",
    "rxn_non_smiles_names_set = set(non_smiles_names_list_additions)\n",
    "reactants = move_unresolvable_names_to_end_of_list(\n",
    "    mole_id_list, rxn_non_smiles_names_set\n",
    "        )"
   ]
  },
  {
   "cell_type": "code",
   "execution_count": 11,
   "metadata": {},
   "outputs": [
    {
     "data": {
      "text/plain": [
       "['c1ccccc1', 'CC', 'CO', 'O', 'pear', 'apple']"
      ]
     },
     "execution_count": 11,
     "metadata": {},
     "output_type": "execute_result"
    }
   ],
   "source": [
    "reactants"
   ]
  },
  {
   "cell_type": "code",
   "execution_count": null,
   "metadata": {},
   "outputs": [],
   "source": [
    "[CH2:1]([C:4]1[C:13]2[O:12][C:11]([C:14]3[NH:18][N:17]=[N:16][N:15]=3)=[CH:10][C:9](=[O:19])[C:8]=2[C:7]([O:20][CH2:21][CH2:22][CH:23]([CH3:25])[CH3:24])=[CH:6][CH:5]=1)[CH:2]=[CH2:3].[CH2:26]([NH2:28])[CH3:27]>O>[OH2:12].[CH2:14]([NH2:15])[CH3:11].[CH2:1]([C:4]1[C:13]2[O:12][C:11]([C:14]3[NH:15][N:16]=[N:17][N:18]=3)=[CH:10][C:9](=[O:19])[C:8]=2[C:7]([O:20][CH2:21][CH2:22][CH:23]([CH3:25])[CH3:24])=[CH:6][CH:5]=1)[CH:2]=[CH2:3].[OH2:12].[OH2:12].[CH2:1]([C:4]1[C:13]2[O:12][C:11]([C:14]3[NH:15][N:16]=[N:17][N:18]=3)=[CH:10][C:9](=[O:19])[C:8]=2[C:7]([O:20][CH2:21][CH2:22][CH:23]([CH3:25])[CH3:24])=[CH:6][CH:5]=1)[CH:2]=[CH2:3].[CH2:26]([NH2:28])[CH3:27]"
   ]
  },
  {
   "attachments": {},
   "cell_type": "markdown",
   "metadata": {},
   "source": [
    "# read paraquet"
   ]
  },
  {
   "cell_type": "code",
   "execution_count": 10,
   "metadata": {},
   "outputs": [],
   "source": [
    "import pandas as pd\n",
    "path = '/Users/dsw46/Projects_local/ORDerly/data/orderly/uspto_trust/orderly_ord.parquet'\n",
    "df = pd.read_parquet(path)"
   ]
  },
  {
   "cell_type": "code",
   "execution_count": 6,
   "metadata": {},
   "outputs": [
    {
     "data": {
      "text/plain": [
       "'S(Cl)([Cl:3])=O.[OH:5][CH:6]1[CH2:10][NH:9][C@H:8]([C:11]([OH:13])=[O:12])[CH2:7]1.[CH2:14](O)[CH3:15]>>[ClH:3].[CH2:14]([O:12][C:11](=[O:13])[C@@H:8]1[CH2:7][CH:6]([OH:5])[CH2:10][NH:9]1)[CH3:15]'"
      ]
     },
     "execution_count": 6,
     "metadata": {},
     "output_type": "execute_result"
    }
   ],
   "source": [
    "df.iloc[2]['rxn_str']"
   ]
  },
  {
   "cell_type": "code",
   "execution_count": null,
   "metadata": {},
   "outputs": [],
   "source": [
    "S(Cl)([Cl:3])=O.[OH:5][CH:6]1[CH2:10][NH:9][C@H:8]([C:11]([OH:13])=[O:12])[CH2:7]1.[CH2:14](O)[CH3:15]>>[ClH:3].[CH2:14]([O:12][C:11](=[O:13])[C@@H:8]1[CH2:7][CH:6]([OH:5])[CH2:10][NH:9]1)[CH3:15]"
   ]
  },
  {
   "cell_type": "code",
   "execution_count": null,
   "metadata": {},
   "outputs": [],
   "source": []
  },
  {
   "cell_type": "code",
   "execution_count": 13,
   "metadata": {},
   "outputs": [],
   "source": [
    "from rdkit import Chem\n",
    "mol = Chem.MolFromSmiles('Br')\n",
    "\n",
    "# Generate canonical SMILES string\n",
    "canonical_smiles = Chem.MolToSmiles(mol)"
   ]
  },
  {
   "cell_type": "code",
   "execution_count": 14,
   "metadata": {},
   "outputs": [
    {
     "data": {
      "text/plain": [
       "'Br'"
      ]
     },
     "execution_count": 14,
     "metadata": {},
     "output_type": "execute_result"
    }
   ],
   "source": [
    "canonical_smiles"
   ]
  },
  {
   "cell_type": "code",
   "execution_count": 9,
   "metadata": {},
   "outputs": [
    {
     "data": {
      "text/plain": [
       "catalyst_000                                                       None\n",
       "date_of_experiment                                                  NaT\n",
       "grant_date                                          2005-01-01 00:10:00\n",
       "procedure_details     Acetic acid (6 mL) and a 30% hydrobromic acid-...\n",
       "product_000           CC(=O)O[C@@H]1[C@@H](OC(C)=O)[C@H](OC(C)=O)CO[...\n",
       "product_001                                                        None\n",
       "product_002                                                        None\n",
       "product_003                                                        None\n",
       "product_004                                                        None\n",
       "reactant_000                                                      empty\n",
       "reactant_001                                                    CC(=O)O\n",
       "reactant_002                                                    CC(=O)O\n",
       "reactant_003          CC(=O)O[C@@H]1OC[C@@H](OC(C)=O)[C@H](OC(C)=O)[...\n",
       "reactant_004                                                       None\n",
       "rxn_str               C(O)(=O)C.[BrH:5].C(O)(=O)C.C(O[C@@H:14]1[O:31...\n",
       "rxn_time                                                            NaN\n",
       "solvent_000                                                   ClC(Cl)Cl\n",
       "solvent_001                                                        None\n",
       "temperature                                                        25.0\n",
       "yield_000                                                           NaN\n",
       "yield_001                                                           NaN\n",
       "yield_002                                                           NaN\n",
       "yield_003                                                           NaN\n",
       "yield_004                                                           NaN\n",
       "Name: 1184590, dtype: object"
      ]
     },
     "execution_count": 9,
     "metadata": {},
     "output_type": "execute_result"
    }
   ],
   "source": [
    "df.iloc[-1]"
   ]
  },
  {
   "cell_type": "code",
   "execution_count": 11,
   "metadata": {},
   "outputs": [
    {
     "data": {
      "text/plain": [
       "date_of_experiment                                                  NaT\n",
       "grant_date                                          2005-01-01 00:10:00\n",
       "procedure_details     Acetic acid (6 mL) and a 30% hydrobromic acid-...\n",
       "product_000           CC(=O)O[C@@H]1[C@@H](OC(C)=O)[C@H](OC(C)=O)CO[...\n",
       "product_001                                                        None\n",
       "product_002                                                        None\n",
       "product_003                                                        None\n",
       "product_004                                                        None\n",
       "reactant_000                                                         Br\n",
       "reactant_001                                                    CC(=O)O\n",
       "reactant_002                                                    CC(=O)O\n",
       "reactant_003          CC(=O)O[C@@H]1OC[C@@H](OC(C)=O)[C@H](OC(C)=O)[...\n",
       "reactant_004                                                       None\n",
       "rxn_str               C(O)(=O)C.[BrH:5].C(O)(=O)C.C(O[C@@H:14]1[O:31...\n",
       "rxn_time                                                            NaN\n",
       "solvent_000                                                   ClC(Cl)Cl\n",
       "solvent_001                                                        None\n",
       "temperature                                                        25.0\n",
       "yield_000                                                           NaN\n",
       "yield_001                                                           NaN\n",
       "yield_002                                                           NaN\n",
       "yield_003                                                           NaN\n",
       "yield_004                                                           NaN\n",
       "Name: 1078145, dtype: object"
      ]
     },
     "execution_count": 11,
     "metadata": {},
     "output_type": "execute_result"
    }
   ],
   "source": [
    "df.iloc[-1]"
   ]
  },
  {
   "cell_type": "code",
   "execution_count": null,
   "metadata": {},
   "outputs": [],
   "source": [
    "poetry run python -m orderly.clean --output_path=\"data/orderly/uspto_trust/orderly_ord.parquet\" --ord_extraction_path=\"data/orderly/uspto_trust/extracted_ords\" --molecules_to_remove_path=\"data/orderly/uspto_trust/all_molecule_names.csv\" --num_agent=0 --set_unresolved_names_to_none_if_mapped_rxn_str_exists_else_del_rxn=False"
   ]
  },
  {
   "attachments": {},
   "cell_type": "markdown",
   "metadata": {},
   "source": [
    "# Inspect ORD file"
   ]
  },
  {
   "cell_type": "code",
   "execution_count": null,
   "metadata": {},
   "outputs": [],
   "source": [
    "pb = \"data/ord//02/ord_dataset-02ee2261663048188cf6d85d2cc96e3f.pb.gz\"\n",
    "data = message_helpers.load_message(pb, dataset_pb2.Dataset)"
   ]
  },
  {
   "attachments": {},
   "cell_type": "markdown",
   "metadata": {},
   "source": [
    "# Check scramble"
   ]
  },
  {
   "cell_type": "code",
   "execution_count": 38,
   "metadata": {},
   "outputs": [],
   "source": [
    "import pandas as pd"
   ]
  },
  {
   "cell_type": "code",
   "execution_count": 39,
   "metadata": {},
   "outputs": [],
   "source": [
    "true = pd.read_parquet('/Users/dsw46/Projects_local/ORDerly/data/orderly/check_scramble/orderly_no_trust_no_map_with_scramble.parquet')\n",
    "false = pd.read_parquet('/Users/dsw46/Projects_local/ORDerly/data/orderly/check_scramble/orderly_no_trust_no_map_no_scramble.parquet')"
   ]
  },
  {
   "cell_type": "code",
   "execution_count": 40,
   "metadata": {},
   "outputs": [
    {
     "data": {
      "text/plain": [
       "False"
      ]
     },
     "execution_count": 40,
     "metadata": {},
     "output_type": "execute_result"
    }
   ],
   "source": [
    "true.equals(false)"
   ]
  },
  {
   "cell_type": "code",
   "execution_count": 47,
   "metadata": {},
   "outputs": [
    {
     "data": {
      "text/plain": [
       "(511996, 17)"
      ]
     },
     "execution_count": 47,
     "metadata": {},
     "output_type": "execute_result"
    }
   ],
   "source": [
    "false.shape"
   ]
  },
  {
   "cell_type": "code",
   "execution_count": 46,
   "metadata": {},
   "outputs": [
    {
     "data": {
      "text/plain": [
       "(511996, 17)"
      ]
     },
     "execution_count": 46,
     "metadata": {},
     "output_type": "execute_result"
    }
   ],
   "source": [
    "true.shape"
   ]
  },
  {
   "cell_type": "code",
   "execution_count": 4,
   "metadata": {},
   "outputs": [],
   "source": [
    "# How many reactions have a transition metal in them?\n",
    "import pandas as pd\n",
    "from tqdm import tqdm\n",
    "path = '/Users/dsw46/Projects_local/gen_orderly_data/ORDerly/data/orderly/datasets/orderly_no_trust_no_map_train.parquet'\n",
    "df = pd.read_parquet(path)"
   ]
  },
  {
   "cell_type": "code",
   "execution_count": 11,
   "metadata": {},
   "outputs": [
    {
     "name": "stderr",
     "output_type": "stream",
     "text": [
      "100%|██████████| 100000/100000 [00:00<00:00, 3526492.18it/s]"
     ]
    },
    {
     "name": "stdout",
     "output_type": "stream",
     "text": [
      "Number of rows containing a transition metal: 8630\n",
      "Percentage of rows containing a transition metal: 0.010815403741653466\n"
     ]
    },
    {
     "name": "stderr",
     "output_type": "stream",
     "text": [
      "\n"
     ]
    }
   ],
   "source": [
    "df2 = df.iloc[:100000].copy()\n",
    "transition_metals = [\n",
    "    'Sc', 'Ti', 'V', 'Cr', 'Mn', 'Fe', 'Co', 'Ni', 'Cu', 'Zn',\n",
    "    'Y', 'Zr', 'Nb', 'Mo', 'Tc', 'Ru', 'Rh', 'Pd', 'Ag', 'Cd',\n",
    "    'Lu', 'Hf', 'Ta', 'W', 'Re', 'Os', 'Ir', 'Pt', 'Au', 'Hg',\n",
    "    'Lr', 'Rf', 'Db', 'Sg', 'Bh', 'Hs', 'Mt', 'Ds', 'Rg', 'Cn'\n",
    "]\n",
    "\n",
    "\n",
    "# Create a new column 'contains_transition_metal' which checks if any of the agent columns contain a transition metal\n",
    "df2['contains_transition_metal'] = tqdm(df2[['agent_000', 'agent_001', 'agent_002']].apply(\n",
    "    lambda row: any(transition_metal in str(row) for transition_metal in transition_metals), axis=1\n",
    "))\n",
    "\n",
    "# Count the number of rows containing a transition metal\n",
    "count = df2['contains_transition_metal'].sum()\n",
    "\n",
    "# Print the count\n",
    "print(\"Number of rows containing a transition metal:\", count)\n",
    "print(\"Percentage of rows containing a transition metal:\", count / len(df))"
   ]
  },
  {
   "cell_type": "code",
   "execution_count": 12,
   "metadata": {},
   "outputs": [
    {
     "name": "stdout",
     "output_type": "stream",
     "text": [
      "Number of rows containing a transition metal: 8630\n",
      "Percentage of rows containing a transition metal: 0.010815403741653466\n"
     ]
    }
   ],
   "source": [
    "print(\"Number of rows containing a transition metal:\", count)\n",
    "print(\"Percentage of rows containing a transition metal:\", count / len(df))"
   ]
  },
  {
   "cell_type": "code",
   "execution_count": 21,
   "metadata": {},
   "outputs": [],
   "source": [
    "df3 = pd.DataFrame({'agent_000': ['[Pd]', 'C', 'C', 'C', 'C', 'C', 'C', 'C', 'C', 'C'], 'agent_001': ['Pd', 'C', 'C', 'C', 'C', 'C', 'C', 'C', 'C', 'C']})"
   ]
  },
  {
   "cell_type": "code",
   "execution_count": 22,
   "metadata": {},
   "outputs": [
    {
     "data": {
      "text/plain": [
       "0     True\n",
       "1    False\n",
       "2    False\n",
       "3    False\n",
       "4    False\n",
       "5    False\n",
       "6    False\n",
       "7    False\n",
       "8    False\n",
       "9    False\n",
       "dtype: bool"
      ]
     },
     "execution_count": 22,
     "metadata": {},
     "output_type": "execute_result"
    }
   ],
   "source": [
    "df3.apply(\n",
    "    lambda row: any(transition_metal in str(row) for transition_metal in transition_metals), axis=1\n",
    ")"
   ]
  },
  {
   "cell_type": "code",
   "execution_count": 26,
   "metadata": {},
   "outputs": [],
   "source": [
    "df5 = df2[df2['contains_transition_metal']]"
   ]
  },
  {
   "cell_type": "code",
   "execution_count": 30,
   "metadata": {},
   "outputs": [],
   "source": [
    "df5 = df5.reset_index(drop=True)\n",
    "df5= df5[['agent_000', 'agent_001', 'agent_002']]"
   ]
  },
  {
   "cell_type": "code",
   "execution_count": 31,
   "metadata": {},
   "outputs": [
    {
     "data": {
      "text/html": [
       "<div>\n",
       "<style scoped>\n",
       "    .dataframe tbody tr th:only-of-type {\n",
       "        vertical-align: middle;\n",
       "    }\n",
       "\n",
       "    .dataframe tbody tr th {\n",
       "        vertical-align: top;\n",
       "    }\n",
       "\n",
       "    .dataframe thead th {\n",
       "        text-align: right;\n",
       "    }\n",
       "</style>\n",
       "<table border=\"1\" class=\"dataframe\">\n",
       "  <thead>\n",
       "    <tr style=\"text-align: right;\">\n",
       "      <th></th>\n",
       "      <th>agent_000</th>\n",
       "      <th>agent_001</th>\n",
       "      <th>agent_002</th>\n",
       "    </tr>\n",
       "  </thead>\n",
       "  <tbody>\n",
       "    <tr>\n",
       "      <th>0</th>\n",
       "      <td>[Pd]</td>\n",
       "      <td>None</td>\n",
       "      <td>None</td>\n",
       "    </tr>\n",
       "    <tr>\n",
       "      <th>1</th>\n",
       "      <td>[Pd]</td>\n",
       "      <td>None</td>\n",
       "      <td>None</td>\n",
       "    </tr>\n",
       "    <tr>\n",
       "      <th>2</th>\n",
       "      <td>[O-2]</td>\n",
       "      <td>[Mn+4]</td>\n",
       "      <td>None</td>\n",
       "    </tr>\n",
       "    <tr>\n",
       "      <th>3</th>\n",
       "      <td>[Cs+]</td>\n",
       "      <td>O=C([O-])[O-]</td>\n",
       "      <td>Cl[Pd](Cl)([P](c1ccccc1)(c1ccccc1)c1ccccc1)[P]...</td>\n",
       "    </tr>\n",
       "    <tr>\n",
       "      <th>4</th>\n",
       "      <td>[Pd]</td>\n",
       "      <td>Cl</td>\n",
       "      <td>None</td>\n",
       "    </tr>\n",
       "    <tr>\n",
       "      <th>...</th>\n",
       "      <td>...</td>\n",
       "      <td>...</td>\n",
       "      <td>...</td>\n",
       "    </tr>\n",
       "    <tr>\n",
       "      <th>8625</th>\n",
       "      <td>[Pd]</td>\n",
       "      <td>None</td>\n",
       "      <td>None</td>\n",
       "    </tr>\n",
       "    <tr>\n",
       "      <th>8626</th>\n",
       "      <td>O=[Mn]=O</td>\n",
       "      <td>CC(C)C[AlH]CC(C)C</td>\n",
       "      <td>None</td>\n",
       "    </tr>\n",
       "    <tr>\n",
       "      <th>8627</th>\n",
       "      <td>[Pd+2]</td>\n",
       "      <td>[OH-]</td>\n",
       "      <td>None</td>\n",
       "    </tr>\n",
       "    <tr>\n",
       "      <th>8628</th>\n",
       "      <td>[OH-]</td>\n",
       "      <td>[Pd+2]</td>\n",
       "      <td>None</td>\n",
       "    </tr>\n",
       "    <tr>\n",
       "      <th>8629</th>\n",
       "      <td>[H][H]</td>\n",
       "      <td>[Pd]</td>\n",
       "      <td>None</td>\n",
       "    </tr>\n",
       "  </tbody>\n",
       "</table>\n",
       "<p>8630 rows × 3 columns</p>\n",
       "</div>"
      ],
      "text/plain": [
       "     agent_000          agent_001   \n",
       "0         [Pd]               None  \\\n",
       "1         [Pd]               None   \n",
       "2        [O-2]             [Mn+4]   \n",
       "3        [Cs+]      O=C([O-])[O-]   \n",
       "4         [Pd]                 Cl   \n",
       "...        ...                ...   \n",
       "8625      [Pd]               None   \n",
       "8626  O=[Mn]=O  CC(C)C[AlH]CC(C)C   \n",
       "8627    [Pd+2]              [OH-]   \n",
       "8628     [OH-]             [Pd+2]   \n",
       "8629    [H][H]               [Pd]   \n",
       "\n",
       "                                              agent_002  \n",
       "0                                                  None  \n",
       "1                                                  None  \n",
       "2                                                  None  \n",
       "3     Cl[Pd](Cl)([P](c1ccccc1)(c1ccccc1)c1ccccc1)[P]...  \n",
       "4                                                  None  \n",
       "...                                                 ...  \n",
       "8625                                               None  \n",
       "8626                                               None  \n",
       "8627                                               None  \n",
       "8628                                               None  \n",
       "8629                                               None  \n",
       "\n",
       "[8630 rows x 3 columns]"
      ]
     },
     "execution_count": 31,
     "metadata": {},
     "output_type": "execute_result"
    }
   ],
   "source": [
    "df5"
   ]
  },
  {
   "cell_type": "code",
   "execution_count": 35,
   "metadata": {},
   "outputs": [
    {
     "name": "stdout",
     "output_type": "stream",
     "text": [
      "[                                                Item  Count\n",
      "0                                               [Pd]   4059\n",
      "1                                             [H][H]   1205\n",
      "2  c1ccc([P](c2ccccc2)(c2ccccc2)[Pd]([P](c2ccccc2...   1082\n",
      "3                                      O=C([O-])[O-]    831\n",
      "4                                              [Na+]    677\n",
      "5                                               [Ni]    540\n",
      "6                                                 Cl    490\n",
      "7  Cl[Pd](Cl)([P](c1ccccc1)(c1ccccc1)c1ccccc1)[P]...    449\n",
      "8                                              [Cu]I    425\n",
      "9                                               [K+]    376]\n"
     ]
    }
   ],
   "source": [
    "# Assuming your DataFrame is called 'df'\n",
    "\n",
    "# Get frequency counts for all items in the DataFrame\n",
    "all_counts = df5.values.flatten().tolist()\n",
    "frequency_counts = pd.Series(all_counts).value_counts().reset_index()\n",
    "\n",
    "# Rename the columns for clarity\n",
    "frequency_counts.columns = ['Item', 'Count']\n",
    "\n",
    "# Print the merged frequency counts\n",
    "print([frequency_counts[:10]])\n"
   ]
  },
  {
   "cell_type": "code",
   "execution_count": null,
   "metadata": {},
   "outputs": [],
   "source": []
  }
 ],
 "metadata": {
  "kernelspec": {
   "display_name": "chemistry",
   "language": "python",
   "name": "python3"
  },
  "language_info": {
   "codemirror_mode": {
    "name": "ipython",
    "version": 3
   },
   "file_extension": ".py",
   "mimetype": "text/x-python",
   "name": "python",
   "nbconvert_exporter": "python",
   "pygments_lexer": "ipython3",
   "version": "3.10.8"
  },
  "orig_nbformat": 4
 },
 "nbformat": 4,
 "nbformat_minor": 2
}

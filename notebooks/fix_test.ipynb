{
 "cells": [
  {
   "cell_type": "code",
   "execution_count": 1,
   "metadata": {},
   "outputs": [],
   "source": [
    "import pandas as pd\n",
    "path = '/Users/dsw46/Projects_local/orderly_30_05/ORDerly/orderly/data/test_data/extracted_ord_test_data_dont_trust_labelling/extracted_ords/uspto-grants-1976_01.parquet'\n",
    "df = pd.read_parquet(path)"
   ]
  },
  {
   "cell_type": "code",
   "execution_count": 6,
   "metadata": {},
   "outputs": [
    {
     "data": {
      "text/plain": [
       "34"
      ]
     },
     "execution_count": 6,
     "metadata": {},
     "output_type": "execute_result"
    }
   ],
   "source": [
    "len('The carboxylic acid was dissolved ')"
   ]
  },
  {
   "cell_type": "code",
   "execution_count": 8,
   "metadata": {},
   "outputs": [
    {
     "name": "stdout",
     "output_type": "stream",
     "text": [
      "94\n"
     ]
    }
   ],
   "source": [
    "for i in range(len(df)):\n",
    "    text = df['procedure_details'][i]\n",
    "    if text.startswith('The carboxylic acid was dissolved '):\n",
    "        print(i)"
   ]
  },
  {
   "cell_type": "code",
   "execution_count": 9,
   "metadata": {},
   "outputs": [
    {
     "data": {
      "text/plain": [
       "agent_000                                                    O=S(=O)(O)O\n",
       "agent_001                                                      <missing>\n",
       "agent_002                                                      <missing>\n",
       "agent_003                                                      <missing>\n",
       "agent_004                                                      <missing>\n",
       "agent_005                                                      <missing>\n",
       "agent_006                                                      <missing>\n",
       "date_of_experiment                                                   NaT\n",
       "extracted_from_file         ord_dataset-a0eff6fe4b4143f284f0fc5ac503acad\n",
       "grant_date                                           1976-01-01 00:01:00\n",
       "is_mapped                                                           True\n",
       "procedure_details      The carboxylic acid was dissolved in 300 ml of...\n",
       "product_000                          COC(=O)C1Oc2ccc(C)cc2Cc2cc(C)ccc2O1\n",
       "product_001                                                    <missing>\n",
       "product_002                                                    <missing>\n",
       "reactant_000                                                          CO\n",
       "reactant_001                        Cc1ccc2c(c1)Cc1cc(C)ccc1OC(C(=O)O)O2\n",
       "reactant_002                                                   <missing>\n",
       "reactant_003                                                   <missing>\n",
       "reactant_004                                                   <missing>\n",
       "rxn_str                [CH3:1][C:2]1[CH:21]=[CH:20][C:5]2[O:6][CH:7](...\n",
       "rxn_time                                                             NaN\n",
       "solvent_000                                                    <missing>\n",
       "solvent_001                                                    <missing>\n",
       "solvent_002                                                    <missing>\n",
       "solvent_003                                                    <missing>\n",
       "solvent_004                                                    <missing>\n",
       "temperature                                                          NaN\n",
       "yield_000                                                            NaN\n",
       "yield_001                                                            NaN\n",
       "yield_002                                                            NaN\n",
       "Name: 94, dtype: object"
      ]
     },
     "execution_count": 9,
     "metadata": {},
     "output_type": "execute_result"
    }
   ],
   "source": [
    "df.iloc[94]"
   ]
  }
 ],
 "metadata": {
  "kernelspec": {
   "display_name": "chemistry",
   "language": "python",
   "name": "python3"
  },
  "language_info": {
   "codemirror_mode": {
    "name": "ipython",
    "version": 3
   },
   "file_extension": ".py",
   "mimetype": "text/x-python",
   "name": "python",
   "nbconvert_exporter": "python",
   "pygments_lexer": "ipython3",
   "version": "3.10.8"
  },
  "orig_nbformat": 4
 },
 "nbformat": 4,
 "nbformat_minor": 2
}

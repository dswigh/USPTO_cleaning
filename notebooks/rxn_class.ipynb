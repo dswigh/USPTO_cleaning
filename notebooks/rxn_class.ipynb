{
 "cells": [
  {
   "cell_type": "markdown",
   "metadata": {},
   "source": [
    "# Generate reaction classes for ORDerly_Condition"
   ]
  },
  {
   "cell_type": "code",
   "execution_count": null,
   "metadata": {},
   "outputs": [],
   "source": [
    "# All this code is from: https://github.com/rxn4chemistry/rxnfp\n",
    "# pip install rxnfp didn't work because I didn't have a rust compiler, so I had to install that first:\n",
    "# https://huggingface.co/docs/tokenizers/installation\n",
    "#"
   ]
  },
  {
   "cell_type": "markdown",
   "metadata": {},
   "source": [
    "# Generate transformer FP"
   ]
  },
  {
   "cell_type": "code",
   "execution_count": 2,
   "metadata": {},
   "outputs": [],
   "source": [
    "import rxnfp"
   ]
  },
  {
   "cell_type": "code",
   "execution_count": 3,
   "metadata": {},
   "outputs": [
    {
     "name": "stderr",
     "output_type": "stream",
     "text": [
      "/Users/dsw46/mambaforge/envs/rxnfp/lib/python3.6/site-packages/tqdm/auto.py:22: TqdmWarning: IProgress not found. Please update jupyter and ipywidgets. See https://ipywidgets.readthedocs.io/en/stable/user_install.html\n",
      "  from .autonotebook import tqdm as notebook_tqdm\n"
     ]
    },
    {
     "name": "stdout",
     "output_type": "stream",
     "text": [
      "256\n",
      "[-2.01749587059021, 1.7602035999298096, -1.3323538303375244, -1.1095025539398193, 1.2254555225372314]\n"
     ]
    }
   ],
   "source": [
    "# We can use the rxnfp readme instructions to generate the transformer FP\n",
    "from rxnfp.transformer_fingerprints import (\n",
    "    RXNBERTFingerprintGenerator, get_default_model_and_tokenizer, generate_fingerprints\n",
    ")\n",
    "\n",
    "model, tokenizer = get_default_model_and_tokenizer()\n",
    "\n",
    "rxnfp_generator = RXNBERTFingerprintGenerator(model, tokenizer)\n",
    "\n",
    "example_rxn = \"Nc1cccc2cnccc12.O=C(O)c1cc([N+](=O)[O-])c(Sc2c(Cl)cncc2Cl)s1>>O=C(Nc1cccc2cnccc12)c1cc([N+](=O)[O-])c(Sc2c(Cl)cncc2Cl)s1\"\n",
    "\n",
    "fp = rxnfp_generator.convert(example_rxn)\n",
    "print(len(fp))\n",
    "print(fp[:5])"
   ]
  },
  {
   "cell_type": "code",
   "execution_count": 4,
   "metadata": {},
   "outputs": [
    {
     "name": "stdout",
     "output_type": "stream",
     "text": [
      "2 256\n"
     ]
    }
   ],
   "source": [
    "fps = rxnfp_generator.convert_batch([example_rxn, example_rxn])\n",
    "print(len(fps), len(fps[0]))"
   ]
  },
  {
   "cell_type": "code",
   "execution_count": 5,
   "metadata": {},
   "outputs": [],
   "source": [
    "# Train classifier\n",
    "import json\n",
    "import copy\n",
    "import random\n",
    "import pandas as pd\n",
    "import numpy as np\n",
    "from sklearn import metrics\n",
    "import random\n",
    "from sklearn.linear_model import LogisticRegression"
   ]
  },
  {
   "cell_type": "code",
   "execution_count": 6,
   "metadata": {},
   "outputs": [],
   "source": [
    "#hide\n",
    "def evaluate_model(model, fingerprints, corresponding_classes, all_classes, all_classes_names):\n",
    "    \n",
    "    preds = model.predict(fingerprints)\n",
    "    predicted_classes = [all_classes[x] for x in preds]\n",
    "    expected_classes =[all_classes[x] for x in corresponding_classes]\n",
    "\n",
    "    confusion_matrix = metrics.confusion_matrix(corresponding_classes, preds)\n",
    "    colCounts = confusion_matrix.sum(axis=0)\n",
    "    rowCounts = confusion_matrix.sum(axis=1)\n",
    "\n",
    "    print(' & recall & prec & F-score  &   reaction class &  \\\\\\\\ ')\n",
    "    sum_recall=0\n",
    "    sum_prec=0\n",
    "    for i, rxn_class in enumerate(all_classes):\n",
    "        recall = 0\n",
    "        if rowCounts[i] > 0:\n",
    "            recall = float(confusion_matrix[i,i])/rowCounts[i]\n",
    "        sum_recall += recall\n",
    "        prec = 0\n",
    "        if colCounts[i] > 0:\n",
    "            prec = float(confusion_matrix[i,i])/colCounts[i]\n",
    "        sum_prec += prec\n",
    "        f_score = 0\n",
    "        if (recall + prec) > 0:\n",
    "            f_score = 2 * (recall * prec) / (recall + prec)   \n",
    "        print('{:2d} & {:.4f} & {:.4f} &{:.4f} & {:9s} &{:s} \\\\\\\\'.format(i, recall, prec, f_score, all_classes_names[rxn_class], rxn_class))\n",
    "    \n",
    "    mean_recall = sum_recall/len(all_classes)\n",
    "    mean_prec = sum_prec/len(all_classes)\n",
    "    if (mean_recall+mean_prec) > 0:\n",
    "        mean_fscore = 2*(mean_recall*mean_prec)/(mean_recall+mean_prec)\n",
    "    print(\" &  {:.2f} & {:.2f} & {:.2f} & Average & \\\\\\\\ \".format(mean_recall,mean_prec,mean_fscore))\n",
    "    \n",
    "    return confusion_matrix\n",
    "\n",
    "def labelled_cmat(confusion_matrix, labels,\n",
    "                  figsize=(20,15), label_extras=None, \n",
    "                  dpi=300,threshold=0.01, \n",
    "                  xlabel=True, ylabel=True, rotation=90):\n",
    "    from matplotlib import pyplot as plt\n",
    "    \n",
    "    rowCounts = confusion_matrix.sum(axis=1)\n",
    "    cmat_percent = confusion_matrix/rowCounts[:,None]\n",
    "    #zero all elements that are less than 1% of the row contents\n",
    "    ncm = cmat_percent*(cmat_percent>threshold)\n",
    "\n",
    "    fig = plt.figure(1,figsize=figsize,dpi=dpi)\n",
    "    ax = fig.add_subplot(1,1,1)\n",
    "    fig.set_size_inches(figsize)\n",
    "    fig.set_dpi(dpi)\n",
    "    # pax=ax.pcolor(ncm,cmap=cm.ocean_r)\n",
    "    # pax=ax.pcolor(ncm,cmap='gist_earth_r')\n",
    "\n",
    "    pax=ax.pcolor(ncm,cmap='terrain_r')\n",
    "    ax.set_frame_on(True)\n",
    "\n",
    "    # put the major ticks at the middle of each cell\n",
    "    ax.set_yticks(np.arange(confusion_matrix.shape[0])+0.5, minor=False)\n",
    "    ax.set_xticks(np.arange(confusion_matrix.shape[1])+0.5, minor=False)\n",
    "\n",
    "    # want a more natural, table-like display\n",
    "    ax.invert_yaxis()\n",
    "    ax.xaxis.tick_top()\n",
    "\n",
    "    if label_extras is not None:\n",
    "        labels = [' {:s} {:s}'.format(x,label_extras[x].strip()) for x in labels]\n",
    "    \n",
    "    ax.set_xticklabels([], minor=False) \n",
    "    ax.set_yticklabels([], minor=False)\n",
    "\n",
    "    if xlabel:\n",
    "        ax.set_xticklabels(labels, minor=False, rotation=rotation, horizontalalignment='left') \n",
    "    if ylabel:\n",
    "        ax.set_yticklabels(labels, minor=False)\n",
    "\n",
    "    ax.grid(True)\n",
    "    fig.colorbar(pax)\n",
    "    fig.tight_layout()\n",
    "    return fig"
   ]
  },
  {
   "cell_type": "code",
   "execution_count": 9,
   "metadata": {},
   "outputs": [],
   "source": [
    "# data\n",
    "with open('../rxnfp/data/rxnclass2id.json', 'r') as f:\n",
    "    rxnclass2id = json.load(f)\n",
    "\n",
    "with open('../rxnfp/data/rxnclass2name.json', 'r') as f:\n",
    "    rxnclass2name = json.load(f)\n",
    "all_classes =sorted(rxnclass2id.keys())"
   ]
  },
  {
   "cell_type": "code",
   "execution_count": 13,
   "metadata": {},
   "outputs": [
    {
     "ename": "FileNotFoundError",
     "evalue": "[Errno 2] No such file or directory: '../rxnfp/ata/fps_pretrained.npz'",
     "output_type": "error",
     "traceback": [
      "\u001b[0;31m---------------------------------------------------------------------------\u001b[0m",
      "\u001b[0;31mFileNotFoundError\u001b[0m                         Traceback (most recent call last)",
      "\u001b[0;32m<ipython-input-13-0c7695ab3b99>\u001b[0m in \u001b[0;36m<module>\u001b[0;34m()\u001b[0m\n\u001b[1;32m      3\u001b[0m \u001b[0mschneider_df\u001b[0m \u001b[0;34m=\u001b[0m \u001b[0mpd\u001b[0m\u001b[0;34m.\u001b[0m\u001b[0mread_csv\u001b[0m\u001b[0;34m(\u001b[0m\u001b[0;34m'../rxnfp/data/schneider50k.tsv'\u001b[0m\u001b[0;34m,\u001b[0m \u001b[0msep\u001b[0m\u001b[0;34m=\u001b[0m\u001b[0;34m'\\t'\u001b[0m\u001b[0;34m,\u001b[0m \u001b[0mindex_col\u001b[0m\u001b[0;34m=\u001b[0m\u001b[0;36m0\u001b[0m\u001b[0;34m)\u001b[0m\u001b[0;34m\u001b[0m\u001b[0;34m\u001b[0m\u001b[0m\n\u001b[1;32m      4\u001b[0m \u001b[0mft_10k_fps\u001b[0m \u001b[0;34m=\u001b[0m \u001b[0mnp\u001b[0m\u001b[0;34m.\u001b[0m\u001b[0mload\u001b[0m\u001b[0;34m(\u001b[0m\u001b[0;34m'../rxnfp/data/fps_ft_10k.npz'\u001b[0m\u001b[0;34m)\u001b[0m\u001b[0;34m[\u001b[0m\u001b[0;34m'fps'\u001b[0m\u001b[0;34m]\u001b[0m\u001b[0;34m\u001b[0m\u001b[0;34m\u001b[0m\u001b[0m\n\u001b[0;32m----> 5\u001b[0;31m \u001b[0mft_pretrained\u001b[0m \u001b[0;34m=\u001b[0m \u001b[0mnp\u001b[0m\u001b[0;34m.\u001b[0m\u001b[0mload\u001b[0m\u001b[0;34m(\u001b[0m\u001b[0;34m'../rxnfp/ata/fps_pretrained.npz'\u001b[0m\u001b[0;34m)\u001b[0m\u001b[0;34m[\u001b[0m\u001b[0;34m'fps'\u001b[0m\u001b[0;34m]\u001b[0m\u001b[0;34m\u001b[0m\u001b[0;34m\u001b[0m\u001b[0m\n\u001b[0m\u001b[1;32m      6\u001b[0m \u001b[0mschneider_df\u001b[0m\u001b[0;34m[\u001b[0m\u001b[0;34m'ft_10k'\u001b[0m\u001b[0;34m]\u001b[0m \u001b[0;34m=\u001b[0m \u001b[0;34m[\u001b[0m\u001b[0mfp\u001b[0m \u001b[0;32mfor\u001b[0m \u001b[0mfp\u001b[0m \u001b[0;32min\u001b[0m \u001b[0mft_10k_fps\u001b[0m\u001b[0;34m]\u001b[0m\u001b[0;34m\u001b[0m\u001b[0;34m\u001b[0m\u001b[0m\n\u001b[1;32m      7\u001b[0m \u001b[0mschneider_df\u001b[0m\u001b[0;34m[\u001b[0m\u001b[0;34m'ft_pretrained'\u001b[0m\u001b[0;34m]\u001b[0m \u001b[0;34m=\u001b[0m \u001b[0;34m[\u001b[0m\u001b[0mfp\u001b[0m \u001b[0;32mfor\u001b[0m \u001b[0mfp\u001b[0m \u001b[0;32min\u001b[0m \u001b[0mft_pretrained\u001b[0m\u001b[0;34m]\u001b[0m\u001b[0;34m\u001b[0m\u001b[0;34m\u001b[0m\u001b[0m\n",
      "\u001b[0;32m/Users/dsw46/mambaforge/envs/rxnfp/lib/python3.6/site-packages/numpy/lib/npyio.py\u001b[0m in \u001b[0;36mload\u001b[0;34m(file, mmap_mode, allow_pickle, fix_imports, encoding)\u001b[0m\n\u001b[1;32m    414\u001b[0m             \u001b[0mown_fid\u001b[0m \u001b[0;34m=\u001b[0m \u001b[0;32mFalse\u001b[0m\u001b[0;34m\u001b[0m\u001b[0;34m\u001b[0m\u001b[0m\n\u001b[1;32m    415\u001b[0m         \u001b[0;32melse\u001b[0m\u001b[0;34m:\u001b[0m\u001b[0;34m\u001b[0m\u001b[0;34m\u001b[0m\u001b[0m\n\u001b[0;32m--> 416\u001b[0;31m             \u001b[0mfid\u001b[0m \u001b[0;34m=\u001b[0m \u001b[0mstack\u001b[0m\u001b[0;34m.\u001b[0m\u001b[0menter_context\u001b[0m\u001b[0;34m(\u001b[0m\u001b[0mopen\u001b[0m\u001b[0;34m(\u001b[0m\u001b[0mos_fspath\u001b[0m\u001b[0;34m(\u001b[0m\u001b[0mfile\u001b[0m\u001b[0;34m)\u001b[0m\u001b[0;34m,\u001b[0m \u001b[0;34m\"rb\"\u001b[0m\u001b[0;34m)\u001b[0m\u001b[0;34m)\u001b[0m\u001b[0;34m\u001b[0m\u001b[0;34m\u001b[0m\u001b[0m\n\u001b[0m\u001b[1;32m    417\u001b[0m             \u001b[0mown_fid\u001b[0m \u001b[0;34m=\u001b[0m \u001b[0;32mTrue\u001b[0m\u001b[0;34m\u001b[0m\u001b[0;34m\u001b[0m\u001b[0m\n\u001b[1;32m    418\u001b[0m \u001b[0;34m\u001b[0m\u001b[0m\n",
      "\u001b[0;31mFileNotFoundError\u001b[0m: [Errno 2] No such file or directory: '../rxnfp/ata/fps_pretrained.npz'"
     ]
    }
   ],
   "source": [
    "# data\n",
    "import pickle\n",
    "schneider_df = pd.read_csv('../rxnfp/data/schneider50k.tsv', sep='\\t', index_col=0)\n",
    "ft_10k_fps = np.load('../rxnfp/data/fps_ft_10k.npz')['fps']\n",
    "ft_pretrained = np.load('../rxnfp/ata/fps_pretrained.npz')['fps']\n",
    "schneider_df['ft_10k'] = [fp for fp in ft_10k_fps]\n",
    "schneider_df['ft_pretrained'] = [fp for fp in ft_pretrained]\n",
    "schneider_df['class_id'] = [rxnclass2id[c] for c in schneider_df.rxn_class]\n",
    "schneider_df.head()"
   ]
  },
  {
   "cell_type": "code",
   "execution_count": 2,
   "metadata": {},
   "outputs": [],
   "source": [
    "import pandas as pd"
   ]
  },
  {
   "cell_type": "code",
   "execution_count": 3,
   "metadata": {},
   "outputs": [],
   "source": [
    "df = pd.read_pickle('/Users/dsw46/Downloads/uspto_50.pickle')"
   ]
  },
  {
   "cell_type": "code",
   "execution_count": 9,
   "metadata": {},
   "outputs": [
    {
     "data": {
      "text/plain": [
       "Index(['reactants_mol', 'products_mol', 'reaction_type', 'set'], dtype='object')"
      ]
     },
     "execution_count": 9,
     "metadata": {},
     "output_type": "execute_result"
    }
   ],
   "source": [
    "df.columns"
   ]
  },
  {
   "cell_type": "code",
   "execution_count": 10,
   "metadata": {},
   "outputs": [
    {
     "data": {
      "image/png": "[encoded data removed]",
      "text/plain": [
       "<rdkit.Chem.rdchem.Mol at 0x7f86966316c0>"
      ]
     },
     "execution_count": 10,
     "metadata": {},
     "output_type": "execute_result"
    }
   ],
   "source": [
    "df['reactants_mol'][0]"
   ]
  }
 ],
 "metadata": {
  "kernelspec": {
   "display_name": "Python 3",
   "language": "python",
   "name": "python3"
  },
  "language_info": {
   "codemirror_mode": {
    "name": "ipython",
    "version": 3
   },
   "file_extension": ".py",
   "mimetype": "text/x-python",
   "name": "python",
   "nbconvert_exporter": "python",
   "pygments_lexer": "ipython3",
   "version": "3.10.12"
  },
  "orig_nbformat": 4
 },
 "nbformat": 4,
 "nbformat_minor": 2
}

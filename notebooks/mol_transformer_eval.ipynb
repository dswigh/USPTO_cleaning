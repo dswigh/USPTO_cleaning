{
 "cells": [
  {
   "cell_type": "markdown",
   "metadata": {},
   "source": [
    "# Evaluation"
   ]
  },
  {
   "cell_type": "code",
   "execution_count": 1,
   "metadata": {},
   "outputs": [],
   "source": [
    "# Prediction accuracy may depend on whether stereochemistry is preserved or removed\n",
    "# We should calculate both accuracies\n",
    "from rdkit import Chem\n",
    "from rdkit.Chem import AllChem\n",
    "import numpy as np\n",
    "from rdkit import RDLogger \n",
    "import re\n",
    "RDLogger.DisableLog('rdApp.*')\n",
    "from tqdm import tqdm"
   ]
  },
  {
   "cell_type": "code",
   "execution_count": 2,
   "metadata": {},
   "outputs": [],
   "source": [
    "def calc_accuracy(path_ground_truth, path_predictions):\n",
    "    \"\"\"\n",
    "    path_ground_truth: path to ground truth file (.txt)\n",
    "    path_predictions: path to predictions file (.txt)\n",
    "    \"\"\"\n",
    "    # Step 1: Read in the two text files\n",
    "    with open(path_ground_truth, 'r') as f_gt, open(path_predictions, 'r') as f_pred:\n",
    "        gt_lines = f_gt.readlines()\n",
    "        pred_lines = f_pred.readlines()\n",
    "    \n",
    "    # Step 2: Check for equal length\n",
    "    assert len(gt_lines) == len(pred_lines), \"Ground truth and predictions lists must have the same length.\"\n",
    "    \n",
    "    # Step 3: Initialize variables\n",
    "    acc_with_stereo = 0\n",
    "    acc_wo_stereo = 0\n",
    "    invalid_smiles = 0\n",
    "    \n",
    "    # Step 4: Compare SMILES strings\n",
    "    for gt_smiles, pred_smiles in tqdm(zip(gt_lines, pred_lines), total=len(gt_lines)):\n",
    "        gt_mol = Chem.MolFromSmiles(gt_smiles.strip().replace(\" \", \"\"))\n",
    "        pred_mol = Chem.MolFromSmiles(pred_smiles.strip().replace(\" \", \"\"))\n",
    "        \n",
    "        if gt_mol is not None and pred_mol is not None:\n",
    "            # Step 4.1: Check with stereo\n",
    "            if set(Chem.MolToSmiles(gt_mol)) == set(Chem.MolToSmiles(pred_mol)):\n",
    "                acc_with_stereo += 1\n",
    "                acc_wo_stereo += 1\n",
    "            else:\n",
    "                # Step 4.2: Check without stereo\n",
    "                Chem.RemoveStereochemistry(gt_mol)\n",
    "                Chem.RemoveStereochemistry(pred_mol)\n",
    "                if set(Chem.MolToSmiles(gt_mol)) == set(Chem.MolToSmiles(pred_mol)):\n",
    "                    acc_wo_stereo += 1\n",
    "        else:\n",
    "            invalid_smiles += 1\n",
    "    \n",
    "    # Step 5: Calculate and print accuracy\n",
    "    total_samples = len(gt_lines)\n",
    "    accuracy_with_stereo = acc_with_stereo / total_samples\n",
    "    accuracy_without_stereo = acc_wo_stereo / total_samples\n",
    "    invalid_smiles_ratio = invalid_smiles / total_samples\n",
    "    \n",
    "    print(f\"Accuracy with stereochemical information: {accuracy_with_stereo:.2%}\")\n",
    "    print(f\"Accuracy without stereochemical information: {accuracy_without_stereo:.2%}\")\n",
    "    print(f\"Invalid SMILES ratio: {invalid_smiles_ratio:.2%}\")\n",
    "\n",
    "# # Example usage\n",
    "# calc_accuracy(\"ground_truth.txt\", \"predictions.txt\")\n"
   ]
  },
  {
   "cell_type": "code",
   "execution_count": 4,
   "metadata": {},
   "outputs": [],
   "source": [
    "parent = '/Users/dsw46/Projects_local/ORDerly_jcim_response/transformer_data/'"
   ]
  },
  {
   "cell_type": "code",
   "execution_count": 6,
   "metadata": {},
   "outputs": [
    {
     "name": "stderr",
     "output_type": "stream",
     "text": [
      "100%|██████████| 172535/172535 [01:40<00:00, 1719.08it/s]"
     ]
    },
    {
     "name": "stdout",
     "output_type": "stream",
     "text": [
      "Accuracy with stereochemical information: 83.86%\n",
      "Accuracy without stereochemical information: 85.84%\n",
      "Invalid SMILES ratio: 0.34%\n"
     ]
    },
    {
     "name": "stderr",
     "output_type": "stream",
     "text": [
      "\n"
     ]
    }
   ],
   "source": [
    "\n",
    "# orderly_forward_separated\n",
    "ground_truth_path = parent + 'orderly_forward_separated/tgt-test.txt'\n",
    "predictions_path = parent + 'orderly_forward_separated/predictions_ofs_20_on_orderly_forward_separated_test.txt'\n",
    "calc_accuracy(ground_truth_path, predictions_path)"
   ]
  },
  {
   "cell_type": "code",
   "execution_count": 10,
   "metadata": {},
   "outputs": [
    {
     "name": "stderr",
     "output_type": "stream",
     "text": [
      "100%|██████████| 172535/172535 [01:38<00:00, 1750.40it/s]"
     ]
    },
    {
     "name": "stdout",
     "output_type": "stream",
     "text": [
      "Accuracy with stereochemical information: 81.96%\n",
      "Accuracy without stereochemical information: 83.99%\n",
      "Invalid SMILES ratio: 0.36%\n"
     ]
    },
    {
     "name": "stderr",
     "output_type": "stream",
     "text": [
      "\n"
     ]
    }
   ],
   "source": [
    "# orderly_forward_mixed\n",
    "ground_truth_path = parent + 'orderly_forward_mixed/tgt-test.txt'\n",
    "predictions_path = parent + 'orderly_forward_mixed/predictions_ofm_20_on_orderly_forward_mixed_test.txt'\n",
    "calc_accuracy(ground_truth_path, predictions_path)"
   ]
  },
  {
   "cell_type": "code",
   "execution_count": 13,
   "metadata": {},
   "outputs": [
    {
     "name": "stderr",
     "output_type": "stream",
     "text": [
      "100%|██████████| 174161/174161 [02:08<00:00, 1355.50it/s]"
     ]
    },
    {
     "name": "stdout",
     "output_type": "stream",
     "text": [
      "Accuracy with stereochemical information: 51.28%\n",
      "Accuracy without stereochemical information: 52.30%\n",
      "Invalid SMILES ratio: 0.21%\n"
     ]
    },
    {
     "name": "stderr",
     "output_type": "stream",
     "text": [
      "\n"
     ]
    }
   ],
   "source": [
    "# orderly_retro\n",
    "ground_truth_path = parent + 'orderly_retro/tgt-test.txt'\n",
    "predictions_path = parent + 'orderly_retro/predictions_or_20_on_orderly_retro_test.txt'\n",
    "calc_accuracy(ground_truth_path, predictions_path)"
   ]
  },
  {
   "cell_type": "code",
   "execution_count": 25,
   "metadata": {},
   "outputs": [
    {
     "name": "stderr",
     "output_type": "stream",
     "text": [
      "100%|██████████| 50210/50210 [00:30<00:00, 1621.25it/s]"
     ]
    },
    {
     "name": "stdout",
     "output_type": "stream",
     "text": [
      "Accuracy with stereochemical information: 66.10%\n",
      "Accuracy without stereochemical information: 66.92%\n",
      "Invalid SMILES ratio: 0.40%\n"
     ]
    },
    {
     "name": "stderr",
     "output_type": "stream",
     "text": [
      "\n"
     ]
    }
   ],
   "source": [
    "# orderly_forward_separated\n",
    "# non uspto\n",
    "ground_truth_path = parent + 'non_uspto_forward_separated/tgt-test.txt'\n",
    "predictions_path = parent + 'non_uspto_forward_separated/predictions_ofs_20_on_not_uspto_forward_separated_test.txt'\n",
    "calc_accuracy(ground_truth_path, predictions_path)"
   ]
  },
  {
   "cell_type": "code",
   "execution_count": 23,
   "metadata": {},
   "outputs": [
    {
     "name": "stderr",
     "output_type": "stream",
     "text": [
      "100%|██████████| 50210/50210 [00:28<00:00, 1754.40it/s]"
     ]
    },
    {
     "name": "stdout",
     "output_type": "stream",
     "text": [
      "Accuracy with stereochemical information: 84.12%\n",
      "Accuracy without stereochemical information: 85.20%\n",
      "Invalid SMILES ratio: 0.27%\n"
     ]
    },
    {
     "name": "stderr",
     "output_type": "stream",
     "text": [
      "\n"
     ]
    }
   ],
   "source": [
    "# orderly_forward_mixed\n",
    "# non uspto\n",
    "ground_truth_path = parent + 'non_uspto_forward_mixed/tgt-test.txt'\n",
    "predictions_path = parent + 'non_uspto_forward_mixed/predictions_ofm_20_on_not_uspto_forward_mixed_test.txt'\n",
    "calc_accuracy(ground_truth_path, predictions_path)"
   ]
  },
  {
   "cell_type": "code",
   "execution_count": 24,
   "metadata": {},
   "outputs": [
    {
     "name": "stderr",
     "output_type": "stream",
     "text": [
      "100%|██████████| 49206/49206 [00:39<00:00, 1237.86it/s]"
     ]
    },
    {
     "name": "stdout",
     "output_type": "stream",
     "text": [
      "Accuracy with stereochemical information: 37.22%\n",
      "Accuracy without stereochemical information: 37.42%\n",
      "Invalid SMILES ratio: 0.27%\n"
     ]
    },
    {
     "name": "stderr",
     "output_type": "stream",
     "text": [
      "\n"
     ]
    }
   ],
   "source": [
    "# orderly_retro\n",
    "# non uspto\n",
    "ground_truth_path = parent + 'non_uspto_retro/tgt-test.txt'\n",
    "predictions_path = parent + 'non_uspto_retro/predictions_or_20_on_not_uspto_retro_test.txt'\n",
    "calc_accuracy(ground_truth_path, predictions_path)"
   ]
  },
  {
   "cell_type": "code",
   "execution_count": null,
   "metadata": {},
   "outputs": [],
   "source": []
  }
 ],
 "metadata": {
  "kernelspec": {
   "display_name": "Python 3",
   "language": "python",
   "name": "python3"
  },
  "language_info": {
   "codemirror_mode": {
    "name": "ipython",
    "version": 3
   },
   "file_extension": ".py",
   "mimetype": "text/x-python",
   "name": "python",
   "nbconvert_exporter": "python",
   "pygments_lexer": "ipython3",
   "version": "3.10.8"
  },
  "orig_nbformat": 4
 },
 "nbformat": 4,
 "nbformat_minor": 2
}

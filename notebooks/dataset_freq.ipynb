{
 "cells": [
  {
   "cell_type": "code",
   "execution_count": 1,
   "metadata": {},
   "outputs": [],
   "source": [
    "import pandas as pd\n",
    "from typing import List\n",
    "import numpy as np"
   ]
  },
  {
   "attachments": {},
   "cell_type": "markdown",
   "metadata": {},
   "source": [
    "# Unique values above/below a threshold"
   ]
  },
  {
   "cell_type": "code",
   "execution_count": 2,
   "metadata": {},
   "outputs": [],
   "source": [
    "def get_freq(df, cols:List[str], threshold:int):\n",
    "    \n",
    "    # Count the frequency of unique strings\n",
    "    df_freq = df[cols].stack().value_counts()\n",
    "    \n",
    "    # Number of unique strings with a count above the threshold\n",
    "    above_threshold = df_freq[df_freq >= threshold].shape[0]\n",
    "    \n",
    "    # Number of unique strings with a count below the threshold\n",
    "    below_threshold = df_freq[df_freq < threshold].shape[0]\n",
    "    \n",
    "    # Percentage of all values that are None\n",
    "    none_percentage = df[cols].isnull().mean().mean() * 100\n",
    "    none_percentage = round(none_percentage, 2)\n",
    "    \n",
    "    if \"reactant_000\" in cols or \"product_000\" in cols:\n",
    "        return df_freq.shape[0], 0, none_percentage\n",
    "    else:\n",
    "        return above_threshold, below_threshold, none_percentage\n",
    "\n",
    "    \n"
   ]
  },
  {
   "cell_type": "code",
   "execution_count": 3,
   "metadata": {},
   "outputs": [],
   "source": [
    "def build_overleaf_table(path, list_of_cols, threshold):\n",
    "    df = pd.read_parquet(path)\n",
    "    for cols in list_of_cols:\n",
    "        above_threshold, below_threshold, none_percentage = get_freq(df, cols, threshold)\n",
    "        if len(cols) > 4:\n",
    "            component = \"everything\"\n",
    "        else:\n",
    "            component, _ = cols[0].split(\"_\")\n",
    "        \n",
    "    \n",
    "        table_entry = f\"\"\"\n",
    "        {component} & {above_threshold} // {below_threshold} // {none_percentage} & \n",
    "        \"\"\"\n",
    "        print(table_entry)\n",
    "    \n",
    "    \n",
    "    "
   ]
  },
  {
   "cell_type": "code",
   "execution_count": 4,
   "metadata": {},
   "outputs": [],
   "source": [
    "solv_cols = [\"solvent_000\", \"solvent_001\"]\n",
    "catalyst_cols = [\"catalyst_000\"]\n",
    "agent_cols = [\"agent_000\", \"agent_001\", \"agent_002\"]\n",
    "reagent_cols = [\"reagent_000\", \"reagent_001\"]\n",
    "reactant_cols = [\"reactant_000\", \"reactant_001\"]\n",
    "product_cols = [\"product_000\"]"
   ]
  },
  {
   "cell_type": "code",
   "execution_count": 5,
   "metadata": {},
   "outputs": [
    {
     "name": "stdout",
     "output_type": "stream",
     "text": [
      "\n",
      "        reactant & 317184 // 0 // 18.35 & \n",
      "        \n",
      "\n",
      "        product & 382850 // 0 // 0.0 & \n",
      "        \n",
      "\n",
      "        solvent & 85 // 313 // 28.02 & \n",
      "        \n",
      "\n",
      "        agent & 255 // 11945 // 37.04 & \n",
      "        \n"
     ]
    }
   ],
   "source": [
    "path = \"/Users/dsw46/Projects_local/orderly_07_06/ORDerly/data/orderly/uspto_no_trust/filtered/filtered_orderly_ord.parquet\"\n",
    "threshold = 100\n",
    "list_of_cols = [reactant_cols, product_cols, solv_cols, agent_cols]\n",
    "build_overleaf_table(path, list_of_cols, threshold)"
   ]
  },
  {
   "cell_type": "code",
   "execution_count": 6,
   "metadata": {},
   "outputs": [
    {
     "name": "stdout",
     "output_type": "stream",
     "text": [
      "\n",
      "        reactant & 40020 // 0 // 25.7 & \n",
      "        \n",
      "\n",
      "        product & 38816 // 0 // 0.0 & \n",
      "        \n",
      "\n",
      "        solvent & 29 // 204 // 40.88 & \n",
      "        \n",
      "\n",
      "        catalyst & 48 // 447 // 56.18 & \n",
      "        \n"
     ]
    }
   ],
   "source": [
    "path = \"/Users/dsw46/Projects_local/orderly_07_06/ORDerly/data/orderly/uspto_with_trust/filtered/filtered_orderly_ord.parquet\"\n",
    "threshold = 100\n",
    "list_of_cols = [reactant_cols, product_cols, solv_cols, catalyst_cols+reagent_cols]\n",
    "build_overleaf_table(path, list_of_cols, threshold)"
   ]
  },
  {
   "cell_type": "code",
   "execution_count": 4,
   "metadata": {},
   "outputs": [
    {
     "data": {
      "text/plain": [
       "(411538, 17)"
      ]
     },
     "execution_count": 4,
     "metadata": {},
     "output_type": "execute_result"
    }
   ],
   "source": [
    "path = \"/Users/dsw46/Projects_local/orderly_07_06/ORDerly/data/orderly/uspto_no_trust/filtered/filtered_orderly_ord.parquet\"\n",
    "df = pd.read_parquet(path)\n",
    "df.shape"
   ]
  },
  {
   "cell_type": "code",
   "execution_count": 2,
   "metadata": {},
   "outputs": [],
   "source": [
    "import pandas as pd"
   ]
  },
  {
   "cell_type": "code",
   "execution_count": 6,
   "metadata": {},
   "outputs": [
    {
     "data": {
      "text/plain": [
       "(382850,)"
      ]
     },
     "execution_count": 6,
     "metadata": {},
     "output_type": "execute_result"
    }
   ],
   "source": [
    "df['product_000'].value_counts().shape"
   ]
  },
  {
   "cell_type": "markdown",
   "metadata": {},
   "source": [
    "# Distance distributions - reaction"
   ]
  },
  {
   "cell_type": "code",
   "execution_count": 1,
   "metadata": {},
   "outputs": [],
   "source": [
    "import pandas as pd\n",
    "from tqdm import tqdm\n",
    "import numpy as np\n",
    "import seaborn as sns\n",
    "\n",
    "from rdkit.Chem import AllChem\n",
    "from rdkit.Chem import rdFingerprintGenerator\n",
    "from rdkit import Chem, DataStructs"
   ]
  },
  {
   "cell_type": "code",
   "execution_count": 7,
   "metadata": {},
   "outputs": [],
   "source": [
    "def distance_distribution(input_path, n, output_path='jaccard_distance_distribution.npy'):\n",
    "    # Step 1: Read in the path as a df with pandas\n",
    "    df = pd.read_parquet(input_path)\n",
    "    \n",
    "    # Step 2: Sample n rows from the df\n",
    "    sampled_df = df.sample(n)\n",
    "    \n",
    "    # Step 3: Create prod_cols and react_cols\n",
    "    prod_cols = [col for col in sampled_df.columns if 'product' in col]\n",
    "    react_cols = [col for col in sampled_df.columns if 'reactant' in col]\n",
    "    \n",
    "    # Step 4: Calculate count fingerprints for reactants and products\n",
    "    mfpgen = rdFingerprintGenerator.GetMorganGenerator(radius=2,fpSize=2048)\n",
    "    reaction_fps = []\n",
    "    for _, row in tqdm(sampled_df.iterrows(), total=len(sampled_df), desc='Creating fingerprints'):\n",
    "        reactants = [row[col] for col in react_cols if row[col] is not None]\n",
    "        products = [row[col] for col in prod_cols if row[col] is not None]\n",
    "\n",
    "        reactant_str = '.'.join(reactants)\n",
    "        product_str = '.'.join(products)\n",
    "\n",
    "        r_mol = Chem.MolFromSmiles(reactant_str)\n",
    "        p_mol = Chem.MolFromSmiles(product_str)\n",
    "        r_fp = mfpgen.GetCountFingerprint(r_mol)\n",
    "        p_fp = mfpgen.GetCountFingerprint(p_mol)\n",
    "        r_array = np.zeros((0,), dtype=np.int8)\n",
    "        p_array = np.zeros((0,), dtype=np.int8)\n",
    "        DataStructs.ConvertToNumpyArray(r_fp, r_array)\n",
    "        DataStructs.ConvertToNumpyArray(p_fp, p_array)\n",
    "        reaction_fp = p_array - r_array\n",
    "        \n",
    "        if np.linalg.norm(reaction_fp) == 0:\n",
    "            print('Zero vector found: ', reactant_str, ' -> ', product_str)\n",
    "        \n",
    "        reaction_fps += [reaction_fp]\n",
    "    \n",
    "    # Step 5: Calculate pairwise similarities and update histogram bins\n",
    "    bins = np.arange(-1.01, 1.01, 0.01)\n",
    "    hist = np.zeros(len(bins) - 1)\n",
    "    \n",
    "    def cosine_similarity(vec1, vec2):\n",
    "        vec1_norm = np.linalg.norm(vec1)\n",
    "        vec2_norm = np.linalg.norm(vec2)\n",
    "        if vec1_norm == 0 or vec2_norm == 0:\n",
    "            return 0\n",
    "        return np.dot(vec1, vec2) / (vec1_norm * vec2_norm)\n",
    "    \n",
    "    for i in tqdm(range(n)):\n",
    "        for j in range(i+1, n):\n",
    "            # similarity = DataStructs.TanimotoSimilarity(reaction_fps[i], reaction_fps[j])\n",
    "            \n",
    "            dist = cosine_similarity(reaction_fps[i], reaction_fps[j])\n",
    "            bin_index = int((dist -0.000001 + 1.01) / 0.01)  # Calculate the bin index #subtract a bit to ensure we don't hit 1.0 when dist is 1.0\n",
    "            hist[bin_index] += 1\n",
    "            \n",
    "\n",
    "    \n",
    "    \n",
    "    # Step 7: Save the Jaccard distance distribution\n",
    "    np.save(output_path, hist)\n",
    "    \n",
    "    # # Optionally, you can plot the distribution\n",
    "    # plt.bar(bins[:-1], hist, width=0.01)\n",
    "    # plt.xlabel('Jaccard Distance')\n",
    "    # plt.ylabel('Frequency')\n",
    "    # plt.title('Jaccard Distance Distribution')\n",
    "    # plt.savefig('jaccard_distance_distribution.png')\n",
    "    # plt.show()\n",
    "    \n",
    "    # hist, _ = np.histogram(jaccard_distances, bins=bins)\n"
   ]
  },
  {
   "cell_type": "code",
   "execution_count": 8,
   "metadata": {},
   "outputs": [
    {
     "name": "stderr",
     "output_type": "stream",
     "text": [
      "Creating fingerprints: 100%|██████████| 100/100 [00:00<00:00, 796.16it/s]\n",
      "100%|██████████| 100/100 [00:00<00:00, 1322.87it/s]\n"
     ]
    }
   ],
   "source": [
    "# Call the function with your desired path and n\n",
    "n = 100\n",
    "# orderly benchmark\n",
    "distance_distribution('/Users/dsw46/Projects_local/orderly_reviewer_response/orderly_generated_datasets/forward_orderly_benchmark.parquet', n, '/Users/dsw46/Projects_local/orderly_reviewer_response/orderly_tanimoto_dist/forward_orderly_benchmark.npy')"
   ]
  },
  {
   "cell_type": "code",
   "execution_count": 9,
   "metadata": {},
   "outputs": [
    {
     "name": "stderr",
     "output_type": "stream",
     "text": [
      "Creating fingerprints: 100%|██████████| 100/100 [00:00<00:00, 1042.62it/s]\n",
      "100%|██████████| 100/100 [00:00<00:00, 1369.75it/s]\n"
     ]
    }
   ],
   "source": [
    "n=100\n",
    "#mid\n",
    "distance_distribution('/Users/dsw46/Projects_local/orderly_reviewer_response/orderly_generated_datasets/forward_mid_filtering.parquet', n, '/Users/dsw46/Projects_local/orderly_reviewer_response/orderly_tanimoto_dist/forward_mid_filtering.npy')\n"
   ]
  },
  {
   "cell_type": "code",
   "execution_count": 10,
   "metadata": {},
   "outputs": [
    {
     "name": "stderr",
     "output_type": "stream",
     "text": [
      "Creating fingerprints: 100%|██████████| 100/100 [00:00<00:00, 974.17it/s]\n",
      "100%|██████████| 100/100 [00:00<00:00, 1355.89it/s]\n"
     ]
    }
   ],
   "source": [
    "n=100\n",
    "#loose\n",
    "distance_distribution('/Users/dsw46/Projects_local/orderly_reviewer_response/orderly_generated_datasets/forward_loose_filtering.parquet', n, '/Users/dsw46/Projects_local/orderly_reviewer_response/orderly_tanimoto_dist/forward_loose_filtering.npy')"
   ]
  },
  {
   "cell_type": "code",
   "execution_count": 11,
   "metadata": {},
   "outputs": [],
   "source": [
    "import numpy as np\n",
    "import seaborn as sns\n",
    "import matplotlib.pyplot as plt\n",
    "from rdkit.Chem import AllChem\n",
    "\n",
    "def plot_jaccard_distance_line_graph(path1, path2, path3, save_path=None):\n",
    "    # Load the Jaccard distance distributions from the provided paths\n",
    "    hist1 = np.load(path1)\n",
    "    hist2 = np.load(path2)\n",
    "    hist3 = np.load(path3)\n",
    "    \n",
    "    hist1= hist1\n",
    "    hist2= hist2\n",
    "    hist3= hist3\n",
    "    \n",
    "    # Ensure the histograms have the same number of bins\n",
    "    assert hist1.shape == hist2.shape == hist3.shape, \"Histogram shapes must match\"\n",
    "    \n",
    "    bins = np.arange(-1.01, 1.01, 0.01)\n",
    "    \n",
    "    # Calculate bin centers for plotting\n",
    "    bin_centers = (bins[:-1] + bins[1:]) / 2\n",
    "    \n",
    "    # Plot the line graphs using Seaborn\n",
    "    sns.set(style=\"white\")\n",
    "    plt.figure(figsize=(10, 6))\n",
    "    \n",
    "    # Plot line graphs\n",
    "    sns.lineplot(x=bin_centers, y=hist1, color='blue', label='Histogram 1')\n",
    "    sns.lineplot(x=bin_centers, y=hist2, color='orange', label='Histogram 2')\n",
    "    sns.lineplot(x=bin_centers, y=hist3, color='green', label='Histogram 3')\n",
    "    \n",
    "    # Shade the area under the lines with the same color as the lines\n",
    "    plt.fill_between(bin_centers, hist1, color='blue', alpha=0.2)\n",
    "    plt.fill_between(bin_centers, hist2, color='orange', alpha=0.2)\n",
    "    plt.fill_between(bin_centers, hist3, color='green', alpha=0.2)\n",
    "    \n",
    "    plt.xlabel('Cosine Similarity')\n",
    "    plt.ylabel('Density')\n",
    "    plt.title('Cosine Similarity Distribution')\n",
    "    plt.legend()\n",
    "    \n",
    "    # Save the plot if a save_path is provided\n",
    "    if save_path is not None:\n",
    "        plt.savefig(save_path, dpi=600, bbox_inches='tight')\n",
    "    \n",
    "    # Display the plot\n",
    "    plt.show()\n",
    "\n"
   ]
  },
  {
   "cell_type": "code",
   "execution_count": 12,
   "metadata": {},
   "outputs": [
    {
     "data": {
      "image/png": "[encoded data removed]",
      "text/plain": [
       "<Figure size 720x432 with 1 Axes>"
      ]
     },
     "metadata": {
      "needs_background": "light"
     },
     "output_type": "display_data"
    }
   ],
   "source": [
    "\n",
    "# Call the function with the paths to the Jaccard distance distribution files\n",
    "path1 = '/Users/dsw46/Projects_local/orderly_reviewer_response/orderly_tanimoto_dist/forward_orderly_benchmark.npy'\n",
    "path2 = '/Users/dsw46/Projects_local/orderly_reviewer_response/orderly_tanimoto_dist/forward_mid_filtering.npy'\n",
    "path3 = '/Users/dsw46/Projects_local/orderly_reviewer_response/orderly_tanimoto_dist/forward_loose_filtering.npy'\n",
    "save_path = '/Users/dsw46/Projects_local/orderly_reviewer_response/orderly_tanimoto_dist/forward_jaccard_distance.png'\n",
    "plot_jaccard_distance_line_graph(path1, path2, path3, save_path)"
   ]
  },
  {
   "cell_type": "code",
   "execution_count": null,
   "metadata": {},
   "outputs": [],
   "source": []
  },
  {
   "cell_type": "code",
   "execution_count": 18,
   "metadata": {},
   "outputs": [],
   "source": [
    "from rdkit.Chem import AllChem\n",
    "from rdkit.Chem import rdFingerprintGenerator\n",
    "from rdkit import Chem\n",
    "mol = Chem.MolFromSmiles(\"CCCCCCCCO\")\n",
    "mfpgen = rdFingerprintGenerator.GetMorganGenerator(radius=2,fpSize=2048)\n",
    "fp = mfpgen.GetCountFingerprint(mol)\n",
    "array = np.zeros((0,), dtype=np.int8)\n",
    "DataStructs.ConvertToNumpyArray(fp, array)"
   ]
  },
  {
   "cell_type": "code",
   "execution_count": 19,
   "metadata": {},
   "outputs": [
    {
     "data": {
      "text/plain": [
       "25"
      ]
     },
     "execution_count": 19,
     "metadata": {},
     "output_type": "execute_result"
    }
   ],
   "source": [
    "sum(array)"
   ]
  },
  {
   "cell_type": "markdown",
   "metadata": {},
   "source": [
    "# Distribution of tanimoto: products"
   ]
  },
  {
   "cell_type": "code",
   "execution_count": 1,
   "metadata": {},
   "outputs": [],
   "source": [
    "import pandas as pd\n",
    "from rdkit import Chem, DataStructs\n",
    "from rdkit.Chem import AllChem\n",
    "from tqdm import tqdm\n",
    "import numpy as np\n",
    "import matplotlib.pyplot as plt\n",
    "import seaborn as sns\n",
    "\n",
    "from rdkit.Chem import AllChem\n",
    "from rdkit.Chem import rdFingerprintGenerator\n",
    "from rdkit import Chem\n",
    "from scipy.spatial import distance"
   ]
  },
  {
   "cell_type": "code",
   "execution_count": 2,
   "metadata": {},
   "outputs": [],
   "source": [
    "def jaccard_distance_distribution(input_path, n, output_path='jaccard_distance_distribution.npy'):\n",
    "    # Step 1: Read in the path as a df with pandas\n",
    "    df = pd.read_parquet(input_path)\n",
    "    \n",
    "    # Step 2: Sample n rows from the df\n",
    "    sampled_df = df.sample(n)\n",
    "    \n",
    "    # Step 3: Create prod_cols and react_cols\n",
    "    prod_cols = [col for col in sampled_df.columns if 'product' in col]\n",
    "    ag_cols = [col for col in sampled_df.columns if 'agent' in col]\n",
    "    \n",
    "    # Step 4: Calculate count fingerprints for reactants and products\n",
    "    fps = []\n",
    "    mfpgen = rdFingerprintGenerator.GetMorganGenerator(radius=2,fpSize=2048)\n",
    "    for _, row in tqdm(sampled_df.iterrows(), total=len(sampled_df), desc='Creating fingerprints'):\n",
    "        ags = [row[col] for col in ag_cols if row[col] is not None]\n",
    "        products = [row[col] for col in prod_cols if row[col] is not None]\n",
    "\n",
    "        agent_str = '.'.join(ags)\n",
    "        product_str = '.'.join(products)\n",
    "        \n",
    "        # Convert SMILES string to RDKit molecule object\n",
    "        mol = Chem.MolFromSmiles(agent_str)\n",
    "\n",
    "        # Calculate the Morgan fingerprint\n",
    "        radius = 2  # Specify the fingerprint radius\n",
    "        nBits = 2048  # Specify the number of bits (length of fingerprint)\n",
    "        fp = mfpgen.GetCountFingerprint(mol)\n",
    "        array = np.zeros((0,), dtype=np.int8)\n",
    "        DataStructs.ConvertToNumpyArray(fp, array)\n",
    "        \n",
    "        fps += [array]\n",
    "    \n",
    "        \n",
    "    # Step 5: Calculate pairwise similarities and update histogram bins\n",
    "    # bins = np.arange(0, 1.01, 0.01)\n",
    "    # hist = np.zeros(len(bins)-1)\n",
    "    hist =[]\n",
    "    \n",
    "    for i in tqdm(range(n)):\n",
    "        for j in range(i+1, n):\n",
    "            # jaccard_distance = DataStructs.TanimotoSimilarity(fps[i], fps[j])\n",
    "            # jaccard_distance = distance.jaccard(fps[i], fps[j])\n",
    "            dist = np.linalg.norm(fps[i] - fps[j])\n",
    "            hist += [dist]\n",
    "            # bin_index = int((jaccard_distance - 0.000001) / 0.01) # need to subtract a bit in case there's similarity of 1.0\n",
    "            # hist[bin_index] += 1\n",
    "            \n",
    "            \n",
    "\n",
    "    \n",
    "    \n",
    "    # Step 7: Save the Jaccard distance distribution\n",
    "    np.save(output_path, hist)\n",
    "    \n",
    "    # # Optionally, you can plot the distribution\n",
    "    # plt.bar(bins[:-1], hist, width=0.01)\n",
    "    # plt.xlabel('Jaccard Distance')\n",
    "    # plt.ylabel('Frequency')\n",
    "    # plt.title('Jaccard Distance Distribution')\n",
    "    # plt.savefig('jaccard_distance_distribution.png')\n",
    "    # plt.show()\n",
    "    \n",
    "    # hist, _ = np.histogram(jaccard_distances, bins=bins)\n"
   ]
  },
  {
   "cell_type": "code",
   "execution_count": 4,
   "metadata": {},
   "outputs": [
    {
     "name": "stderr",
     "output_type": "stream",
     "text": [
      "Creating fingerprints:   0%|          | 0/1000 [00:00<?, ?it/s][17:32:21] WARNING: not removing hydrogen atom without neighbors\n",
      "[17:32:21] WARNING: not removing hydrogen atom without neighbors\n",
      "[17:32:21] WARNING: not removing hydrogen atom without neighbors\n",
      "[17:32:21] WARNING: not removing hydrogen atom without neighbors\n",
      "[17:32:21] WARNING: not removing hydrogen atom without neighbors\n",
      "[17:32:21] WARNING: not removing hydrogen atom without neighbors\n",
      "[17:32:21] WARNING: not removing hydrogen atom without neighbors\n",
      "[17:32:21] WARNING: not removing hydrogen atom without neighbors\n",
      "[17:32:21] WARNING: not removing hydrogen atom without neighbors\n",
      "[17:32:21] WARNING: not removing hydrogen atom without neighbors\n",
      "[17:32:21] WARNING: not removing hydrogen atom without neighbors\n",
      "[17:32:21] WARNING: not removing hydrogen atom without neighbors\n",
      "[17:32:21] WARNING: not removing hydrogen atom without neighbors\n",
      "[17:32:21] WARNING: not removing hydrogen atom without neighbors\n",
      "[17:32:21] WARNING: not removing hydrogen atom without neighbors\n",
      "[17:32:21] WARNING: not removing hydrogen atom without neighbors\n",
      "[17:32:21] WARNING: not removing hydrogen atom without neighbors\n",
      "[17:32:21] WARNING: not removing hydrogen atom without neighbors\n",
      "[17:32:21] WARNING: not removing hydrogen atom without neighbors\n",
      "[17:32:21] WARNING: not removing hydrogen atom without neighbors\n",
      "[17:32:21] WARNING: not removing hydrogen atom without neighbors\n",
      "[17:32:21] WARNING: not removing hydrogen atom without neighbors\n",
      "[17:32:21] WARNING: not removing hydrogen atom without neighbors\n",
      "Creating fingerprints:  33%|███▎      | 334/1000 [00:00<00:00, 3336.10it/s][17:32:21] WARNING: not removing hydrogen atom without neighbors\n",
      "[17:32:21] WARNING: not removing hydrogen atom without neighbors\n",
      "[17:32:21] WARNING: not removing hydrogen atom without neighbors\n",
      "[17:32:21] WARNING: not removing hydrogen atom without neighbors\n",
      "[17:32:21] WARNING: not removing hydrogen atom without neighbors\n",
      "[17:32:21] WARNING: not removing hydrogen atom without neighbors\n",
      "[17:32:21] WARNING: not removing hydrogen atom without neighbors\n",
      "[17:32:21] WARNING: not removing hydrogen atom without neighbors\n",
      "[17:32:21] WARNING: not removing hydrogen atom without neighbors\n",
      "[17:32:21] WARNING: not removing hydrogen atom without neighbors\n",
      "[17:32:21] WARNING: not removing hydrogen atom without neighbors\n",
      "[17:32:21] WARNING: not removing hydrogen atom without neighbors\n",
      "[17:32:21] WARNING: not removing hydrogen atom without neighbors\n",
      "[17:32:21] WARNING: not removing hydrogen atom without neighbors\n",
      "[17:32:21] WARNING: not removing hydrogen atom without neighbors\n",
      "[17:32:21] WARNING: not removing hydrogen atom without neighbors\n",
      "[17:32:21] WARNING: not removing hydrogen atom without neighbors\n",
      "[17:32:21] WARNING: not removing hydrogen atom without neighbors\n",
      "[17:32:21] WARNING: not removing hydrogen atom without neighbors\n",
      "[17:32:21] WARNING: not removing hydrogen atom without neighbors\n",
      "Creating fingerprints:  67%|██████▋   | 668/1000 [00:00<00:00, 3276.83it/s][17:32:21] WARNING: not removing hydrogen atom without neighbors\n",
      "[17:32:21] WARNING: not removing hydrogen atom without neighbors\n",
      "[17:32:21] WARNING: not removing hydrogen atom without neighbors\n",
      "[17:32:21] WARNING: not removing hydrogen atom without neighbors\n",
      "[17:32:21] WARNING: not removing hydrogen atom without neighbors\n",
      "[17:32:21] WARNING: not removing hydrogen atom without neighbors\n",
      "[17:32:21] WARNING: not removing hydrogen atom without neighbors\n",
      "[17:32:21] WARNING: not removing hydrogen atom without neighbors\n",
      "[17:32:21] WARNING: not removing hydrogen atom without neighbors\n",
      "[17:32:21] WARNING: not removing hydrogen atom without neighbors\n",
      "[17:32:21] WARNING: not removing hydrogen atom without neighbors\n",
      "[17:32:21] WARNING: not removing hydrogen atom without neighbors\n",
      "[17:32:21] WARNING: not removing hydrogen atom without neighbors\n",
      "[17:32:21] WARNING: not removing hydrogen atom without neighbors\n",
      "[17:32:21] WARNING: not removing hydrogen atom without neighbors\n",
      "[17:32:21] WARNING: not removing hydrogen atom without neighbors\n",
      "[17:32:21] WARNING: not removing hydrogen atom without neighbors\n",
      "[17:32:21] WARNING: not removing hydrogen atom without neighbors\n",
      "[17:32:21] WARNING: not removing hydrogen atom without neighbors\n",
      "[17:32:21] WARNING: not removing hydrogen atom without neighbors\n",
      "[17:32:21] WARNING: not removing hydrogen atom without neighbors\n",
      "[17:32:21] WARNING: not removing hydrogen atom without neighbors\n",
      "[17:32:21] WARNING: not removing hydrogen atom without neighbors\n",
      "[17:32:21] WARNING: not removing hydrogen atom without neighbors\n",
      "[17:32:21] WARNING: not removing hydrogen atom without neighbors\n",
      "[17:32:21] WARNING: not removing hydrogen atom without neighbors\n",
      "[17:32:21] WARNING: not removing hydrogen atom without neighbors\n",
      "[17:32:21] WARNING: not removing hydrogen atom without neighbors\n",
      "[17:32:21] WARNING: not removing hydrogen atom without neighbors\n",
      "[17:32:21] WARNING: not removing hydrogen atom without neighbors\n",
      "[17:32:21] WARNING: not removing hydrogen atom without neighbors\n",
      "[17:32:21] WARNING: not removing hydrogen atom without neighbors\n",
      "[17:32:21] WARNING: not removing hydrogen atom without neighbors\n",
      "Creating fingerprints: 100%|██████████| 1000/1000 [00:00<00:00, 3411.60it/s]\n",
      "100%|██████████| 1000/1000 [00:03<00:00, 331.76it/s]\n"
     ]
    }
   ],
   "source": [
    "# Call the function with your desired path and n\n",
    "n = 1000\n",
    "# orderly benchmark\n",
    "reaction_fp = jaccard_distance_distribution('/Users/dsw46/Projects_local/orderly_reviewer_response/orderly_generated_datasets/forward_orderly_benchmark.parquet', n, '/Users/dsw46/Projects_local/orderly_reviewer_response/orderly_tanimoto_dist/forward_orderly_benchmark.npy')"
   ]
  },
  {
   "cell_type": "code",
   "execution_count": 5,
   "metadata": {},
   "outputs": [
    {
     "name": "stderr",
     "output_type": "stream",
     "text": [
      "Creating fingerprints:   0%|          | 0/1000 [00:00<?, ?it/s][17:32:27] WARNING: not removing hydrogen atom without neighbors\n",
      "[17:32:27] WARNING: not removing hydrogen atom without neighbors\n",
      "[17:32:27] WARNING: not removing hydrogen atom without neighbors\n",
      "[17:32:27] WARNING: not removing hydrogen atom without neighbors\n",
      "[17:32:27] WARNING: not removing hydrogen atom without neighbors\n",
      "[17:32:27] WARNING: not removing hydrogen atom without neighbors\n",
      "[17:32:27] WARNING: not removing hydrogen atom without neighbors\n",
      "[17:32:27] WARNING: not removing hydrogen atom without neighbors\n",
      "[17:32:27] WARNING: not removing hydrogen atom without neighbors\n",
      "[17:32:27] WARNING: not removing hydrogen atom without neighbors\n",
      "[17:32:27] WARNING: not removing hydrogen atom without neighbors\n",
      "[17:32:27] WARNING: not removing hydrogen atom without neighbors\n",
      "[17:32:27] WARNING: not removing hydrogen atom without neighbors\n",
      "[17:32:27] WARNING: not removing hydrogen atom without neighbors\n",
      "[17:32:27] WARNING: not removing hydrogen atom without neighbors\n",
      "[17:32:27] WARNING: not removing hydrogen atom without neighbors\n",
      "[17:32:27] WARNING: not removing hydrogen atom without neighbors\n",
      "[17:32:27] WARNING: not removing hydrogen atom without neighbors\n",
      "[17:32:27] WARNING: not removing hydrogen atom without neighbors\n",
      "[17:32:27] WARNING: not removing hydrogen atom without neighbors\n",
      "[17:32:27] WARNING: not removing hydrogen atom without neighbors\n",
      "[17:32:27] WARNING: not removing hydrogen atom without neighbors\n",
      "[17:32:27] WARNING: not removing hydrogen atom without neighbors\n",
      "[17:32:27] WARNING: not removing hydrogen atom without neighbors\n",
      "[17:32:27] WARNING: not removing hydrogen atom without neighbors\n",
      "[17:32:27] WARNING: not removing hydrogen atom without neighbors\n",
      "Creating fingerprints:  51%|█████     | 506/1000 [00:00<00:00, 5051.20it/s][17:32:27] WARNING: not removing hydrogen atom without neighbors\n",
      "[17:32:27] WARNING: not removing hydrogen atom without neighbors\n",
      "[17:32:27] WARNING: not removing hydrogen atom without neighbors\n",
      "[17:32:27] WARNING: not removing hydrogen atom without neighbors\n",
      "[17:32:27] WARNING: not removing hydrogen atom without neighbors\n",
      "[17:32:27] WARNING: not removing hydrogen atom without neighbors\n",
      "[17:32:27] WARNING: not removing hydrogen atom without neighbors\n",
      "[17:32:27] WARNING: not removing hydrogen atom without neighbors\n",
      "[17:32:27] WARNING: not removing hydrogen atom without neighbors\n",
      "[17:32:27] WARNING: not removing hydrogen atom without neighbors\n",
      "[17:32:27] WARNING: not removing hydrogen atom without neighbors\n",
      "[17:32:27] WARNING: not removing hydrogen atom without neighbors\n",
      "[17:32:27] WARNING: not removing hydrogen atom without neighbors\n",
      "[17:32:27] WARNING: not removing hydrogen atom without neighbors\n",
      "[17:32:27] WARNING: not removing hydrogen atom without neighbors\n",
      "[17:32:27] WARNING: not removing hydrogen atom without neighbors\n",
      "[17:32:27] WARNING: not removing hydrogen atom without neighbors\n",
      "[17:32:27] WARNING: not removing hydrogen atom without neighbors\n",
      "[17:32:27] WARNING: not removing hydrogen atom without neighbors\n",
      "Creating fingerprints: 100%|██████████| 1000/1000 [00:00<00:00, 5129.39it/s]\n",
      "100%|██████████| 1000/1000 [00:02<00:00, 347.84it/s]\n"
     ]
    }
   ],
   "source": [
    "n=1000\n",
    "#mid\n",
    "jaccard_distance_distribution('/Users/dsw46/Projects_local/orderly_reviewer_response/orderly_generated_datasets/forward_mid_filtering.parquet', n, '/Users/dsw46/Projects_local/orderly_reviewer_response/orderly_tanimoto_dist/forward_mid_filtering.npy')\n"
   ]
  },
  {
   "cell_type": "code",
   "execution_count": 6,
   "metadata": {},
   "outputs": [
    {
     "name": "stderr",
     "output_type": "stream",
     "text": [
      "Creating fingerprints:   0%|          | 0/1000 [00:00<?, ?it/s][17:32:35] WARNING: not removing hydrogen atom without neighbors\n",
      "[17:32:35] WARNING: not removing hydrogen atom without neighbors\n",
      "[17:32:35] WARNING: not removing hydrogen atom without neighbors\n",
      "[17:32:35] WARNING: not removing hydrogen atom without neighbors\n",
      "[17:32:35] WARNING: not removing hydrogen atom without neighbors\n",
      "[17:32:35] WARNING: not removing hydrogen atom without neighbors\n",
      "[17:32:35] WARNING: not removing hydrogen atom without neighbors\n",
      "[17:32:35] WARNING: not removing hydrogen atom without neighbors\n",
      "[17:32:35] WARNING: not removing hydrogen atom without neighbors\n",
      "[17:32:35] WARNING: not removing hydrogen atom without neighbors\n",
      "[17:32:35] WARNING: not removing hydrogen atom without neighbors\n",
      "[17:32:35] WARNING: not removing hydrogen atom without neighbors\n",
      "[17:32:35] WARNING: not removing hydrogen atom without neighbors\n",
      "[17:32:35] WARNING: not removing hydrogen atom without neighbors\n",
      "Creating fingerprints:  42%|████▏     | 423/1000 [00:00<00:00, 4190.77it/s][17:32:35] WARNING: not removing hydrogen atom without neighbors\n",
      "[17:32:35] WARNING: not removing hydrogen atom without neighbors\n",
      "[17:32:35] WARNING: not removing hydrogen atom without neighbors\n",
      "[17:32:35] WARNING: not removing hydrogen atom without neighbors\n",
      "[17:32:35] WARNING: not removing hydrogen atom without neighbors\n",
      "[17:32:35] WARNING: not removing hydrogen atom without neighbors\n",
      "[17:32:35] WARNING: not removing hydrogen atom without neighbors\n",
      "[17:32:35] WARNING: not removing hydrogen atom without neighbors\n",
      "[17:32:35] WARNING: not removing hydrogen atom without neighbors\n",
      "[17:32:35] WARNING: not removing hydrogen atom without neighbors\n",
      "[17:32:35] WARNING: not removing hydrogen atom without neighbors\n",
      "[17:32:35] WARNING: not removing hydrogen atom without neighbors\n",
      "[17:32:35] WARNING: not removing hydrogen atom without neighbors\n",
      "[17:32:35] WARNING: not removing hydrogen atom without neighbors\n",
      "[17:32:35] WARNING: not removing hydrogen atom without neighbors\n",
      "[17:32:35] WARNING: not removing hydrogen atom without neighbors\n",
      "[17:32:35] WARNING: not removing hydrogen atom without neighbors\n",
      "[17:32:35] WARNING: not removing hydrogen atom without neighbors\n",
      "[17:32:35] WARNING: not removing hydrogen atom without neighbors\n",
      "Creating fingerprints:  85%|████████▍ | 849/1000 [00:00<00:00, 4224.73it/s][17:32:35] WARNING: not removing hydrogen atom without neighbors\n",
      "[17:32:35] WARNING: not removing hydrogen atom without neighbors\n",
      "[17:32:35] WARNING: not removing hydrogen atom without neighbors\n",
      "[17:32:35] WARNING: not removing hydrogen atom without neighbors\n",
      "[17:32:35] WARNING: not removing hydrogen atom without neighbors\n",
      "[17:32:35] WARNING: not removing hydrogen atom without neighbors\n",
      "Creating fingerprints: 100%|██████████| 1000/1000 [00:00<00:00, 4189.24it/s]\n",
      "100%|██████████| 1000/1000 [00:02<00:00, 352.17it/s]\n"
     ]
    }
   ],
   "source": [
    "n=1000\n",
    "#loose\n",
    "jaccard_distance_distribution('/Users/dsw46/Projects_local/orderly_reviewer_response/orderly_generated_datasets/forward_loose_filtering.parquet', n, '/Users/dsw46/Projects_local/orderly_reviewer_response/orderly_tanimoto_dist/forward_loose_filtering.npy')"
   ]
  },
  {
   "cell_type": "code",
   "execution_count": 7,
   "metadata": {},
   "outputs": [],
   "source": [
    "import numpy as np\n",
    "import seaborn as sns\n",
    "import matplotlib.pyplot as plt\n",
    "from rdkit.Chem import AllChem\n",
    "\n",
    "def plot_jaccard_distance_line_graph(path1, path2, path3, save_path=None):\n",
    "    # Load the Jaccard distance distributions from the provided paths\n",
    "    hist1 = np.load(path1)\n",
    "    hist2 = np.load(path2)\n",
    "    hist3 = np.load(path3)\n",
    "    \n",
    "    hist1= hist1/np.sum(hist1)\n",
    "    hist2= hist2/np.sum(hist2)\n",
    "    hist3= hist3/np.sum(hist3)\n",
    "    \n",
    "    # Ensure the histograms have the same number of bins\n",
    "    assert hist1.shape == hist2.shape == hist3.shape, \"Histogram shapes must match\"\n",
    "    \n",
    "    bins = np.arange(0, 1.01, 0.01)\n",
    "    \n",
    "    # Calculate bin centers for plotting\n",
    "    bin_centers = (bins[:-1] + bins[1:]) / 2\n",
    "    \n",
    "    # Plot the line graphs using Seaborn\n",
    "    sns.set(style=\"white\")\n",
    "    plt.figure(figsize=(10, 6))\n",
    "    \n",
    "    # Plot line graphs\n",
    "    sns.histplot(hist1, color='blue', label='Histogram 1', element=\"poly\")\n",
    "    sns.histplot(hist2, color='orange', label='Histogram 2', element=\"poly\")\n",
    "    sns.histplot(hist3, color='green', label='Histogram 3', element=\"poly\")\n",
    "    \n",
    "    # sns.lineplot(x=bin_centers, y=hist1, color='blue', label='Histogram 1')\n",
    "    # sns.lineplot(x=bin_centers, y=hist2, color='orange', label='Histogram 2')\n",
    "    # sns.lineplot(x=bin_centers, y=hist3, color='green', label='Histogram 3')\n",
    "    \n",
    "    # # Shade the area under the lines with the same color as the lines\n",
    "    # plt.fill_between(bin_centers, hist1, color='blue', alpha=0.2)\n",
    "    # plt.fill_between(bin_centers, hist2, color='orange', alpha=0.2)\n",
    "    # plt.fill_between(bin_centers, hist3, color='green', alpha=0.2)\n",
    "    \n",
    "    plt.xlabel('Euclidian Distance (agents)')\n",
    "    plt.ylabel('Density')\n",
    "    plt.title('Euclidian Distance Distribution')\n",
    "    plt.legend()\n",
    "    \n",
    "    # Save the plot if a save_path is provided\n",
    "    if save_path is not None:\n",
    "        plt.savefig(save_path, dpi=600, bbox_inches='tight')\n",
    "    \n",
    "    # Display the plot\n",
    "    plt.show()\n",
    "\n"
   ]
  },
  {
   "cell_type": "code",
   "execution_count": 8,
   "metadata": {},
   "outputs": [
    {
     "data": {
      "image/png": "[encoded data removed]",
      "text/plain": [
       "<Figure size 720x432 with 1 Axes>"
      ]
     },
     "metadata": {
      "needs_background": "light"
     },
     "output_type": "display_data"
    }
   ],
   "source": [
    "\n",
    "# Call the function with the paths to the Jaccard distance distribution files\n",
    "path1 = '/Users/dsw46/Projects_local/orderly_reviewer_response/orderly_tanimoto_dist/forward_orderly_benchmark.npy'\n",
    "path2 = '/Users/dsw46/Projects_local/orderly_reviewer_response/orderly_tanimoto_dist/forward_mid_filtering.npy'\n",
    "path3 = '/Users/dsw46/Projects_local/orderly_reviewer_response/orderly_tanimoto_dist/forward_loose_filtering.npy'\n",
    "save_path = '/Users/dsw46/Projects_local/orderly_reviewer_response/orderly_tanimoto_dist/forward_jaccard_distance.png'\n",
    "plot_jaccard_distance_line_graph(path1, path2, path3, save_path)"
   ]
  },
  {
   "cell_type": "code",
   "execution_count": null,
   "metadata": {},
   "outputs": [],
   "source": []
  }
 ],
 "metadata": {
  "kernelspec": {
   "display_name": "chemistry",
   "language": "python",
   "name": "python3"
  },
  "language_info": {
   "codemirror_mode": {
    "name": "ipython",
    "version": 3
   },
   "file_extension": ".py",
   "mimetype": "text/x-python",
   "name": "python",
   "nbconvert_exporter": "python",
   "pygments_lexer": "ipython3",
   "version": "3.10.12"
  },
  "orig_nbformat": 4
 },
 "nbformat": 4,
 "nbformat_minor": 2
}

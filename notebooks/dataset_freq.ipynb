{
 "cells": [
  {
   "cell_type": "code",
   "execution_count": 1,
   "metadata": {},
   "outputs": [],
   "source": [
    "import pandas as pd\n",
    "from typing import List\n",
    "import numpy as np\n",
    "from rdkit import Chem\n"
   ]
  },
  {
   "cell_type": "code",
   "execution_count": 10,
   "metadata": {},
   "outputs": [
    {
     "name": "stdout",
     "output_type": "stream",
     "text": [
      "C[Pd]\n"
     ]
    }
   ],
   "source": [
    "def canonicalize_smiles(smiles):\n",
    "    \"\"\"\n",
    "    Canonicalize a SMILES string using RDKit.\n",
    "\n",
    "    Parameters:\n",
    "    smiles (str): A SMILES string representing a molecule.\n",
    "\n",
    "    Returns:\n",
    "    str: The canonicalized SMILES string.\n",
    "    \"\"\"\n",
    "    mol = Chem.MolFromSmiles(smiles)\n",
    "    if mol is not None:\n",
    "        return Chem.MolToSmiles(mol, canonical=True)\n",
    "    else:\n",
    "        raise ValueError(\"Invalid SMILES string\")\n",
    "\n",
    "# Example usage\n",
    "smiles = \"[Pd]/C\"  # Benzene\n",
    "canonical_smiles = canonicalize_smiles(smiles)\n",
    "print(canonical_smiles)\n"
   ]
  },
  {
   "attachments": {},
   "cell_type": "markdown",
   "metadata": {},
   "source": [
    "# Unique values above/below a threshold"
   ]
  },
  {
   "cell_type": "code",
   "execution_count": 2,
   "metadata": {},
   "outputs": [],
   "source": [
    "def get_freq(df, cols:List[str], threshold:int):\n",
    "    \n",
    "    # Count the frequency of unique strings\n",
    "    df_freq = df[cols].stack().value_counts()\n",
    "    \n",
    "    # Number of unique strings with a count above the threshold\n",
    "    above_threshold = df_freq[df_freq >= threshold].shape[0]\n",
    "    \n",
    "    # Number of unique strings with a count below the threshold\n",
    "    below_threshold = df_freq[df_freq < threshold].shape[0]\n",
    "    \n",
    "    # Percentage of all values that are None\n",
    "    none_percentage = df[cols].isnull().mean().mean() * 100\n",
    "    none_percentage = round(none_percentage, 2)\n",
    "    \n",
    "    if \"reactant_000\" in cols or \"product_000\" in cols:\n",
    "        return df_freq.shape[0], 0, none_percentage\n",
    "    else:\n",
    "        return above_threshold, below_threshold, none_percentage\n",
    "\n",
    "    \n"
   ]
  },
  {
   "cell_type": "code",
   "execution_count": 3,
   "metadata": {},
   "outputs": [],
   "source": [
    "def build_overleaf_table(path, list_of_cols, threshold):\n",
    "    df = pd.read_parquet(path)\n",
    "    for cols in list_of_cols:\n",
    "        above_threshold, below_threshold, none_percentage = get_freq(df, cols, threshold)\n",
    "        if len(cols) > 4:\n",
    "            component = \"everything\"\n",
    "        else:\n",
    "            component, _ = cols[0].split(\"_\")\n",
    "        \n",
    "    \n",
    "        table_entry = f\"\"\"\n",
    "        {component} & {above_threshold} // {below_threshold} // {none_percentage} & \n",
    "        \"\"\"\n",
    "        print(table_entry)\n",
    "    \n",
    "    \n",
    "    "
   ]
  },
  {
   "cell_type": "code",
   "execution_count": 4,
   "metadata": {},
   "outputs": [],
   "source": [
    "solv_cols = [\"solvent_000\", \"solvent_001\"]\n",
    "catalyst_cols = [\"catalyst_000\"]\n",
    "agent_cols = [\"agent_000\", \"agent_001\", \"agent_002\"]\n",
    "reagent_cols = [\"reagent_000\", \"reagent_001\"]\n",
    "reactant_cols = [\"reactant_000\", \"reactant_001\"]\n",
    "product_cols = [\"product_000\"]"
   ]
  },
  {
   "cell_type": "code",
   "execution_count": 5,
   "metadata": {},
   "outputs": [
    {
     "name": "stdout",
     "output_type": "stream",
     "text": [
      "\n",
      "        reactant & 503625 // 0 // 12.96 & \n",
      "        \n",
      "\n",
      "        product & 694279 // 0 // 0.0 & \n",
      "        \n",
      "\n",
      "        solvent & 104 // 316 // 45.72 & \n",
      "        \n",
      "\n",
      "        agent & 275 // 24547 // 60.93 & \n",
      "        \n"
     ]
    }
   ],
   "source": [
    "# path = \"/Users/dsw46/Projects_local/orderly_07_06/ORDerly/data/orderly/uspto_no_trust/filtered/filtered_orderly_ord.parquet\"\n",
    "path =   \"/Users/dsw46/Projects_local/ORDerly_jcim_response/ORDerly/data/orderly/uspto_no_trust/filtered/filtered_orderly_ord.parquet\"\n",
    "threshold = 100\n",
    "list_of_cols = [reactant_cols, product_cols, solv_cols, agent_cols]\n",
    "build_overleaf_table(path, list_of_cols, threshold)"
   ]
  },
  {
   "cell_type": "code",
   "execution_count": 7,
   "metadata": {},
   "outputs": [
    {
     "data": {
      "text/plain": [
       "['catalyst_000', 'reagent_000', 'reagent_001']"
      ]
     },
     "execution_count": 7,
     "metadata": {},
     "output_type": "execute_result"
    }
   ],
   "source": [
    "catalyst_cols+reagent_cols"
   ]
  },
  {
   "cell_type": "code",
   "execution_count": 9,
   "metadata": {},
   "outputs": [
    {
     "name": "stdout",
     "output_type": "stream",
     "text": [
      "\n",
      "        reactant & 207066 // 0 // 6.95 & \n",
      "        \n",
      "\n",
      "        product & 253908 // 0 // 0.0 & \n",
      "        \n",
      "\n",
      "        solvent & 59 // 598 // 65.84 & \n",
      "        \n",
      "\n",
      "        catalyst & 50 // 546 // 92.54 & \n",
      "        \n"
     ]
    }
   ],
   "source": [
    "# path = \"/Users/dsw46/Projects_local/orderly_07_06/ORDerly/data/orderly/uspto_with_trust/filtered/filtered_orderly_ord.parquet\"\n",
    "path = \"/Users/dsw46/Projects_local/ORDerly_jcim_response/ORDerly/data/orderly/uspto_with_trust/filtered/filtered_orderly_ord.parquet\"\n",
    "threshold = 100\n",
    "list_of_cols = [reactant_cols, product_cols, solv_cols, catalyst_cols+reagent_cols]\n",
    "build_overleaf_table(path, list_of_cols, threshold)"
   ]
  },
  {
   "cell_type": "code",
   "execution_count": 4,
   "metadata": {},
   "outputs": [
    {
     "data": {
      "text/plain": [
       "(411538, 17)"
      ]
     },
     "execution_count": 4,
     "metadata": {},
     "output_type": "execute_result"
    }
   ],
   "source": [
    "path = \"/Users/dsw46/Projects_local/orderly_07_06/ORDerly/data/orderly/uspto_no_trust/filtered/filtered_orderly_ord.parquet\"\n",
    "df = pd.read_parquet(path)\n",
    "df.shape"
   ]
  },
  {
   "cell_type": "code",
   "execution_count": 2,
   "metadata": {},
   "outputs": [],
   "source": [
    "import pandas as pd"
   ]
  },
  {
   "cell_type": "code",
   "execution_count": 6,
   "metadata": {},
   "outputs": [
    {
     "data": {
      "text/plain": [
       "(382850,)"
      ]
     },
     "execution_count": 6,
     "metadata": {},
     "output_type": "execute_result"
    }
   ],
   "source": [
    "df['product_000'].value_counts().shape"
   ]
  },
  {
   "cell_type": "markdown",
   "metadata": {},
   "source": [
    "# Most common agents in orderly-cond"
   ]
  },
  {
   "cell_type": "code",
   "execution_count": 2,
   "metadata": {},
   "outputs": [],
   "source": [
    "import pandas as pd"
   ]
  },
  {
   "cell_type": "code",
   "execution_count": 3,
   "metadata": {},
   "outputs": [],
   "source": [
    "path = \"/Users/dsw46/Projects_local/ORDerly-project/ORDerly/data/orderly/datasets_v6/orderly_no_trust_no_min_freq_train.parquet\"\n",
    "df = pd.read_parquet(path)"
   ]
  },
  {
   "cell_type": "code",
   "execution_count": 43,
   "metadata": {},
   "outputs": [
    {
     "data": {
      "text/html": [
       "<div>\n",
       "<style scoped>\n",
       "    .dataframe tbody tr th:only-of-type {\n",
       "        vertical-align: middle;\n",
       "    }\n",
       "\n",
       "    .dataframe tbody tr th {\n",
       "        vertical-align: top;\n",
       "    }\n",
       "\n",
       "    .dataframe thead th {\n",
       "        text-align: right;\n",
       "    }\n",
       "</style>\n",
       "<table border=\"1\" class=\"dataframe\">\n",
       "  <thead>\n",
       "    <tr style=\"text-align: right;\">\n",
       "      <th></th>\n",
       "      <th>original_index</th>\n",
       "      <th>agent_000</th>\n",
       "      <th>agent_001</th>\n",
       "      <th>agent_002</th>\n",
       "      <th>date_of_experiment</th>\n",
       "      <th>extracted_from_file</th>\n",
       "      <th>grant_date</th>\n",
       "      <th>is_mapped</th>\n",
       "      <th>procedure_details</th>\n",
       "      <th>product_000</th>\n",
       "      <th>reactant_000</th>\n",
       "      <th>reactant_001</th>\n",
       "      <th>rxn_str</th>\n",
       "      <th>rxn_time</th>\n",
       "      <th>solvent_000</th>\n",
       "      <th>solvent_001</th>\n",
       "      <th>temperature</th>\n",
       "      <th>yield_000</th>\n",
       "    </tr>\n",
       "    <tr>\n",
       "      <th>index</th>\n",
       "      <th></th>\n",
       "      <th></th>\n",
       "      <th></th>\n",
       "      <th></th>\n",
       "      <th></th>\n",
       "      <th></th>\n",
       "      <th></th>\n",
       "      <th></th>\n",
       "      <th></th>\n",
       "      <th></th>\n",
       "      <th></th>\n",
       "      <th></th>\n",
       "      <th></th>\n",
       "      <th></th>\n",
       "      <th></th>\n",
       "      <th></th>\n",
       "      <th></th>\n",
       "      <th></th>\n",
       "    </tr>\n",
       "  </thead>\n",
       "  <tbody>\n",
       "    <tr>\n",
       "      <th>371755</th>\n",
       "      <td>864236</td>\n",
       "      <td>O=C[O-]</td>\n",
       "      <td>[Pd]</td>\n",
       "      <td>[NH4+]</td>\n",
       "      <td>NaT</td>\n",
       "      <td>ord_dataset-b8b98725045d45bdbd73512048f4b47e</td>\n",
       "      <td>2009-01-01 00:02:00</td>\n",
       "      <td>True</td>\n",
       "      <td>A solution of 740 mg of 5-benzyloxy-3-[1-tert-...</td>\n",
       "      <td>CC(C)(C)OC(=O)n1nc(-c2cc3cc(OCCN4CCOCC4)ccc3n2...</td>\n",
       "      <td>CC(C)(C)OC(=O)n1nc(-c2cc3cc(OCCN4CCOCC4)ccc3n2...</td>\n",
       "      <td>NULL</td>\n",
       "      <td>[C:1]([O:5][C:6]([N:8]1[C:16]2[C:11](=[CH:12][...</td>\n",
       "      <td>NaN</td>\n",
       "      <td>CCO</td>\n",
       "      <td>None</td>\n",
       "      <td>25.0</td>\n",
       "      <td>83.2</td>\n",
       "    </tr>\n",
       "    <tr>\n",
       "      <th>111108</th>\n",
       "      <td>245483</td>\n",
       "      <td>CNC</td>\n",
       "      <td>[Pd]</td>\n",
       "      <td>None</td>\n",
       "      <td>NaT</td>\n",
       "      <td>ord_dataset-5eb2900a93c842ee98f26c305e657b61</td>\n",
       "      <td>1992-01-01 00:04:00</td>\n",
       "      <td>True</td>\n",
       "      <td>10 g (0.03 mol) of 2-(2'-hydroxy-3',5'-di-t-bu...</td>\n",
       "      <td>CC(C)(C)c1cc(-n2nc3ccccc3n2)c(O)c(C(C)(C)C)c1</td>\n",
       "      <td>CC(C)(C)c1cc(-n2nc3ccccc3[n+]2[O-])c(O)c(C(C)(...</td>\n",
       "      <td>[H][H]</td>\n",
       "      <td>[OH:1][C:2]1[C:7]([C:8]([CH3:11])([CH3:10])[CH...</td>\n",
       "      <td>NaN</td>\n",
       "      <td>Cc1ccccc1</td>\n",
       "      <td>O</td>\n",
       "      <td>50.0</td>\n",
       "      <td>73.2</td>\n",
       "    </tr>\n",
       "    <tr>\n",
       "      <th>67346</th>\n",
       "      <td>150389</td>\n",
       "      <td>Cl</td>\n",
       "      <td>[Pd]</td>\n",
       "      <td>None</td>\n",
       "      <td>NaT</td>\n",
       "      <td>ord_dataset-b9a9e369e9da4413999591aa08f4c3e3</td>\n",
       "      <td>1986-01-01 00:11:00</td>\n",
       "      <td>True</td>\n",
       "      <td>4.36 g. of the resultant compound of Example 5...</td>\n",
       "      <td>COc1ccc2c(c1OC)CC1CNCC21</td>\n",
       "      <td>COc1ccc2c(c1OC)CC1CN(Cc3ccccc3)CC21</td>\n",
       "      <td>NULL</td>\n",
       "      <td>[ClH:1].C([N:9]1[CH2:13][CH:12]2[CH2:14][C:15]...</td>\n",
       "      <td>NaN</td>\n",
       "      <td>CO</td>\n",
       "      <td>None</td>\n",
       "      <td>NaN</td>\n",
       "      <td>NaN</td>\n",
       "    </tr>\n",
       "    <tr>\n",
       "      <th>121435</th>\n",
       "      <td>269124</td>\n",
       "      <td>[BH4-]</td>\n",
       "      <td>[Pd]</td>\n",
       "      <td>[Na+]</td>\n",
       "      <td>NaT</td>\n",
       "      <td>ord_dataset-a20aed058d7b40bc81fdf50bc5b03f97</td>\n",
       "      <td>1993-01-01 00:06:00</td>\n",
       "      <td>True</td>\n",
       "      <td>4-(2-hydroxyethoxy)-6,6'-dimethyl-2,2'-bipyrid...</td>\n",
       "      <td>Cc1cccc(-c2cc(OCCO)cc(C)n2)n1</td>\n",
       "      <td>Cc1cccc(-c2cc(OCCO)cc(C)[n+]2[O-])n1</td>\n",
       "      <td>NULL</td>\n",
       "      <td>[OH:1][CH2:2][CH2:3][O:4][C:5]1[CH:6]=[C:7]([C...</td>\n",
       "      <td>NaN</td>\n",
       "      <td>CO</td>\n",
       "      <td>None</td>\n",
       "      <td>NaN</td>\n",
       "      <td>NaN</td>\n",
       "    </tr>\n",
       "    <tr>\n",
       "      <th>21375</th>\n",
       "      <td>42319</td>\n",
       "      <td>NC(=O)C(=O)O</td>\n",
       "      <td>[Pd]</td>\n",
       "      <td>None</td>\n",
       "      <td>NaT</td>\n",
       "      <td>ord_dataset-4c8627b52d564809adb9b494879c07c0</td>\n",
       "      <td>1978-01-01 00:07:00</td>\n",
       "      <td>True</td>\n",
       "      <td>A suspension of 10 parts of [[[2-[3-(dimethyla...</td>\n",
       "      <td>CCOC(=O)CN(Cc1ccccc1OCCCN(C)C)C(=O)C=Cc1ccc(N)cc1</td>\n",
       "      <td>CCOC(=O)CN(Cc1ccccc1OCCCN(C)C)C(=O)C=Cc1ccc([N...</td>\n",
       "      <td>[H][H]</td>\n",
       "      <td>[C:1]([OH:6])(=[O:5])[C:2]([NH2:4])=[O:3].[CH3...</td>\n",
       "      <td>NaN</td>\n",
       "      <td>CCO</td>\n",
       "      <td>None</td>\n",
       "      <td>NaN</td>\n",
       "      <td>NaN</td>\n",
       "    </tr>\n",
       "    <tr>\n",
       "      <th>...</th>\n",
       "      <td>...</td>\n",
       "      <td>...</td>\n",
       "      <td>...</td>\n",
       "      <td>...</td>\n",
       "      <td>...</td>\n",
       "      <td>...</td>\n",
       "      <td>...</td>\n",
       "      <td>...</td>\n",
       "      <td>...</td>\n",
       "      <td>...</td>\n",
       "      <td>...</td>\n",
       "      <td>...</td>\n",
       "      <td>...</td>\n",
       "      <td>...</td>\n",
       "      <td>...</td>\n",
       "      <td>...</td>\n",
       "      <td>...</td>\n",
       "      <td>...</td>\n",
       "    </tr>\n",
       "    <tr>\n",
       "      <th>752297</th>\n",
       "      <td>1767946</td>\n",
       "      <td>c1ccc(P(c2ccccc2)c2ccccc2)cc1</td>\n",
       "      <td>[Pd]</td>\n",
       "      <td>None</td>\n",
       "      <td>NaT</td>\n",
       "      <td>ord_dataset-0b32b90cc77b4a3db47ad263e0bbc1a8</td>\n",
       "      <td>2016-01-01 00:09:00</td>\n",
       "      <td>True</td>\n",
       "      <td>A mixture of dimethyl(2S,3S,5S)-5-[(allyloxy)c...</td>\n",
       "      <td>C=CCO[C@H]1C[C@H](C(=O)OC)[C@@H](C(=O)N2CCN(c3...</td>\n",
       "      <td>C1CCOC1</td>\n",
       "      <td>C=CCOC(=O)O[C@H]1C[C@H](C(=O)OC)[C@@H](C(=O)N2...</td>\n",
       "      <td>C(O[C:5]([O:7][C@@H:8]1[CH2:13][N:12]([C:14]([...</td>\n",
       "      <td>NaN</td>\n",
       "      <td>None</td>\n",
       "      <td>None</td>\n",
       "      <td>NaN</td>\n",
       "      <td>NaN</td>\n",
       "    </tr>\n",
       "    <tr>\n",
       "      <th>179187</th>\n",
       "      <td>419812</td>\n",
       "      <td>Cl</td>\n",
       "      <td>[Pd]</td>\n",
       "      <td>None</td>\n",
       "      <td>NaT</td>\n",
       "      <td>ord_dataset-94e21e9990034c729ea727e7d2ab0eb0</td>\n",
       "      <td>1998-01-01 00:12:00</td>\n",
       "      <td>True</td>\n",
       "      <td>To a solution of 4-amino-3-nitrophenol (25.0 g...</td>\n",
       "      <td>Nc1ccc(O)cc1N</td>\n",
       "      <td>Nc1ccc(O)cc1[N+](=O)[O-]</td>\n",
       "      <td>NULL</td>\n",
       "      <td>[NH2:1][C:2]1[CH:7]=[CH:6][C:5]([OH:8])=[CH:4]...</td>\n",
       "      <td>12.0</td>\n",
       "      <td>CO</td>\n",
       "      <td>None</td>\n",
       "      <td>NaN</td>\n",
       "      <td>NaN</td>\n",
       "    </tr>\n",
       "    <tr>\n",
       "      <th>147296</th>\n",
       "      <td>329677</td>\n",
       "      <td>NN</td>\n",
       "      <td>[Pd]</td>\n",
       "      <td>None</td>\n",
       "      <td>NaT</td>\n",
       "      <td>ord_dataset-2c460e2ef9934444aaf26fec1f75741f</td>\n",
       "      <td>1996-01-01 00:05:00</td>\n",
       "      <td>True</td>\n",
       "      <td>To a solution of 5 mmol of 6,7-dihydro-5-(4-ni...</td>\n",
       "      <td>Nc1ccc(C(=O)N2CCc3cccn3-c3ccccc32)cc1</td>\n",
       "      <td>O=C(c1ccc([N+](=O)[O-])cc1)N1CCc2cccn2-c2ccccc21</td>\n",
       "      <td>NULL</td>\n",
       "      <td>[N+:1]([C:4]1[CH:25]=[CH:24][C:7]([C:8]([N:10]...</td>\n",
       "      <td>NaN</td>\n",
       "      <td>CCO</td>\n",
       "      <td>None</td>\n",
       "      <td>NaN</td>\n",
       "      <td>NaN</td>\n",
       "    </tr>\n",
       "    <tr>\n",
       "      <th>236303</th>\n",
       "      <td>560550</td>\n",
       "      <td>c1ccc(P(c2ccccc2)c2ccccc2)cc1</td>\n",
       "      <td>[Pd]</td>\n",
       "      <td>None</td>\n",
       "      <td>NaT</td>\n",
       "      <td>ord_dataset-7c28974b7fcf4c9c86d5f2a42ba328a2</td>\n",
       "      <td>2002-01-01 00:09:00</td>\n",
       "      <td>True</td>\n",
       "      <td>A mixture of 6-(3-bromo-phenyl)-4,4-dimethyl-1...</td>\n",
       "      <td>CC1(C)OC(=O)Nc2ccc(-c3cccc(C#C[Si](C)(C)C)c3)cc21</td>\n",
       "      <td>C#C[Si](C)(C)C</td>\n",
       "      <td>CC1(C)OC(=O)Nc2ccc(-c3cccc(Br)c3)cc21</td>\n",
       "      <td>Br[C:2]1[CH:3]=[C:4]([C:8]2[CH:20]=[CH:19][C:1...</td>\n",
       "      <td>NaN</td>\n",
       "      <td>CCN(CC)CC</td>\n",
       "      <td>None</td>\n",
       "      <td>80.0</td>\n",
       "      <td>91.8</td>\n",
       "    </tr>\n",
       "    <tr>\n",
       "      <th>578996</th>\n",
       "      <td>1328400</td>\n",
       "      <td>[H][H]</td>\n",
       "      <td>[Pd]</td>\n",
       "      <td>None</td>\n",
       "      <td>NaT</td>\n",
       "      <td>ord_dataset-cfad8b3f00044bcda60a96b019f09872</td>\n",
       "      <td>2013-01-01 00:08:00</td>\n",
       "      <td>True</td>\n",
       "      <td>2-(Trifluoromethyl)imidazo[1,2-a]pyrazine (1.6...</td>\n",
       "      <td>FC(F)(F)c1cn2c(n1)CNCC2</td>\n",
       "      <td>FC(F)(F)c1cn2ccncc2n1</td>\n",
       "      <td>NULL</td>\n",
       "      <td>[F:1][C:2]([F:13])([F:12])[C:3]1[N:4]=[C:5]2[C...</td>\n",
       "      <td>NaN</td>\n",
       "      <td>CO</td>\n",
       "      <td>None</td>\n",
       "      <td>NaN</td>\n",
       "      <td>93.7</td>\n",
       "    </tr>\n",
       "  </tbody>\n",
       "</table>\n",
       "<p>2683 rows × 18 columns</p>\n",
       "</div>"
      ],
      "text/plain": [
       "        original_index                      agent_000 agent_001 agent_002  \\\n",
       "index                                                                       \n",
       "371755          864236                        O=C[O-]      [Pd]    [NH4+]   \n",
       "111108          245483                            CNC      [Pd]      None   \n",
       "67346           150389                             Cl      [Pd]      None   \n",
       "121435          269124                         [BH4-]      [Pd]     [Na+]   \n",
       "21375            42319                   NC(=O)C(=O)O      [Pd]      None   \n",
       "...                ...                            ...       ...       ...   \n",
       "752297         1767946  c1ccc(P(c2ccccc2)c2ccccc2)cc1      [Pd]      None   \n",
       "179187          419812                             Cl      [Pd]      None   \n",
       "147296          329677                             NN      [Pd]      None   \n",
       "236303          560550  c1ccc(P(c2ccccc2)c2ccccc2)cc1      [Pd]      None   \n",
       "578996         1328400                         [H][H]      [Pd]      None   \n",
       "\n",
       "       date_of_experiment                           extracted_from_file  \\\n",
       "index                                                                     \n",
       "371755                NaT  ord_dataset-b8b98725045d45bdbd73512048f4b47e   \n",
       "111108                NaT  ord_dataset-5eb2900a93c842ee98f26c305e657b61   \n",
       "67346                 NaT  ord_dataset-b9a9e369e9da4413999591aa08f4c3e3   \n",
       "121435                NaT  ord_dataset-a20aed058d7b40bc81fdf50bc5b03f97   \n",
       "21375                 NaT  ord_dataset-4c8627b52d564809adb9b494879c07c0   \n",
       "...                   ...                                           ...   \n",
       "752297                NaT  ord_dataset-0b32b90cc77b4a3db47ad263e0bbc1a8   \n",
       "179187                NaT  ord_dataset-94e21e9990034c729ea727e7d2ab0eb0   \n",
       "147296                NaT  ord_dataset-2c460e2ef9934444aaf26fec1f75741f   \n",
       "236303                NaT  ord_dataset-7c28974b7fcf4c9c86d5f2a42ba328a2   \n",
       "578996                NaT  ord_dataset-cfad8b3f00044bcda60a96b019f09872   \n",
       "\n",
       "                grant_date  is_mapped  \\\n",
       "index                                   \n",
       "371755 2009-01-01 00:02:00       True   \n",
       "111108 1992-01-01 00:04:00       True   \n",
       "67346  1986-01-01 00:11:00       True   \n",
       "121435 1993-01-01 00:06:00       True   \n",
       "21375  1978-01-01 00:07:00       True   \n",
       "...                    ...        ...   \n",
       "752297 2016-01-01 00:09:00       True   \n",
       "179187 1998-01-01 00:12:00       True   \n",
       "147296 1996-01-01 00:05:00       True   \n",
       "236303 2002-01-01 00:09:00       True   \n",
       "578996 2013-01-01 00:08:00       True   \n",
       "\n",
       "                                        procedure_details  \\\n",
       "index                                                       \n",
       "371755  A solution of 740 mg of 5-benzyloxy-3-[1-tert-...   \n",
       "111108  10 g (0.03 mol) of 2-(2'-hydroxy-3',5'-di-t-bu...   \n",
       "67346   4.36 g. of the resultant compound of Example 5...   \n",
       "121435  4-(2-hydroxyethoxy)-6,6'-dimethyl-2,2'-bipyrid...   \n",
       "21375   A suspension of 10 parts of [[[2-[3-(dimethyla...   \n",
       "...                                                   ...   \n",
       "752297  A mixture of dimethyl(2S,3S,5S)-5-[(allyloxy)c...   \n",
       "179187  To a solution of 4-amino-3-nitrophenol (25.0 g...   \n",
       "147296  To a solution of 5 mmol of 6,7-dihydro-5-(4-ni...   \n",
       "236303  A mixture of 6-(3-bromo-phenyl)-4,4-dimethyl-1...   \n",
       "578996  2-(Trifluoromethyl)imidazo[1,2-a]pyrazine (1.6...   \n",
       "\n",
       "                                              product_000  \\\n",
       "index                                                       \n",
       "371755  CC(C)(C)OC(=O)n1nc(-c2cc3cc(OCCN4CCOCC4)ccc3n2...   \n",
       "111108      CC(C)(C)c1cc(-n2nc3ccccc3n2)c(O)c(C(C)(C)C)c1   \n",
       "67346                            COc1ccc2c(c1OC)CC1CNCC21   \n",
       "121435                      Cc1cccc(-c2cc(OCCO)cc(C)n2)n1   \n",
       "21375   CCOC(=O)CN(Cc1ccccc1OCCCN(C)C)C(=O)C=Cc1ccc(N)cc1   \n",
       "...                                                   ...   \n",
       "752297  C=CCO[C@H]1C[C@H](C(=O)OC)[C@@H](C(=O)N2CCN(c3...   \n",
       "179187                                      Nc1ccc(O)cc1N   \n",
       "147296              Nc1ccc(C(=O)N2CCc3cccn3-c3ccccc32)cc1   \n",
       "236303  CC1(C)OC(=O)Nc2ccc(-c3cccc(C#C[Si](C)(C)C)c3)cc21   \n",
       "578996                            FC(F)(F)c1cn2c(n1)CNCC2   \n",
       "\n",
       "                                             reactant_000  \\\n",
       "index                                                       \n",
       "371755  CC(C)(C)OC(=O)n1nc(-c2cc3cc(OCCN4CCOCC4)ccc3n2...   \n",
       "111108  CC(C)(C)c1cc(-n2nc3ccccc3[n+]2[O-])c(O)c(C(C)(...   \n",
       "67346                 COc1ccc2c(c1OC)CC1CN(Cc3ccccc3)CC21   \n",
       "121435               Cc1cccc(-c2cc(OCCO)cc(C)[n+]2[O-])n1   \n",
       "21375   CCOC(=O)CN(Cc1ccccc1OCCCN(C)C)C(=O)C=Cc1ccc([N...   \n",
       "...                                                   ...   \n",
       "752297                                            C1CCOC1   \n",
       "179187                           Nc1ccc(O)cc1[N+](=O)[O-]   \n",
       "147296   O=C(c1ccc([N+](=O)[O-])cc1)N1CCc2cccn2-c2ccccc21   \n",
       "236303                                     C#C[Si](C)(C)C   \n",
       "578996                              FC(F)(F)c1cn2ccncc2n1   \n",
       "\n",
       "                                             reactant_001  \\\n",
       "index                                                       \n",
       "371755                                               NULL   \n",
       "111108                                             [H][H]   \n",
       "67346                                                NULL   \n",
       "121435                                               NULL   \n",
       "21375                                              [H][H]   \n",
       "...                                                   ...   \n",
       "752297  C=CCOC(=O)O[C@H]1C[C@H](C(=O)OC)[C@@H](C(=O)N2...   \n",
       "179187                                               NULL   \n",
       "147296                                               NULL   \n",
       "236303              CC1(C)OC(=O)Nc2ccc(-c3cccc(Br)c3)cc21   \n",
       "578996                                               NULL   \n",
       "\n",
       "                                                  rxn_str  rxn_time  \\\n",
       "index                                                                 \n",
       "371755  [C:1]([O:5][C:6]([N:8]1[C:16]2[C:11](=[CH:12][...       NaN   \n",
       "111108  [OH:1][C:2]1[C:7]([C:8]([CH3:11])([CH3:10])[CH...       NaN   \n",
       "67346   [ClH:1].C([N:9]1[CH2:13][CH:12]2[CH2:14][C:15]...       NaN   \n",
       "121435  [OH:1][CH2:2][CH2:3][O:4][C:5]1[CH:6]=[C:7]([C...       NaN   \n",
       "21375   [C:1]([OH:6])(=[O:5])[C:2]([NH2:4])=[O:3].[CH3...       NaN   \n",
       "...                                                   ...       ...   \n",
       "752297  C(O[C:5]([O:7][C@@H:8]1[CH2:13][N:12]([C:14]([...       NaN   \n",
       "179187  [NH2:1][C:2]1[CH:7]=[CH:6][C:5]([OH:8])=[CH:4]...      12.0   \n",
       "147296  [N+:1]([C:4]1[CH:25]=[CH:24][C:7]([C:8]([N:10]...       NaN   \n",
       "236303  Br[C:2]1[CH:3]=[C:4]([C:8]2[CH:20]=[CH:19][C:1...       NaN   \n",
       "578996  [F:1][C:2]([F:13])([F:12])[C:3]1[N:4]=[C:5]2[C...       NaN   \n",
       "\n",
       "       solvent_000 solvent_001  temperature  yield_000  \n",
       "index                                                   \n",
       "371755         CCO        None         25.0       83.2  \n",
       "111108   Cc1ccccc1           O         50.0       73.2  \n",
       "67346           CO        None          NaN        NaN  \n",
       "121435          CO        None          NaN        NaN  \n",
       "21375          CCO        None          NaN        NaN  \n",
       "...            ...         ...          ...        ...  \n",
       "752297        None        None          NaN        NaN  \n",
       "179187          CO        None          NaN        NaN  \n",
       "147296         CCO        None          NaN        NaN  \n",
       "236303   CCN(CC)CC        None         80.0       91.8  \n",
       "578996          CO        None          NaN       93.7  \n",
       "\n",
       "[2683 rows x 18 columns]"
      ]
     },
     "execution_count": 43,
     "metadata": {},
     "output_type": "execute_result"
    }
   ],
   "source": [
    "# 1. Check [Pd]/C not present\n",
    "df[df['agent_001'] == \"[Pd]\"]\n",
    "# OMG there's a bug, the [Pd] should be first!!\n"
   ]
  },
  {
   "cell_type": "code",
   "execution_count": 24,
   "metadata": {},
   "outputs": [
    {
     "name": "stdout",
     "output_type": "stream",
     "text": [
      "To a stirred solution of 3-(4-propyl-2-methoxyphenoxy)-2-nitropyridine (1.1 g, 3.8 mmol) in methanol (15 ml) was added anhydrous Ferric chloride (55 mg, 5% by wt) and activated charcoal (55 mg, 5% by wt). The resulting mixture was heated to reflux and hydrazine hydrate (570 mg, 11.45 mmol) was added dropwise. The reaction was allowed to stir under reflux condition overnight, then filtered through celite. The filtrate was concentrated under reduced pressure, taken in ethyl acetate (150 ml). The organic layer was washed with water followed by brine, dried over anhydrous sodium sulfate and concentrated under reduced pressure. The residue was passed through silica column (eluant ethylacetate/pet ether 1:3 to get 900 mg (91.3%) of title compound as a pale yellow solid.\n",
      "619281\n"
     ]
    }
   ],
   "source": [
    "# Bug 2: Charcol is being written as \"C\" -> this becomes CH4\n",
    "print(df[df['agent_001'] == \"C\"]['procedure_details'].iloc[0])\n",
    "print(df[df['agent_001'] == \"C\"]['procedure_details'].index[0])"
   ]
  },
  {
   "cell_type": "code",
   "execution_count": 23,
   "metadata": {},
   "outputs": [
    {
     "data": {
      "text/plain": [
       "'[CH2:1]([C:4]1[CH:19]=[CH:18][C:7]([O:8][C:9]2[C:10]([N+:15]([O-])=O)=[N:11][CH:12]=[CH:13][CH:14]=2)=[C:6]([O:20][CH3:21])[CH:5]=1)[CH2:2][CH3:3].C.O.NN>CO>[CH3:21][O:20][C:6]1[CH:5]=[C:4]([CH2:1][CH2:2][CH3:3])[CH:19]=[CH:18][C:7]=1[O:8][C:9]1[C:10]([NH2:15])=[N:11][CH:12]=[CH:13][CH:14]=1'"
      ]
     },
     "execution_count": 23,
     "metadata": {},
     "output_type": "execute_result"
    }
   ],
   "source": [
    "df.loc[619281]['rxn_str']"
   ]
  },
  {
   "cell_type": "code",
   "execution_count": null,
   "metadata": {},
   "outputs": [],
   "source": [
    "'[CH2:1]([C:4]1[CH:19]=[CH:18][C:7]([O:8][C:9]2[C:10]([N+:15]([O-])=O)=[N:11][CH:12]=[CH:13][CH:14]=2)=[C:6]([O:20][CH3:21])[CH:5]=1)[CH2:2][CH3:3].C.O.NN>CO>[CH3:21][O:20][C:6]1[CH:5]=[C:4]([CH2:1][CH2:2][CH3:3])[CH:19]=[CH:18][C:7]=1[O:8][C:9]1[C:10]([NH2:15])=[N:11][CH:12]=[CH:13][CH:14]=1'"
   ]
  },
  {
   "cell_type": "code",
   "execution_count": 41,
   "metadata": {},
   "outputs": [
    {
     "data": {
      "text/html": [
       "<div>\n",
       "<style scoped>\n",
       "    .dataframe tbody tr th:only-of-type {\n",
       "        vertical-align: middle;\n",
       "    }\n",
       "\n",
       "    .dataframe tbody tr th {\n",
       "        vertical-align: top;\n",
       "    }\n",
       "\n",
       "    .dataframe thead th {\n",
       "        text-align: right;\n",
       "    }\n",
       "</style>\n",
       "<table border=\"1\" class=\"dataframe\">\n",
       "  <thead>\n",
       "    <tr style=\"text-align: right;\">\n",
       "      <th></th>\n",
       "      <th>original_index</th>\n",
       "      <th>agent_000</th>\n",
       "      <th>agent_001</th>\n",
       "      <th>agent_002</th>\n",
       "      <th>date_of_experiment</th>\n",
       "      <th>extracted_from_file</th>\n",
       "      <th>grant_date</th>\n",
       "      <th>is_mapped</th>\n",
       "      <th>procedure_details</th>\n",
       "      <th>product_000</th>\n",
       "      <th>reactant_000</th>\n",
       "      <th>reactant_001</th>\n",
       "      <th>rxn_str</th>\n",
       "      <th>rxn_time</th>\n",
       "      <th>solvent_000</th>\n",
       "      <th>solvent_001</th>\n",
       "      <th>temperature</th>\n",
       "      <th>yield_000</th>\n",
       "    </tr>\n",
       "    <tr>\n",
       "      <th>index</th>\n",
       "      <th></th>\n",
       "      <th></th>\n",
       "      <th></th>\n",
       "      <th></th>\n",
       "      <th></th>\n",
       "      <th></th>\n",
       "      <th></th>\n",
       "      <th></th>\n",
       "      <th></th>\n",
       "      <th></th>\n",
       "      <th></th>\n",
       "      <th></th>\n",
       "      <th></th>\n",
       "      <th></th>\n",
       "      <th></th>\n",
       "      <th></th>\n",
       "      <th></th>\n",
       "      <th></th>\n",
       "    </tr>\n",
       "  </thead>\n",
       "  <tbody>\n",
       "  </tbody>\n",
       "</table>\n",
       "</div>"
      ],
      "text/plain": [
       "Empty DataFrame\n",
       "Columns: [original_index, agent_000, agent_001, agent_002, date_of_experiment, extracted_from_file, grant_date, is_mapped, procedure_details, product_000, reactant_000, reactant_001, rxn_str, rxn_time, solvent_000, solvent_001, temperature, yield_000]\n",
       "Index: []"
      ]
     },
     "execution_count": 41,
     "metadata": {},
     "output_type": "execute_result"
    }
   ],
   "source": [
    "df[df['procedure_details'] == \"zeolite\"]"
   ]
  },
  {
   "cell_type": "code",
   "execution_count": 40,
   "metadata": {},
   "outputs": [
    {
     "data": {
      "text/plain": [
       "57"
      ]
     },
     "execution_count": 40,
     "metadata": {},
     "output_type": "execute_result"
    }
   ],
   "source": [
    "len(df[df['agent_002'] == \"C\"])"
   ]
  },
  {
   "cell_type": "code",
   "execution_count": null,
   "metadata": {},
   "outputs": [],
   "source": [
    "'C(O[CH:4](OCC)[CH2:5][NH:6][C:7]1[N:11]([CH3:12])[N:10]=[N:9][N:8]=1)C.[ClH:16].[OH:17][C:18]1[CH:19]=[C:20]([CH:24]=[CH:25][C:26]=1[OH:27])[CH2:21][CH2:22][NH2:23].Cl.C>O.C(O)C>[ClH:16].[CH3:12][N:11]1[C:7]([NH:6][CH2:5][CH:4]2[C:24]3[C:20](=[CH:19][C:18]([OH:17])=[C:26]([OH:27])[CH:25]=3)[CH2:21][CH2:22][NH:23]2)=[N:8][N:9]=[N:10]1'"
   ]
  },
  {
   "cell_type": "code",
   "execution_count": 25,
   "metadata": {},
   "outputs": [
    {
     "data": {
      "text/plain": [
       "agent_000\n",
       "Cl                                                                                                                                        63102\n",
       "[Na+]                                                                                                                                     56010\n",
       "[K+]                                                                                                                                      25356\n",
       "[OH-]                                                                                                                                     22763\n",
       "[Pd]                                                                                                                                      22616\n",
       "O=C([O-])[O-]                                                                                                                             21063\n",
       "[H-]                                                                                                                                      12680\n",
       "[Li+]                                                                                                                                      7218\n",
       "O=S(=O)(O)O                                                                                                                                6866\n",
       "[Cl-]                                                                                                                                      6442\n",
       "O=C([O-])O                                                                                                                                 6336\n",
       "[Li]CCCC                                                                                                                                   5612\n",
       "c1ccc(P(c2ccccc2)c2ccccc2)cc1                                                                                                              5063\n",
       "Cc1ccc(S(=O)(=O)O)cc1                                                                                                                      4410\n",
       "CN(C)c1ccncc1                                                                                                                              4319\n",
       "[BH4-]                                                                                                                                     3900\n",
       "[NH4+]                                                                                                                                     3668\n",
       "[Cs+]                                                                                                                                      3584\n",
       "c1ccc([P](c2ccccc2)(c2ccccc2)[Pd]([P](c2ccccc2)(c2ccccc2)c2ccccc2)([P](c2ccccc2)(c2ccccc2)c2ccccc2)[P](c2ccccc2)(c2ccccc2)c2ccccc2)cc1     3504\n",
       "Br                                                                                                                                         3178\n",
       "Name: count, dtype: int64"
      ]
     },
     "execution_count": 25,
     "metadata": {},
     "output_type": "execute_result"
    }
   ],
   "source": [
    "# most common agents in agent_000\n",
    "df['agent_000'].value_counts().head(20)"
   ]
  },
  {
   "cell_type": "code",
   "execution_count": 28,
   "metadata": {},
   "outputs": [
    {
     "data": {
      "text/plain": [
       "'[C:1]([O:5][C:6]([C:8]1[C:9]([C:14]2[CH:19]=[CH:18][C:17]([CH2:20][N:21]3[C:25]([CH:26]=O)=[C:24]([CH:28]=[CH2:29])[N:23]=[C:22]3[O:30][CH2:31][CH3:32])=[C:16]([F:33])[CH:15]=2)=[CH:10][CH:11]=[CH:12][CH:13]=1)=[O:7])([CH3:4])([CH3:3])[CH3:2].Cl.[NH2:35][OH:36]>N1C=CC=CC=1.O>[C:1]([O:5][C:6]([C:8]1[C:9]([C:14]2[CH:19]=[CH:18][C:17]([CH2:20][N:21]3[C:25]([CH:26]=[N:35][OH:36])=[C:24]([CH:28]=[CH2:29])[N:23]=[C:22]3[O:30][CH2:31][CH3:32])=[C:16]([F:33])[CH:15]=2)=[CH:10][CH:11]=[CH:12][CH:13]=1)=[O:7])([CH3:2])([CH3:4])[CH3:3]'"
      ]
     },
     "execution_count": 28,
     "metadata": {},
     "output_type": "execute_result"
    }
   ],
   "source": [
    "df[df['agent_000']==\"Cl\"]['rxn_str'].iloc[0]"
   ]
  },
  {
   "cell_type": "code",
   "execution_count": 51,
   "metadata": {},
   "outputs": [
    {
     "data": {
      "text/plain": [
       "'Intermediate (15b) (19.5 g, 43.4 mmol) was dissolved in pyridine (100 mL, 1 μmol). Hydroxylamine hydrochloride (9.0 g, 130 mmol) was added, followed by water (50 mL, 3 mol), and the mixture was stirred at room temperature overnight. Water (100 mL) was then added and the mixture was stirred for 20 minutes. The precipitant was filtered off and dried to yield intermediate (15c) (13.5 g). MS m/z: [M+H+] calcd for C26H28FN2O4, 466.2; found 466.4. 1H-NMR (CDCl3): 9.78 (1H, s), 7.81 (1H, d), 7.48 (2H, m), 7.26 (1H, s), 7.0 (4H, m), 6.20 (1H, d), 5.53 (1H, d), 5.50 (2H, s), 4.55 (2H, q), 1.43 (3H, t), 1.25 (9H, s).'"
      ]
     },
     "execution_count": 51,
     "metadata": {},
     "output_type": "execute_result"
    }
   ],
   "source": [
    "df[df['agent_000']==\"Cl\"]['procedure_details'].iloc[0]"
   ]
  },
  {
   "cell_type": "code",
   "execution_count": null,
   "metadata": {},
   "outputs": [],
   "source": [
    "'[C:1]([O:5][C:6]([C:8]1[C:9]([C:14]2[CH:19]=[CH:18][C:17]([CH2:20][N:21]3[C:25]([CH:26]=O)=[C:24]([CH:28]=[CH2:29])[N:23]=[C:22]3[O:30][CH2:31][CH3:32])=[C:16]([F:33])[CH:15]=2)=[CH:10][CH:11]=[CH:12][CH:13]=1)=[O:7])([CH3:4])([CH3:3])[CH3:2].Cl.[NH2:35][OH:36]>N1C=CC=CC=1.O>[C:1]([O:5][C:6]([C:8]1[C:9]([C:14]2[CH:19]=[CH:18][C:17]([CH2:20][N:21]3[C:25]([CH:26]=[N:35][OH:36])=[C:24]([CH:28]=[CH2:29])[N:23]=[C:22]3[O:30][CH2:31][CH3:32])=[C:16]([F:33])[CH:15]=2)=[CH:10][CH:11]=[CH:12][CH:13]=1)=[O:7])([CH3:2])([CH3:4])[CH3:3]'\n"
   ]
  },
  {
   "cell_type": "code",
   "execution_count": 29,
   "metadata": {},
   "outputs": [
    {
     "data": {
      "text/plain": [
       "'[Cl:1][C:2]1[CH:3]=[CH:4][C:5]([O:12][CH2:13][C:14]([N:16]2[CH2:21][C@H:20]([CH3:22])[N:19]([CH2:23][C:24]3[CH:29]=[CH:28][C:27]([F:30])=[CH:26][CH:25]=3)[CH2:18][C@H:17]2[CH3:31])=[O:15])=[C:6]([CH:11]=1)[O:7][CH2:8][C:9]#[N:10].[Cl-].[NH4+].[N-:34]=[N+:35]=[N-:36].[Na+]>CN(C)C=O.C(OCC)(=O)C>[Cl:1][C:2]1[CH:3]=[CH:4][C:5]([O:12][CH2:13][C:14]([N:16]2[CH2:21][C@H:20]([CH3:22])[N:19]([CH2:23][C:24]3[CH:25]=[CH:26][C:27]([F:30])=[CH:28][CH:29]=3)[CH2:18][C@H:17]2[CH3:31])=[O:15])=[C:6]([O:7][CH2:8][C:9]2[N:34]=[N:35][NH:36][N:10]=2)[CH:11]=1'"
      ]
     },
     "execution_count": 29,
     "metadata": {},
     "output_type": "execute_result"
    }
   ],
   "source": [
    "df[df['agent_000']==\"[Cl-]\"]['rxn_str'].iloc[0]"
   ]
  },
  {
   "cell_type": "code",
   "execution_count": null,
   "metadata": {},
   "outputs": [],
   "source": [
    "'[Cl:1][C:2]1[CH:3]=[CH:4][C:5]([O:12][CH2:13][C:14]([N:16]2[CH2:21][C@H:20]([CH3:22])[N:19]([CH2:23][C:24]3[CH:29]=[CH:28][C:27]([F:30])=[CH:26][CH:25]=3)[CH2:18][C@H:17]2[CH3:31])=[O:15])=[C:6]([CH:11]=1)[O:7][CH2:8][C:9]#[N:10].[Cl-].[NH4+].[N-:34]=[N+:35]=[N-:36].[Na+]>CN(C)C=O.C(OCC)(=O)C>[Cl:1][C:2]1[CH:3]=[CH:4][C:5]([O:12][CH2:13][C:14]([N:16]2[CH2:21][C@H:20]([CH3:22])[N:19]([CH2:23][C:24]3[CH:25]=[CH:26][C:27]([F:30])=[CH:28][CH:29]=3)[CH2:18][C@H:17]2[CH3:31])=[O:15])=[C:6]([O:7][CH2:8][C:9]2[N:34]=[N:35][NH:36][N:10]=2)[CH:11]=1'\n"
   ]
  },
  {
   "cell_type": "code",
   "execution_count": 34,
   "metadata": {},
   "outputs": [
    {
     "data": {
      "text/plain": [
       "'[CH3:1][N:2]([CH3:13])[C:3]1[CH:8]=[CH:7][CH:6]=[C:5]([N+:9]([O-])=O)[C:4]=1[CH3:12]>CO.[H][H].[Ni]>[CH3:1][N:2]([CH3:13])[C:3]1[C:4]([CH3:12])=[C:5]([CH:6]=[CH:7][CH:8]=1)[NH2:9]'"
      ]
     },
     "execution_count": 34,
     "metadata": {},
     "output_type": "execute_result"
    }
   ],
   "source": [
    "# Check reactions with H2\n",
    "df[df['agent_000']==\"[H][H]\"]['rxn_str'].iloc[0]"
   ]
  },
  {
   "cell_type": "code",
   "execution_count": null,
   "metadata": {},
   "outputs": [],
   "source": [
    "# NB: atom mapping does not involve H atoms\n",
    "'[CH3:1][N:2]([CH3:13])[C:3]1[CH:8]=[CH:7][CH:6]=[C:5]([N+:9]([O-])=O)[C:4]=1[CH3:12]>CO.[H][H].[Ni]>[CH3:1][N:2]([CH3:13])[C:3]1[C:4]([CH3:12])=[C:5]([CH:6]=[CH:7][CH:8]=1)[NH2:9]'\n"
   ]
  },
  {
   "cell_type": "code",
   "execution_count": 35,
   "metadata": {},
   "outputs": [
    {
     "data": {
      "text/plain": [
       "'[N:1]([CH:4]([CH:12]([OH:26])[CH:13]([OH:25])[CH:14]([N:22]=[N+]=[N-])[CH2:15][C:16]1[CH:21]=[CH:20][CH:19]=[CH:18][CH:17]=1)[CH2:5][C:6]1[CH:11]=[CH:10][CH:9]=[CH:8][CH:7]=1)=[N+]=[N-].[H][H]>CO.[Pd]>[NH2:1][CH:4]([CH:12]([OH:26])[CH:13]([OH:25])[CH:14]([NH2:22])[CH2:15][C:16]1[CH:21]=[CH:20][CH:19]=[CH:18][CH:17]=1)[CH2:5][C:6]1[CH:11]=[CH:10][CH:9]=[CH:8][CH:7]=1'"
      ]
     },
     "execution_count": 35,
     "metadata": {},
     "output_type": "execute_result"
    }
   ],
   "source": [
    "df[df['reactant_000']==\"[H][H]\"]['rxn_str'].iloc[0]"
   ]
  },
  {
   "cell_type": "code",
   "execution_count": 50,
   "metadata": {},
   "outputs": [
    {
     "name": "stdout",
     "output_type": "stream",
     "text": [
      "index\n",
      "98490     [OH-:1].[Na+].[CH2:3]([Sn:7](Cl)(Cl)[CH2:8][CH...\n",
      "297681    [Cl].[Br:2][C:3]1[CH:11]=[CH:10][C:6]([C:7]([O...\n",
      "719131    [CH:1]1([C:4](=[O:11])[CH2:5][C:6]([O:8][CH2:9...\n",
      "Name: rxn_str, dtype: object\n"
     ]
    }
   ],
   "source": [
    "# Bug 2: Charcol is being written as \"C\" -> this becomes CH4\n",
    "print(df[df['agent_000'] == \"[Cl]\"]['rxn_str'])"
   ]
  }
 ],
 "metadata": {
  "kernelspec": {
   "display_name": "chemistry",
   "language": "python",
   "name": "python3"
  },
  "language_info": {
   "codemirror_mode": {
    "name": "ipython",
    "version": 3
   },
   "file_extension": ".py",
   "mimetype": "text/x-python",
   "name": "python",
   "nbconvert_exporter": "python",
   "pygments_lexer": "ipython3",
   "version": "3.10.12"
  },
  "orig_nbformat": 4
 },
 "nbformat": 4,
 "nbformat_minor": 2
}

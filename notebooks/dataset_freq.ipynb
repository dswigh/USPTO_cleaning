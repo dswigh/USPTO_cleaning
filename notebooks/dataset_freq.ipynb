{
 "cells": [
  {
   "cell_type": "code",
   "execution_count": 1,
   "metadata": {},
   "outputs": [],
   "source": [
    "import pandas as pd\n",
    "from typing import List\n",
    "import numpy as np"
   ]
  },
  {
   "attachments": {},
   "cell_type": "markdown",
   "metadata": {},
   "source": [
    "# Unique values above/below a threshold"
   ]
  },
  {
   "cell_type": "code",
   "execution_count": 2,
   "metadata": {},
   "outputs": [],
   "source": [
    "def get_freq(df, cols:List[str], threshold:int):\n",
    "    \n",
    "    # Count the frequency of unique strings\n",
    "    df_freq = df[cols].stack().value_counts()\n",
    "    \n",
    "    # Number of unique strings with a count above the threshold\n",
    "    above_threshold = df_freq[df_freq >= threshold].shape[0]\n",
    "    \n",
    "    # Number of unique strings with a count below the threshold\n",
    "    below_threshold = df_freq[df_freq < threshold].shape[0]\n",
    "    \n",
    "    # Percentage of all values that are None\n",
    "    none_percentage = df[cols].isnull().mean().mean() * 100\n",
    "    none_percentage = round(none_percentage, 2)\n",
    "    \n",
    "    if \"reactant_000\" in cols or \"product_000\" in cols:\n",
    "        return df_freq.shape[0], 0, none_percentage\n",
    "    else:\n",
    "        return above_threshold, below_threshold, none_percentage\n",
    "\n",
    "    \n"
   ]
  },
  {
   "cell_type": "code",
   "execution_count": 3,
   "metadata": {},
   "outputs": [],
   "source": [
    "def build_overleaf_table(path, list_of_cols, threshold):\n",
    "    df = pd.read_parquet(path)\n",
    "    for cols in list_of_cols:\n",
    "        above_threshold, below_threshold, none_percentage = get_freq(df, cols, threshold)\n",
    "        if len(cols) > 4:\n",
    "            component = \"everything\"\n",
    "        else:\n",
    "            component, _ = cols[0].split(\"_\")\n",
    "        \n",
    "    \n",
    "        table_entry = f\"\"\"\n",
    "        {component} & {above_threshold} // {below_threshold} // {none_percentage} & \n",
    "        \"\"\"\n",
    "        print(table_entry)\n",
    "    \n",
    "    \n",
    "    "
   ]
  },
  {
   "cell_type": "code",
   "execution_count": 4,
   "metadata": {},
   "outputs": [],
   "source": [
    "solv_cols = [\"solvent_000\", \"solvent_001\"]\n",
    "catalyst_cols = [\"catalyst_000\"]\n",
    "agent_cols = [\"agent_000\", \"agent_001\", \"agent_002\"]\n",
    "reagent_cols = [\"reagent_000\", \"reagent_001\"]\n",
    "reactant_cols = [\"reactant_000\", \"reactant_001\"]\n",
    "product_cols = [\"product_000\"]"
   ]
  },
  {
   "cell_type": "code",
   "execution_count": 5,
   "metadata": {},
   "outputs": [
    {
     "name": "stdout",
     "output_type": "stream",
     "text": [
      "\n",
      "        reactant & 317184 // 0 // 18.35 & \n",
      "        \n",
      "\n",
      "        product & 382850 // 0 // 0.0 & \n",
      "        \n",
      "\n",
      "        solvent & 85 // 313 // 28.02 & \n",
      "        \n",
      "\n",
      "        agent & 255 // 11945 // 37.04 & \n",
      "        \n"
     ]
    }
   ],
   "source": [
    "path = \"/Users/dsw46/Projects_local/orderly_07_06/ORDerly/data/orderly/uspto_no_trust/filtered/filtered_orderly_ord.parquet\"\n",
    "threshold = 100\n",
    "list_of_cols = [reactant_cols, product_cols, solv_cols, agent_cols]\n",
    "build_overleaf_table(path, list_of_cols, threshold)"
   ]
  },
  {
   "cell_type": "code",
   "execution_count": 6,
   "metadata": {},
   "outputs": [
    {
     "name": "stdout",
     "output_type": "stream",
     "text": [
      "\n",
      "        reactant & 40020 // 0 // 25.7 & \n",
      "        \n",
      "\n",
      "        product & 38816 // 0 // 0.0 & \n",
      "        \n",
      "\n",
      "        solvent & 29 // 204 // 40.88 & \n",
      "        \n",
      "\n",
      "        catalyst & 48 // 447 // 56.18 & \n",
      "        \n"
     ]
    }
   ],
   "source": [
    "path = \"/Users/dsw46/Projects_local/orderly_07_06/ORDerly/data/orderly/uspto_with_trust/filtered/filtered_orderly_ord.parquet\"\n",
    "threshold = 100\n",
    "list_of_cols = [reactant_cols, product_cols, solv_cols, catalyst_cols+reagent_cols]\n",
    "build_overleaf_table(path, list_of_cols, threshold)"
   ]
  },
  {
   "cell_type": "code",
   "execution_count": 4,
   "metadata": {},
   "outputs": [
    {
     "data": {
      "text/plain": [
       "(411538, 17)"
      ]
     },
     "execution_count": 4,
     "metadata": {},
     "output_type": "execute_result"
    }
   ],
   "source": [
    "path = \"/Users/dsw46/Projects_local/orderly_07_06/ORDerly/data/orderly/uspto_no_trust/filtered/filtered_orderly_ord.parquet\"\n",
    "df = pd.read_parquet(path)\n",
    "df.shape"
   ]
  },
  {
   "cell_type": "code",
   "execution_count": 2,
   "metadata": {},
   "outputs": [],
   "source": [
    "import pandas as pd"
   ]
  },
  {
   "cell_type": "code",
   "execution_count": 6,
   "metadata": {},
   "outputs": [
    {
     "data": {
      "text/plain": [
       "(382850,)"
      ]
     },
     "execution_count": 6,
     "metadata": {},
     "output_type": "execute_result"
    }
   ],
   "source": [
    "df['product_000'].value_counts().shape"
   ]
  },
  {
   "cell_type": "code",
   "execution_count": null,
   "metadata": {},
   "outputs": [],
   "source": []
  }
 ],
 "metadata": {
  "kernelspec": {
   "display_name": "chemistry",
   "language": "python",
   "name": "python3"
  },
  "language_info": {
   "codemirror_mode": {
    "name": "ipython",
    "version": 3
   },
   "file_extension": ".py",
   "mimetype": "text/x-python",
   "name": "python",
   "nbconvert_exporter": "python",
   "pygments_lexer": "ipython3",
   "version": "3.10.8"
  },
  "orig_nbformat": 4
 },
 "nbformat": 4,
 "nbformat_minor": 2
}

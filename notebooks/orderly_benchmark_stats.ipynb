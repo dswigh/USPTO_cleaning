{
 "cells": [
  {
   "attachments": {},
   "cell_type": "markdown",
   "metadata": {},
   "source": [
    "# Percentage of reactions containing transition metals"
   ]
  },
  {
   "cell_type": "code",
   "execution_count": 1,
   "metadata": {},
   "outputs": [],
   "source": [
    "import pandas as pd\n",
    "from tqdm import tqdm"
   ]
  },
  {
   "cell_type": "code",
   "execution_count": 4,
   "metadata": {},
   "outputs": [],
   "source": [
    "path = \"/Users/dsw46/Projects_local/orderly_reviewer_response/orderly_generated_datasets/orderly_condition_train.parquet\"\n",
    "df = pd.read_parquet(path)"
   ]
  },
  {
   "cell_type": "code",
   "execution_count": 19,
   "metadata": {},
   "outputs": [
    {
     "name": "stderr",
     "output_type": "stream",
     "text": [
      "100%|██████████| 10000/10000 [00:00<00:00, 3502550.31it/s]"
     ]
    },
    {
     "name": "stdout",
     "output_type": "stream",
     "text": [
      "Number of rows containing a transition metal: 1573\n",
      "Percentage of rows containing a transition metal: 0.004407322936571534\n"
     ]
    },
    {
     "name": "stderr",
     "output_type": "stream",
     "text": [
      "\n"
     ]
    }
   ],
   "source": [
    "df2 = df.sample(10000).copy()\n",
    "transition_metals = [\n",
    "    'Sc', 'Ti', 'V', 'Cr', 'Mn', 'Fe', 'Co', 'Ni', 'Cu', 'Zn',\n",
    "    'Y', 'Zr', 'Nb', 'Mo', 'Tc', 'Ru', 'Rh', 'Pd', 'Ag', 'Cd',\n",
    "    'Lu', 'Hf', 'Ta', 'W', 'Re', 'Os', 'Ir', 'Pt', 'Au', 'Hg',\n",
    "    'Lr', 'Rf', 'Db', 'Sg', 'Bh', 'Hs', 'Mt', 'Ds', 'Rg', 'Cn'\n",
    "]\n",
    "\n",
    "\n",
    "# Create a new column 'contains_transition_metal' which checks if any of the agent columns contain a transition metal\n",
    "df2['contains_transition_metal'] = tqdm(df2[['agent_000', 'agent_001', 'agent_002']].apply(\n",
    "    lambda row: any(transition_metal in str(row) for transition_metal in transition_metals), axis=1\n",
    "))\n",
    "\n",
    "# Count the number of rows containing a transition metal\n",
    "count = df2['contains_transition_metal'].sum()\n",
    "\n",
    "# Print the count\n",
    "print(\"Number of rows containing a transition metal:\", count)\n",
    "print(\"Percentage of rows containing a transition metal:\", count / len(df))"
   ]
  },
  {
   "cell_type": "code",
   "execution_count": 5,
   "metadata": {},
   "outputs": [
    {
     "name": "stdout",
     "output_type": "stream",
     "text": [
      "Number of rows containing a transition metal: 162\n",
      "Percentage of rows containing a transition metal: 0.0004539010271612133\n"
     ]
    }
   ],
   "source": [
    "print(\"Number of rows containing a transition metal:\", count)\n",
    "print(\"Percentage of rows containing a transition metal:\", count / len(df))"
   ]
  },
  {
   "cell_type": "code",
   "execution_count": 7,
   "metadata": {},
   "outputs": [
    {
     "name": "stdout",
     "output_type": "stream",
     "text": [
      "[            Item   Count\n",
      "0           True  384427\n",
      "1           25.0  113311\n",
      "2          [Na+]  109791\n",
      "3              O   78328\n",
      "4             Cl   75985\n",
      "5        C1CCOC1   64172\n",
      "6       CN(C)C=O   56684\n",
      "7             CO   52525\n",
      "8           [K+]   49138\n",
      "9  O=C([O-])[O-]   47969]\n"
     ]
    }
   ],
   "source": [
    "# Assuming your DataFrame is called 'df'\n",
    "\n",
    "# Get frequency counts for all items in the DataFrame\n",
    "all_counts = df.values.flatten().tolist()\n",
    "frequency_counts = pd.Series(all_counts).value_counts().reset_index()\n",
    "\n",
    "# Rename the columns for clarity\n",
    "frequency_counts.columns = ['Item', 'Count']\n",
    "\n",
    "# Print the merged frequency counts\n",
    "print([frequency_counts[:10]])"
   ]
  },
  {
   "cell_type": "code",
   "execution_count": null,
   "metadata": {},
   "outputs": [],
   "source": []
  },
  {
   "cell_type": "code",
   "execution_count": 20,
   "metadata": {},
   "outputs": [],
   "source": [
    "count_pd = df['agent_000'].str.contains(\"Pd\").sum()"
   ]
  },
  {
   "cell_type": "code",
   "execution_count": 21,
   "metadata": {},
   "outputs": [
    {
     "data": {
      "text/plain": [
       "37278"
      ]
     },
     "execution_count": 21,
     "metadata": {},
     "output_type": "execute_result"
    }
   ],
   "source": [
    "count_pd"
   ]
  },
  {
   "cell_type": "markdown",
   "metadata": {},
   "source": [
    "# How many temperatures in df"
   ]
  },
  {
   "cell_type": "code",
   "execution_count": 5,
   "metadata": {},
   "outputs": [
    {
     "data": {
      "text/plain": [
       "count    191786.000000\n",
       "mean         36.566803\n",
       "std          81.927139\n",
       "min        -230.000000\n",
       "25%          25.000000\n",
       "50%          25.000000\n",
       "75%          50.000000\n",
       "max       30120.000000\n",
       "Name: temperature, dtype: float64"
      ]
     },
     "execution_count": 5,
     "metadata": {},
     "output_type": "execute_result"
    }
   ],
   "source": [
    "df['temperature'].describe()"
   ]
  },
  {
   "cell_type": "code",
   "execution_count": 6,
   "metadata": {},
   "outputs": [
    {
     "data": {
      "text/plain": [
       "322976"
      ]
     },
     "execution_count": 6,
     "metadata": {},
     "output_type": "execute_result"
    }
   ],
   "source": [
    "len(df)"
   ]
  },
  {
   "cell_type": "code",
   "execution_count": 9,
   "metadata": {},
   "outputs": [
    {
     "data": {
      "text/plain": [
       "105078"
      ]
     },
     "execution_count": 9,
     "metadata": {},
     "output_type": "execute_result"
    }
   ],
   "source": [
    "len(df[(df['temperature'] > 18.0) & (df['temperature'] < 28.0)])"
   ]
  },
  {
   "cell_type": "code",
   "execution_count": 11,
   "metadata": {},
   "outputs": [
    {
     "data": {
      "text/plain": [
       "102147"
      ]
     },
     "execution_count": 11,
     "metadata": {},
     "output_type": "execute_result"
    }
   ],
   "source": [
    "len(df[df['temperature'] == 25.0])"
   ]
  },
  {
   "attachments": {},
   "cell_type": "markdown",
   "metadata": {},
   "source": [
    "# Size of dataset"
   ]
  },
  {
   "cell_type": "code",
   "execution_count": 1,
   "metadata": {},
   "outputs": [],
   "source": [
    "import pandas as pd"
   ]
  },
  {
   "cell_type": "code",
   "execution_count": 2,
   "metadata": {},
   "outputs": [],
   "source": [
    "path1 = \"/Users/dsw46/Library/CloudStorage/OneDrive-UniversityofCambridge/Datasets/orderly_v5/benchmark/orderly_benchmark_train.parquet\"\n",
    "path2 = \"/Users/dsw46/Library/CloudStorage/OneDrive-UniversityofCambridge/Datasets/orderly_v5/benchmark/orderly_benchmark_test.parquet\"\n",
    "df1 = pd.read_parquet(path1)\n",
    "df2 = pd.read_parquet(path2)"
   ]
  },
  {
   "cell_type": "code",
   "execution_count": 3,
   "metadata": {},
   "outputs": [
    {
     "data": {
      "text/plain": [
       "322976"
      ]
     },
     "execution_count": 3,
     "metadata": {},
     "output_type": "execute_result"
    }
   ],
   "source": [
    "len(df1)"
   ]
  },
  {
   "cell_type": "code",
   "execution_count": 4,
   "metadata": {},
   "outputs": [
    {
     "data": {
      "text/plain": [
       "33930"
      ]
     },
     "execution_count": 4,
     "metadata": {},
     "output_type": "execute_result"
    }
   ],
   "source": [
    "len(df2)"
   ]
  },
  {
   "cell_type": "code",
   "execution_count": null,
   "metadata": {},
   "outputs": [],
   "source": []
  }
 ],
 "metadata": {
  "kernelspec": {
   "display_name": "Python 3",
   "language": "python",
   "name": "python3"
  },
  "language_info": {
   "codemirror_mode": {
    "name": "ipython",
    "version": 3
   },
   "file_extension": ".py",
   "mimetype": "text/x-python",
   "name": "python",
   "nbconvert_exporter": "python",
   "pygments_lexer": "ipython3",
   "version": "3.10.12"
  },
  "orig_nbformat": 4
 },
 "nbformat": 4,
 "nbformat_minor": 2
}

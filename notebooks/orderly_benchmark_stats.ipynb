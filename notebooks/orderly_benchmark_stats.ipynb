{
 "cells": [
  {
   "attachments": {},
   "cell_type": "markdown",
   "metadata": {},
   "source": [
    "# Percentage of reactions containing transition metals"
   ]
  },
  {
   "cell_type": "code",
   "execution_count": null,
   "metadata": {},
   "outputs": [],
   "source": [
    "import pandas as pd"
   ]
  },
  {
   "cell_type": "code",
   "execution_count": null,
   "metadata": {},
   "outputs": [],
   "source": [
    "path = \"../data/orderly/datasets/orderly_no_trust_no_map_train.parquet\"\n",
    "df = pd.read_parquet(path)"
   ]
  },
  {
   "cell_type": "code",
   "execution_count": null,
   "metadata": {},
   "outputs": [],
   "source": [
    "df2 = df.iloc[:100000].copy()\n",
    "transition_metals = [\n",
    "    'Sc', 'Ti', 'V', 'Cr', 'Mn', 'Fe', 'Co', 'Ni', 'Cu', 'Zn',\n",
    "    'Y', 'Zr', 'Nb', 'Mo', 'Tc', 'Ru', 'Rh', 'Pd', 'Ag', 'Cd',\n",
    "    'Lu', 'Hf', 'Ta', 'W', 'Re', 'Os', 'Ir', 'Pt', 'Au', 'Hg',\n",
    "    'Lr', 'Rf', 'Db', 'Sg', 'Bh', 'Hs', 'Mt', 'Ds', 'Rg', 'Cn'\n",
    "]\n",
    "\n",
    "\n",
    "# Create a new column 'contains_transition_metal' which checks if any of the agent columns contain a transition metal\n",
    "df2['contains_transition_metal'] = tqdm(df2[['agent_000', 'agent_001', 'agent_002']].apply(\n",
    "    lambda row: any(transition_metal in str(row) for transition_metal in transition_metals), axis=1\n",
    "))\n",
    "\n",
    "# Count the number of rows containing a transition metal\n",
    "count = df2['contains_transition_metal'].sum()\n",
    "\n",
    "# Print the count\n",
    "print(\"Number of rows containing a transition metal:\", count)\n",
    "print(\"Percentage of rows containing a transition metal:\", count / len(df))"
   ]
  },
  {
   "cell_type": "code",
   "execution_count": null,
   "metadata": {},
   "outputs": [],
   "source": [
    "print(\"Number of rows containing a transition metal:\", count)\n",
    "print(\"Percentage of rows containing a transition metal:\", count / len(df))"
   ]
  },
  {
   "cell_type": "code",
   "execution_count": null,
   "metadata": {},
   "outputs": [],
   "source": [
    "# Assuming your DataFrame is called 'df'\n",
    "\n",
    "# Get frequency counts for all items in the DataFrame\n",
    "all_counts = df5.values.flatten().tolist()\n",
    "frequency_counts = pd.Series(all_counts).value_counts().reset_index()\n",
    "\n",
    "# Rename the columns for clarity\n",
    "frequency_counts.columns = ['Item', 'Count']\n",
    "\n",
    "# Print the merged frequency counts\n",
    "print([frequency_counts[:10]])"
   ]
  },
  {
   "attachments": {},
   "cell_type": "markdown",
   "metadata": {},
   "source": [
    "# Size of dataset"
   ]
  },
  {
   "cell_type": "code",
   "execution_count": 1,
   "metadata": {},
   "outputs": [],
   "source": [
    "import pandas as pd"
   ]
  },
  {
   "cell_type": "code",
   "execution_count": 2,
   "metadata": {},
   "outputs": [],
   "source": [
    "path1 = \"/Users/dsw46/Library/CloudStorage/OneDrive-UniversityofCambridge/Datasets/orderly_v5/benchmark/orderly_benchmark_train.parquet\"\n",
    "path2 = \"/Users/dsw46/Library/CloudStorage/OneDrive-UniversityofCambridge/Datasets/orderly_v5/benchmark/orderly_benchmark_test.parquet\"\n",
    "df1 = pd.read_parquet(path1)\n",
    "df2 = pd.read_parquet(path2)"
   ]
  },
  {
   "cell_type": "code",
   "execution_count": 3,
   "metadata": {},
   "outputs": [
    {
     "data": {
      "text/plain": [
       "322976"
      ]
     },
     "execution_count": 3,
     "metadata": {},
     "output_type": "execute_result"
    }
   ],
   "source": [
    "len(df1)"
   ]
  },
  {
   "cell_type": "code",
   "execution_count": 4,
   "metadata": {},
   "outputs": [
    {
     "data": {
      "text/plain": [
       "33930"
      ]
     },
     "execution_count": 4,
     "metadata": {},
     "output_type": "execute_result"
    }
   ],
   "source": [
    "len(df2)"
   ]
  },
  {
   "cell_type": "code",
   "execution_count": null,
   "metadata": {},
   "outputs": [],
   "source": []
  }
 ],
 "metadata": {
  "language_info": {
   "name": "python"
  },
  "orig_nbformat": 4
 },
 "nbformat": 4,
 "nbformat_minor": 2
}

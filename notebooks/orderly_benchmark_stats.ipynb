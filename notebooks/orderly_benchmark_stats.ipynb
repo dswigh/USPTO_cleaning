{
 "cells": [
  {
   "attachments": {},
   "cell_type": "markdown",
   "metadata": {},
   "source": [
    "# Reactions with Transition metals"
   ]
  },
  {
   "cell_type": "code",
   "execution_count": 33,
   "metadata": {},
   "outputs": [],
   "source": [
    "import pandas as pd\n",
    "from tqdm import tqdm"
   ]
  },
  {
   "cell_type": "code",
   "execution_count": 35,
   "metadata": {},
   "outputs": [
    {
     "name": "stdout",
     "output_type": "stream",
     "text": [
      "833112\n"
     ]
    },
    {
     "name": "stderr",
     "output_type": "stream",
     "text": [
      "100%|██████████| 40/40 [00:21<00:00,  1.84it/s]\n"
     ]
    }
   ],
   "source": [
    "path = \"/Users/danielwigh/projects_local/ORDerly_project/orderly-benchmarks/orderly_forward_train.parquet\"\n",
    "df = pd.read_parquet(path)\n",
    "print(len(df))\n",
    "# Assume reactions only have max 1 transition metal\n",
    "transition_metals = [\n",
    "    'Sc', 'Ti', 'V', 'Cr', 'Mn', 'Fe', 'Co', 'Ni', 'Cu', 'Zn',\n",
    "    'Y', 'Zr', 'Nb', 'Mo', 'Tc', 'Ru', 'Rh', 'Pd', 'Ag', 'Cd',\n",
    "    'Lu', 'Hf', 'Ta', 'W', 'Re', 'Os', 'Ir', 'Pt', 'Au', 'Hg',\n",
    "    'Lr', 'Rf', 'Db', 'Sg', 'Bh', 'Hs', 'Mt', 'Ds', 'Rg', 'Cn'\n",
    "]\n",
    "trans_metal = {}\n",
    "for tm in tqdm(transition_metals):\n",
    "    count = df['rxn_str'].str.contains(tm).sum()\n",
    "    trans_metal[tm] = count"
   ]
  },
  {
   "cell_type": "code",
   "execution_count": 38,
   "metadata": {},
   "outputs": [
    {
     "data": {
      "text/plain": [
       "82850"
      ]
     },
     "execution_count": 38,
     "metadata": {},
     "output_type": "execute_result"
    }
   ],
   "source": [
    "sum(trans_metal.values())\n",
    "# So around 10% of reactions contain a transition metal"
   ]
  },
  {
   "cell_type": "code",
   "execution_count": 39,
   "metadata": {},
   "outputs": [
    {
     "name": "stdout",
     "output_type": "stream",
     "text": [
      "322976\n"
     ]
    },
    {
     "name": "stderr",
     "output_type": "stream",
     "text": [
      "100%|██████████| 40/40 [00:08<00:00,  4.58it/s]\n"
     ]
    }
   ],
   "source": [
    "path = \"/Users/danielwigh/projects_local/ORDerly_project/orderly-benchmarks/orderly_condition_train.parquet\"\n",
    "df = pd.read_parquet(path)\n",
    "print(len(df))\n",
    "# Assume reactions only have max 1 transition metal\n",
    "transition_metals = [\n",
    "    'Sc', 'Ti', 'V', 'Cr', 'Mn', 'Fe', 'Co', 'Ni', 'Cu', 'Zn',\n",
    "    'Y', 'Zr', 'Nb', 'Mo', 'Tc', 'Ru', 'Rh', 'Pd', 'Ag', 'Cd',\n",
    "    'Lu', 'Hf', 'Ta', 'W', 'Re', 'Os', 'Ir', 'Pt', 'Au', 'Hg',\n",
    "    'Lr', 'Rf', 'Db', 'Sg', 'Bh', 'Hs', 'Mt', 'Ds', 'Rg', 'Cn'\n",
    "]\n",
    "trans_metal = {}\n",
    "for tm in tqdm(transition_metals):\n",
    "    count = df['rxn_str'].str.contains(tm).sum()\n",
    "    trans_metal[tm] = count"
   ]
  },
  {
   "cell_type": "code",
   "execution_count": 40,
   "metadata": {},
   "outputs": [
    {
     "data": {
      "text/plain": [
       "54700"
      ]
     },
     "execution_count": 40,
     "metadata": {},
     "output_type": "execute_result"
    }
   ],
   "source": [
    "sum(trans_metal.values())\n",
    "# So around 17% of reactions contain a transition metal\n",
    "# 10% of reactions contain Pd."
   ]
  },
  {
   "cell_type": "code",
   "execution_count": 42,
   "metadata": {},
   "outputs": [
    {
     "data": {
      "text/plain": [
       "{'Sc': 1,\n",
       " 'Ti': 714,\n",
       " 'V': 1,\n",
       " 'Cr': 1179,\n",
       " 'Mn': 1955,\n",
       " 'Fe': 2330,\n",
       " 'Co': 3,\n",
       " 'Ni': 2738,\n",
       " 'Cu': 4687,\n",
       " 'Zn': 3005,\n",
       " 'Y': 0,\n",
       " 'Zr': 21,\n",
       " 'Nb': 1,\n",
       " 'Mo': 3,\n",
       " 'Tc': 0,\n",
       " 'Ru': 223,\n",
       " 'Rh': 312,\n",
       " 'Pd': 34422,\n",
       " 'Ag': 592,\n",
       " 'Cd': 3,\n",
       " 'Lu': 0,\n",
       " 'Hf': 0,\n",
       " 'Ta': 1,\n",
       " 'W': 0,\n",
       " 'Re': 0,\n",
       " 'Os': 216,\n",
       " 'Ir': 0,\n",
       " 'Pt': 2290,\n",
       " 'Au': 0,\n",
       " 'Hg': 3,\n",
       " 'Lr': 0,\n",
       " 'Rf': 0,\n",
       " 'Db': 0,\n",
       " 'Sg': 0,\n",
       " 'Bh': 0,\n",
       " 'Hs': 0,\n",
       " 'Mt': 0,\n",
       " 'Ds': 0,\n",
       " 'Rg': 0,\n",
       " 'Cn': 0}"
      ]
     },
     "execution_count": 42,
     "metadata": {},
     "output_type": "execute_result"
    }
   ],
   "source": [
    "trans_metal"
   ]
  },
  {
   "attachments": {},
   "cell_type": "markdown",
   "metadata": {},
   "source": [
    "# Size of dataset"
   ]
  },
  {
   "cell_type": "code",
   "execution_count": 1,
   "metadata": {},
   "outputs": [],
   "source": [
    "import pandas as pd"
   ]
  },
  {
   "cell_type": "code",
   "execution_count": 2,
   "metadata": {},
   "outputs": [],
   "source": [
    "path1 = \"/Users/dsw46/Library/CloudStorage/OneDrive-UniversityofCambridge/Datasets/orderly_v5/benchmark/orderly_benchmark_train.parquet\"\n",
    "path2 = \"/Users/dsw46/Library/CloudStorage/OneDrive-UniversityofCambridge/Datasets/orderly_v5/benchmark/orderly_benchmark_test.parquet\"\n",
    "df1 = pd.read_parquet(path1)\n",
    "df2 = pd.read_parquet(path2)"
   ]
  },
  {
   "cell_type": "code",
   "execution_count": 3,
   "metadata": {},
   "outputs": [
    {
     "data": {
      "text/plain": [
       "322976"
      ]
     },
     "execution_count": 3,
     "metadata": {},
     "output_type": "execute_result"
    }
   ],
   "source": [
    "len(df1)"
   ]
  },
  {
   "cell_type": "code",
   "execution_count": 4,
   "metadata": {},
   "outputs": [
    {
     "data": {
      "text/plain": [
       "33930"
      ]
     },
     "execution_count": 4,
     "metadata": {},
     "output_type": "execute_result"
    }
   ],
   "source": [
    "len(df2)"
   ]
  },
  {
   "cell_type": "markdown",
   "metadata": {},
   "source": [
    "# Reactions with H2"
   ]
  },
  {
   "cell_type": "code",
   "execution_count": 1,
   "metadata": {},
   "outputs": [],
   "source": [
    "import pandas as pd"
   ]
  },
  {
   "cell_type": "code",
   "execution_count": 29,
   "metadata": {},
   "outputs": [
    {
     "name": "stdout",
     "output_type": "stream",
     "text": [
      "833112\n",
      "1\n"
     ]
    }
   ],
   "source": [
    "# path = \"../data/orderly/datasets/orderly_no_trust_no_map_train.parquet\"\n",
    "path = \"/Users/danielwigh/projects_local/ORDerly_project/orderly-benchmarks/orderly_forward_train.parquet\"\n",
    "df = pd.read_parquet(path)\n",
    "print(len(df))\n",
    "print(df['rxn_str'].str.contains('[H][H]').sum())\n"
   ]
  },
  {
   "cell_type": "code",
   "execution_count": 30,
   "metadata": {},
   "outputs": [
    {
     "name": "stdout",
     "output_type": "stream",
     "text": [
      "86119\n",
      "0\n"
     ]
    }
   ],
   "source": [
    "path = \"/Users/danielwigh/projects_local/ORDerly_project/orderly-benchmarks/orderly_forward_test.parquet\"\n",
    "df = pd.read_parquet(path)\n",
    "print(len(df))\n",
    "print(df['rxn_str'].str.contains('[H][H]').sum())\n"
   ]
  },
  {
   "cell_type": "code",
   "execution_count": 31,
   "metadata": {},
   "outputs": [
    {
     "name": "stdout",
     "output_type": "stream",
     "text": [
      "322976\n",
      "0\n"
     ]
    }
   ],
   "source": [
    "path = \"/Users/danielwigh/projects_local/ORDerly_project/orderly-benchmarks/orderly_condition_train.parquet\"\n",
    "df = pd.read_parquet(path)\n",
    "print(len(df))\n",
    "print(df['rxn_str'].str.contains('[H][H]').sum())\n"
   ]
  },
  {
   "cell_type": "code",
   "execution_count": null,
   "metadata": {},
   "outputs": [],
   "source": []
  },
  {
   "cell_type": "code",
   "execution_count": null,
   "metadata": {},
   "outputs": [],
   "source": []
  },
  {
   "cell_type": "code",
   "execution_count": null,
   "metadata": {},
   "outputs": [],
   "source": []
  },
  {
   "cell_type": "code",
   "execution_count": null,
   "metadata": {},
   "outputs": [],
   "source": []
  },
  {
   "cell_type": "code",
   "execution_count": null,
   "metadata": {},
   "outputs": [],
   "source": []
  }
 ],
 "metadata": {
  "kernelspec": {
   "display_name": "orderly",
   "language": "python",
   "name": "python3"
  },
  "language_info": {
   "codemirror_mode": {
    "name": "ipython",
    "version": 3
   },
   "file_extension": ".py",
   "mimetype": "text/x-python",
   "name": "python",
   "nbconvert_exporter": "python",
   "pygments_lexer": "ipython3",
   "version": "3.10.13"
  },
  "orig_nbformat": 4
 },
 "nbformat": 4,
 "nbformat_minor": 2
}

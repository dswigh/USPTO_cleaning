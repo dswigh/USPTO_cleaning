{
 "cells": [
  {
   "attachments": {},
   "cell_type": "markdown",
   "metadata": {},
   "source": [
    "# Reactions with Transition metals"
   ]
  },
  {
   "cell_type": "code",
   "execution_count": 33,
   "metadata": {},
   "outputs": [],
   "source": [
    "import pandas as pd\n",
    "from tqdm import tqdm"
   ]
  },
  {
   "cell_type": "code",
   "execution_count": 35,
   "metadata": {},
   "outputs": [
    {
     "name": "stdout",
     "output_type": "stream",
     "text": [
      "833112\n"
     ]
    },
    {
     "name": "stderr",
     "output_type": "stream",
     "text": [
      "100%|██████████| 40/40 [00:21<00:00,  1.84it/s]\n"
     ]
    }
   ],
   "source": [
    "path = \"/Users/danielwigh/projects_local/ORDerly_project/orderly-benchmarks/orderly_forward_train.parquet\"\n",
    "df = pd.read_parquet(path)\n",
    "print(len(df))\n",
    "# Assume reactions only have max 1 transition metal\n",
    "transition_metals = [\n",
    "    'Sc', 'Ti', 'V', 'Cr', 'Mn', 'Fe', 'Co', 'Ni', 'Cu', 'Zn',\n",
    "    'Y', 'Zr', 'Nb', 'Mo', 'Tc', 'Ru', 'Rh', 'Pd', 'Ag', 'Cd',\n",
    "    'Lu', 'Hf', 'Ta', 'W', 'Re', 'Os', 'Ir', 'Pt', 'Au', 'Hg',\n",
    "    'Lr', 'Rf', 'Db', 'Sg', 'Bh', 'Hs', 'Mt', 'Ds', 'Rg', 'Cn'\n",
    "]\n",
    "trans_metal = {}\n",
    "for tm in tqdm(transition_metals):\n",
    "    count = df['rxn_str'].str.contains(tm).sum()\n",
    "    trans_metal[tm] = count"
   ]
  },
  {
   "cell_type": "code",
   "execution_count": 38,
   "metadata": {},
   "outputs": [
    {
     "data": {
      "text/plain": [
       "82850"
      ]
     },
     "execution_count": 38,
     "metadata": {},
     "output_type": "execute_result"
    }
   ],
   "source": [
    "sum(trans_metal.values())\n",
    "# So around 10% of reactions contain a transition metal"
   ]
  },
  {
   "cell_type": "code",
   "execution_count": 39,
   "metadata": {},
   "outputs": [
    {
     "name": "stdout",
     "output_type": "stream",
     "text": [
      "322976\n"
     ]
    },
    {
     "name": "stderr",
     "output_type": "stream",
     "text": [
      "100%|██████████| 40/40 [00:08<00:00,  4.58it/s]\n"
     ]
    }
   ],
   "source": [
    "path = \"/Users/danielwigh/projects_local/ORDerly_project/orderly-benchmarks/orderly_condition_train.parquet\"\n",
    "df = pd.read_parquet(path)\n",
    "print(len(df))\n",
    "# Assume reactions only have max 1 transition metal\n",
    "transition_metals = [\n",
    "    'Sc', 'Ti', 'V', 'Cr', 'Mn', 'Fe', 'Co', 'Ni', 'Cu', 'Zn',\n",
    "    'Y', 'Zr', 'Nb', 'Mo', 'Tc', 'Ru', 'Rh', 'Pd', 'Ag', 'Cd',\n",
    "    'Lu', 'Hf', 'Ta', 'W', 'Re', 'Os', 'Ir', 'Pt', 'Au', 'Hg',\n",
    "    'Lr', 'Rf', 'Db', 'Sg', 'Bh', 'Hs', 'Mt', 'Ds', 'Rg', 'Cn'\n",
    "]\n",
    "trans_metal = {}\n",
    "for tm in tqdm(transition_metals):\n",
    "    count = df['rxn_str'].str.contains(tm).sum()\n",
    "    trans_metal[tm] = count"
   ]
  },
  {
   "cell_type": "code",
   "execution_count": 40,
   "metadata": {},
   "outputs": [
    {
     "data": {
      "text/plain": [
       "54700"
      ]
     },
     "execution_count": 40,
     "metadata": {},
     "output_type": "execute_result"
    }
   ],
   "source": [
    "sum(trans_metal.values())\n",
    "# So around 17% of reactions contain a transition metal\n",
    "# 10% of reactions contain Pd."
   ]
  },
  {
   "cell_type": "code",
   "execution_count": 42,
   "metadata": {},
   "outputs": [
    {
     "data": {
      "text/plain": [
       "{'Sc': 1,\n",
       " 'Ti': 714,\n",
       " 'V': 1,\n",
       " 'Cr': 1179,\n",
       " 'Mn': 1955,\n",
       " 'Fe': 2330,\n",
       " 'Co': 3,\n",
       " 'Ni': 2738,\n",
       " 'Cu': 4687,\n",
       " 'Zn': 3005,\n",
       " 'Y': 0,\n",
       " 'Zr': 21,\n",
       " 'Nb': 1,\n",
       " 'Mo': 3,\n",
       " 'Tc': 0,\n",
       " 'Ru': 223,\n",
       " 'Rh': 312,\n",
       " 'Pd': 34422,\n",
       " 'Ag': 592,\n",
       " 'Cd': 3,\n",
       " 'Lu': 0,\n",
       " 'Hf': 0,\n",
       " 'Ta': 1,\n",
       " 'W': 0,\n",
       " 'Re': 0,\n",
       " 'Os': 216,\n",
       " 'Ir': 0,\n",
       " 'Pt': 2290,\n",
       " 'Au': 0,\n",
       " 'Hg': 3,\n",
       " 'Lr': 0,\n",
       " 'Rf': 0,\n",
       " 'Db': 0,\n",
       " 'Sg': 0,\n",
       " 'Bh': 0,\n",
       " 'Hs': 0,\n",
       " 'Mt': 0,\n",
       " 'Ds': 0,\n",
       " 'Rg': 0,\n",
       " 'Cn': 0}"
      ]
     },
     "execution_count": 42,
     "metadata": {},
     "output_type": "execute_result"
    }
   ],
   "source": [
    "trans_metal"
   ]
  },
  {
   "attachments": {},
   "cell_type": "markdown",
   "metadata": {},
   "source": [
    "# Size of dataset"
   ]
  },
  {
   "cell_type": "code",
   "execution_count": 1,
   "metadata": {},
   "outputs": [],
   "source": [
    "import pandas as pd"
   ]
  },
  {
   "cell_type": "code",
   "execution_count": 2,
   "metadata": {},
   "outputs": [],
   "source": [
    "path1 = \"/Users/dsw46/Library/CloudStorage/OneDrive-UniversityofCambridge/Datasets/orderly_v5/benchmark/orderly_benchmark_train.parquet\"\n",
    "path2 = \"/Users/dsw46/Library/CloudStorage/OneDrive-UniversityofCambridge/Datasets/orderly_v5/benchmark/orderly_benchmark_test.parquet\"\n",
    "df1 = pd.read_parquet(path1)\n",
    "df2 = pd.read_parquet(path2)"
   ]
  },
  {
   "cell_type": "code",
   "execution_count": 3,
   "metadata": {},
   "outputs": [
    {
     "data": {
      "text/plain": [
       "322976"
      ]
     },
     "execution_count": 3,
     "metadata": {},
     "output_type": "execute_result"
    }
   ],
   "source": [
    "len(df1)"
   ]
  },
  {
   "cell_type": "code",
   "execution_count": 4,
   "metadata": {},
   "outputs": [
    {
     "data": {
      "text/plain": [
       "33930"
      ]
     },
     "execution_count": 4,
     "metadata": {},
     "output_type": "execute_result"
    }
   ],
   "source": [
    "len(df2)"
   ]
  },
  {
   "cell_type": "markdown",
   "metadata": {},
   "source": [
    "# Reactions with H2"
   ]
  },
  {
   "cell_type": "code",
   "execution_count": 2,
   "metadata": {},
   "outputs": [],
   "source": [
    "import pandas as pd"
   ]
  },
  {
   "cell_type": "code",
   "execution_count": 15,
   "metadata": {},
   "outputs": [
    {
     "name": "stdout",
     "output_type": "stream",
     "text": [
      "Number of strings containing '[H][H]': 9738, that's 0.011688704519920491 % of the data. Len(df)=833112.\n"
     ]
    }
   ],
   "source": [
    "# path = \"../data/orderly/datasets/orderly_no_trust_no_map_train.parquet\"\n",
    "path = \"/Users/danielwigh/projects_local/ORDerly_project/orderly-benchmarks/orderly_forward_train.parquet\"\n",
    "df = pd.read_parquet(path)\n",
    "# contains_hh = df['rxn_str'].str.contains(r'\\[H\\]\\[H\\]', regex=True, na=False)\n",
    "contains_hh = df['rxn_str'].str.contains('[H][H]', regex=False, na=False)\n",
    "count = contains_hh.sum()\n",
    "print(f\"Number of strings containing '[H][H]': {count}, that's {count/len(df)} % of the data. Len(df)={len(df)}.\")\n"
   ]
  },
  {
   "cell_type": "code",
   "execution_count": 23,
   "metadata": {},
   "outputs": [
    {
     "name": "stdout",
     "output_type": "stream",
     "text": [
      "1862\n"
     ]
    }
   ],
   "source": [
    "contains_hh = df['agent_002'].str.contains('[H][H]', regex=False, na=False)\n",
    "count = contains_hh.sum()\n",
    "print(count)"
   ]
  },
  {
   "cell_type": "code",
   "execution_count": 30,
   "metadata": {},
   "outputs": [
    {
     "name": "stdout",
     "output_type": "stream",
     "text": [
      "0\n"
     ]
    }
   ],
   "source": [
    "contains_ = df['agent_002'].str.contains('.', regex=False, na=False)\n",
    "count = contains_.sum()\n",
    "print(count)"
   ]
  },
  {
   "cell_type": "code",
   "execution_count": 30,
   "metadata": {},
   "outputs": [
    {
     "name": "stdout",
     "output_type": "stream",
     "text": [
      "86119\n",
      "0\n"
     ]
    }
   ],
   "source": [
    "path = \"/Users/danielwigh/projects_local/ORDerly_project/orderly-benchmarks/orderly_forward_test.parquet\"\n",
    "df = pd.read_parquet(path)\n",
    "print(len(df))\n",
    "print(df['rxn_str'].str.contains('[H][H]').sum())\n"
   ]
  },
  {
   "cell_type": "code",
   "execution_count": 31,
   "metadata": {},
   "outputs": [
    {
     "name": "stdout",
     "output_type": "stream",
     "text": [
      "322976\n",
      "0\n"
     ]
    }
   ],
   "source": [
    "path = \"/Users/danielwigh/projects_local/ORDerly_project/orderly-benchmarks/orderly_condition_train.parquet\"\n",
    "df = pd.read_parquet(path)\n",
    "print(len(df))\n",
    "print(df['rxn_str'].str.contains('[H][H]').sum())\n"
   ]
  },
  {
   "cell_type": "code",
   "execution_count": 2,
   "metadata": {},
   "outputs": [
    {
     "name": "stdout",
     "output_type": "stream",
     "text": [
      "833112\n",
      "1\n"
     ]
    }
   ],
   "source": [
    "# path = \"../data/orderly/datasets/orderly_no_trust_no_map_train.parquet\"\n",
    "path = \"/Users/danielwigh/projects_local/ORDerly_project/orderly-benchmarks/orderly_forward_train.parquet\"\n",
    "df = pd.read_parquet(path)\n"
   ]
  },
  {
   "cell_type": "code",
   "execution_count": 4,
   "metadata": {},
   "outputs": [
    {
     "name": "stdout",
     "output_type": "stream",
     "text": [
      "833112\n",
      "0\n"
     ]
    }
   ],
   "source": [
    "print(len(df))\n",
    "print(df['rxn_str'].str.contains('procedure_details').sum())"
   ]
  },
  {
   "cell_type": "code",
   "execution_count": 7,
   "metadata": {},
   "outputs": [
    {
     "data": {
      "text/html": [
       "<div>\n",
       "<style scoped>\n",
       "    .dataframe tbody tr th:only-of-type {\n",
       "        vertical-align: middle;\n",
       "    }\n",
       "\n",
       "    .dataframe tbody tr th {\n",
       "        vertical-align: top;\n",
       "    }\n",
       "\n",
       "    .dataframe thead th {\n",
       "        text-align: right;\n",
       "    }\n",
       "</style>\n",
       "<table border=\"1\" class=\"dataframe\">\n",
       "  <thead>\n",
       "    <tr style=\"text-align: right;\">\n",
       "      <th></th>\n",
       "      <th>agent_000</th>\n",
       "      <th>agent_001</th>\n",
       "      <th>agent_002</th>\n",
       "      <th>date_of_experiment</th>\n",
       "      <th>extracted_from_file</th>\n",
       "      <th>grant_date</th>\n",
       "      <th>is_mapped</th>\n",
       "      <th>procedure_details</th>\n",
       "      <th>product_000</th>\n",
       "      <th>product_001</th>\n",
       "      <th>...</th>\n",
       "      <th>reactant_001</th>\n",
       "      <th>reactant_002</th>\n",
       "      <th>rxn_str</th>\n",
       "      <th>rxn_time</th>\n",
       "      <th>solvent_000</th>\n",
       "      <th>solvent_001</th>\n",
       "      <th>solvent_002</th>\n",
       "      <th>temperature</th>\n",
       "      <th>yield_000</th>\n",
       "      <th>yield_001</th>\n",
       "    </tr>\n",
       "    <tr>\n",
       "      <th>index</th>\n",
       "      <th></th>\n",
       "      <th></th>\n",
       "      <th></th>\n",
       "      <th></th>\n",
       "      <th></th>\n",
       "      <th></th>\n",
       "      <th></th>\n",
       "      <th></th>\n",
       "      <th></th>\n",
       "      <th></th>\n",
       "      <th></th>\n",
       "      <th></th>\n",
       "      <th></th>\n",
       "      <th></th>\n",
       "      <th></th>\n",
       "      <th></th>\n",
       "      <th></th>\n",
       "      <th></th>\n",
       "      <th></th>\n",
       "      <th></th>\n",
       "      <th></th>\n",
       "    </tr>\n",
       "  </thead>\n",
       "  <tbody>\n",
       "  </tbody>\n",
       "</table>\n",
       "<p>0 rows × 21 columns</p>\n",
       "</div>"
      ],
      "text/plain": [
       "Empty DataFrame\n",
       "Columns: [agent_000, agent_001, agent_002, date_of_experiment, extracted_from_file, grant_date, is_mapped, procedure_details, product_000, product_001, reactant_000, reactant_001, reactant_002, rxn_str, rxn_time, solvent_000, solvent_001, solvent_002, temperature, yield_000, yield_001]\n",
       "Index: []\n",
       "\n",
       "[0 rows x 21 columns]"
      ]
     },
     "execution_count": 7,
     "metadata": {},
     "output_type": "execute_result"
    }
   ],
   "source": [
    "hydrogenation_rxn = '[CH3:1][O:2][c:3]1[cH:4][cH:5][c:6]2[c:7]([cH:12]1)[CH:8]=[CH:9][N:10]2[CH3:11]>>[CH3:1][O:2][c:3]1[cH:4][cH:5][c:6]2[c:7]([cH:12]1)[CH2:8][CH2:9][N:10]2[CH3:11]'\n",
    "df[df['rxn_str']==hydrogenation_rxn]"
   ]
  },
  {
   "cell_type": "code",
   "execution_count": 6,
   "metadata": {},
   "outputs": [
    {
     "data": {
      "text/plain": [
       "index\n",
       "127288    [C:1]1([C:7]2[CH:12]=[CH:11][C:10]([OH:13])=[C...\n",
       "865425    N[C:2]1[N:7]=[C:6]([S:8][CH2:9][C:10]2[CH:11]=...\n",
       "49540     [NH2:1][CH:2]1[CH2:11][CH:10]2[N:5]([CH2:6][CH...\n",
       "327337    F[C:2]1([O:9][C:10]#[C:11][CH3:12])[CH:7]=[C:6...\n",
       "703910    [ClH:1].O1CCOCC1.[OH:8][C:9]1[CH:10]=[C:11]([C...\n",
       "                                ...                        \n",
       "137770    [N+]([C:4]1[CH:5]=[C:6]([CH3:11])[N+:7]([O-:10...\n",
       "377939    [CH3:1][CH2:2][O:3][C:4]1[N:12]([CH2:13][C:14]...\n",
       "321854    C[O:2][C:3]1[C:17]2[C:12](=[CH:13][CH:14]=[CH:...\n",
       "492935    [CH3:1][O:2][C:3]1[CH:8]=[CH:7][CH:6]=[CH:5][C...\n",
       "109743    [OH-].[C:2]1([C:10]([O:12]CC)=[O:11])([C:5]([O...\n",
       "Name: rxn_str, Length: 833112, dtype: object"
      ]
     },
     "execution_count": 6,
     "metadata": {},
     "output_type": "execute_result"
    }
   ],
   "source": [
    "df['rxn_str']"
   ]
  },
  {
   "cell_type": "code",
   "execution_count": null,
   "metadata": {},
   "outputs": [],
   "source": []
  },
  {
   "cell_type": "code",
   "execution_count": null,
   "metadata": {},
   "outputs": [],
   "source": []
  }
 ],
 "metadata": {
  "kernelspec": {
   "display_name": "orderly",
   "language": "python",
   "name": "python3"
  },
  "language_info": {
   "codemirror_mode": {
    "name": "ipython",
    "version": 3
   },
   "file_extension": ".py",
   "mimetype": "text/x-python",
   "name": "python",
   "nbconvert_exporter": "python",
   "pygments_lexer": "ipython3",
   "version": "3.10.13"
  },
  "orig_nbformat": 4
 },
 "nbformat": 4,
 "nbformat_minor": 2
}

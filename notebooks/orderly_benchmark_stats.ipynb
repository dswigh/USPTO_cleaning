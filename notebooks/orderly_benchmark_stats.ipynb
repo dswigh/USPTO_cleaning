{
 "cells": [
  {
   "attachments": {},
   "cell_type": "markdown",
   "metadata": {},
   "source": [
    "# Reactions with Transition metals"
   ]
  },
  {
   "cell_type": "code",
   "execution_count": 33,
   "metadata": {},
   "outputs": [],
   "source": [
    "import pandas as pd\n",
    "from tqdm import tqdm"
   ]
  },
  {
   "cell_type": "code",
   "execution_count": 88,
   "metadata": {},
   "outputs": [
    {
     "name": "stdout",
     "output_type": "stream",
     "text": [
      "833112\n"
     ]
    },
    {
     "name": "stderr",
     "output_type": "stream",
     "text": [
      "100%|██████████| 40/40 [00:23<00:00,  1.69it/s]\n"
     ]
    }
   ],
   "source": [
    "path = \"/Users/danielwigh/projects_local/ORDerly_project/orderly-benchmarks/orderly_forward_train.parquet\"\n",
    "df = pd.read_parquet(path)\n",
    "print(len(df))\n",
    "# Assume reactions only have max 1 transition metal\n",
    "transition_metals = [\n",
    "    'Sc', 'Ti', 'V', 'Cr', 'Mn', 'Fe', 'Co', 'Ni', 'Cu', 'Zn',\n",
    "    'Y', 'Zr', 'Nb', 'Mo', 'Tc', 'Ru', 'Rh', 'Pd', 'Ag', 'Cd',\n",
    "    'Lu', 'Hf', 'Ta', 'W', 'Re', 'Os', 'Ir', 'Pt', 'Au', 'Hg',\n",
    "    'Lr', 'Rf', 'Db', 'Sg', 'Bh', 'Hs', 'Mt', 'Ds', 'Rg', 'Cn'\n",
    "]\n",
    "trans_metal = {}\n",
    "for tm in tqdm(transition_metals):\n",
    "    count = df['rxn_str'].str.contains(tm).sum()\n",
    "    trans_metal[tm] = count"
   ]
  },
  {
   "cell_type": "code",
   "execution_count": 90,
   "metadata": {},
   "outputs": [
    {
     "data": {
      "text/plain": [
       "82850"
      ]
     },
     "execution_count": 90,
     "metadata": {},
     "output_type": "execute_result"
    }
   ],
   "source": [
    "sum(trans_metal.values())\n",
    "# So around 10% of reactions contain a transition metal"
   ]
  },
  {
   "cell_type": "code",
   "execution_count": 94,
   "metadata": {},
   "outputs": [
    {
     "name": "stdout",
     "output_type": "stream",
     "text": [
      "46778 1007 5\n"
     ]
    }
   ],
   "source": [
    "molecule = \"Pd\"\n",
    "count0=df['agent_000'].str.contains(molecule).sum()\n",
    "count1=df['agent_001'].str.contains(molecule).sum()\n",
    "count2=df['agent_002'].str.contains(molecule).sum()\n",
    "print(count0, count1, count2)\n",
    "count_total = count0+count1+count2"
   ]
  },
  {
   "cell_type": "code",
   "execution_count": 97,
   "metadata": {},
   "outputs": [
    {
     "name": "stdout",
     "output_type": "stream",
     "text": [
      "0 0 0\n"
     ]
    }
   ],
   "source": [
    "molecule = \"[Pd2+]\"\n",
    "count0=df['agent_000'].str.contains(molecule, regex=False).sum()\n",
    "count1=df['agent_001'].str.contains(molecule, regex=False).sum()\n",
    "count2=df['agent_002'].str.contains(molecule, regex=False).sum()\n",
    "print(count0, count1, count2)\n",
    "count_total = count0+count1+count2"
   ]
  },
  {
   "cell_type": "code",
   "execution_count": null,
   "metadata": {},
   "outputs": [],
   "source": []
  },
  {
   "cell_type": "code",
   "execution_count": 39,
   "metadata": {},
   "outputs": [
    {
     "name": "stdout",
     "output_type": "stream",
     "text": [
      "322976\n"
     ]
    },
    {
     "name": "stderr",
     "output_type": "stream",
     "text": [
      "100%|██████████| 40/40 [00:08<00:00,  4.58it/s]\n"
     ]
    }
   ],
   "source": [
    "path = \"/Users/danielwigh/projects_local/ORDerly_project/orderly-benchmarks/orderly_condition_train.parquet\"\n",
    "df = pd.read_parquet(path)\n",
    "print(len(df))\n",
    "# Assume reactions only have max 1 transition metal\n",
    "transition_metals = [\n",
    "    'Sc', 'Ti', 'V', 'Cr', 'Mn', 'Fe', 'Co', 'Ni', 'Cu', 'Zn',\n",
    "    'Y', 'Zr', 'Nb', 'Mo', 'Tc', 'Ru', 'Rh', 'Pd', 'Ag', 'Cd',\n",
    "    'Lu', 'Hf', 'Ta', 'W', 'Re', 'Os', 'Ir', 'Pt', 'Au', 'Hg',\n",
    "    'Lr', 'Rf', 'Db', 'Sg', 'Bh', 'Hs', 'Mt', 'Ds', 'Rg', 'Cn'\n",
    "]\n",
    "trans_metal = {}\n",
    "for tm in tqdm(transition_metals):\n",
    "    count = df['rxn_str'].str.contains(tm).sum()\n",
    "    trans_metal[tm] = count"
   ]
  },
  {
   "cell_type": "code",
   "execution_count": 40,
   "metadata": {},
   "outputs": [
    {
     "data": {
      "text/plain": [
       "54700"
      ]
     },
     "execution_count": 40,
     "metadata": {},
     "output_type": "execute_result"
    }
   ],
   "source": [
    "sum(trans_metal.values())\n",
    "# So around 17% of reactions contain a transition metal\n",
    "# 10% of reactions contain Pd."
   ]
  },
  {
   "cell_type": "code",
   "execution_count": 42,
   "metadata": {},
   "outputs": [
    {
     "data": {
      "text/plain": [
       "{'Sc': 1,\n",
       " 'Ti': 714,\n",
       " 'V': 1,\n",
       " 'Cr': 1179,\n",
       " 'Mn': 1955,\n",
       " 'Fe': 2330,\n",
       " 'Co': 3,\n",
       " 'Ni': 2738,\n",
       " 'Cu': 4687,\n",
       " 'Zn': 3005,\n",
       " 'Y': 0,\n",
       " 'Zr': 21,\n",
       " 'Nb': 1,\n",
       " 'Mo': 3,\n",
       " 'Tc': 0,\n",
       " 'Ru': 223,\n",
       " 'Rh': 312,\n",
       " 'Pd': 34422,\n",
       " 'Ag': 592,\n",
       " 'Cd': 3,\n",
       " 'Lu': 0,\n",
       " 'Hf': 0,\n",
       " 'Ta': 1,\n",
       " 'W': 0,\n",
       " 'Re': 0,\n",
       " 'Os': 216,\n",
       " 'Ir': 0,\n",
       " 'Pt': 2290,\n",
       " 'Au': 0,\n",
       " 'Hg': 3,\n",
       " 'Lr': 0,\n",
       " 'Rf': 0,\n",
       " 'Db': 0,\n",
       " 'Sg': 0,\n",
       " 'Bh': 0,\n",
       " 'Hs': 0,\n",
       " 'Mt': 0,\n",
       " 'Ds': 0,\n",
       " 'Rg': 0,\n",
       " 'Cn': 0}"
      ]
     },
     "execution_count": 42,
     "metadata": {},
     "output_type": "execute_result"
    }
   ],
   "source": [
    "trans_metal"
   ]
  },
  {
   "cell_type": "markdown",
   "metadata": {},
   "source": [
    "# Transition metal on Carbon"
   ]
  },
  {
   "cell_type": "code",
   "execution_count": 82,
   "metadata": {},
   "outputs": [
    {
     "data": {
      "text/plain": [
       "Index(['agent_000', 'agent_001', 'agent_002', 'date_of_experiment',\n",
       "       'extracted_from_file', 'grant_date', 'is_mapped', 'procedure_details',\n",
       "       'product_000', 'product_001', 'reactant_000', 'reactant_001',\n",
       "       'reactant_002', 'rxn_str', 'rxn_time', 'solvent_000', 'solvent_001',\n",
       "       'solvent_002', 'temperature', 'yield_000', 'yield_001'],\n",
       "      dtype='object')"
      ]
     },
     "execution_count": 82,
     "metadata": {},
     "output_type": "execute_result"
    }
   ],
   "source": [
    "path = \"/Users/danielwigh/projects_local/ORDerly_project/orderly-benchmarks/orderly_forward_train.parquet\"\n",
    "df = pd.read_parquet(path)\n",
    "df.columns"
   ]
  },
  {
   "cell_type": "code",
   "execution_count": 83,
   "metadata": {},
   "outputs": [
    {
     "name": "stdout",
     "output_type": "stream",
     "text": [
      "81 2445 223\n",
      "There are 2749 reactions with a carbon agent. This represents 0.00329967639405026 of all rxn\n"
     ]
    }
   ],
   "source": [
    "# Check if there are any agents == \"[C]\"\n",
    "count0=df['agent_000'].str.contains(\"\\[C\\]\").sum()\n",
    "count1=df['agent_001'].str.contains(\"\\[C\\]\").sum()\n",
    "count2=df['agent_002'].str.contains(\"\\[C\\]\").sum()\n",
    "print(count0, count1, count2)\n",
    "count_total = count0+count1+count2\n",
    "print(f\"There are {count_total} reactions with a carbon agent. This represents {count_total/len(df)} of all rxn\")"
   ]
  },
  {
   "cell_type": "code",
   "execution_count": 84,
   "metadata": {},
   "outputs": [
    {
     "name": "stdout",
     "output_type": "stream",
     "text": [
      "632 7244 1862\n",
      "There are 9738 reactions with a hydrogen reactant (mislabelled). This represents 0.011688704519920491 of all rxn\n"
     ]
    }
   ],
   "source": [
    "# Check if there are any agents == \"[H][H]\"\n",
    "count0=df['agent_000'].str.contains(\"\\[H\\]\\[H\\]\").sum()\n",
    "count1=df['agent_001'].str.contains(\"\\[H\\]\\[H\\]\").sum()\n",
    "count2=df['agent_002'].str.contains(\"\\[H\\]\\[H\\]\").sum()\n",
    "print(count0, count1, count2)\n",
    "count_total = count0+count1+count2\n",
    "print(f\"There are {count_total} reactions with a hydrogen reactant (mislabelled). This represents {count_total/len(df)} of all rxn\")"
   ]
  },
  {
   "attachments": {},
   "cell_type": "markdown",
   "metadata": {},
   "source": [
    "# Size of dataset"
   ]
  },
  {
   "cell_type": "code",
   "execution_count": 1,
   "metadata": {},
   "outputs": [],
   "source": [
    "import pandas as pd"
   ]
  },
  {
   "cell_type": "code",
   "execution_count": 2,
   "metadata": {},
   "outputs": [],
   "source": [
    "path1 = \"/Users/dsw46/Library/CloudStorage/OneDrive-UniversityofCambridge/Datasets/orderly_v5/benchmark/orderly_benchmark_train.parquet\"\n",
    "path2 = \"/Users/dsw46/Library/CloudStorage/OneDrive-UniversityofCambridge/Datasets/orderly_v5/benchmark/orderly_benchmark_test.parquet\"\n",
    "df1 = pd.read_parquet(path1)\n",
    "df2 = pd.read_parquet(path2)"
   ]
  },
  {
   "cell_type": "code",
   "execution_count": 3,
   "metadata": {},
   "outputs": [
    {
     "data": {
      "text/plain": [
       "322976"
      ]
     },
     "execution_count": 3,
     "metadata": {},
     "output_type": "execute_result"
    }
   ],
   "source": [
    "len(df1)"
   ]
  },
  {
   "cell_type": "code",
   "execution_count": 4,
   "metadata": {},
   "outputs": [
    {
     "data": {
      "text/plain": [
       "33930"
      ]
     },
     "execution_count": 4,
     "metadata": {},
     "output_type": "execute_result"
    }
   ],
   "source": [
    "len(df2)"
   ]
  },
  {
   "cell_type": "markdown",
   "metadata": {},
   "source": [
    "# Reactions with H2"
   ]
  },
  {
   "cell_type": "code",
   "execution_count": 2,
   "metadata": {},
   "outputs": [],
   "source": [
    "import pandas as pd"
   ]
  },
  {
   "cell_type": "code",
   "execution_count": 15,
   "metadata": {},
   "outputs": [
    {
     "name": "stdout",
     "output_type": "stream",
     "text": [
      "Number of strings containing '[H][H]': 9738, that's 0.011688704519920491 % of the data. Len(df)=833112.\n"
     ]
    }
   ],
   "source": [
    "# path = \"../data/orderly/datasets/orderly_no_trust_no_map_train.parquet\"\n",
    "path = \"/Users/danielwigh/projects_local/ORDerly_project/orderly-benchmarks/orderly_forward_train.parquet\"\n",
    "df = pd.read_parquet(path)\n",
    "# contains_hh = df['rxn_str'].str.contains(r'\\[H\\]\\[H\\]', regex=True, na=False)\n",
    "contains_hh = df['rxn_str'].str.contains('[H][H]', regex=False, na=False)\n",
    "count = contains_hh.sum()\n",
    "print(f\"Number of strings containing '[H][H]': {count}, that's {count/len(df)} % of the data. Len(df)={len(df)}.\")\n"
   ]
  },
  {
   "cell_type": "code",
   "execution_count": 23,
   "metadata": {},
   "outputs": [
    {
     "name": "stdout",
     "output_type": "stream",
     "text": [
      "1862\n"
     ]
    }
   ],
   "source": [
    "contains_hh = df['agent_002'].str.contains('[H][H]', regex=False, na=False)\n",
    "count = contains_hh.sum()\n",
    "print(count)"
   ]
  },
  {
   "cell_type": "code",
   "execution_count": 30,
   "metadata": {},
   "outputs": [
    {
     "name": "stdout",
     "output_type": "stream",
     "text": [
      "0\n"
     ]
    }
   ],
   "source": [
    "contains_ = df['agent_002'].str.contains('.', regex=False, na=False)\n",
    "count = contains_.sum()\n",
    "print(count)"
   ]
  },
  {
   "cell_type": "code",
   "execution_count": 30,
   "metadata": {},
   "outputs": [
    {
     "name": "stdout",
     "output_type": "stream",
     "text": [
      "86119\n",
      "0\n"
     ]
    }
   ],
   "source": [
    "path = \"/Users/danielwigh/projects_local/ORDerly_project/orderly-benchmarks/orderly_forward_test.parquet\"\n",
    "df = pd.read_parquet(path)\n",
    "print(len(df))\n",
    "print(df['rxn_str'].str.contains('[H][H]').sum())\n"
   ]
  },
  {
   "cell_type": "code",
   "execution_count": 31,
   "metadata": {},
   "outputs": [
    {
     "name": "stdout",
     "output_type": "stream",
     "text": [
      "322976\n",
      "0\n"
     ]
    }
   ],
   "source": [
    "path = \"/Users/danielwigh/projects_local/ORDerly_project/orderly-benchmarks/orderly_condition_train.parquet\"\n",
    "df = pd.read_parquet(path)\n",
    "print(len(df))\n",
    "print(df['rxn_str'].str.contains('[H][H]').sum())\n"
   ]
  },
  {
   "cell_type": "code",
   "execution_count": 2,
   "metadata": {},
   "outputs": [
    {
     "name": "stdout",
     "output_type": "stream",
     "text": [
      "833112\n",
      "1\n"
     ]
    }
   ],
   "source": [
    "# path = \"../data/orderly/datasets/orderly_no_trust_no_map_train.parquet\"\n",
    "path = \"/Users/danielwigh/projects_local/ORDerly_project/orderly-benchmarks/orderly_forward_train.parquet\"\n",
    "df = pd.read_parquet(path)\n"
   ]
  },
  {
   "cell_type": "code",
   "execution_count": 4,
   "metadata": {},
   "outputs": [
    {
     "name": "stdout",
     "output_type": "stream",
     "text": [
      "833112\n",
      "0\n"
     ]
    }
   ],
   "source": [
    "print(len(df))\n",
    "print(df['rxn_str'].str.contains('procedure_details').sum())"
   ]
  },
  {
   "cell_type": "code",
   "execution_count": 7,
   "metadata": {},
   "outputs": [
    {
     "data": {
      "text/html": [
       "<div>\n",
       "<style scoped>\n",
       "    .dataframe tbody tr th:only-of-type {\n",
       "        vertical-align: middle;\n",
       "    }\n",
       "\n",
       "    .dataframe tbody tr th {\n",
       "        vertical-align: top;\n",
       "    }\n",
       "\n",
       "    .dataframe thead th {\n",
       "        text-align: right;\n",
       "    }\n",
       "</style>\n",
       "<table border=\"1\" class=\"dataframe\">\n",
       "  <thead>\n",
       "    <tr style=\"text-align: right;\">\n",
       "      <th></th>\n",
       "      <th>agent_000</th>\n",
       "      <th>agent_001</th>\n",
       "      <th>agent_002</th>\n",
       "      <th>date_of_experiment</th>\n",
       "      <th>extracted_from_file</th>\n",
       "      <th>grant_date</th>\n",
       "      <th>is_mapped</th>\n",
       "      <th>procedure_details</th>\n",
       "      <th>product_000</th>\n",
       "      <th>product_001</th>\n",
       "      <th>...</th>\n",
       "      <th>reactant_001</th>\n",
       "      <th>reactant_002</th>\n",
       "      <th>rxn_str</th>\n",
       "      <th>rxn_time</th>\n",
       "      <th>solvent_000</th>\n",
       "      <th>solvent_001</th>\n",
       "      <th>solvent_002</th>\n",
       "      <th>temperature</th>\n",
       "      <th>yield_000</th>\n",
       "      <th>yield_001</th>\n",
       "    </tr>\n",
       "    <tr>\n",
       "      <th>index</th>\n",
       "      <th></th>\n",
       "      <th></th>\n",
       "      <th></th>\n",
       "      <th></th>\n",
       "      <th></th>\n",
       "      <th></th>\n",
       "      <th></th>\n",
       "      <th></th>\n",
       "      <th></th>\n",
       "      <th></th>\n",
       "      <th></th>\n",
       "      <th></th>\n",
       "      <th></th>\n",
       "      <th></th>\n",
       "      <th></th>\n",
       "      <th></th>\n",
       "      <th></th>\n",
       "      <th></th>\n",
       "      <th></th>\n",
       "      <th></th>\n",
       "      <th></th>\n",
       "    </tr>\n",
       "  </thead>\n",
       "  <tbody>\n",
       "  </tbody>\n",
       "</table>\n",
       "<p>0 rows × 21 columns</p>\n",
       "</div>"
      ],
      "text/plain": [
       "Empty DataFrame\n",
       "Columns: [agent_000, agent_001, agent_002, date_of_experiment, extracted_from_file, grant_date, is_mapped, procedure_details, product_000, product_001, reactant_000, reactant_001, reactant_002, rxn_str, rxn_time, solvent_000, solvent_001, solvent_002, temperature, yield_000, yield_001]\n",
       "Index: []\n",
       "\n",
       "[0 rows x 21 columns]"
      ]
     },
     "execution_count": 7,
     "metadata": {},
     "output_type": "execute_result"
    }
   ],
   "source": [
    "hydrogenation_rxn = '[CH3:1][O:2][c:3]1[cH:4][cH:5][c:6]2[c:7]([cH:12]1)[CH:8]=[CH:9][N:10]2[CH3:11]>>[CH3:1][O:2][c:3]1[cH:4][cH:5][c:6]2[c:7]([cH:12]1)[CH2:8][CH2:9][N:10]2[CH3:11]'\n",
    "df[df['rxn_str']==hydrogenation_rxn]"
   ]
  },
  {
   "cell_type": "code",
   "execution_count": 6,
   "metadata": {},
   "outputs": [
    {
     "data": {
      "text/plain": [
       "index\n",
       "127288    [C:1]1([C:7]2[CH:12]=[CH:11][C:10]([OH:13])=[C...\n",
       "865425    N[C:2]1[N:7]=[C:6]([S:8][CH2:9][C:10]2[CH:11]=...\n",
       "49540     [NH2:1][CH:2]1[CH2:11][CH:10]2[N:5]([CH2:6][CH...\n",
       "327337    F[C:2]1([O:9][C:10]#[C:11][CH3:12])[CH:7]=[C:6...\n",
       "703910    [ClH:1].O1CCOCC1.[OH:8][C:9]1[CH:10]=[C:11]([C...\n",
       "                                ...                        \n",
       "137770    [N+]([C:4]1[CH:5]=[C:6]([CH3:11])[N+:7]([O-:10...\n",
       "377939    [CH3:1][CH2:2][O:3][C:4]1[N:12]([CH2:13][C:14]...\n",
       "321854    C[O:2][C:3]1[C:17]2[C:12](=[CH:13][CH:14]=[CH:...\n",
       "492935    [CH3:1][O:2][C:3]1[CH:8]=[CH:7][CH:6]=[CH:5][C...\n",
       "109743    [OH-].[C:2]1([C:10]([O:12]CC)=[O:11])([C:5]([O...\n",
       "Name: rxn_str, Length: 833112, dtype: object"
      ]
     },
     "execution_count": 6,
     "metadata": {},
     "output_type": "execute_result"
    }
   ],
   "source": [
    "df['rxn_str']"
   ]
  },
  {
   "cell_type": "markdown",
   "metadata": {},
   "source": [
    "# ORDerly-cond-prelim "
   ]
  },
  {
   "cell_type": "code",
   "execution_count": 1,
   "metadata": {},
   "outputs": [],
   "source": [
    "import pandas as pd\n",
    "from tqdm import tqdm"
   ]
  },
  {
   "cell_type": "code",
   "execution_count": 4,
   "metadata": {},
   "outputs": [],
   "source": [
    "path = '/Users/dsw46/Projects_local/ORDerly-project/ORDerly/data/orderly/datasets_v6/orderly_no_trust_no_min_freq_train.parquet'\n",
    "df = pd.read_parquet(path)"
   ]
  },
  {
   "cell_type": "code",
   "execution_count": 5,
   "metadata": {},
   "outputs": [
    {
     "data": {
      "text/plain": [
       "682576"
      ]
     },
     "execution_count": 5,
     "metadata": {},
     "output_type": "execute_result"
    }
   ],
   "source": [
    "len(df)"
   ]
  },
  {
   "cell_type": "code",
   "execution_count": 6,
   "metadata": {},
   "outputs": [
    {
     "name": "stderr",
     "output_type": "stream",
     "text": [
      "100%|██████████| 40/40 [00:14<00:00,  2.71it/s]\n"
     ]
    }
   ],
   "source": [
    "# Assume reactions only have max 1 transition metal\n",
    "transition_metals = [\n",
    "    'Sc', 'Ti', 'V', 'Cr', 'Mn', 'Fe', 'Co', 'Ni', 'Cu', 'Zn',\n",
    "    'Y', 'Zr', 'Nb', 'Mo', 'Tc', 'Ru', 'Rh', 'Pd', 'Ag', 'Cd',\n",
    "    'Lu', 'Hf', 'Ta', 'W', 'Re', 'Os', 'Ir', 'Pt', 'Au', 'Hg',\n",
    "    'Lr', 'Rf', 'Db', 'Sg', 'Bh', 'Hs', 'Mt', 'Ds', 'Rg', 'Cn'\n",
    "]\n",
    "trans_metal = {}\n",
    "for tm in tqdm(transition_metals):\n",
    "    count = df['rxn_str'].str.contains(tm).sum()\n",
    "    trans_metal[tm] = count"
   ]
  },
  {
   "cell_type": "code",
   "execution_count": 7,
   "metadata": {},
   "outputs": [
    {
     "data": {
      "text/plain": [
       "70185"
      ]
     },
     "execution_count": 7,
     "metadata": {},
     "output_type": "execute_result"
    }
   ],
   "source": [
    "sum(trans_metal.values())\n",
    "# So around 10% of reactions contain a transition metal"
   ]
  },
  {
   "cell_type": "code",
   "execution_count": 8,
   "metadata": {},
   "outputs": [
    {
     "data": {
      "text/plain": [
       "41462"
      ]
     },
     "execution_count": 8,
     "metadata": {},
     "output_type": "execute_result"
    }
   ],
   "source": [
    "trans_metal[\"Pd\"]"
   ]
  },
  {
   "cell_type": "code",
   "execution_count": 19,
   "metadata": {},
   "outputs": [
    {
     "name": "stdout",
     "output_type": "stream",
     "text": [
      "0\n"
     ]
    }
   ],
   "source": [
    "df2 = df[df['agent_001']=='[H][H]']\n",
    "print(len(df2))"
   ]
  },
  {
   "cell_type": "code",
   "execution_count": 14,
   "metadata": {},
   "outputs": [
    {
     "data": {
      "text/html": [
       "<div>\n",
       "<style scoped>\n",
       "    .dataframe tbody tr th:only-of-type {\n",
       "        vertical-align: middle;\n",
       "    }\n",
       "\n",
       "    .dataframe tbody tr th {\n",
       "        vertical-align: top;\n",
       "    }\n",
       "\n",
       "    .dataframe thead th {\n",
       "        text-align: right;\n",
       "    }\n",
       "</style>\n",
       "<table border=\"1\" class=\"dataframe\">\n",
       "  <thead>\n",
       "    <tr style=\"text-align: right;\">\n",
       "      <th></th>\n",
       "      <th>original_index</th>\n",
       "      <th>agent_000</th>\n",
       "      <th>agent_001</th>\n",
       "      <th>agent_002</th>\n",
       "      <th>date_of_experiment</th>\n",
       "      <th>extracted_from_file</th>\n",
       "      <th>grant_date</th>\n",
       "      <th>is_mapped</th>\n",
       "      <th>procedure_details</th>\n",
       "      <th>product_000</th>\n",
       "      <th>reactant_000</th>\n",
       "      <th>reactant_001</th>\n",
       "      <th>rxn_str</th>\n",
       "      <th>rxn_time</th>\n",
       "      <th>solvent_000</th>\n",
       "      <th>solvent_001</th>\n",
       "      <th>temperature</th>\n",
       "      <th>yield_000</th>\n",
       "    </tr>\n",
       "    <tr>\n",
       "      <th>index</th>\n",
       "      <th></th>\n",
       "      <th></th>\n",
       "      <th></th>\n",
       "      <th></th>\n",
       "      <th></th>\n",
       "      <th></th>\n",
       "      <th></th>\n",
       "      <th></th>\n",
       "      <th></th>\n",
       "      <th></th>\n",
       "      <th></th>\n",
       "      <th></th>\n",
       "      <th></th>\n",
       "      <th></th>\n",
       "      <th></th>\n",
       "      <th></th>\n",
       "      <th></th>\n",
       "      <th></th>\n",
       "    </tr>\n",
       "  </thead>\n",
       "  <tbody>\n",
       "    <tr>\n",
       "      <th>741270</th>\n",
       "      <td>1742048</td>\n",
       "      <td>I[Cu]I</td>\n",
       "      <td>[Pd]</td>\n",
       "      <td>O=C(/C=C/c1ccccc1)/C=C/c1ccccc1</td>\n",
       "      <td>NaT</td>\n",
       "      <td>ord_dataset-60a3e71da3174666a50a61dcfa611a9f</td>\n",
       "      <td>2016-01-01 00:07:00</td>\n",
       "      <td>True</td>\n",
       "      <td>In an argon atmosphere, 27 g (59.8 mmol) of et...</td>\n",
       "      <td>CCOC(=O)CSCc1nc2ccc(Cl)cn2c1C#Cc1cccc(C(F)(F)F)c1</td>\n",
       "      <td>C#Cc1cccc(C(F)(F)F)c1</td>\n",
       "      <td>CCOC(=O)CSCc1nc2ccc(Cl)cn2c1I</td>\n",
       "      <td>[Cl:1][C:2]1[CH:3]=[CH:4][C:5]2[N:6]([C:8](I)=...</td>\n",
       "      <td>1.00</td>\n",
       "      <td>CN(C)C=O</td>\n",
       "      <td>CCN(CC)CC</td>\n",
       "      <td>25.0</td>\n",
       "      <td>85.7</td>\n",
       "    </tr>\n",
       "    <tr>\n",
       "      <th>487491</th>\n",
       "      <td>1114384</td>\n",
       "      <td>[Cu]I</td>\n",
       "      <td>[Pd]</td>\n",
       "      <td>c1ccc([P](c2ccccc2)(c2ccccc2)[Pd]([P](c2ccccc2...</td>\n",
       "      <td>NaT</td>\n",
       "      <td>ord_dataset-4226e9b4f9f845db967ed997270dcafc</td>\n",
       "      <td>2011-01-01 00:12:00</td>\n",
       "      <td>True</td>\n",
       "      <td>Reaction of a mixture of 2-bromo-5-iodo-pyrazi...</td>\n",
       "      <td>C[Si](C)(C)C#Cc1cnc(Br)cn1</td>\n",
       "      <td>Brc1cnc(I)cn1</td>\n",
       "      <td>C#C[Si](C)(C)C</td>\n",
       "      <td>[Br:1][C:2]1[CH:7]=[N:6][C:5](I)=[CH:4][N:3]=1...</td>\n",
       "      <td>NaN</td>\n",
       "      <td>CCN(CC)CC</td>\n",
       "      <td>CN(C)C=O</td>\n",
       "      <td>NaN</td>\n",
       "      <td>NaN</td>\n",
       "    </tr>\n",
       "    <tr>\n",
       "      <th>49294</th>\n",
       "      <td>110797</td>\n",
       "      <td>[Cu]I</td>\n",
       "      <td>[Pd]</td>\n",
       "      <td>None</td>\n",
       "      <td>NaT</td>\n",
       "      <td>ord_dataset-ac04cf1ba5724e9b93d39b77e9740b21</td>\n",
       "      <td>1983-01-01 00:11:00</td>\n",
       "      <td>True</td>\n",
       "      <td>To a solution of 15 g (0.06 mole) of 1-(4-brom...</td>\n",
       "      <td>CCN(CC)CCOc1ccc(C#Cc2ccc(OC)cc2)cc1</td>\n",
       "      <td>CCN(CC)CCOc1ccc(Br)cc1</td>\n",
       "      <td>C#Cc1ccc(OC)cc1</td>\n",
       "      <td>Br[C:2]1[CH:15]=[CH:14][C:5]([O:6][CH2:7][CH2:...</td>\n",
       "      <td>NaN</td>\n",
       "      <td>CCN(CC)CC</td>\n",
       "      <td>None</td>\n",
       "      <td>NaN</td>\n",
       "      <td>79.9</td>\n",
       "    </tr>\n",
       "    <tr>\n",
       "      <th>241887</th>\n",
       "      <td>574077</td>\n",
       "      <td>[Cu]I</td>\n",
       "      <td>[Pd]</td>\n",
       "      <td>c1ccc(P(c2ccccc2)c2ccccc2)cc1</td>\n",
       "      <td>NaT</td>\n",
       "      <td>ord_dataset-f4512fe8cd804ac79da66cbc0c2b9d42</td>\n",
       "      <td>2002-01-01 00:12:00</td>\n",
       "      <td>True</td>\n",
       "      <td>2-iodo-3-nitro-benzoic acid methyl ester (0.79...</td>\n",
       "      <td>COC(=O)c1cccc(N)c1C#Cc1ccc(Cl)cc1</td>\n",
       "      <td>C#Cc1ccc(Cl)cc1</td>\n",
       "      <td>COC(=O)c1cccc([N+](=O)[O-])c1I</td>\n",
       "      <td>[CH3:1][O:2][C:3](=[O:14])[C:4]1[CH:9]=[CH:8][...</td>\n",
       "      <td>0.33</td>\n",
       "      <td>Cc1ccccc1</td>\n",
       "      <td>CCN(CC)CC</td>\n",
       "      <td>80.0</td>\n",
       "      <td>NaN</td>\n",
       "    </tr>\n",
       "    <tr>\n",
       "      <th>108396</th>\n",
       "      <td>239837</td>\n",
       "      <td>Cl[Pd](Cl)([P](c1ccccc1)(c1ccccc1)c1ccccc1)[P]...</td>\n",
       "      <td>[Pd]</td>\n",
       "      <td>c1ccc(P(c2ccccc2)c2ccccc2)cc1</td>\n",
       "      <td>NaT</td>\n",
       "      <td>ord_dataset-960c6b9c4fc74afd90a3ebf713215626</td>\n",
       "      <td>1991-01-01 00:12:00</td>\n",
       "      <td>True</td>\n",
       "      <td>A mixture of decanoic acid (100 g, 0.580 mol),...</td>\n",
       "      <td>C=CCCCCCCC</td>\n",
       "      <td>CCCCCCCCCC(=O)O</td>\n",
       "      <td>NULL</td>\n",
       "      <td>[C:1](O)(=O)[CH2:2][CH2:3][CH2:4][CH2:5][CH2:6...</td>\n",
       "      <td>NaN</td>\n",
       "      <td>CC(=O)OC(C)=O</td>\n",
       "      <td>None</td>\n",
       "      <td>255.0</td>\n",
       "      <td>867.3</td>\n",
       "    </tr>\n",
       "    <tr>\n",
       "      <th>...</th>\n",
       "      <td>...</td>\n",
       "      <td>...</td>\n",
       "      <td>...</td>\n",
       "      <td>...</td>\n",
       "      <td>...</td>\n",
       "      <td>...</td>\n",
       "      <td>...</td>\n",
       "      <td>...</td>\n",
       "      <td>...</td>\n",
       "      <td>...</td>\n",
       "      <td>...</td>\n",
       "      <td>...</td>\n",
       "      <td>...</td>\n",
       "      <td>...</td>\n",
       "      <td>...</td>\n",
       "      <td>...</td>\n",
       "      <td>...</td>\n",
       "      <td>...</td>\n",
       "    </tr>\n",
       "    <tr>\n",
       "      <th>727735</th>\n",
       "      <td>1705324</td>\n",
       "      <td>[Ni]</td>\n",
       "      <td>[Pd]</td>\n",
       "      <td>None</td>\n",
       "      <td>NaT</td>\n",
       "      <td>ord_dataset-54347fcace774f89850681d6dec8009f</td>\n",
       "      <td>2016-01-01 00:03:00</td>\n",
       "      <td>True</td>\n",
       "      <td>Methyl 4-azido-3-fluoro-2-((2-fluorophenyl)ami...</td>\n",
       "      <td>COC(=O)c1cc(SCc2ccc(OC)cc2)c(N)c(F)c1Nc1ccccc1F</td>\n",
       "      <td>COC(=O)c1cc(SCc2ccc(OC)cc2)c(N=[N+]=[N-])c(F)c...</td>\n",
       "      <td>NULL</td>\n",
       "      <td>[N:1]([C:4]1[C:13]([S:14][CH2:15][C:16]2[CH:21...</td>\n",
       "      <td>NaN</td>\n",
       "      <td>None</td>\n",
       "      <td>None</td>\n",
       "      <td>NaN</td>\n",
       "      <td>NaN</td>\n",
       "    </tr>\n",
       "    <tr>\n",
       "      <th>488123</th>\n",
       "      <td>1115653</td>\n",
       "      <td>[Mn+4]</td>\n",
       "      <td>[Pd]</td>\n",
       "      <td>[O-2]</td>\n",
       "      <td>NaT</td>\n",
       "      <td>ord_dataset-4226e9b4f9f845db967ed997270dcafc</td>\n",
       "      <td>2011-01-01 00:12:00</td>\n",
       "      <td>True</td>\n",
       "      <td>A solution of phenylmethyl [((3S,4S)-4-hydroxy...</td>\n",
       "      <td>COc1ccc2ncc(=O)n(CCN3C[C@H](CN)[C@H](O)C3)c2n1</td>\n",
       "      <td>COc1ccc2ncc(=O)n(CCN3C[C@H](CNC(=O)OCc4ccccc4)...</td>\n",
       "      <td>NULL</td>\n",
       "      <td>[OH:1][C@@H:2]1[CH2:6][N:5]([CH2:7][CH2:8][N:9...</td>\n",
       "      <td>2.00</td>\n",
       "      <td>CO</td>\n",
       "      <td>None</td>\n",
       "      <td>25.0</td>\n",
       "      <td>85.4</td>\n",
       "    </tr>\n",
       "    <tr>\n",
       "      <th>15264</th>\n",
       "      <td>26782</td>\n",
       "      <td>[Ni]</td>\n",
       "      <td>[Pd]</td>\n",
       "      <td>None</td>\n",
       "      <td>NaT</td>\n",
       "      <td>ord_dataset-2ada3fda46fc44719ba0c8001f53c1b3</td>\n",
       "      <td>1977-01-01 00:06:00</td>\n",
       "      <td>True</td>\n",
       "      <td>The product was made from D-glucose and DL-met...</td>\n",
       "      <td>CSCCC(NCC(O)C(O)C(O)C(O)CO)C(=O)O</td>\n",
       "      <td>CSCCC(N)C(=O)O</td>\n",
       "      <td>O=C[C@H](O)[C@@H](O)[C@H](O)[C@H](O)CO</td>\n",
       "      <td>O=[CH:2][C@@H:3]([C@H:5]([C@@H:7]([C@@H:9]([CH...</td>\n",
       "      <td>NaN</td>\n",
       "      <td>None</td>\n",
       "      <td>None</td>\n",
       "      <td>NaN</td>\n",
       "      <td>NaN</td>\n",
       "    </tr>\n",
       "    <tr>\n",
       "      <th>575301</th>\n",
       "      <td>1320708</td>\n",
       "      <td>O=[Pt]=O</td>\n",
       "      <td>[Pd]</td>\n",
       "      <td>Cl</td>\n",
       "      <td>NaT</td>\n",
       "      <td>ord_dataset-2d6edb8ffd434003bb508360153bd9bb</td>\n",
       "      <td>2013-01-01 00:07:00</td>\n",
       "      <td>True</td>\n",
       "      <td>A mixture of 6-methoxy-indeno[2,1-b]pyridin-9-...</td>\n",
       "      <td>COc1ccc2c(c1)[C@H]1CCCN[C@H]1C2</td>\n",
       "      <td>COc1ccc2c(c1)-c1cccnc1C2=O</td>\n",
       "      <td>NULL</td>\n",
       "      <td>[CH3:1][O:2][C:3]1[CH:4]=[CH:5][C:6]2[C:7](=O)...</td>\n",
       "      <td>4.00</td>\n",
       "      <td>CO</td>\n",
       "      <td>None</td>\n",
       "      <td>25.0</td>\n",
       "      <td>NaN</td>\n",
       "    </tr>\n",
       "    <tr>\n",
       "      <th>351781</th>\n",
       "      <td>822405</td>\n",
       "      <td>[Cu]I</td>\n",
       "      <td>[Pd]</td>\n",
       "      <td>c1ccc(P(c2ccccc2)c2ccccc2)cc1</td>\n",
       "      <td>NaT</td>\n",
       "      <td>ord_dataset-ec58fad8331a42c5a67ad75aac6713b4</td>\n",
       "      <td>2008-01-01 00:05:00</td>\n",
       "      <td>True</td>\n",
       "      <td>To a solution of 4-bromo-3-(2,3,4,6-tetra-O-pi...</td>\n",
       "      <td>CC(C)(C)C(=O)OC[C@H]1O[C@@H](Oc2n[nH]c3cccc(C#...</td>\n",
       "      <td>C#C[Si](C)(C)C</td>\n",
       "      <td>CC(C)(C)C(=O)OC[C@H]1O[C@@H](Oc2n[nH]c3cccc(Br...</td>\n",
       "      <td>Br[C:2]1[CH:10]=[CH:9][CH:8]=[C:7]2[C:3]=1[C:4...</td>\n",
       "      <td>8.00</td>\n",
       "      <td>CCN(CC)CC</td>\n",
       "      <td>CCOCC</td>\n",
       "      <td>80.0</td>\n",
       "      <td>NaN</td>\n",
       "    </tr>\n",
       "  </tbody>\n",
       "</table>\n",
       "<p>169 rows × 18 columns</p>\n",
       "</div>"
      ],
      "text/plain": [
       "        original_index                                          agent_000  \\\n",
       "index                                                                       \n",
       "741270         1742048                                             I[Cu]I   \n",
       "487491         1114384                                              [Cu]I   \n",
       "49294           110797                                              [Cu]I   \n",
       "241887          574077                                              [Cu]I   \n",
       "108396          239837  Cl[Pd](Cl)([P](c1ccccc1)(c1ccccc1)c1ccccc1)[P]...   \n",
       "...                ...                                                ...   \n",
       "727735         1705324                                               [Ni]   \n",
       "488123         1115653                                             [Mn+4]   \n",
       "15264            26782                                               [Ni]   \n",
       "575301         1320708                                           O=[Pt]=O   \n",
       "351781          822405                                              [Cu]I   \n",
       "\n",
       "       agent_001                                          agent_002  \\\n",
       "index                                                                 \n",
       "741270      [Pd]                    O=C(/C=C/c1ccccc1)/C=C/c1ccccc1   \n",
       "487491      [Pd]  c1ccc([P](c2ccccc2)(c2ccccc2)[Pd]([P](c2ccccc2...   \n",
       "49294       [Pd]                                               None   \n",
       "241887      [Pd]                      c1ccc(P(c2ccccc2)c2ccccc2)cc1   \n",
       "108396      [Pd]                      c1ccc(P(c2ccccc2)c2ccccc2)cc1   \n",
       "...          ...                                                ...   \n",
       "727735      [Pd]                                               None   \n",
       "488123      [Pd]                                              [O-2]   \n",
       "15264       [Pd]                                               None   \n",
       "575301      [Pd]                                                 Cl   \n",
       "351781      [Pd]                      c1ccc(P(c2ccccc2)c2ccccc2)cc1   \n",
       "\n",
       "       date_of_experiment                           extracted_from_file  \\\n",
       "index                                                                     \n",
       "741270                NaT  ord_dataset-60a3e71da3174666a50a61dcfa611a9f   \n",
       "487491                NaT  ord_dataset-4226e9b4f9f845db967ed997270dcafc   \n",
       "49294                 NaT  ord_dataset-ac04cf1ba5724e9b93d39b77e9740b21   \n",
       "241887                NaT  ord_dataset-f4512fe8cd804ac79da66cbc0c2b9d42   \n",
       "108396                NaT  ord_dataset-960c6b9c4fc74afd90a3ebf713215626   \n",
       "...                   ...                                           ...   \n",
       "727735                NaT  ord_dataset-54347fcace774f89850681d6dec8009f   \n",
       "488123                NaT  ord_dataset-4226e9b4f9f845db967ed997270dcafc   \n",
       "15264                 NaT  ord_dataset-2ada3fda46fc44719ba0c8001f53c1b3   \n",
       "575301                NaT  ord_dataset-2d6edb8ffd434003bb508360153bd9bb   \n",
       "351781                NaT  ord_dataset-ec58fad8331a42c5a67ad75aac6713b4   \n",
       "\n",
       "                grant_date  is_mapped  \\\n",
       "index                                   \n",
       "741270 2016-01-01 00:07:00       True   \n",
       "487491 2011-01-01 00:12:00       True   \n",
       "49294  1983-01-01 00:11:00       True   \n",
       "241887 2002-01-01 00:12:00       True   \n",
       "108396 1991-01-01 00:12:00       True   \n",
       "...                    ...        ...   \n",
       "727735 2016-01-01 00:03:00       True   \n",
       "488123 2011-01-01 00:12:00       True   \n",
       "15264  1977-01-01 00:06:00       True   \n",
       "575301 2013-01-01 00:07:00       True   \n",
       "351781 2008-01-01 00:05:00       True   \n",
       "\n",
       "                                        procedure_details  \\\n",
       "index                                                       \n",
       "741270  In an argon atmosphere, 27 g (59.8 mmol) of et...   \n",
       "487491  Reaction of a mixture of 2-bromo-5-iodo-pyrazi...   \n",
       "49294   To a solution of 15 g (0.06 mole) of 1-(4-brom...   \n",
       "241887  2-iodo-3-nitro-benzoic acid methyl ester (0.79...   \n",
       "108396  A mixture of decanoic acid (100 g, 0.580 mol),...   \n",
       "...                                                   ...   \n",
       "727735  Methyl 4-azido-3-fluoro-2-((2-fluorophenyl)ami...   \n",
       "488123  A solution of phenylmethyl [((3S,4S)-4-hydroxy...   \n",
       "15264   The product was made from D-glucose and DL-met...   \n",
       "575301  A mixture of 6-methoxy-indeno[2,1-b]pyridin-9-...   \n",
       "351781  To a solution of 4-bromo-3-(2,3,4,6-tetra-O-pi...   \n",
       "\n",
       "                                              product_000  \\\n",
       "index                                                       \n",
       "741270  CCOC(=O)CSCc1nc2ccc(Cl)cn2c1C#Cc1cccc(C(F)(F)F)c1   \n",
       "487491                         C[Si](C)(C)C#Cc1cnc(Br)cn1   \n",
       "49294                 CCN(CC)CCOc1ccc(C#Cc2ccc(OC)cc2)cc1   \n",
       "241887                  COC(=O)c1cccc(N)c1C#Cc1ccc(Cl)cc1   \n",
       "108396                                         C=CCCCCCCC   \n",
       "...                                                   ...   \n",
       "727735    COC(=O)c1cc(SCc2ccc(OC)cc2)c(N)c(F)c1Nc1ccccc1F   \n",
       "488123     COc1ccc2ncc(=O)n(CCN3C[C@H](CN)[C@H](O)C3)c2n1   \n",
       "15264                   CSCCC(NCC(O)C(O)C(O)C(O)CO)C(=O)O   \n",
       "575301                    COc1ccc2c(c1)[C@H]1CCCN[C@H]1C2   \n",
       "351781  CC(C)(C)C(=O)OC[C@H]1O[C@@H](Oc2n[nH]c3cccc(C#...   \n",
       "\n",
       "                                             reactant_000  \\\n",
       "index                                                       \n",
       "741270                              C#Cc1cccc(C(F)(F)F)c1   \n",
       "487491                                      Brc1cnc(I)cn1   \n",
       "49294                              CCN(CC)CCOc1ccc(Br)cc1   \n",
       "241887                                    C#Cc1ccc(Cl)cc1   \n",
       "108396                                    CCCCCCCCCC(=O)O   \n",
       "...                                                   ...   \n",
       "727735  COC(=O)c1cc(SCc2ccc(OC)cc2)c(N=[N+]=[N-])c(F)c...   \n",
       "488123  COc1ccc2ncc(=O)n(CCN3C[C@H](CNC(=O)OCc4ccccc4)...   \n",
       "15264                                      CSCCC(N)C(=O)O   \n",
       "575301                         COc1ccc2c(c1)-c1cccnc1C2=O   \n",
       "351781                                     C#C[Si](C)(C)C   \n",
       "\n",
       "                                             reactant_001  \\\n",
       "index                                                       \n",
       "741270                      CCOC(=O)CSCc1nc2ccc(Cl)cn2c1I   \n",
       "487491                                     C#C[Si](C)(C)C   \n",
       "49294                                     C#Cc1ccc(OC)cc1   \n",
       "241887                     COC(=O)c1cccc([N+](=O)[O-])c1I   \n",
       "108396                                               NULL   \n",
       "...                                                   ...   \n",
       "727735                                               NULL   \n",
       "488123                                               NULL   \n",
       "15264              O=C[C@H](O)[C@@H](O)[C@H](O)[C@H](O)CO   \n",
       "575301                                               NULL   \n",
       "351781  CC(C)(C)C(=O)OC[C@H]1O[C@@H](Oc2n[nH]c3cccc(Br...   \n",
       "\n",
       "                                                  rxn_str  rxn_time  \\\n",
       "index                                                                 \n",
       "741270  [Cl:1][C:2]1[CH:3]=[CH:4][C:5]2[N:6]([C:8](I)=...      1.00   \n",
       "487491  [Br:1][C:2]1[CH:7]=[N:6][C:5](I)=[CH:4][N:3]=1...       NaN   \n",
       "49294   Br[C:2]1[CH:15]=[CH:14][C:5]([O:6][CH2:7][CH2:...       NaN   \n",
       "241887  [CH3:1][O:2][C:3](=[O:14])[C:4]1[CH:9]=[CH:8][...      0.33   \n",
       "108396  [C:1](O)(=O)[CH2:2][CH2:3][CH2:4][CH2:5][CH2:6...       NaN   \n",
       "...                                                   ...       ...   \n",
       "727735  [N:1]([C:4]1[C:13]([S:14][CH2:15][C:16]2[CH:21...       NaN   \n",
       "488123  [OH:1][C@@H:2]1[CH2:6][N:5]([CH2:7][CH2:8][N:9...      2.00   \n",
       "15264   O=[CH:2][C@@H:3]([C@H:5]([C@@H:7]([C@@H:9]([CH...       NaN   \n",
       "575301  [CH3:1][O:2][C:3]1[CH:4]=[CH:5][C:6]2[C:7](=O)...      4.00   \n",
       "351781  Br[C:2]1[CH:10]=[CH:9][CH:8]=[C:7]2[C:3]=1[C:4...      8.00   \n",
       "\n",
       "          solvent_000 solvent_001  temperature  yield_000  \n",
       "index                                                      \n",
       "741270       CN(C)C=O   CCN(CC)CC         25.0       85.7  \n",
       "487491      CCN(CC)CC    CN(C)C=O          NaN        NaN  \n",
       "49294       CCN(CC)CC        None          NaN       79.9  \n",
       "241887      Cc1ccccc1   CCN(CC)CC         80.0        NaN  \n",
       "108396  CC(=O)OC(C)=O        None        255.0      867.3  \n",
       "...               ...         ...          ...        ...  \n",
       "727735           None        None          NaN        NaN  \n",
       "488123             CO        None         25.0       85.4  \n",
       "15264            None        None          NaN        NaN  \n",
       "575301             CO        None         25.0        NaN  \n",
       "351781      CCN(CC)CC       CCOCC         80.0        NaN  \n",
       "\n",
       "[169 rows x 18 columns]"
      ]
     },
     "execution_count": 14,
     "metadata": {},
     "output_type": "execute_result"
    }
   ],
   "source": [
    "df2"
   ]
  },
  {
   "cell_type": "code",
   "execution_count": null,
   "metadata": {},
   "outputs": [],
   "source": [
    "['[CH2:1]([O:3][C:4](=[O:36])[C:5]1[CH:10]=[CH:9][C:8]([N:11]2[CH:15]=[C:14]([C:16]3[CH:21]=[CH:20][CH:19]=[CH:18][C:17]=3[O:22]CC3C=CC=CC=3)[C:13]([C:30]#[N:31])=[CH:12]2)=[CH:7][C:6]=1[O:32][CH2:33][O:34][CH3:35])[CH3:2].C(OCC)(=O)C>[C].[Pd].CO>[CH2:1]([O:3][C:4](=[O:36])[C:5]1[CH:10]=[CH:9][C:8]([N:11]2[CH:15]=[C:14]([C:16]3[CH:21]=[CH:20][CH:19]=[CH:18][C:17]=3[OH:22])[C:13]([C:30]#[N:31])=[CH:12]2)=[CH:7][C:6]=1[O:32][CH2:33][O:34][CH3:35])[CH3:2]']"
   ]
  },
  {
   "cell_type": "code",
   "execution_count": 70,
   "metadata": {},
   "outputs": [],
   "source": [
    "df2 = df[df['rxn_str'].str.contains(\"O=O\", regex=False, na=False)]"
   ]
  },
  {
   "cell_type": "code",
   "execution_count": 71,
   "metadata": {},
   "outputs": [
    {
     "data": {
      "text/plain": [
       "339       [Cl-:1].[K+].O=O.[C:5]1(=[O:12])[O:11][C:9](=[...\n",
       "881       [CH2:1]=[CH:2][CH2:3][CH2:4][CH2:5][CH2:6][CH2...\n",
       "937       [C:1]([C:5]1[CH:10]=[CH:9][CH:8]=[CH:7][CH:6]=...\n",
       "1015      [C:1]1([OH:7])[CH:6]=[CH:5][CH:4]=[CH:3][CH:2]...\n",
       "2850      [CH2:1]([N:3]([CH2:34][CH3:35])[CH2:4][CH2:5][...\n",
       "                                ...                        \n",
       "730862    [CH2:1]([C@@H:4]1[S:9](=[O:11])(=[O:10])[C:8](...\n",
       "730882    [CH2:1]([CH:4]1[C@@:9]([CH2:20][F:21])([C:10]2...\n",
       "732855    [O:1]=[O+][O-].[Si:4]([O:11][CH:12]([C:14]1[O:...\n",
       "735590    O=O.[CH2:3]([N:10]1[CH2:14][C:13]([C:15]2[CH:2...\n",
       "737280    O=O.[C:3]([C:7]1[CH:8]=[C:9](O)[C:10](=[CH:12]...\n",
       "Name: rxn_str, Length: 348, dtype: object"
      ]
     },
     "execution_count": 71,
     "metadata": {},
     "output_type": "execute_result"
    }
   ],
   "source": [
    "df2['rxn_str']"
   ]
  },
  {
   "cell_type": "code",
   "execution_count": null,
   "metadata": {},
   "outputs": [],
   "source": []
  },
  {
   "cell_type": "code",
   "execution_count": null,
   "metadata": {},
   "outputs": [],
   "source": []
  },
  {
   "cell_type": "code",
   "execution_count": null,
   "metadata": {},
   "outputs": [],
   "source": [
    "'ClC1C=CC=C(C(OO)=[O:9])C=1.[CH3:12][S:13][CH2:14][C:15]1[C:24]([C:25]([O:27][CH3:28])=[O:26])=[N+:23]([O-:29])[C:22]2[C:17](=[CH:18][CH:19]=[CH:20][CH:21]=2)[N+:16]=1[O-:30].C(OCC)C>C(Cl)(Cl)Cl>[CH3:12][S:13]([CH2:14][C:15]1[C:24]([C:25]([O:27][CH3:28])=[O:26])=[N+:23]([O-:29])[C:22]2[C:17](=[CH:18][CH:19]=[CH:20][CH:21]=2)[N+:16]=1[O-:30])=[O:9]'"
   ]
  }
 ],
 "metadata": {
  "kernelspec": {
   "display_name": "orderly",
   "language": "python",
   "name": "python3"
  },
  "language_info": {
   "codemirror_mode": {
    "name": "ipython",
    "version": 3
   },
   "file_extension": ".py",
   "mimetype": "text/x-python",
   "name": "python",
   "nbconvert_exporter": "python",
   "pygments_lexer": "ipython3",
   "version": "3.10.12"
  },
  "orig_nbformat": 4
 },
 "nbformat": 4,
 "nbformat_minor": 2
}

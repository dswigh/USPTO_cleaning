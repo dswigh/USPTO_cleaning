{
 "cells": [
  {
   "cell_type": "code",
   "execution_count": 2,
   "metadata": {},
   "outputs": [],
   "source": [
    "params = ['input_pfp', 'input_rxnfp', 'concatenate_1', 'fp_transform1', 'fp_transform1_Relu_0_dropout', 'fp_transform1_Relu_0_dropout_Identity_0_batchnorm', 'fp_transform2', 'fp_transform2_Relu_0_dropout', 'fp_transform2_Relu_0_dropout_dropout_SelectV2_0_batchnorm', 'c1_h1', 'c1_h1_Relu_0_dropout', 'c1_h1_Relu_0_dropout_dropout_SelectV2_0_batchnorm', 'c1_h2', 'c1_h2_Tanh_0_dropout', 'c1_h2_Tanh_0_dropout_Identity_0_batchnorm', 'c1', 'tf.math.argmax_5', 'tf.one_hot_5', 'tf.stop_gradient_5', 'c1_dense', 'c1_dense_Relu_0_dropout', 'c1_dense_Relu_0_dropout_Identity_0_batchnorm', 'concat_fp_c1', 's1_h1', 's1_h1_Relu_0_dropout', 's1_h1_Relu_0_dropout_Identity_0_batchnorm', 's1_h2', 's1_h2_Tanh_0_dropout', 's1_h2_Tanh_0_dropout_Identity_0_batchnorm', 's1', 'tf.math.argmax_6', 'tf.one_hot_6', 'tf.stop_gradient_6', 's1_dense', 's1_dense_Relu_0_dropout', 's1_dense_Relu_0_dropout_Identity_0_batchnorm', 'concat_fp_c1_s1', 's2_h1', 's2_h1_Relu_0_dropout', 's2_h1_Relu_0_dropout_Identity_0_batchnorm', 's2_h2', 's2_h2_Tanh_0_dropout', 's2_h2_Tanh_0_dropout_Identity_0_batchnorm', 's2', 'tf.math.argmax_7', 'tf.one_hot_7', 'tf.stop_gradient_7', 's2_dense', 's2_dense_Relu_0_dropout', 's2_dense_Relu_0_dropout_Identity_0_batchnorm', 'concat_fp_c1_s1_s2', 'r1_h1', 'r1_h1_Relu_0_dropout', 'r1_h1_Relu_0_dropout_Identity_0_batchnorm', 'r1_h2', 'r1_h2_Tanh_0_dropout', 'r1_h2_Tanh_0_dropout_Identity_0_batchnorm', 'r1', 'tf.math.argmax_8', 'tf.one_hot_8', 'tf.stop_gradient_8', 'r1_dense', 'r1_dense_Relu_0_dropout', 'r1_dense_Relu_0_dropout_Identity_0_batchnorm', 'concat_fp_c1_s1_s2_r1', 'r2_h1', 'r2_h1_Relu_0_dropout', 'r2_h1_Relu_0_dropout_Identity_0_batchnorm', 'r2_h2', 'r2_h2_Tanh_0_dropout', 'r2_h2_Tanh_0_dropout_Identity_0_batchnorm', 'r2']"
   ]
  },
  {
   "cell_type": "code",
   "execution_count": 4,
   "metadata": {},
   "outputs": [
    {
     "data": {
      "text/plain": [
       "['input_pfp',\n",
       " 'input_rxnfp',\n",
       " 'concatenate_1',\n",
       " 'fp_transform1',\n",
       " 'fp_transform1_Relu_0_dropout',\n",
       " 'fp_transform1_Relu_0_dropout_Identity_0_batchnorm',\n",
       " 'fp_transform2',\n",
       " 'fp_transform2_Relu_0_dropout',\n",
       " 'fp_transform2_Relu_0_dropout_dropout_SelectV2_0_batchnorm',\n",
       " 'c1_h1',\n",
       " 'c1_h1_Relu_0_dropout',\n",
       " 'c1_h1_Relu_0_dropout_dropout_SelectV2_0_batchnorm',\n",
       " 'c1_h2',\n",
       " 'c1_h2_Tanh_0_dropout',\n",
       " 'c1_h2_Tanh_0_dropout_Identity_0_batchnorm',\n",
       " 'c1',\n",
       " 'tf.math.argmax_5',\n",
       " 'tf.one_hot_5',\n",
       " 'tf.stop_gradient_5',\n",
       " 'c1_dense',\n",
       " 'c1_dense_Relu_0_dropout',\n",
       " 'c1_dense_Relu_0_dropout_Identity_0_batchnorm',\n",
       " 'concat_fp_c1',\n",
       " 's1_h1',\n",
       " 's1_h1_Relu_0_dropout',\n",
       " 's1_h1_Relu_0_dropout_Identity_0_batchnorm',\n",
       " 's1_h2',\n",
       " 's1_h2_Tanh_0_dropout',\n",
       " 's1_h2_Tanh_0_dropout_Identity_0_batchnorm',\n",
       " 's1',\n",
       " 'tf.math.argmax_6',\n",
       " 'tf.one_hot_6',\n",
       " 'tf.stop_gradient_6',\n",
       " 's1_dense',\n",
       " 's1_dense_Relu_0_dropout',\n",
       " 's1_dense_Relu_0_dropout_Identity_0_batchnorm',\n",
       " 'concat_fp_c1_s1',\n",
       " 's2_h1',\n",
       " 's2_h1_Relu_0_dropout',\n",
       " 's2_h1_Relu_0_dropout_Identity_0_batchnorm',\n",
       " 's2_h2',\n",
       " 's2_h2_Tanh_0_dropout',\n",
       " 's2_h2_Tanh_0_dropout_Identity_0_batchnorm',\n",
       " 's2',\n",
       " 'tf.math.argmax_7',\n",
       " 'tf.one_hot_7',\n",
       " 'tf.stop_gradient_7',\n",
       " 's2_dense',\n",
       " 's2_dense_Relu_0_dropout',\n",
       " 's2_dense_Relu_0_dropout_Identity_0_batchnorm',\n",
       " 'concat_fp_c1_s1_s2',\n",
       " 'r1_h1',\n",
       " 'r1_h1_Relu_0_dropout',\n",
       " 'r1_h1_Relu_0_dropout_Identity_0_batchnorm',\n",
       " 'r1_h2',\n",
       " 'r1_h2_Tanh_0_dropout',\n",
       " 'r1_h2_Tanh_0_dropout_Identity_0_batchnorm',\n",
       " 'r1',\n",
       " 'tf.math.argmax_8',\n",
       " 'tf.one_hot_8',\n",
       " 'tf.stop_gradient_8',\n",
       " 'r1_dense',\n",
       " 'r1_dense_Relu_0_dropout',\n",
       " 'r1_dense_Relu_0_dropout_Identity_0_batchnorm',\n",
       " 'concat_fp_c1_s1_s2_r1',\n",
       " 'r2_h1',\n",
       " 'r2_h1_Relu_0_dropout',\n",
       " 'r2_h1_Relu_0_dropout_Identity_0_batchnorm',\n",
       " 'r2_h2',\n",
       " 'r2_h2_Tanh_0_dropout',\n",
       " 'r2_h2_Tanh_0_dropout_Identity_0_batchnorm',\n",
       " 'r2']"
      ]
     },
     "execution_count": 4,
     "metadata": {},
     "output_type": "execute_result"
    }
   ],
   "source": [
    "params"
   ]
  },
  {
   "cell_type": "code",
   "execution_count": null,
   "metadata": {},
   "outputs": [],
   "source": []
  }
 ],
 "metadata": {
  "kernelspec": {
   "display_name": "chemistry",
   "language": "python",
   "name": "chemistry"
  },
  "language_info": {
   "codemirror_mode": {
    "name": "ipython",
    "version": 3
   },
   "file_extension": ".py",
   "mimetype": "text/x-python",
   "name": "python",
   "nbconvert_exporter": "python",
   "pygments_lexer": "ipython3",
   "version": "3.10.8"
  },
  "orig_nbformat": 4
 },
 "nbformat": 4,
 "nbformat_minor": 2
}

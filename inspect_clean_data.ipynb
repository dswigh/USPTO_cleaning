{
 "cells": [
  {
   "attachments": {},
   "cell_type": "markdown",
   "metadata": {},
   "source": [
    "# Inspect extracted data (USPTO, trust = False)"
   ]
  },
  {
   "cell_type": "code",
   "execution_count": 13,
   "metadata": {},
   "outputs": [],
   "source": [
    "import pandas as pd\n",
    "from orderly.extract.canonicalise import remove_mapping_info_and_canonicalise_smiles"
   ]
  },
  {
   "cell_type": "code",
   "execution_count": 152,
   "metadata": {},
   "outputs": [],
   "source": [
    "path = '/Users/dsw46/Library/CloudStorage/OneDrive-UniversityofCambridge/Datasets/orderly/orderly_data/18_4/uspto_no_trust/extracted_ords/uspto-grants-1976_01.parquet'\n",
    "df = pd.read_parquet(path)"
   ]
  },
  {
   "cell_type": "code",
   "execution_count": null,
   "metadata": {},
   "outputs": [],
   "source": []
  },
  {
   "cell_type": "code",
   "execution_count": 153,
   "metadata": {},
   "outputs": [
    {
     "name": "stdout",
     "output_type": "stream",
     "text": [
      "A solution of 13 grams of ψ-acid chloride of 0-(p-chlorobenzoyl)benzoic acid in 30 ml. of acetone was added dropwise to a stirred solution of 14 grams of N-[2-(ethylamino)ethyl]-p-toluenesulfonamide hydrochloride in 100 ml. of pyridine. The solution was refluxed for 1.75 hours then the solvent was removed in vacuo. The residue dissolved in ethyl acetate and extracted successively with water, and saturated sodium carbonate solution. After drying over magnesium sulfate, the ethyl acetate was removed in vacuo. The solid was slurried with ethyl acetate and separated. On recrystallization from ethyl acetate there was obtained 2-(p-chlorobenzoyl)-N-[2-(p-toluenesulfonamido)ethyl]-N-ethylbenzamide, m.p. 145°-147°C.\n",
      "[Cl:1][C:2]1[CH:18]=[CH:17][C:5]([C:6]([C:8]2[CH:16]=[CH:15][CH:14]=[CH:13][C:9]=2[C:10]([OH:12])=O)=[O:7])=[CH:4][CH:3]=1.CC(C)=O.Cl.[CH2:24]([NH:26][CH2:27][CH2:28][NH:29][S:30]([C:33]1[CH:38]=[CH:37][C:36]([CH3:39])=[CH:35][CH:34]=1)(=[O:32])=[O:31])[CH3:25]>N1C=CC=CC=1>[Cl:1][C:2]1[CH:3]=[CH:4][C:5]([C:6]([C:8]2[CH:16]=[CH:15][CH:14]=[CH:13][C:9]=2[C:10]([N:26]([CH2:27][CH2:28][NH:29][S:30]([C:33]2[CH:34]=[CH:35][C:36]([CH3:39])=[CH:37][CH:38]=2)(=[O:32])=[O:31])[CH2:24][CH3:25])=[O:12])=[O:7])=[CH:17][CH:18]=1\n"
     ]
    }
   ],
   "source": [
    "i = 412\n",
    "print(df.iloc[i]['procedure_details'])\n",
    "print(df.iloc[i]['rxn_str'])\n",
    "\n"
   ]
  },
  {
   "cell_type": "code",
   "execution_count": null,
   "metadata": {},
   "outputs": [],
   "source": [
    "A solution of 13 grams of ψ-acid chloride of 0-(p-chlorobenzoyl)benzoic acid in 30 ml. of acetone was added dropwise to a stirred solution of 14 grams of N-[2-(ethylamino)ethyl]-p-toluenesulfonamide hydrochloride in 100 ml. of pyridine. The solution was refluxed for 1.75 hours then the solvent was removed in vacuo. The residue dissolved in ethyl acetate and extracted successively with water, and saturated sodium carbonate solution. After drying over magnesium sulfate, the ethyl acetate was removed in vacuo. The solid was slurried with ethyl acetate and separated. On recrystallization from ethyl acetate there was obtained 2-(p-chlorobenzoyl)-N-[2-(p-toluenesulfonamido)ethyl]-N-ethylbenzamide, m.p. 145°-147°C.\n"
   ]
  },
  {
   "cell_type": "code",
   "execution_count": 131,
   "metadata": {},
   "outputs": [
    {
     "name": "stdout",
     "output_type": "stream",
     "text": [
      "A mixture of 4.0 g. (0.016 mole) of 1-phenacyl-2-indanone, 2.45 g. (0.016 mole) of 5-aminosalicylic acid and 10 ml. of glacial acetic acid was heated under reflux under nitrogen for 2 hours, cooled and filtered. The collected solid was washed with petroleum ether and recrystallized from acetic acid to provide 4.6 g. (78%) of yellow crystals, m.p. 201°-205°.\n"
     ]
    }
   ],
   "source": [
    "print(df.iloc[i]['procedure_details'])"
   ]
  },
  {
   "cell_type": "code",
   "execution_count": 100,
   "metadata": {},
   "outputs": [
    {
     "data": {
      "text/plain": [
       "'C[Pd]'"
      ]
     },
     "execution_count": 100,
     "metadata": {},
     "output_type": "execute_result"
    }
   ],
   "source": [
    "remove_mapping_info_and_canonicalise_smiles('[Pd]C')"
   ]
  },
  {
   "cell_type": "code",
   "execution_count": 123,
   "metadata": {},
   "outputs": [
    {
     "data": {
      "text/plain": [
       "'Cl'"
      ]
     },
     "execution_count": 123,
     "metadata": {},
     "output_type": "execute_result"
    }
   ],
   "source": [
    "from rdkit import Chem\n",
    "\n",
    "mol = Chem.MolFromSmiles('Cl')\n",
    "smiles = Chem.MolToSmiles(mol)\n",
    "smiles\n"
   ]
  },
  {
   "cell_type": "code",
   "execution_count": null,
   "metadata": {},
   "outputs": [],
   "source": [
    "'Br[CH2:2][C:3]1[CH:4]=[CH:5][C:6]2[O:15][C:10]3=[N:11][CH:12]=[CH:13][CH:14]=[C:9]3[C:8](=[O:16])[C:7]=2[CH:17]=1.[CH3:18][N:19](C)C=O.[C-]#N.[Na+]>O>[C:18]([CH2:2][C:3]1[CH:4]=[CH:5][C:6]2[O:15][C:10]3=[N:11][CH:12]=[CH:13][CH:14]=[C:9]3[C:8](=[O:16])[C:7]=2[CH:17]=1)#[N:19]'"
   ]
  },
  {
   "cell_type": "code",
   "execution_count": 128,
   "metadata": {},
   "outputs": [
    {
     "data": {
      "text/plain": [
       "['Br[CH2:2][C:3]1[CH:4]=[CH:5][C:6]2[O:15][C:10]3=[N:11][CH:12]=[CH:13][CH:14]=[C:9]3[C:8](=[O:16])[C:7]=2[CH:17]=1',\n",
       " '[CH3:18][N:19](C)C=O',\n",
       " '[C-]#N',\n",
       " '[Na+]']"
      ]
     },
     "execution_count": 128,
     "metadata": {},
     "output_type": "execute_result"
    }
   ],
   "source": [
    "'Br[CH2:2][C:3]1[CH:4]=[CH:5][C:6]2[O:15][C:10]3=[N:11][CH:12]=[CH:13][CH:14]=[C:9]3[C:8](=[O:16])[C:7]=2[CH:17]=1.[CH3:18][N:19](C)C=O.[C-]#N.[Na+]'.split('.')"
   ]
  },
  {
   "cell_type": "code",
   "execution_count": 154,
   "metadata": {},
   "outputs": [
    {
     "data": {
      "text/plain": [
       "rxn_str               [Cl:1][C:2]1[CH:18]=[CH:17][C:5]([C:6]([C:8]2[...\n",
       "reactant_0                                   CCNCCNS(=O)(=O)c1ccc(C)cc1\n",
       "reactant_1                              O=C(O)c1ccccc1C(=O)c1ccc(Cl)cc1\n",
       "reactant_2                                                         None\n",
       "reactant_3                                                         None\n",
       "reactant_4                                                         None\n",
       "agent_0                                                              Cl\n",
       "agent_1                                                 ψ-acid chloride\n",
       "agent_2                                                            None\n",
       "agent_3                                                            None\n",
       "agent_4                                                            None\n",
       "agent_5                                                            None\n",
       "agent_6                                                            None\n",
       "agent_7                                                            None\n",
       "agent_8                                                            None\n",
       "agent_9                                                            None\n",
       "agent_10                                                           None\n",
       "agent_11                                                           None\n",
       "solvent_0                                                       CC(C)=O\n",
       "solvent_1                                                      c1ccncc1\n",
       "solvent_2                                                          None\n",
       "solvent_3                                                          None\n",
       "solvent_4                                                          None\n",
       "temperature                                                         NaN\n",
       "rxn_time                                                            NaN\n",
       "product_0             CCN(CCNS(=O)(=O)c1ccc(C)cc1)C(=O)c1ccccc1C(=O)...\n",
       "product_1                                                          None\n",
       "product_2                                                          None\n",
       "product_3                                                          None\n",
       "product_4                                                          None\n",
       "product_5                                                          None\n",
       "product_6                                                          None\n",
       "yield_0                                                             NaN\n",
       "yield_1                                                             NaN\n",
       "yield_2                                                             NaN\n",
       "yield_3                                                             NaN\n",
       "yield_4                                                             NaN\n",
       "yield_5                                                             NaN\n",
       "yield_6                                                             NaN\n",
       "procedure_details     A solution of 13 grams of ψ-acid chloride of 0...\n",
       "date_of_experiment                                                  NaT\n",
       "grant_date                                          1976-01-01 00:01:00\n",
       "Name: 412, dtype: object"
      ]
     },
     "execution_count": 154,
     "metadata": {},
     "output_type": "execute_result"
    }
   ],
   "source": [
    "df.iloc[i]"
   ]
  },
  {
   "attachments": {},
   "cell_type": "markdown",
   "metadata": {},
   "source": [
    "# Inspect extracted data (trust = True)"
   ]
  },
  {
   "cell_type": "code",
   "execution_count": 135,
   "metadata": {},
   "outputs": [],
   "source": [
    "# path = '/Users/dsw46/Library/CloudStorage/OneDrive-UniversityofCambridge/Datasets/orderly/orderly_data/18_4/uspto_trust/extracted_ords/uspto-grants-1976_01.parquet'\n",
    "# df = pd.read_parquet(path)"
   ]
  },
  {
   "attachments": {},
   "cell_type": "markdown",
   "metadata": {},
   "source": [
    "# Inspect clean data (USPTO, trust = False)"
   ]
  },
  {
   "cell_type": "code",
   "execution_count": 136,
   "metadata": {},
   "outputs": [],
   "source": [
    "path = '/Users/dsw46/Library/CloudStorage/OneDrive-UniversityofCambridge/Datasets/orderly/orderly_data/uspto_no_trust/orderly_ord.parquet'\n",
    "df=  pd.read_parquet(path)"
   ]
  },
  {
   "cell_type": "code",
   "execution_count": 149,
   "metadata": {},
   "outputs": [
    {
     "data": {
      "text/plain": [
       "rxn_str_0             [S:1]([O-:5])([O-:4])(=[O:3])=[O:2].[NH4+:6].[...\n",
       "reactant_0                                                         None\n",
       "reactant_1                                                         None\n",
       "reactant_2                                                         None\n",
       "reactant_3                                                         None\n",
       "reactant_4                                                         None\n",
       "agent_0                                               O=S(=O)([O-])[O-]\n",
       "agent_1                                                          [NH4+]\n",
       "agent_2                                                            None\n",
       "solvent_0                                                             O\n",
       "solvent_1                                                          None\n",
       "temperature_0                                                       NaN\n",
       "rxn_time_0                                                          NaN\n",
       "product_0                                                O=S(=O)([O-])O\n",
       "product_1                                                          None\n",
       "product_2                                                          None\n",
       "product_3                                                          None\n",
       "product_4                                                          None\n",
       "yield_0                                                             NaN\n",
       "yield_1                                                             NaN\n",
       "yield_2                                                             NaN\n",
       "yield_3                                                             NaN\n",
       "yield_4                                                            None\n",
       "date_of_experiment                                                 None\n",
       "grant_date                                          1976-01-01 00:01:00\n",
       "Name: 10, dtype: object"
      ]
     },
     "execution_count": 149,
     "metadata": {},
     "output_type": "execute_result"
    }
   ],
   "source": [
    "df.iloc[10]#['rxn_str_0']"
   ]
  },
  {
   "cell_type": "code",
   "execution_count": null,
   "metadata": {},
   "outputs": [],
   "source": [
    "[S:1]([O-:5])([O-:4])(=[O:3])=[O:2].[NH4+:6].[NH4+]>O>[S:1](=[O:3])(=[O:2])([OH:5])[O-:4].[NH4+:6].[S:1]([O-:5])([O-:4])(=[O:3])=[O:2].[NH4+:6].[NH4+:6]"
   ]
  },
  {
   "cell_type": "code",
   "execution_count": null,
   "metadata": {},
   "outputs": [],
   "source": [
    "[Br:1][CH2:2][CH2:3][OH:4].[CH2:5]([S:7](Cl)(=[O:9])=[O:8])[CH3:6].CCOCC>C(N(CC)CC)C>[CH2:5]([S:7]([O:4][CH2:3][CH2:2][Br:1])(=[O:9])=[O:8])[CH3:6]"
   ]
  },
  {
   "cell_type": "code",
   "execution_count": null,
   "metadata": {},
   "outputs": [],
   "source": []
  },
  {
   "attachments": {},
   "cell_type": "markdown",
   "metadata": {},
   "source": [
    "# Open rxn object "
   ]
  },
  {
   "cell_type": "code",
   "execution_count": 29,
   "metadata": {},
   "outputs": [],
   "source": [
    "from ord_schema import message_helpers, validations\n",
    "from ord_schema.proto import dataset_pb2"
   ]
  },
  {
   "cell_type": "code",
   "execution_count": 34,
   "metadata": {},
   "outputs": [],
   "source": [
    "# Load Dataset message\n",
    "# pb = 'data/ord//02/ord_dataset-02ee2261663048188cf6d85d2cc96e3f.pb.gz'\n",
    "pb = 'data/ord//a0/ord_dataset-a0eff6fe4b4143f284f0fc5ac503acad.pb.gz'\n",
    "#pb = 'orderly/data/ord_test_data/00/ord_dataset-00005539a1e04c809a9a78647bea649c.pb.gz'\n",
    "data = message_helpers.load_message(pb, dataset_pb2.Dataset)"
   ]
  },
  {
   "cell_type": "code",
   "execution_count": 132,
   "metadata": {},
   "outputs": [
    {
     "data": {
      "text/plain": [
       "'[CH2:1]([CH:10]1[C:18]2[C:13](=[CH:14][CH:15]=[CH:16][CH:17]=2)[CH2:12][C:11]1=O)[C:2]([C:4]1[CH:9]=[CH:8][CH:7]=[CH:6][CH:5]=1)=O.[NH2:20][C:21]1[CH:29]=[C:25]([C:26]([OH:28])=[O:27])[C:24]([OH:30])=[CH:23][CH:22]=1>C(O)(=O)C>[C:26]([C:25]1[CH:29]=[C:21]([N:20]2[C:2]([C:4]3[CH:9]=[CH:8][CH:7]=[CH:6][CH:5]=3)=[CH:1][C:10]3[C:18]4[CH:17]=[CH:16][CH:15]=[CH:14][C:13]=4[CH2:12][C:11]2=3)[CH:22]=[CH:23][C:24]=1[OH:30])([OH:28])=[O:27]'"
      ]
     },
     "execution_count": 132,
     "metadata": {},
     "output_type": "execute_result"
    }
   ],
   "source": [
    "data.reactions[i].identifiers[0].value"
   ]
  },
  {
   "cell_type": "code",
   "execution_count": null,
   "metadata": {},
   "outputs": [],
   "source": [
    "'[CH:1]1[C:14]2[C:13](=[O:15])[C:12]3[C:7](=[CH:8][CH:9]=[CH:10][CH:11]=3)[C:6](=[O:16])[C:5]=2[CH:4]=[CH:3][CH:2]=1.[N+:17]([O-])([OH:19])=[O:18]>>[N+:17]([C:8]1[C:7]2[C:6](=[O:16])[C:5]3[C:14](=[CH:1][CH:2]=[CH:3][CH:4]=3)[C:13](=[O:15])[C:12]=2[CH:11]=[CH:10][CH:9]=1)([O-:19])=[O:18]'"
   ]
  },
  {
   "cell_type": "code",
   "execution_count": 46,
   "metadata": {},
   "outputs": [
    {
     "name": "stdout",
     "output_type": "stream",
     "text": [
      "1500\n"
     ]
    }
   ],
   "source": [
    "query = '[CH3:1][C:2]1[NH:3][C:4]2[C:9]([CH:10]=1)=[CH:8][CH:7]=[CH:6][CH:5]=2.[Mg].C(I)C.CC.Cl[CH2:18][CH2:19][C:20]([N:22]1[CH2:27][CH2:26][N:25]([C:28]2[CH:33]=[CH:32][CH:31]=[CH:30][CH:29]=2)[CH2:24][CH2:23]1)=[O:21]>CCOCC.C(O)(=O)C.C1C=CC=CC=1>[CH3:1][C:2]1[NH:3][C:4]2[C:9]([C:10]=1[CH2:18][CH2:19][C:20]([N:22]1[CH2:27][CH2:26][N:25]([C:28]3[CH:33]=[CH:32][CH:31]=[CH:30][CH:29]=3)[CH2:24][CH2:23]1)=[O:21])=[CH:8][CH:7]=[CH:6][CH:5]=2'\n",
    "for i, rxn in enumerate(data.reactions):\n",
    "    if rxn.identifiers[0].value == query:\n",
    "        print(i)\n",
    "        break\n",
    "    "
   ]
  },
  {
   "cell_type": "code",
   "execution_count": 133,
   "metadata": {},
   "outputs": [
    {
     "data": {
      "text/plain": [
       "identifiers {\n",
       "  type: REACTION_CXSMILES\n",
       "  value: \"[CH2:1]([CH:10]1[C:18]2[C:13](=[CH:14][CH:15]=[CH:16][CH:17]=2)[CH2:12][C:11]1=O)[C:2]([C:4]1[CH:9]=[CH:8][CH:7]=[CH:6][CH:5]=1)=O.[NH2:20][C:21]1[CH:29]=[C:25]([C:26]([OH:28])=[O:27])[C:24]([OH:30])=[CH:23][CH:22]=1>C(O)(=O)C>[C:26]([C:25]1[CH:29]=[C:21]([N:20]2[C:2]([C:4]3[CH:9]=[CH:8][CH:7]=[CH:6][CH:5]=3)=[CH:1][C:10]3[C:18]4[CH:17]=[CH:16][CH:15]=[CH:14][C:13]=4[CH2:12][C:11]2=3)[CH:22]=[CH:23][C:24]=1[OH:30])([OH:28])=[O:27]\"\n",
       "  is_mapped: true\n",
       "}\n",
       "inputs {\n",
       "  key: \"m1\"\n",
       "  value {\n",
       "    components {\n",
       "      identifiers {\n",
       "        type: NAME\n",
       "        value: \"1-phenacyl-2-indanone\"\n",
       "      }\n",
       "      identifiers {\n",
       "        type: SMILES\n",
       "        value: \"C(C(=O)C1=CC=CC=C1)C1C(CC2=CC=CC=C12)=O\"\n",
       "      }\n",
       "      identifiers {\n",
       "        type: INCHI\n",
       "        value: \"InChI=1S/C17H14O2/c18-16(12-6-2-1-3-7-12)11-15-14-9-5-4-8-13(14)10-17(15)19/h1-9,15H,10-11H2\"\n",
       "      }\n",
       "      amount {\n",
       "        moles {\n",
       "          value: 0.016\n",
       "          units: MOLE\n",
       "        }\n",
       "      }\n",
       "      reaction_role: REACTANT\n",
       "    }\n",
       "  }\n",
       "}\n",
       "inputs {\n",
       "  key: \"m2\"\n",
       "  value {\n",
       "    components {\n",
       "      identifiers {\n",
       "        type: NAME\n",
       "        value: \"5-aminosalicylic acid\"\n",
       "      }\n",
       "      identifiers {\n",
       "        type: SMILES\n",
       "        value: \"NC1=CC=C(C(C(=O)O)=C1)O\"\n",
       "      }\n",
       "      identifiers {\n",
       "        type: INCHI\n",
       "        value: \"InChI=1S/C7H7NO3/c8-4-1-2-6(9)5(3-4)7(10)11/h1-3,9H,8H2,(H,10,11)\"\n",
       "      }\n",
       "      amount {\n",
       "        moles {\n",
       "          value: 0.016\n",
       "          units: MOLE\n",
       "        }\n",
       "      }\n",
       "      reaction_role: REACTANT\n",
       "    }\n",
       "  }\n",
       "}\n",
       "inputs {\n",
       "  key: \"m3\"\n",
       "  value {\n",
       "    components {\n",
       "      identifiers {\n",
       "        type: NAME\n",
       "        value: \"yellow crystals\"\n",
       "      }\n",
       "      amount {\n",
       "        moles {\n",
       "          value: 0.0\n",
       "          precision: 1.0\n",
       "          units: MOLE\n",
       "        }\n",
       "      }\n",
       "      reaction_role: REACTANT\n",
       "    }\n",
       "  }\n",
       "}\n",
       "inputs {\n",
       "  key: \"m4\"\n",
       "  value {\n",
       "    components {\n",
       "      identifiers {\n",
       "        type: NAME\n",
       "        value: \"acetic acid\"\n",
       "      }\n",
       "      identifiers {\n",
       "        type: SMILES\n",
       "        value: \"C(C)(=O)O\"\n",
       "      }\n",
       "      identifiers {\n",
       "        type: INCHI\n",
       "        value: \"InChI=1S/C2H4O2/c1-2(3)4/h1H3,(H,3,4)\"\n",
       "      }\n",
       "      amount {\n",
       "        moles {\n",
       "          value: 0.0\n",
       "          precision: 1.0\n",
       "          units: MOLE\n",
       "        }\n",
       "      }\n",
       "      reaction_role: SOLVENT\n",
       "    }\n",
       "  }\n",
       "}\n",
       "conditions {\n",
       "  conditions_are_dynamic: true\n",
       "  details: \"See reaction.notes.procedure_details.\"\n",
       "}\n",
       "notes {\n",
       "  procedure_details: \"A mixture of 4.0 g. (0.016 mole) of 1-phenacyl-2-indanone, 2.45 g. (0.016 mole) of 5-aminosalicylic acid and 10 ml. of glacial acetic acid was heated under reflux under nitrogen for 2 hours, cooled and filtered. The collected solid was washed with petroleum ether and recrystallized from acetic acid to provide 4.6 g. (78%) of yellow crystals, m.p. 201\\302\\260-205\\302\\260.\"\n",
       "}\n",
       "workups {\n",
       "  type: ADDITION\n",
       "  details: \"A mixture of 4.0 g\"\n",
       "}\n",
       "workups {\n",
       "  type: TEMPERATURE\n",
       "  details: \"under reflux under nitrogen for 2 hours\"\n",
       "  duration {\n",
       "    value: 2.0\n",
       "    units: HOUR\n",
       "  }\n",
       "}\n",
       "workups {\n",
       "  type: TEMPERATURE\n",
       "  details: \"cooled\"\n",
       "}\n",
       "workups {\n",
       "  type: FILTRATION\n",
       "  details: \"filtered\"\n",
       "}\n",
       "workups {\n",
       "  type: WASH\n",
       "  details: \"The collected solid was washed with petroleum ether\"\n",
       "  input {\n",
       "    components {\n",
       "      identifiers {\n",
       "        type: NAME\n",
       "        value: \"petroleum ether\"\n",
       "      }\n",
       "      amount {\n",
       "        moles {\n",
       "          value: 0.0\n",
       "          precision: 1.0\n",
       "          units: MOLE\n",
       "        }\n",
       "      }\n",
       "      reaction_role: WORKUP\n",
       "    }\n",
       "  }\n",
       "}\n",
       "workups {\n",
       "  type: CUSTOM\n",
       "  details: \"recrystallized from acetic acid\"\n",
       "  input {\n",
       "    components {\n",
       "      identifiers {\n",
       "        type: NAME\n",
       "        value: \"acetic acid\"\n",
       "      }\n",
       "      identifiers {\n",
       "        type: SMILES\n",
       "        value: \"C(C)(=O)O\"\n",
       "      }\n",
       "      identifiers {\n",
       "        type: INCHI\n",
       "        value: \"InChI=1S/C2H4O2/c1-2(3)4/h1H3,(H,3,4)\"\n",
       "      }\n",
       "      amount {\n",
       "        moles {\n",
       "          value: 0.0\n",
       "          precision: 1.0\n",
       "          units: MOLE\n",
       "        }\n",
       "      }\n",
       "      reaction_role: WORKUP\n",
       "    }\n",
       "  }\n",
       "}\n",
       "workups {\n",
       "  type: CUSTOM\n",
       "  details: \"to provide 4.6 g\"\n",
       "}\n",
       "outcomes {\n",
       "  products {\n",
       "    identifiers {\n",
       "      type: NAME\n",
       "      value: \"1-(3-Carboxy-4-hydroxyphenyl)-1,8-dihydro-2-phenylindeno[2,1-b]pyrrole\"\n",
       "    }\n",
       "    identifiers {\n",
       "      type: SMILES\n",
       "      value: \"C(=O)(O)C=1C=C(C=CC1O)N1C2=C(C=C1C1=CC=CC=C1)C=1C=CC=CC1C2\"\n",
       "    }\n",
       "    identifiers {\n",
       "      type: INCHI\n",
       "      value: \"InChI=1S/C24H17NO3/c26-23-11-10-17(13-20(23)24(27)28)25-21(15-6-2-1-3-7-15)14-19-18-9-5-4-8-16(18)12-22(19)25/h1-11,13-14,26H,12H2,(H,27,28)\"\n",
       "    }\n",
       "  }\n",
       "}\n",
       "provenance {\n",
       "  doi: \"10.6084/m9.figshare.5104873.v1\"\n",
       "  patent: \"US03931407\"\n",
       "  record_created {\n",
       "    time {\n",
       "      value: \"2022-12-02 16:34:04.911856\"\n",
       "    }\n",
       "    person {\n",
       "      username: \"skearnes\"\n",
       "      name: \"Steven Kearnes\"\n",
       "      orcid: \"0000-0003-4579-4388\"\n",
       "      organization: \"Google LLC\"\n",
       "      email: \"kearnes@google.com\"\n",
       "    }\n",
       "  }\n",
       "  record_modified {\n",
       "    time {\n",
       "      value: \"Mon Dec  5 18:57:34 2022\"\n",
       "    }\n",
       "    person {\n",
       "      username: \"github-actions\"\n",
       "      email: \"github-actions@github.com\"\n",
       "    }\n",
       "    details: \"Automatic updates from the submission pipeline.\"\n",
       "  }\n",
       "}\n",
       "reaction_id: \"ord-06c990197ace4257b06abf9516c7cc93\""
      ]
     },
     "execution_count": 133,
     "metadata": {},
     "output_type": "execute_result"
    }
   ],
   "source": [
    "data.reactions[i]"
   ]
  },
  {
   "cell_type": "markdown",
   "metadata": {},
   "source": [
    "##  ψ-acid chloride"
   ]
  },
  {
   "cell_type": "code",
   "execution_count": 125,
   "metadata": {},
   "outputs": [],
   "source": [
    "path = '/Users/dsw46/Library/CloudStorage/OneDrive-UniversityofCambridge/Datasets/orderly/orderly_data/18_4/uspto_no_trust/extracted_ords/uspto-grants-1976_01.parquet'\n",
    "df = pd.read_parquet(path)\n",
    "i = 412"
   ]
  },
  {
   "cell_type": "code",
   "execution_count": null,
   "metadata": {},
   "outputs": [],
   "source": []
  }
 ],
 "metadata": {
  "kernelspec": {
   "display_name": "chemistry",
   "language": "python",
   "name": "python3"
  },
  "language_info": {
   "codemirror_mode": {
    "name": "ipython",
    "version": 3
   },
   "file_extension": ".py",
   "mimetype": "text/x-python",
   "name": "python",
   "nbconvert_exporter": "python",
   "pygments_lexer": "ipython3",
   "version": "3.10.8"
  },
  "orig_nbformat": 4
 },
 "nbformat": 4,
 "nbformat_minor": 2
}

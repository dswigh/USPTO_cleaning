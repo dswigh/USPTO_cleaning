{
 "cells": [
  {
   "cell_type": "code",
   "execution_count": 3,
   "metadata": {},
   "outputs": [],
   "source": [
    "from orderly.data.solvents import get_solvents, get_solvents_set, get_solvents_dict"
   ]
  },
  {
   "cell_type": "code",
   "execution_count": 4,
   "metadata": {},
   "outputs": [],
   "source": [
    "import orderly\n",
    "import pathlib"
   ]
  },
  {
   "cell_type": "code",
   "execution_count": 10,
   "metadata": {},
   "outputs": [],
   "source": [
    "# file_name = \"ord_dataset-00005539a1e04c809a9a78647bea649c\"\n",
    "file_name = \"ord_dataset-0b70410902ae4139bd5d334881938f69\"\n",
    "file = orderly.extract.main.get_file_names(\n",
    "    directory=orderly.data.get_path_of_test_ords(),\n",
    "    file_ending=f\"{file_name}.pb.gz\",\n",
    ")\n",
    "assert len(file) == 1\n",
    "file = pathlib.Path(file[0])\n",
    "\n",
    "dataset = orderly.extract.extractor.OrdExtractor.load_data(file)"
   ]
  },
  {
   "cell_type": "code",
   "execution_count": 20,
   "metadata": {},
   "outputs": [],
   "source": [
    "from orderly.extract.canonicalise import remove_mapping_info_and_canonicalise_smiles"
   ]
  },
  {
   "cell_type": "code",
   "execution_count": 52,
   "metadata": {},
   "outputs": [
    {
     "data": {
      "text/plain": [
       "'[O-]P(O)O'"
      ]
     },
     "execution_count": 52,
     "metadata": {},
     "output_type": "execute_result"
    }
   ],
   "source": [
    "remove_mapping_info_and_canonicalise_smiles('P([O-])(O)O')"
   ]
  },
  {
   "cell_type": "code",
   "execution_count": 13,
   "metadata": {},
   "outputs": [],
   "source": [
    "for idx, rxn in enumerate(dataset.reactions):\n",
    "    rxn_str = rxn.identifiers.value\n",
    "    if '' in rxn_str:\n",
    "        print(idx)\n",
    "        break"
   ]
  },
  {
   "cell_type": "code",
   "execution_count": 15,
   "metadata": {},
   "outputs": [],
   "source": [
    "r,a,p = '[CH2:1]([S:8][C:9]1[CH:14]=[C:13]([O:15][C:16]2[CH:21]=[CH:20][C:19]([C:22]([F:25])([F:24])[F:23])=[CH:18][C:17]=2[Cl:26])[CH:12]=[CH:11][C:10]=1[N+:27]([O-])=O)[C:2]1[CH:7]=[CH:6][CH:5]=[CH:4][CH:3]=1.P([O-])(O)O.[Na+]>C(O)C.[Pd]>[CH2:1]([S:8][C:9]1[CH:14]=[C:13]([O:15][C:16]2[CH:21]=[CH:20][C:19]([C:22]([F:25])([F:23])[F:24])=[CH:18][C:17]=2[Cl:26])[CH:12]=[CH:11][C:10]=1[NH2:27])[C:2]1[CH:3]=[CH:4][CH:5]=[CH:6][CH:7]=1'.split('>')"
   ]
  },
  {
   "cell_type": "code",
   "execution_count": 50,
   "metadata": {},
   "outputs": [
    {
     "data": {
      "text/plain": [
       "['[CH2:1]([S:8][C:9]1[CH:14]=[C:13]([O:15][C:16]2[CH:21]=[CH:20][C:19]([C:22]([F:25])([F:24])[F:23])=[CH:18][C:17]=2[Cl:26])[CH:12]=[CH:11][C:10]=1[N+:27]([O-])=O)[C:2]1[CH:7]=[CH:6][CH:5]=[CH:4][CH:3]=1',\n",
       " 'P([O-])(O)O',\n",
       " '[Na+]']"
      ]
     },
     "execution_count": 50,
     "metadata": {},
     "output_type": "execute_result"
    }
   ],
   "source": [
    "r.split('.')"
   ]
  },
  {
   "cell_type": "code",
   "execution_count": 46,
   "metadata": {},
   "outputs": [],
   "source": [
    "import rdkit\n",
    "from rdkit.rdBase import BlockLogs as rdkit_BlockLogs\n",
    "def remove_mapping_info_and_canonicalise_smiles(molecule_identifier):\n",
    "    \"\"\"\n",
    "    Strips away mapping info and returns canonicalised SMILES. \n",
    "    \"\"\"\n",
    "    _ = rdkit_BlockLogs()\n",
    "    # remove mapping info and canonicalsie the molecule_identifier at the same time\n",
    "    # converting to mol and back canonicalises the molecule_identifier string\n",
    "    try:\n",
    "        m = rdkit.Chem.MolFromSmiles(molecule_identifier)\n",
    "        for atom in m.GetAtoms():\n",
    "            atom.SetAtomMapNum(0)\n",
    "        return rdkit.Chem.MolToSmiles(m)\n",
    "    except AttributeError:\n",
    "        if molecule_identifier[0] == '[':\n",
    "            if molecule_identifier[-1] == ']':\n",
    "                return remove_mapping_info_and_canonicalise_smiles(molecule_identifier[1:-1])\n",
    "        return None"
   ]
  },
  {
   "cell_type": "code",
   "execution_count": 47,
   "metadata": {},
   "outputs": [
    {
     "data": {
      "text/plain": [
       "'CC(C)(C)[P]([Pd][P](C(C)(C)C)(C(C)(C)C)C(C)(C)C)(C(C)(C)C)C(C)(C)C'"
      ]
     },
     "execution_count": 47,
     "metadata": {},
     "output_type": "execute_result"
    }
   ],
   "source": [
    "molecule_identifier = \"[CC(C)(C)[P]([Pd][P](C(C)(C)C)(C(C)(C)C)C(C)(C)C)(C(C)(C)C)C(C)(C)C]\"\n",
    "molecule_identifier[1:-1]"
   ]
  },
  {
   "cell_type": "code",
   "execution_count": 48,
   "metadata": {},
   "outputs": [
    {
     "data": {
      "text/plain": [
       "'[Pd]'"
      ]
     },
     "execution_count": 48,
     "metadata": {},
     "output_type": "execute_result"
    }
   ],
   "source": [
    "remove_mapping_info_and_canonicalise_smiles(\"[Pd]\")"
   ]
  },
  {
   "cell_type": "code",
   "execution_count": 49,
   "metadata": {},
   "outputs": [
    {
     "name": "stdout",
     "output_type": "stream",
     "text": [
      "1.47 ms ± 48.5 µs per loop (mean ± std. dev. of 7 runs, 1,000 loops each)\n"
     ]
    }
   ],
   "source": [
    "%%timeit\n",
    "remove_mapping_info_and_canonicalise_smiles(\"[CC(C)(C)[P]([Pd][P](C(C)(C)C)(C(C)(C)C)C(C)(C)C)(C(C)(C)C)C(C)(C)C]\")"
   ]
  },
  {
   "cell_type": "code",
   "execution_count": 29,
   "metadata": {},
   "outputs": [
    {
     "name": "stdout",
     "output_type": "stream",
     "text": [
      "100 µs ± 435 ns per loop (mean ± std. dev. of 7 runs, 10,000 loops each)\n"
     ]
    }
   ],
   "source": [
    "%%timeit\n",
    "rdkit.Chem.MolFromSmiles(\"CC(C)(C)[P]([Pd][P](C(C)(C)C)(C(C)(C)C)C(C)(C)C)(C(C)(C)C)C(C)(C)C\")"
   ]
  },
  {
   "cell_type": "code",
   "execution_count": null,
   "metadata": {},
   "outputs": [],
   "source": []
  }
 ],
 "metadata": {
  "kernelspec": {
   "display_name": "chemistry",
   "language": "python",
   "name": "python3"
  },
  "language_info": {
   "codemirror_mode": {
    "name": "ipython",
    "version": 3
   },
   "file_extension": ".py",
   "mimetype": "text/x-python",
   "name": "python",
   "nbconvert_exporter": "python",
   "pygments_lexer": "ipython3",
   "version": "3.10.8"
  },
  "orig_nbformat": 4
 },
 "nbformat": 4,
 "nbformat_minor": 2
}

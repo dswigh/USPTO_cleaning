{
 "cells": [
  {
   "cell_type": "code",
   "execution_count": 2,
   "metadata": {},
   "outputs": [],
   "source": [
    "import typing\n",
    "from rdkit import Chem as rdkit_Chem\n",
    "from rdkit.rdBase import BlockLogs as rdkit_BlockLogs"
   ]
  },
  {
   "cell_type": "code",
   "execution_count": 3,
   "metadata": {},
   "outputs": [],
   "source": [
    "\n",
    "def remove_mapping_info_and_canonicalise_smiles(smiles: str) -> typing.Optional[str]:\n",
    "    _ = rdkit_BlockLogs()\n",
    "    # remove mapping info and canonicalsie the smiles at the same time\n",
    "    # converting to mol and back canonicalises the smiles string\n",
    "    try:\n",
    "        m = rdkit_Chem.MolFromSmiles(smiles)\n",
    "        for atom in m.GetAtoms():\n",
    "            atom.SetAtomMapNum(0)\n",
    "        return rdkit_Chem.MolToSmiles(m)\n",
    "    except AttributeError:\n",
    "        return None\n",
    "\n",
    "\n",
    "def canonicalise_smile(smiles: str) -> typing.Optional[str]:\n",
    "    _ = rdkit_BlockLogs()\n",
    "    # remove mapping info and canonicalsie the smiles at the same time\n",
    "    # converting to mol and back canonicalises the smiles string\n",
    "    try:\n",
    "        return rdkit_Chem.CanonSmiles(smiles)\n",
    "    except:\n",
    "        return None"
   ]
  },
  {
   "cell_type": "code",
   "execution_count": 11,
   "metadata": {},
   "outputs": [
    {
     "name": "stdout",
     "output_type": "stream",
     "text": [
      "786 µs ± 18 µs per loop (mean ± std. dev. of 7 runs, 1,000 loops each)\n"
     ]
    }
   ],
   "source": [
    "%%timeit\n",
    "remove_mapping_info_and_canonicalise_smiles('C1=CC=C(C=C1)C2=CC=CC=C2')"
   ]
  },
  {
   "cell_type": "code",
   "execution_count": 12,
   "metadata": {},
   "outputs": [
    {
     "name": "stdout",
     "output_type": "stream",
     "text": [
      "193 µs ± 4.62 µs per loop (mean ± std. dev. of 7 runs, 10,000 loops each)\n"
     ]
    }
   ],
   "source": [
    "%%timeit\n",
    "canonicalise_smile('C1=CC=C(C=C1)C2=CC=CC=C2')"
   ]
  },
  {
   "cell_type": "code",
   "execution_count": 6,
   "metadata": {},
   "outputs": [],
   "source": [
    "rxn = '[OH:1][c:2]1[cH:3][cH:4][c:5]2[cH:6][cH:7][c:8](Br)[cH:33][c:34]2[cH:35]1.CC1(C)OB([c:9]2[cH:10][cH:11][c:12](-[c:13]3[n:14][c:15](-[c:16]4[cH:17][cH:18][cH:19][cH:20][cH:21]4)[n:22][c:23](-[c:24]4[cH:25][cH:26][cH:27][cH:28][cH:29]4)[n:30]3)[cH:31][cH:32]2)OC1(C)C>>[OH:1][c:2]1[cH:3][cH:4][c:5]2[cH:6][cH:7][c:8](-[c:9]3[cH:10][cH:11][c:12](-[c:13]4[n:14][c:15](-[c:16]5[cH:17][cH:18][cH:19][cH:20][cH:21]5)[n:22][c:23](-[c:24]5[cH:25][cH:26][cH:27][cH:28][cH:29]5)[n:30]4)[cH:31][cH:32]3)[cH:33][c:34]2[cH:35]1'"
   ]
  },
  {
   "cell_type": "code",
   "execution_count": 7,
   "metadata": {},
   "outputs": [
    {
     "data": {
      "text/plain": [
       "['[OH:1][c:2]1[cH:3][cH:4][c:5]2[cH:6][cH:7][c:8](Br)[cH:33][c:34]2[cH:35]1',\n",
       " 'CC1(C)OB([c:9]2[cH:10][cH:11][c:12](-[c:13]3[n:14][c:15](-[c:16]4[cH:17][cH:18][cH:19][cH:20][cH:21]4)[n:22][c:23](-[c:24]4[cH:25][cH:26][cH:27][cH:28][cH:29]4)[n:30]3)[cH:31][cH:32]2)OC1(C)C>>[OH:1][c:2]1[cH:3][cH:4][c:5]2[cH:6][cH:7][c:8](-[c:9]3[cH:10][cH:11][c:12](-[c:13]4[n:14][c:15](-[c:16]5[cH:17][cH:18][cH:19][cH:20][cH:21]5)[n:22][c:23](-[c:24]5[cH:25][cH:26][cH:27][cH:28][cH:29]5)[n:30]4)[cH:31][cH:32]3)[cH:33][c:34]2[cH:35]1']"
      ]
     },
     "execution_count": 7,
     "metadata": {},
     "output_type": "execute_result"
    }
   ],
   "source": [
    "rxn.split('.')"
   ]
  },
  {
   "cell_type": "code",
   "execution_count": 8,
   "metadata": {},
   "outputs": [
    {
     "data": {
      "text/plain": [
       "'Oc1ccc2ccc(Br)cc2c1'"
      ]
     },
     "execution_count": 8,
     "metadata": {},
     "output_type": "execute_result"
    }
   ],
   "source": [
    "remove_mapping_info_and_canonicalise_smiles(rxn.split('.')[0])"
   ]
  },
  {
   "cell_type": "code",
   "execution_count": 9,
   "metadata": {},
   "outputs": [
    {
     "data": {
      "text/plain": [
       "'Br[c:8]1[cH:7][cH:6][c:5]2[cH:4][cH:3][c:2]([OH:1])[cH:35][c:34]2[cH:33]1'"
      ]
     },
     "execution_count": 9,
     "metadata": {},
     "output_type": "execute_result"
    }
   ],
   "source": [
    "canonicalise_smile(rxn.split('.')[0])"
   ]
  },
  {
   "cell_type": "code",
   "execution_count": null,
   "metadata": {},
   "outputs": [],
   "source": []
  }
 ],
 "metadata": {
  "kernelspec": {
   "display_name": "chemistry",
   "language": "python",
   "name": "python3"
  },
  "language_info": {
   "codemirror_mode": {
    "name": "ipython",
    "version": 3
   },
   "file_extension": ".py",
   "mimetype": "text/x-python",
   "name": "python",
   "nbconvert_exporter": "python",
   "pygments_lexer": "ipython3",
   "version": "3.10.8"
  },
  "orig_nbformat": 4
 },
 "nbformat": 4,
 "nbformat_minor": 2
}

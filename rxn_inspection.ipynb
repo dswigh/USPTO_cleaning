{
 "cells": [
  {
   "cell_type": "code",
   "execution_count": 54,
   "metadata": {},
   "outputs": [],
   "source": [
    "# # Load Dataset message\n",
    "# pb = 'orderly/data/ord_test_data/0b/ord_dataset-0b70410902ae4139bd5d334881938f69.pb.gz'\n",
    "# data = message_helpers.load_message(pb, dataset_pb2.Dataset)"
   ]
  },
  {
   "cell_type": "code",
   "execution_count": 55,
   "metadata": {},
   "outputs": [],
   "source": [
    "import orderly.data\n",
    "import orderly.extract.main"
   ]
  },
  {
   "cell_type": "code",
   "execution_count": 56,
   "metadata": {},
   "outputs": [
    {
     "data": {
      "text/plain": [
       "PosixPath('/Users/dsw46/Projects_local/orderly2/ORDerly/orderly/data/ord_test_data')"
      ]
     },
     "execution_count": 56,
     "metadata": {},
     "output_type": "execute_result"
    }
   ],
   "source": [
    "orderly.data.get_path_of_test_ords()"
   ]
  },
  {
   "cell_type": "code",
   "execution_count": 57,
   "metadata": {},
   "outputs": [],
   "source": [
    "files = orderly.extract.main.get_file_names(directory=orderly.data.get_path_of_test_ords(), file_ending=\".pb.gz\")"
   ]
  },
  {
   "cell_type": "code",
   "execution_count": 58,
   "metadata": {},
   "outputs": [
    {
     "data": {
      "text/plain": [
       "[PosixPath('/Users/dsw46/Projects_local/orderly2/ORDerly/orderly/data/ord_test_data/0b/ord_dataset-0b70410902ae4139bd5d334881938f69.pb.gz'),\n",
       " PosixPath('/Users/dsw46/Projects_local/orderly2/ORDerly/orderly/data/ord_test_data/0b/ord_dataset-0bb2e99daa66408fb8dbd6a0781d241c.pb.gz'),\n",
       " PosixPath('/Users/dsw46/Projects_local/orderly2/ORDerly/orderly/data/ord_test_data/0b/ord_dataset-0bf72e95d80743729fdbb8b57a4bc0c6.pb.gz'),\n",
       " PosixPath('/Users/dsw46/Projects_local/orderly2/ORDerly/orderly/data/ord_test_data/0c/ord_dataset-0c61835e3a0b4986aabf2b61b708e322.pb.gz'),\n",
       " PosixPath('/Users/dsw46/Projects_local/orderly2/ORDerly/orderly/data/ord_test_data/0c/ord_dataset-0c75d67751634f0594b24b9f498b77c2.pb.gz'),\n",
       " PosixPath('/Users/dsw46/Projects_local/orderly2/ORDerly/orderly/data/ord_test_data/cb/ord_dataset-cb0fdfa937234c78b020ec878a93b94c.pb.gz'),\n",
       " PosixPath('/Users/dsw46/Projects_local/orderly2/ORDerly/orderly/data/ord_test_data/cb/ord_dataset-cb9f452f8418479ab5fd99c835dbe015.pb.gz'),\n",
       " PosixPath('/Users/dsw46/Projects_local/orderly2/ORDerly/orderly/data/ord_test_data/cb/ord_dataset-cbcc4048add7468e850b6ec42549c70d.pb.gz')]"
      ]
     },
     "execution_count": 58,
     "metadata": {},
     "output_type": "execute_result"
    }
   ],
   "source": [
    "files"
   ]
  },
  {
   "cell_type": "code",
   "execution_count": 59,
   "metadata": {},
   "outputs": [],
   "source": [
    "from ord_schema import message_helpers as ord_message_helpers\n",
    "from ord_schema.proto import dataset_pb2 as ord_dataset_pb2\n",
    "import ord_schema.proto.reaction_pb2 as ord_reaction_pb2\n"
   ]
  },
  {
   "cell_type": "code",
   "execution_count": 60,
   "metadata": {},
   "outputs": [],
   "source": [
    "# instance = orderly.extract.extractor.OrdExtractor(\n",
    "#     ord_file_path=file,\n",
    "#     merge_cat_solv_reag=trust_labelling,\n",
    "#     manual_replacements_dict=manual_replacements_dict,\n",
    "#     solvents_set=solvents_set,\n",
    "#     contains_substring=name_contains_substring,\n",
    "#     inverse_contains_substring=inverse_substring,\n",
    "# )"
   ]
  },
  {
   "cell_type": "code",
   "execution_count": 61,
   "metadata": {},
   "outputs": [],
   "source": [
    "data = ord_message_helpers.load_message(\n",
    "    str(files[0]), ord_dataset_pb2.Dataset\n",
    ")"
   ]
  },
  {
   "cell_type": "markdown",
   "metadata": {},
   "source": [
    "# Handle_reaction_object"
   ]
  },
  {
   "cell_type": "code",
   "execution_count": 63,
   "metadata": {},
   "outputs": [
    {
     "ename": "AttributeError",
     "evalue": "'NoneType' object has no attribute 'isdigit'",
     "output_type": "error",
     "traceback": [
      "\u001b[0;31m---------------------------------------------------------------------------\u001b[0m",
      "\u001b[0;31mAttributeError\u001b[0m                            Traceback (most recent call last)",
      "Cell \u001b[0;32mIn[63], line 15\u001b[0m\n\u001b[1;32m      1\u001b[0m \u001b[39m# # Feed in the input here\u001b[39;00m\n\u001b[1;32m      2\u001b[0m \u001b[39m# (\u001b[39;00m\n\u001b[1;32m      3\u001b[0m \u001b[39m#     reactants,\u001b[39;00m\n\u001b[0;32m   (...)\u001b[0m\n\u001b[1;32m     13\u001b[0m \u001b[39m#     rxn_non_smiles_names_list\u001b[39;00m\n\u001b[1;32m     14\u001b[0m \u001b[39m# ) = orderly.extract.extractor.OrdExtractor.handle_reaction_object(data.reactions[0], manual_replacements_dict={})\u001b[39;00m\n\u001b[0;32m---> 15\u001b[0m orderly\u001b[39m.\u001b[39;49mextract\u001b[39m.\u001b[39;49mextractor\u001b[39m.\u001b[39;49mOrdExtractor\u001b[39m.\u001b[39;49mhandle_reaction_object(data\u001b[39m.\u001b[39;49mreactions[\u001b[39m0\u001b[39;49m],solvents_set \u001b[39m=\u001b[39;49m \u001b[39mset\u001b[39;49m(),metals\u001b[39m=\u001b[39;49m [], manual_replacements_dict\u001b[39m=\u001b[39;49m{})\n",
      "File \u001b[0;32m~/Projects_local/orderly2/ORDerly/orderly/extract/extractor.py:535\u001b[0m, in \u001b[0;36mOrdExtractor.handle_reaction_object\u001b[0;34m(rxn, manual_replacements_dict, solvents_set, metals, trust_labelling)\u001b[0m\n\u001b[1;32m    531\u001b[0m \u001b[39m# clean the smiles\u001b[39;00m\n\u001b[1;32m    532\u001b[0m \n\u001b[1;32m    533\u001b[0m \u001b[39m# remove molecules that are integers\u001b[39;00m\n\u001b[1;32m    534\u001b[0m reactants \u001b[39m=\u001b[39m [x \u001b[39mfor\u001b[39;00m x \u001b[39min\u001b[39;00m reactants \u001b[39mif\u001b[39;00m \u001b[39mnot\u001b[39;00m (x\u001b[39m.\u001b[39misdigit())]\n\u001b[0;32m--> 535\u001b[0m reagents \u001b[39m=\u001b[39m [x \u001b[39mfor\u001b[39;00m x \u001b[39min\u001b[39;00m reagents \u001b[39mif\u001b[39;00m \u001b[39mnot\u001b[39;00m (x\u001b[39m.\u001b[39misdigit())]\n\u001b[1;32m    536\u001b[0m solvents \u001b[39m=\u001b[39m [x \u001b[39mfor\u001b[39;00m x \u001b[39min\u001b[39;00m solvents \u001b[39mif\u001b[39;00m \u001b[39mnot\u001b[39;00m (x\u001b[39m.\u001b[39misdigit())]\n\u001b[1;32m    537\u001b[0m catalysts \u001b[39m=\u001b[39m [x \u001b[39mfor\u001b[39;00m x \u001b[39min\u001b[39;00m catalysts \u001b[39mif\u001b[39;00m \u001b[39mnot\u001b[39;00m (x\u001b[39m.\u001b[39misdigit())]\n",
      "File \u001b[0;32m~/Projects_local/orderly2/ORDerly/orderly/extract/extractor.py:535\u001b[0m, in \u001b[0;36m<listcomp>\u001b[0;34m(.0)\u001b[0m\n\u001b[1;32m    531\u001b[0m \u001b[39m# clean the smiles\u001b[39;00m\n\u001b[1;32m    532\u001b[0m \n\u001b[1;32m    533\u001b[0m \u001b[39m# remove molecules that are integers\u001b[39;00m\n\u001b[1;32m    534\u001b[0m reactants \u001b[39m=\u001b[39m [x \u001b[39mfor\u001b[39;00m x \u001b[39min\u001b[39;00m reactants \u001b[39mif\u001b[39;00m \u001b[39mnot\u001b[39;00m (x\u001b[39m.\u001b[39misdigit())]\n\u001b[0;32m--> 535\u001b[0m reagents \u001b[39m=\u001b[39m [x \u001b[39mfor\u001b[39;00m x \u001b[39min\u001b[39;00m reagents \u001b[39mif\u001b[39;00m \u001b[39mnot\u001b[39;00m (x\u001b[39m.\u001b[39;49misdigit())]\n\u001b[1;32m    536\u001b[0m solvents \u001b[39m=\u001b[39m [x \u001b[39mfor\u001b[39;00m x \u001b[39min\u001b[39;00m solvents \u001b[39mif\u001b[39;00m \u001b[39mnot\u001b[39;00m (x\u001b[39m.\u001b[39misdigit())]\n\u001b[1;32m    537\u001b[0m catalysts \u001b[39m=\u001b[39m [x \u001b[39mfor\u001b[39;00m x \u001b[39min\u001b[39;00m catalysts \u001b[39mif\u001b[39;00m \u001b[39mnot\u001b[39;00m (x\u001b[39m.\u001b[39misdigit())]\n",
      "\u001b[0;31mAttributeError\u001b[0m: 'NoneType' object has no attribute 'isdigit'"
     ]
    }
   ],
   "source": [
    "# # Feed in the input here\n",
    "# (\n",
    "#     reactants,\n",
    "#     reagents,\n",
    "#     solvents,\n",
    "#     catalysts,\n",
    "#     products,\n",
    "#     yields,\n",
    "#     temperature,\n",
    "#     rxn_time,\n",
    "#     rxn_str,\n",
    "#     procedure_details,\n",
    "#     rxn_non_smiles_names_list\n",
    "# ) = orderly.extract.extractor.OrdExtractor.handle_reaction_object(data.reactions[0], manual_replacements_dict={})\n",
    "orderly.extract.extractor.OrdExtractor.handle_reaction_object(data.reactions[0],solvents_set = set(),metals= [], manual_replacements_dict={})"
   ]
  },
  {
   "cell_type": "code",
   "execution_count": null,
   "metadata": {},
   "outputs": [],
   "source": []
  },
  {
   "cell_type": "code",
   "execution_count": 64,
   "metadata": {},
   "outputs": [
    {
     "data": {
      "text/plain": [
       "identifiers {\n",
       "  type: REACTION_CXSMILES\n",
       "  value: \"[CH2:1]([S:8][C:9]1[CH:14]=[C:13]([O:15][C:16]2[CH:21]=[CH:20][C:19]([C:22]([F:25])([F:24])[F:23])=[CH:18][C:17]=2[Cl:26])[CH:12]=[CH:11][C:10]=1[N+:27]([O-])=O)[C:2]1[CH:7]=[CH:6][CH:5]=[CH:4][CH:3]=1.P([O-])(O)O.[Na+]>C(O)C.[Pd]>[CH2:1]([S:8][C:9]1[CH:14]=[C:13]([O:15][C:16]2[CH:21]=[CH:20][C:19]([C:22]([F:25])([F:23])[F:24])=[CH:18][C:17]=2[Cl:26])[CH:12]=[CH:11][C:10]=1[NH2:27])[C:2]1[CH:3]=[CH:4][CH:5]=[CH:6][CH:7]=1 |f:1.2|\"\n",
       "  is_mapped: true\n",
       "}\n",
       "inputs {\n",
       "  key: \"m1_m3\"\n",
       "  value {\n",
       "    components {\n",
       "      identifiers {\n",
       "        type: NAME\n",
       "        value: \"1B\"\n",
       "      }\n",
       "      identifiers {\n",
       "        type: NAME\n",
       "        value: \"2-benzylthio-4-(2-chloro-4-trifluoromethylphenoxy)nitrobenzene\"\n",
       "      }\n",
       "      identifiers {\n",
       "        type: SMILES\n",
       "        value: \"C(C1=CC=CC=C1)SC1=C(C=CC(=C1)OC1=C(C=C(C=C1)C(F)(F)F)Cl)[N+](=O)[O-]\"\n",
       "      }\n",
       "      identifiers {\n",
       "        type: INCHI\n",
       "        value: \"InChI=1S/C20H13ClF3NO3S/c21-16-10-14(20(22,23)24)6-9-18(16)28-15-7-8-17(25(26)27)19(11-15)29-12-13-4-2-1-3-5-13/h1-11H,12H2\"\n",
       "      }\n",
       "      amount {\n",
       "        mass {\n",
       "          value: 2.0\n",
       "          units: GRAM\n",
       "        }\n",
       "      }\n",
       "      reaction_role: REACTANT\n",
       "    }\n",
       "    components {\n",
       "      identifiers {\n",
       "        type: NAME\n",
       "        value: \"ethanol\"\n",
       "      }\n",
       "      identifiers {\n",
       "        type: SMILES\n",
       "        value: \"C(C)O\"\n",
       "      }\n",
       "      identifiers {\n",
       "        type: INCHI\n",
       "        value: \"InChI=1S/C2H6O/c1-2-3/h3H,2H2,1H3\"\n",
       "      }\n",
       "      amount {\n",
       "        volume {\n",
       "          value: 30.0\n",
       "          units: MILLILITER\n",
       "        }\n",
       "      }\n",
       "      reaction_role: SOLVENT\n",
       "    }\n",
       "  }\n",
       "}\n",
       "inputs {\n",
       "  key: \"m4_m2\"\n",
       "  value {\n",
       "    components {\n",
       "      identifiers {\n",
       "        type: NAME\n",
       "        value: \"sodium dihydrogen phosphite\"\n",
       "      }\n",
       "      identifiers {\n",
       "        type: SMILES\n",
       "        value: \"P(O)(O)[O-].[Na+]\"\n",
       "      }\n",
       "      identifiers {\n",
       "        type: INCHI\n",
       "        value: \"InChI=1S/Na.H2O3P/c;1-4(2)3/h;1-2H/q+1;-1\"\n",
       "      }\n",
       "      amount {\n",
       "        moles {\n",
       "          value: 0.0\n",
       "          precision: 1.0\n",
       "          units: MOLE\n",
       "        }\n",
       "      }\n",
       "      reaction_role: REACTANT\n",
       "    }\n",
       "    components {\n",
       "      identifiers {\n",
       "        type: NAME\n",
       "        value: \"palladium on carbon\"\n",
       "      }\n",
       "      identifiers {\n",
       "        type: SMILES\n",
       "        value: \"[Pd]\"\n",
       "      }\n",
       "      identifiers {\n",
       "        type: INCHI\n",
       "        value: \"InChI=1S/Pd\"\n",
       "      }\n",
       "      amount {\n",
       "        mass {\n",
       "          value: 0.5\n",
       "          units: GRAM\n",
       "        }\n",
       "      }\n",
       "      reaction_role: CATALYST\n",
       "    }\n",
       "  }\n",
       "}\n",
       "conditions {\n",
       "  conditions_are_dynamic: true\n",
       "  details: \"See reaction.notes.procedure_details.\"\n",
       "}\n",
       "notes {\n",
       "  procedure_details: \"2 g of 1B was dissolved in 30 ml of ethanol and 0.5 g of 5% palladium on carbon catalyst and 10% aqueous sodium dihydrogen phosphite added in portions until vigorous effervescence ceased. The reaction mixture was filtered, extracted with 400 ml of a 1:1 v:v mixture of ethylene dichloride/water, and the organic layer separated and dried. Chromatographic purification yielded 2-benzylthio-4-(2-chloro-4-trifluoromethylphenoxy)aniline (1C) as a brown oil.\"\n",
       "}\n",
       "workups {\n",
       "  type: FILTRATION\n",
       "  details: \"The reaction mixture was filtered\"\n",
       "}\n",
       "workups {\n",
       "  type: EXTRACTION\n",
       "  details: \"extracted with 400 ml of a 1:1 v\"\n",
       "}\n",
       "workups {\n",
       "  type: ADDITION\n",
       "  details: \"v mixture of ethylene dichloride/water\"\n",
       "  input {\n",
       "    components {\n",
       "      identifiers {\n",
       "        type: NAME\n",
       "        value: \"ethylene dichloride water\"\n",
       "      }\n",
       "      identifiers {\n",
       "        type: SMILES\n",
       "        value: \"C(CCl)Cl.O\"\n",
       "      }\n",
       "      identifiers {\n",
       "        type: INCHI\n",
       "        value: \"InChI=1S/C2H4Cl2.H2O/c3-1-2-4;/h1-2H2;1H2\"\n",
       "      }\n",
       "      amount {\n",
       "        moles {\n",
       "          value: 0.0\n",
       "          precision: 1.0\n",
       "          units: MOLE\n",
       "        }\n",
       "      }\n",
       "      reaction_role: WORKUP\n",
       "    }\n",
       "  }\n",
       "}\n",
       "workups {\n",
       "  type: CUSTOM\n",
       "  details: \"the organic layer separated\"\n",
       "}\n",
       "workups {\n",
       "  type: CUSTOM\n",
       "  details: \"dried\"\n",
       "}\n",
       "workups {\n",
       "  type: CUSTOM\n",
       "  details: \"Chromatographic purification\"\n",
       "}\n",
       "outcomes {\n",
       "  products {\n",
       "    identifiers {\n",
       "      type: NAME\n",
       "      value: \"2-benzylthio-4-(2-chloro-4-trifluoromethylphenoxy)aniline\"\n",
       "    }\n",
       "    identifiers {\n",
       "      type: SMILES\n",
       "      value: \"C(C1=CC=CC=C1)SC1=C(N)C=CC(=C1)OC1=C(C=C(C=C1)C(F)(F)F)Cl\"\n",
       "    }\n",
       "    identifiers {\n",
       "      type: INCHI\n",
       "      value: \"InChI=1S/C20H15ClF3NOS/c21-16-10-14(20(22,23)24)6-9-18(16)26-15-7-8-17(25)19(11-15)27-12-13-4-2-1-3-5-13/h1-11H,12,25H2\"\n",
       "    }\n",
       "    isolated_color: \"brown\"\n",
       "    texture {\n",
       "      type: OIL\n",
       "      details: \"oil\"\n",
       "    }\n",
       "    reaction_role: PRODUCT\n",
       "  }\n",
       "}\n",
       "provenance {\n",
       "  doi: \"10.6084/m9.figshare.5104873.v1\"\n",
       "  patent: \"US04609394\"\n",
       "  record_created {\n",
       "    time {\n",
       "      value: \"2022-12-02 17:00:50.923227\"\n",
       "    }\n",
       "    person {\n",
       "      username: \"skearnes\"\n",
       "      name: \"Steven Kearnes\"\n",
       "      orcid: \"0000-0003-4579-4388\"\n",
       "      organization: \"Google LLC\"\n",
       "      email: \"kearnes@google.com\"\n",
       "    }\n",
       "  }\n",
       "  record_modified {\n",
       "    time {\n",
       "      value: \"Mon Dec  5 19:42:28 2022\"\n",
       "    }\n",
       "    person {\n",
       "      username: \"github-actions\"\n",
       "      email: \"github-actions@github.com\"\n",
       "    }\n",
       "    details: \"Automatic updates from the submission pipeline.\"\n",
       "  }\n",
       "}\n",
       "reaction_id: \"ord-842fb3be1ead473aa9bb240c485de203\""
      ]
     },
     "execution_count": 64,
     "metadata": {},
     "output_type": "execute_result"
    }
   ],
   "source": [
    "# input\n",
    "data.reactions[1]"
   ]
  },
  {
   "cell_type": "code",
   "execution_count": 65,
   "metadata": {},
   "outputs": [],
   "source": [
    "# Specify the output of file[0], rxn[0]\n",
    "# Trust labelling = True\n",
    "\n",
    "reactants = ['SCc1ccccc1', 'O=[N+]([O-])c1ccc(Oc2ccc(C(F)(F)F)cc2Cl)cc1[N+](=O)[O-]']\n",
    "reagents = ['[H-]', '[Na+]']\n",
    "solvents = ['C1CCOC1']\n",
    "catalysts = []\n",
    "agents = []\n",
    "products = ['O=[N+]([O-])c1ccc(Oc2ccc(C(F)(F)F)cc2Cl)cc1SCc1ccccc1']\n",
    "yields = []\n",
    "temperature = []\n",
    "rxn_time = []\n",
    "rxn_str = '[CH2:1]([SH:8])[C:2]1[CH:7]=[CH:6][CH:5]=[CH:4][CH:3]=1.[H-].[Na+].[Cl:11][C:12]1[CH:30]=[C:29]([C:31]([F:34])([F:33])[F:32])[CH:28]=[CH:27][C:13]=1[O:14][C:15]1[CH:20]=[CH:19][C:18]([N+:21]([O-:23])=[O:22])=[C:17]([N+]([O-])=O)[CH:16]=1>O1CCCC1>[CH2:1]([S:8][C:17]1[CH:16]=[C:15]([O:14][C:13]2[CH:27]=[CH:28][C:29]([C:31]([F:34])([F:32])[F:33])=[CH:30][C:12]=2[Cl:11])[CH:20]=[CH:19][C:18]=1[N+:21]([O-:23])=[O:22])[C:2]1[CH:7]=[CH:6][CH:5]=[CH:4][CH:3]=1' #this is not canonical\n",
    "rxn_non_smiles_names_list = []\n",
    "procedure_details = \"1.7 g of benzyl mercaptan was dissolved in dry tetrahydrofuran and 0.5 g of sodium hydride added with stirring under dry nitrogen. The reaction mixture was stirred under reflux for 30 minutes, and a solution of 5 g of 1A dissolved in 25 ml of dry tetrahydrofuran was added dropwise. Reaction occurred rapidly, and the product was chromatographically purified to give 2-benzylthio-4-(2-chloro-4-trifluoromethylphenoxy)nitrobenzene (1B) as a yellow oil.\"\n"
   ]
  },
  {
   "cell_type": "code",
   "execution_count": 66,
   "metadata": {},
   "outputs": [],
   "source": [
    "# Specify the output of file[0], rxn[0]\n",
    "# Trust labelling = False (ie merge_cat_solv_reag = True)\n",
    "\n",
    "reactants = ['SCc1ccccc1', 'O=[N+]([O-])c1ccc(Oc2ccc(C(F)(F)F)cc2Cl)cc1[N+](=O)[O-]']\n",
    "reagents = []\n",
    "solvents = []\n",
    "catalysts = ['[H-]', '[Na+]', 'C1CCOC1']\n",
    "agents = []\n",
    "products = ['O=[N+]([O-])c1ccc(Oc2ccc(C(F)(F)F)cc2Cl)cc1SCc1ccccc1']\n",
    "yields = []\n",
    "temperature = []\n",
    "rxn_time = []\n",
    "rxn_str = '[CH2:1]([SH:8])[C:2]1[CH:7]=[CH:6][CH:5]=[CH:4][CH:3]=1.[H-].[Na+].[Cl:11][C:12]1[CH:30]=[C:29]([C:31]([F:34])([F:33])[F:32])[CH:28]=[CH:27][C:13]=1[O:14][C:15]1[CH:20]=[CH:19][C:18]([N+:21]([O-:23])=[O:22])=[C:17]([N+]([O-])=O)[CH:16]=1>O1CCCC1>[CH2:1]([S:8][C:17]1[CH:16]=[C:15]([O:14][C:13]2[CH:27]=[CH:28][C:29]([C:31]([F:34])([F:32])[F:33])=[CH:30][C:12]=2[Cl:11])[CH:20]=[CH:19][C:18]=1[N+:21]([O-:23])=[O:22])[C:2]1[CH:7]=[CH:6][CH:5]=[CH:4][CH:3]=1' #this is not canonical\n",
    "rxn_non_smiles_names_list = []\n",
    "procedure_details = \"1.7 g of benzyl mercaptan was dissolved in dry tetrahydrofuran and 0.5 g of sodium hydride added with stirring under dry nitrogen. The reaction mixture was stirred under reflux for 30 minutes, and a solution of 5 g of 1A dissolved in 25 ml of dry tetrahydrofuran was added dropwise. Reaction occurred rapidly, and the product was chromatographically purified to give 2-benzylthio-4-(2-chloro-4-trifluoromethylphenoxy)nitrobenzene (1B) as a yellow oil.\"\n"
   ]
  },
  {
   "cell_type": "code",
   "execution_count": 67,
   "metadata": {},
   "outputs": [
    {
     "data": {
      "text/plain": [
       "identifiers {\n",
       "  type: REACTION_CXSMILES\n",
       "  value: \"[CH2:1]([S:8][C:9]1[CH:14]=[C:13]([O:15][C:16]2[CH:21]=[CH:20][C:19]([C:22]([F:25])([F:24])[F:23])=[CH:18][C:17]=2[Cl:26])[CH:12]=[CH:11][C:10]=1[N+:27]([O-])=O)[C:2]1[CH:7]=[CH:6][CH:5]=[CH:4][CH:3]=1.P([O-])(O)O.[Na+]>C(O)C.[Pd]>[CH2:1]([S:8][C:9]1[CH:14]=[C:13]([O:15][C:16]2[CH:21]=[CH:20][C:19]([C:22]([F:25])([F:23])[F:24])=[CH:18][C:17]=2[Cl:26])[CH:12]=[CH:11][C:10]=1[NH2:27])[C:2]1[CH:3]=[CH:4][CH:5]=[CH:6][CH:7]=1 |f:1.2|\"\n",
       "  is_mapped: true\n",
       "}\n",
       "inputs {\n",
       "  key: \"m1_m3\"\n",
       "  value {\n",
       "    components {\n",
       "      identifiers {\n",
       "        type: NAME\n",
       "        value: \"1B\"\n",
       "      }\n",
       "      identifiers {\n",
       "        type: NAME\n",
       "        value: \"2-benzylthio-4-(2-chloro-4-trifluoromethylphenoxy)nitrobenzene\"\n",
       "      }\n",
       "      identifiers {\n",
       "        type: SMILES\n",
       "        value: \"C(C1=CC=CC=C1)SC1=C(C=CC(=C1)OC1=C(C=C(C=C1)C(F)(F)F)Cl)[N+](=O)[O-]\"\n",
       "      }\n",
       "      identifiers {\n",
       "        type: INCHI\n",
       "        value: \"InChI=1S/C20H13ClF3NO3S/c21-16-10-14(20(22,23)24)6-9-18(16)28-15-7-8-17(25(26)27)19(11-15)29-12-13-4-2-1-3-5-13/h1-11H,12H2\"\n",
       "      }\n",
       "      amount {\n",
       "        mass {\n",
       "          value: 2.0\n",
       "          units: GRAM\n",
       "        }\n",
       "      }\n",
       "      reaction_role: REACTANT\n",
       "    }\n",
       "    components {\n",
       "      identifiers {\n",
       "        type: NAME\n",
       "        value: \"ethanol\"\n",
       "      }\n",
       "      identifiers {\n",
       "        type: SMILES\n",
       "        value: \"C(C)O\"\n",
       "      }\n",
       "      identifiers {\n",
       "        type: INCHI\n",
       "        value: \"InChI=1S/C2H6O/c1-2-3/h3H,2H2,1H3\"\n",
       "      }\n",
       "      amount {\n",
       "        volume {\n",
       "          value: 30.0\n",
       "          units: MILLILITER\n",
       "        }\n",
       "      }\n",
       "      reaction_role: SOLVENT\n",
       "    }\n",
       "  }\n",
       "}\n",
       "inputs {\n",
       "  key: \"m4_m2\"\n",
       "  value {\n",
       "    components {\n",
       "      identifiers {\n",
       "        type: NAME\n",
       "        value: \"sodium dihydrogen phosphite\"\n",
       "      }\n",
       "      identifiers {\n",
       "        type: SMILES\n",
       "        value: \"P(O)(O)[O-].[Na+]\"\n",
       "      }\n",
       "      identifiers {\n",
       "        type: INCHI\n",
       "        value: \"InChI=1S/Na.H2O3P/c;1-4(2)3/h;1-2H/q+1;-1\"\n",
       "      }\n",
       "      amount {\n",
       "        moles {\n",
       "          value: 0.0\n",
       "          precision: 1.0\n",
       "          units: MOLE\n",
       "        }\n",
       "      }\n",
       "      reaction_role: REACTANT\n",
       "    }\n",
       "    components {\n",
       "      identifiers {\n",
       "        type: NAME\n",
       "        value: \"palladium on carbon\"\n",
       "      }\n",
       "      identifiers {\n",
       "        type: SMILES\n",
       "        value: \"[Pd]\"\n",
       "      }\n",
       "      identifiers {\n",
       "        type: INCHI\n",
       "        value: \"InChI=1S/Pd\"\n",
       "      }\n",
       "      amount {\n",
       "        mass {\n",
       "          value: 0.5\n",
       "          units: GRAM\n",
       "        }\n",
       "      }\n",
       "      reaction_role: CATALYST\n",
       "    }\n",
       "  }\n",
       "}\n",
       "conditions {\n",
       "  conditions_are_dynamic: true\n",
       "  details: \"See reaction.notes.procedure_details.\"\n",
       "}\n",
       "notes {\n",
       "  procedure_details: \"2 g of 1B was dissolved in 30 ml of ethanol and 0.5 g of 5% palladium on carbon catalyst and 10% aqueous sodium dihydrogen phosphite added in portions until vigorous effervescence ceased. The reaction mixture was filtered, extracted with 400 ml of a 1:1 v:v mixture of ethylene dichloride/water, and the organic layer separated and dried. Chromatographic purification yielded 2-benzylthio-4-(2-chloro-4-trifluoromethylphenoxy)aniline (1C) as a brown oil.\"\n",
       "}\n",
       "workups {\n",
       "  type: FILTRATION\n",
       "  details: \"The reaction mixture was filtered\"\n",
       "}\n",
       "workups {\n",
       "  type: EXTRACTION\n",
       "  details: \"extracted with 400 ml of a 1:1 v\"\n",
       "}\n",
       "workups {\n",
       "  type: ADDITION\n",
       "  details: \"v mixture of ethylene dichloride/water\"\n",
       "  input {\n",
       "    components {\n",
       "      identifiers {\n",
       "        type: NAME\n",
       "        value: \"ethylene dichloride water\"\n",
       "      }\n",
       "      identifiers {\n",
       "        type: SMILES\n",
       "        value: \"C(CCl)Cl.O\"\n",
       "      }\n",
       "      identifiers {\n",
       "        type: INCHI\n",
       "        value: \"InChI=1S/C2H4Cl2.H2O/c3-1-2-4;/h1-2H2;1H2\"\n",
       "      }\n",
       "      amount {\n",
       "        moles {\n",
       "          value: 0.0\n",
       "          precision: 1.0\n",
       "          units: MOLE\n",
       "        }\n",
       "      }\n",
       "      reaction_role: WORKUP\n",
       "    }\n",
       "  }\n",
       "}\n",
       "workups {\n",
       "  type: CUSTOM\n",
       "  details: \"the organic layer separated\"\n",
       "}\n",
       "workups {\n",
       "  type: CUSTOM\n",
       "  details: \"dried\"\n",
       "}\n",
       "workups {\n",
       "  type: CUSTOM\n",
       "  details: \"Chromatographic purification\"\n",
       "}\n",
       "outcomes {\n",
       "  products {\n",
       "    identifiers {\n",
       "      type: NAME\n",
       "      value: \"2-benzylthio-4-(2-chloro-4-trifluoromethylphenoxy)aniline\"\n",
       "    }\n",
       "    identifiers {\n",
       "      type: SMILES\n",
       "      value: \"C(C1=CC=CC=C1)SC1=C(N)C=CC(=C1)OC1=C(C=C(C=C1)C(F)(F)F)Cl\"\n",
       "    }\n",
       "    identifiers {\n",
       "      type: INCHI\n",
       "      value: \"InChI=1S/C20H15ClF3NOS/c21-16-10-14(20(22,23)24)6-9-18(16)26-15-7-8-17(25)19(11-15)27-12-13-4-2-1-3-5-13/h1-11H,12,25H2\"\n",
       "    }\n",
       "    isolated_color: \"brown\"\n",
       "    texture {\n",
       "      type: OIL\n",
       "      details: \"oil\"\n",
       "    }\n",
       "    reaction_role: PRODUCT\n",
       "  }\n",
       "}\n",
       "provenance {\n",
       "  doi: \"10.6084/m9.figshare.5104873.v1\"\n",
       "  patent: \"US04609394\"\n",
       "  record_created {\n",
       "    time {\n",
       "      value: \"2022-12-02 17:00:50.923227\"\n",
       "    }\n",
       "    person {\n",
       "      username: \"skearnes\"\n",
       "      name: \"Steven Kearnes\"\n",
       "      orcid: \"0000-0003-4579-4388\"\n",
       "      organization: \"Google LLC\"\n",
       "      email: \"kearnes@google.com\"\n",
       "    }\n",
       "  }\n",
       "  record_modified {\n",
       "    time {\n",
       "      value: \"Mon Dec  5 19:42:28 2022\"\n",
       "    }\n",
       "    person {\n",
       "      username: \"github-actions\"\n",
       "      email: \"github-actions@github.com\"\n",
       "    }\n",
       "    details: \"Automatic updates from the submission pipeline.\"\n",
       "  }\n",
       "}\n",
       "reaction_id: \"ord-842fb3be1ead473aa9bb240c485de203\""
      ]
     },
     "execution_count": 67,
     "metadata": {},
     "output_type": "execute_result"
    }
   ],
   "source": [
    "# input\n",
    "data.reactions[1]"
   ]
  },
  {
   "cell_type": "code",
   "execution_count": 68,
   "metadata": {},
   "outputs": [],
   "source": [
    "# Specify the output of file[0], rxn[1]\n",
    "\n",
    "reactants = ['O=[N+]([O-])c1ccc(Oc2ccc(C(F)(F)F)cc2Cl)cc1SCc1ccccc1']\n",
    "reagents = ['[O-]P(O)O', '[Na+]']\n",
    "solvents = ['CCO']\n",
    "catalysts = ['[Pd]']\n",
    "products = ['Nc1ccc(Oc2ccc(C(F)(F)F)cc2Cl)cc1SCc1ccccc1']\n",
    "yields = []\n",
    "temperature = []\n",
    "rxn_time = []\n",
    "rxn_str = \"[CH2:1]([S:8][C:9]1[CH:14]=[C:13]([O:15][C:16]2[CH:21]=[CH:20][C:19]([C:22]([F:25])([F:24])[F:23])=[CH:18][C:17]=2[Cl:26])[CH:12]=[CH:11][C:10]=1[N+:27]([O-])=O)[C:2]1[CH:7]=[CH:6][CH:5]=[CH:4][CH:3]=1.P([O-])(O)O.[Na+]>C(O)C.[Pd]>[CH2:1]([S:8][C:9]1[CH:14]=[C:13]([O:15][C:16]2[CH:21]=[CH:20][C:19]([C:22]([F:25])([F:23])[F:24])=[CH:18][C:17]=2[Cl:26])[CH:12]=[CH:11][C:10]=1[NH2:27])[C:2]1[CH:3]=[CH:4][CH:5]=[CH:6][CH:7]=1\"\n",
    "rxn_non_smiles_names_list = []\n",
    "procedure_details = \"2 g of 1B was dissolved in 30 ml of ethanol and 0.5 g of 5% palladium on carbon catalyst and 10% aqueous sodium dihydrogen phosphite added in portions until vigorous effervescence ceased. The reaction mixture was filtered, extracted with 400 ml of a 1:1 v:v mixture of ethylene dichloride/water, and the organic layer separated and dried. Chromatographic purification yielded 2-benzylthio-4-(2-chloro-4-trifluoromethylphenoxy)aniline (1C) as a brown oil.\""
   ]
  },
  {
   "cell_type": "code",
   "execution_count": 69,
   "metadata": {},
   "outputs": [],
   "source": [
    "from orderly.extract.canonicalise import remove_mapping_info_and_canonicalise_smiles"
   ]
  },
  {
   "cell_type": "code",
   "execution_count": null,
   "metadata": {},
   "outputs": [],
   "source": []
  },
  {
   "cell_type": "code",
   "execution_count": 70,
   "metadata": {},
   "outputs": [],
   "source": [
    "# Specify the output of file[0], rxn[1]\n",
    "\n",
    "reactants = [] \n",
    "reagents = []\n",
    "solvents = []\n",
    "catalysts = []\n",
    "products = []\n",
    "yields = []\n",
    "temperature = []\n",
    "rxn_time = []\n",
    "#rxn_str = \n",
    "rxn_non_smiles_names_list = []\n",
    "procedure_details = \"2 g of 1B was dissolved in 30 ml of ethanol and 0.5 g of 5% palladium on carbon catalyst and 10% aqueous sodium dihydrogen phosphite added in portions until vigorous effervescence ceased. The reaction mixture was filtered, extracted with 400 ml of a 1:1 v:v mixture of ethylene dichloride/water, and the organic layer separated and dried. Chromatographic purification yielded 2-benzylthio-4-(2-chloro-4-trifluoromethylphenoxy)aniline (1C) as a brown oil.\""
   ]
  },
  {
   "cell_type": "code",
   "execution_count": 71,
   "metadata": {},
   "outputs": [],
   "source": [
    "# Specify the output of file[0], rxn[1]\n",
    "\n",
    "reactants = [] \n",
    "reagents = []\n",
    "solvents = []\n",
    "catalysts = []\n",
    "products = []\n",
    "yields = []\n",
    "temperature = []\n",
    "rxn_time = []\n",
    "#rxn_str = \n",
    "rxn_non_smiles_names_list = []\n",
    "#procedure_details = "
   ]
  },
  {
   "cell_type": "code",
   "execution_count": 72,
   "metadata": {},
   "outputs": [
    {
     "data": {
      "text/plain": [
       "'Nc1ccc(Oc2ccc(C(F)(F)F)cc2Cl)cc1SCc1ccccc1'"
      ]
     },
     "execution_count": 72,
     "metadata": {},
     "output_type": "execute_result"
    }
   ],
   "source": [
    "remove_mapping_info_and_canonicalise_smiles('C(C1=CC=CC=C1)SC1=C(N)C=CC(=C1)OC1=C(C=C(C=C1)C(F)(F)F)Cl')"
   ]
  },
  {
   "cell_type": "code",
   "execution_count": 73,
   "metadata": {},
   "outputs": [],
   "source": [
    "my_list = [None]*11\n",
    "def y(x):\n",
    "    print(*x)\n",
    "    "
   ]
  },
  {
   "cell_type": "code",
   "execution_count": 74,
   "metadata": {},
   "outputs": [],
   "source": [
    "a,b,c = 'reactant.reagent>solvent>product'.split('>')"
   ]
  },
  {
   "cell_type": "code",
   "execution_count": 75,
   "metadata": {},
   "outputs": [
    {
     "ename": "AttributeError",
     "evalue": "'NoneType' object has no attribute 'split'",
     "output_type": "error",
     "traceback": [
      "\u001b[0;31m---------------------------------------------------------------------------\u001b[0m",
      "\u001b[0;31mAttributeError\u001b[0m                            Traceback (most recent call last)",
      "Cell \u001b[0;32mIn[75], line 2\u001b[0m\n\u001b[1;32m      1\u001b[0m reactant_from_rxn \u001b[39m=\u001b[39m \u001b[39mNone\u001b[39;00m\n\u001b[0;32m----> 2\u001b[0m reactant_from_rxn \u001b[39m=\u001b[39m [r \u001b[39mfor\u001b[39;00m r \u001b[39min\u001b[39;00m reactant_from_rxn\u001b[39m.\u001b[39;49msplit(\u001b[39m\"\u001b[39m\u001b[39m.\u001b[39m\u001b[39m\"\u001b[39m)]\n\u001b[1;32m      3\u001b[0m reactant_from_rxn\n",
      "\u001b[0;31mAttributeError\u001b[0m: 'NoneType' object has no attribute 'split'"
     ]
    }
   ],
   "source": [
    "reactant_from_rxn = None\n",
    "reactant_from_rxn = [r for r in reactant_from_rxn.split(\".\")]\n",
    "reactant_from_rxn"
   ]
  },
  {
   "cell_type": "code",
   "execution_count": 76,
   "metadata": {},
   "outputs": [
    {
     "data": {
      "text/plain": [
       "['a', 'b']"
      ]
     },
     "execution_count": 76,
     "metadata": {},
     "output_type": "execute_result"
    }
   ],
   "source": [
    "'a.b'.split('.')"
   ]
  },
  {
   "cell_type": "code",
   "execution_count": 78,
   "metadata": {},
   "outputs": [
    {
     "data": {
      "text/plain": [
       "'Nc1ccc(Oc2ccc(C(F)(F)F)cc2Cl)cc1SCc1ccccc1'"
      ]
     },
     "execution_count": 78,
     "metadata": {},
     "output_type": "execute_result"
    }
   ],
   "source": [
    "remove_mapping_info_and_canonicalise_smiles('[CH2:1]([S:8][C:9]1[CH:14]=[C:13]([O:15][C:16]2[CH:21]=[CH:20][C:19]([C:22]([F:25])([F:23])[F:24])=[CH:18][C:17]=2[Cl:26])[CH:12]=[CH:11][C:10]=1[NH2:27])[C:2]1[CH:3]=[CH:4][CH:5]=[CH:6][CH:7]=1')"
   ]
  },
  {
   "cell_type": "markdown",
   "metadata": {},
   "source": [
    "# extract_info_from_rxn_str"
   ]
  },
  {
   "cell_type": "code",
   "execution_count": 79,
   "metadata": {},
   "outputs": [
    {
     "data": {
      "text/plain": [
       "<function orderly.extract.extractor.OrdExtractor.extract_info_from_rxn_str(rxn: ord_schema.proto.reaction_pb2.Reaction) -> Tuple[List[str], List[str], List[str], str, List[str]]>"
      ]
     },
     "execution_count": 79,
     "metadata": {},
     "output_type": "execute_result"
    }
   ],
   "source": [
    "orderly.extract.extractor.OrdExtractor.extract_info_from_rxn_str"
   ]
  },
  {
   "cell_type": "code",
   "execution_count": 80,
   "metadata": {},
   "outputs": [],
   "source": [
    "rxn0 = data.reactions[0]\n",
    "rxn1 = data.reactions[1]\n",
    "rxn2 = data.reactions[2]"
   ]
  },
  {
   "cell_type": "code",
   "execution_count": 81,
   "metadata": {},
   "outputs": [
    {
     "data": {
      "text/plain": [
       "(['SCc1ccccc1', 'O=[N+]([O-])c1ccc(Oc2ccc(C(F)(F)F)cc2Cl)cc1[N+](=O)[O-]'],\n",
       " ['O1CCCC1', '[H-]', '[Na+]'],\n",
       " ['O=[N+]([O-])c1ccc(Oc2ccc(C(F)(F)F)cc2Cl)cc1SCc1ccccc1'],\n",
       " '[CH2:1]([SH:8])[C:2]1[CH:7]=[CH:6][CH:5]=[CH:4][CH:3]=1.[H-].[Na+].[Cl:11][C:12]1[CH:30]=[C:29]([C:31]([F:34])([F:33])[F:32])[CH:28]=[CH:27][C:13]=1[O:14][C:15]1[CH:20]=[CH:19][C:18]([N+:21]([O-:23])=[O:22])=[C:17]([N+]([O-])=O)[CH:16]=1>O1CCCC1>[CH2:1]([S:8][C:17]1[CH:16]=[C:15]([O:14][C:13]2[CH:27]=[CH:28][C:29]([C:31]([F:34])([F:32])[F:33])=[CH:30][C:12]=2[Cl:11])[CH:20]=[CH:19][C:18]=1[N+:21]([O-:23])=[O:22])[C:2]1[CH:7]=[CH:6][CH:5]=[CH:4][CH:3]=1',\n",
       " [])"
      ]
     },
     "execution_count": 81,
     "metadata": {},
     "output_type": "execute_result"
    }
   ],
   "source": [
    "orderly.extract.extractor.OrdExtractor.extract_info_from_rxn_str(rxn0)"
   ]
  },
  {
   "cell_type": "code",
   "execution_count": 82,
   "metadata": {},
   "outputs": [
    {
     "data": {
      "text/plain": [
       "(['O=[N+]([O-])c1ccc(Oc2ccc(C(F)(F)F)cc2Cl)cc1SCc1ccccc1'],\n",
       " ['C(O)C', '[Pd]', '[O-]P(O)O', '[Na+]'],\n",
       " ['Nc1ccc(Oc2ccc(C(F)(F)F)cc2Cl)cc1SCc1ccccc1'],\n",
       " '[CH2:1]([S:8][C:9]1[CH:14]=[C:13]([O:15][C:16]2[CH:21]=[CH:20][C:19]([C:22]([F:25])([F:24])[F:23])=[CH:18][C:17]=2[Cl:26])[CH:12]=[CH:11][C:10]=1[N+:27]([O-])=O)[C:2]1[CH:7]=[CH:6][CH:5]=[CH:4][CH:3]=1.P([O-])(O)O.[Na+]>C(O)C.[Pd]>[CH2:1]([S:8][C:9]1[CH:14]=[C:13]([O:15][C:16]2[CH:21]=[CH:20][C:19]([C:22]([F:25])([F:23])[F:24])=[CH:18][C:17]=2[Cl:26])[CH:12]=[CH:11][C:10]=1[NH2:27])[C:2]1[CH:3]=[CH:4][CH:5]=[CH:6][CH:7]=1',\n",
       " [])"
      ]
     },
     "execution_count": 82,
     "metadata": {},
     "output_type": "execute_result"
    }
   ],
   "source": [
    "orderly.extract.extractor.OrdExtractor.extract_info_from_rxn_str(rxn1)"
   ]
  },
  {
   "cell_type": "code",
   "execution_count": 83,
   "metadata": {},
   "outputs": [
    {
     "data": {
      "text/plain": [
       "(['Nc1ccc(Oc2ccc(C(F)(F)F)cc2Cl)cc1SCc1ccccc1', 'O=N[O-]'],\n",
       " ['O', 'O=S(=O)(O)O', '[Na+]'],\n",
       " ['FC(F)(F)c1ccc(Oc2ccc3nnsc3c2)c(Cl)c1'],\n",
       " 'C([S:8][C:9]1[CH:15]=[C:14]([O:16][C:17]2[CH:22]=[CH:21][C:20]([C:23]([F:26])([F:25])[F:24])=[CH:19][C:18]=2[Cl:27])[CH:13]=[CH:12][C:10]=1[NH2:11])C1C=CC=CC=1.S(=O)(=O)(O)O.[N:33]([O-])=O.[Na+]>O>[Cl:27][C:18]1[CH:19]=[C:20]([C:23]([F:26])([F:25])[F:24])[CH:21]=[CH:22][C:17]=1[O:16][C:14]1[CH:13]=[CH:12][C:10]2[N:11]=[N:33][S:8][C:9]=2[CH:15]=1',\n",
       " [])"
      ]
     },
     "execution_count": 83,
     "metadata": {},
     "output_type": "execute_result"
    }
   ],
   "source": [
    "orderly.extract.extractor.OrdExtractor.extract_info_from_rxn_str(rxn2)"
   ]
  },
  {
   "cell_type": "code",
   "execution_count": 84,
   "metadata": {},
   "outputs": [
    {
     "data": {
      "text/plain": [
       "'O=[N+]([O-])c1ccc(Oc2ccc(C(F)(F)F)cc2Cl)cc1[N+](=O)[O-].SCc1ccccc1.[H-].[Na+]'"
      ]
     },
     "execution_count": 84,
     "metadata": {},
     "output_type": "execute_result"
    }
   ],
   "source": [
    "remove_mapping_info_and_canonicalise_smiles('[CH2:1]([SH:8])[C:2]1[CH:7]=[CH:6][CH:5]=[CH:4][CH:3]=1.[H-].[Na+].[Cl:11][C:12]1[CH:30]=[C:29]([C:31]([F:34])([F:33])[F:32])[CH:28]=[CH:27][C:13]=1[O:14][C:15]1[CH:20]=[CH:19][C:18]([N+:21]([O-:23])=[O:22])=[C:17]([N+]([O-])=O)[CH:16]=1')"
   ]
  },
  {
   "cell_type": "markdown",
   "metadata": {},
   "source": [
    "## rxn_input_extractor"
   ]
  },
  {
   "cell_type": "code",
   "execution_count": 85,
   "metadata": {},
   "outputs": [],
   "source": [
    "rxn0 = data.reactions[0]\n",
    "rxn1 = data.reactions[1]\n",
    "rxn2 = data.reactions[2]"
   ]
  },
  {
   "cell_type": "code",
   "execution_count": 86,
   "metadata": {},
   "outputs": [
    {
     "data": {
      "text/plain": [
       "(['SCc1ccccc1',\n",
       "  '[H-]',\n",
       "  '[Na+]',\n",
       "  'O=[N+]([O-])c1ccc(Oc2ccc(C(F)(F)F)cc2Cl)cc1[N+](=O)[O-]'],\n",
       " [],\n",
       " ['C1CCOC1', 'C1CCOC1'],\n",
       " [],\n",
       " [],\n",
       " [])"
      ]
     },
     "execution_count": 86,
     "metadata": {},
     "output_type": "execute_result"
    }
   ],
   "source": [
    "orderly.extract.extractor.OrdExtractor.rxn_input_extractor(rxn0)"
   ]
  },
  {
   "cell_type": "code",
   "execution_count": 87,
   "metadata": {},
   "outputs": [
    {
     "data": {
      "text/plain": [
       "990"
      ]
     },
     "execution_count": 87,
     "metadata": {},
     "output_type": "execute_result"
    }
   ],
   "source": [
    "len(data.reactions)"
   ]
  },
  {
   "cell_type": "code",
   "execution_count": 88,
   "metadata": {},
   "outputs": [
    {
     "ename": "SyntaxError",
     "evalue": "multiple exception types must be parenthesized (372989063.py, line 3)",
     "output_type": "error",
     "traceback": [
      "\u001b[0;36m  Cell \u001b[0;32mIn[88], line 3\u001b[0;36m\u001b[0m\n\u001b[0;31m    except ValueError,TypeError:\u001b[0m\n\u001b[0m           ^\u001b[0m\n\u001b[0;31mSyntaxError\u001b[0m\u001b[0;31m:\u001b[0m multiple exception types must be parenthesized\n"
     ]
    }
   ],
   "source": [
    "try:\n",
    "    raise ValueError\n",
    "except ValueError,TypeError:\n",
    "    print('hi')"
   ]
  },
  {
   "cell_type": "code",
   "execution_count": null,
   "metadata": {},
   "outputs": [],
   "source": []
  },
  {
   "cell_type": "code",
   "execution_count": null,
   "metadata": {},
   "outputs": [],
   "source": []
  }
 ],
 "metadata": {
  "kernelspec": {
   "display_name": "chemistry",
   "language": "python",
   "name": "python3"
  },
  "language_info": {
   "codemirror_mode": {
    "name": "ipython",
    "version": 3
   },
   "file_extension": ".py",
   "mimetype": "text/x-python",
   "name": "python",
   "nbconvert_exporter": "python",
   "pygments_lexer": "ipython3",
   "version": "3.10.8"
  },
  "orig_nbformat": 4
 },
 "nbformat": 4,
 "nbformat_minor": 2
}
